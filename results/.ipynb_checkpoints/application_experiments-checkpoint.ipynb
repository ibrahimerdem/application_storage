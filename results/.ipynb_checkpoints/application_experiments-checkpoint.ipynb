{
 "cells": [
  {
   "cell_type": "code",
   "execution_count": null,
   "id": "5ed1f76b",
   "metadata": {
    "_cell_guid": "b1076dfc-b9ad-4769-8c92-a6c4dae69d19",
    "_uuid": "8f2839f25d086af736a60e9eeb907d3b93b6e0e5",
    "execution": {
     "iopub.execute_input": "2021-11-08T09:19:53.189477Z",
     "iopub.status.busy": "2021-11-08T09:19:53.187951Z",
     "iopub.status.idle": "2021-11-08T09:20:02.158940Z",
     "shell.execute_reply": "2021-11-08T09:20:02.157983Z",
     "shell.execute_reply.started": "2021-10-21T08:17:26.947094Z"
    },
    "id": "5ed1f76b",
    "papermill": {
     "duration": 8.984077,
     "end_time": "2021-11-08T09:20:02.159099",
     "exception": false,
     "start_time": "2021-11-08T09:19:53.175022",
     "status": "completed"
    },
    "tags": []
   },
   "outputs": [],
   "source": [
    "%load_ext tensorboard\n",
    "!rm -rf \"./logs\"\n",
    "\n",
    "import os\n",
    "import pandas as pd\n",
    "import numpy as np\n",
    "import tensorflow as tf\n",
    "\n",
    "from sklearn.model_selection import train_test_split\n",
    "from datetime import datetime\n",
    "from tensorflow import keras\n",
    "from tensorflow.keras import layers\n",
    "from tensorboard.plugins.hparams import api as hp\n",
    "\n",
    "import warnings\n",
    "warnings.filterwarnings(\"ignore\")\n",
    "\n",
    "print(tf.version.VERSION)\n",
    "print(keras.__version__)\n",
    "\n",
    "gpus = tf.config.list_physical_devices(\"GPU\")        \n",
    "logical_gpus = tf.config.list_logical_devices('GPU')\n",
    "print(len(gpus), \"Physical GPUs,\", len(logical_gpus), \"Logical GPU\")\n",
    "\n",
    "from psutil import *\n",
    "\n",
    "!lscpu|grep \"Model name\"\n",
    "!nvidia-smi -L"
   ]
  },
  {
   "cell_type": "code",
   "execution_count": null,
   "id": "251fca52",
   "metadata": {
    "execution": {
     "iopub.execute_input": "2021-11-08T09:20:02.185179Z",
     "iopub.status.busy": "2021-11-08T09:20:02.184642Z",
     "iopub.status.idle": "2021-11-08T09:20:02.303709Z",
     "shell.execute_reply": "2021-11-08T09:20:02.302739Z",
     "shell.execute_reply.started": "2021-10-21T08:09:51.388061Z"
    },
    "id": "251fca52",
    "papermill": {
     "duration": 0.13451,
     "end_time": "2021-11-08T09:20:02.303844",
     "exception": false,
     "start_time": "2021-11-08T09:20:02.169334",
     "status": "completed"
    },
    "tags": []
   },
   "outputs": [],
   "source": [
    "data = pd.read_csv(\n",
    "    \"https://raw.githubusercontent.com/ibrahimerdem/application_storage/main/time_train_data.csv\",\n",
    "     sep=\";\")\n",
    "\n",
    "tdata = pd.read_csv(\n",
    "    \"https://raw.githubusercontent.com/ibrahimerdem/application_storage/main/time_test_data.csv\",\n",
    "     sep=\";\")\n",
    "\n",
    "hdata = pd.read_csv(\n",
    "    \"https://raw.githubusercontent.com/ibrahimerdem/application_storage/main/time_hold_data.csv\",\n",
    "     sep=\";\")"
   ]
  },
  {
   "cell_type": "code",
   "execution_count": null,
   "id": "dbf7b9b7",
   "metadata": {
    "execution": {
     "iopub.execute_input": "2021-11-08T09:20:02.328737Z",
     "iopub.status.busy": "2021-11-08T09:20:02.327911Z",
     "iopub.status.idle": "2021-11-08T09:20:02.332125Z",
     "shell.execute_reply": "2021-11-08T09:20:02.331697Z",
     "shell.execute_reply.started": "2021-10-21T08:09:53.594159Z"
    },
    "id": "dbf7b9b7",
    "papermill": {
     "duration": 0.018113,
     "end_time": "2021-11-08T09:20:02.332243",
     "exception": false,
     "start_time": "2021-11-08T09:20:02.314130",
     "status": "completed"
    },
    "tags": []
   },
   "outputs": [],
   "source": [
    "df = data.copy()\n",
    "t_df = tdata.copy()\n",
    "h_df = hdata.copy()"
   ]
  },
  {
   "cell_type": "code",
   "execution_count": null,
   "id": "a86f6fd4",
   "metadata": {
    "execution": {
     "iopub.execute_input": "2021-11-08T09:20:02.379649Z",
     "iopub.status.busy": "2021-11-08T09:20:02.369855Z",
     "iopub.status.idle": "2021-11-08T09:20:02.381516Z",
     "shell.execute_reply": "2021-11-08T09:20:02.381938Z",
     "shell.execute_reply.started": "2021-10-21T08:09:55.558607Z"
    },
    "id": "a86f6fd4",
    "papermill": {
     "duration": 0.039706,
     "end_time": "2021-11-08T09:20:02.382073",
     "exception": false,
     "start_time": "2021-11-08T09:20:02.342367",
     "status": "completed"
    },
    "tags": []
   },
   "outputs": [],
   "source": [
    "def split_input_target(sequence):\n",
    "    sequence = list(sequence)\n",
    "    input_text = sequence[:-1]\n",
    "    target_text = sequence[1:]\n",
    "    return {\"input_seq\": input_text, \"output_seq\": target_text}\n",
    "\n",
    "def loss_function(real, pred):\n",
    "    mask = tf.math.logical_not(tf.math.equal(real, 0))\n",
    "    loss_object_ = tf.keras.losses.SparseCategoricalCrossentropy(\n",
    "      from_logits=True, \n",
    "      reduction=\"none\"\n",
    "      ) \n",
    "    loss_ = loss_object_(real, pred)\n",
    "    mask = tf.cast(mask, dtype=loss_.dtype)\n",
    "    loss_ *= mask\n",
    "    return tf.reduce_mean(loss_)\n",
    "\n",
    "def model_train(model, train_x, train_y, callback=False,\n",
    "                batch_size=64, verbose=1):\n",
    "\n",
    "    return model.fit(train_x, train_y,\n",
    "                     epochs=200,\n",
    "                     callbacks=callback,\n",
    "                     batch_size=batch_size,\n",
    "                     validation_split=0.1,\n",
    "                     verbose=verbose)\n",
    "  \n",
    "def model_eval(model, test_x, h_df, cust_list, k=5):\n",
    "    hit = 0\n",
    "    cus = 0\n",
    "    mrr = 0\n",
    "    retk = set()\n",
    "    relk = set()\n",
    "    p = 0\n",
    "    r = 0\n",
    "    y_pred = model.predict(test_x)\n",
    "    cust = cust_list\n",
    "    counter = len(cust)\n",
    "    for i in range(counter):\n",
    "        c = cust[i]\n",
    "        rel = set(h_df.loc[h_df[\"c_id\"]==c, \"item_code\"].values)\n",
    "        if len(rel) > 0:\n",
    "            ret = y_pred[i][-1].argsort()[::-1][:k]\n",
    "            cus += 1\n",
    "            retk = retk.union(set(ret))\n",
    "            inter = set.intersection(rel, ret)\n",
    "            if len(inter) > 0:\n",
    "                rank = 5\n",
    "                for j in inter:\n",
    "                    th = np.where(ret==j)\n",
    "                    if th[0][0]<=rank:\n",
    "                        rank = th[0][0]  \n",
    "                mrr += 1/(rank+1)\n",
    "                hit += 1\n",
    "                p += len(inter)/len(ret)\n",
    "                r += len(inter)/len(rel)\n",
    "\n",
    "    return p/cus, r/cus, mrr/cus, hit/cus, len(retk)\n",
    "\n",
    "def create_sequences(df):\n",
    "    df[\"item_code\"] = df[\"item_code\"].astype(\"string\")\n",
    "    df[\"recency\"] = df[\"recency\"].astype(\"string\")\n",
    "    df[\"payment\"] = df[\"payment\"].astype(\"string\")\n",
    "    df[\"category_code\"] = df[\"category_code\"].astype(\"string\")\n",
    "    df[\"method_code\"] = df[\"method_code\"].astype(\"string\")\n",
    "    g_df = df.groupby(\"c_id\", as_index=False).agg(\n",
    "          {\"item_code\": lambda x: \", \".join(x),\n",
    "          \"recency\": lambda y: \", \".join(y),\n",
    "          \"payment\": lambda z: \", \".join(z),\n",
    "          \"category_code\": lambda t: \", \".join(t),\n",
    "          \"method_code\": lambda u: \", \".join(u),\n",
    "          \"t_id\":\"count\"}\n",
    "          )\n",
    "    g_df[\"item_code\"] = g_df[\"item_code\"].apply(\n",
    "      lambda x: x.split(\", \")\n",
    "      )\n",
    "    g_df[\"recency\"] = g_df[\"recency\"].apply(\n",
    "      lambda y: y.split(\", \")\n",
    "      )\n",
    "    g_df[\"payment\"] = g_df[\"payment\"].apply(\n",
    "      lambda z: z.split(\", \")\n",
    "      )\n",
    "    g_df[\"category_code\"] = g_df[\"category_code\"].apply(\n",
    "      lambda t: t.split(\", \")\n",
    "      )\n",
    "    g_df[\"method_code\"] = g_df[\"method_code\"].apply(\n",
    "      lambda u: u.split(\", \")\n",
    "      )\n",
    "    return g_df\n",
    "\n",
    "def create_splits(g_df):\n",
    "    s_df = g_df.merge(g_df[\"item_code\"].apply(\n",
    "      lambda w: pd.Series(split_input_target(w))\n",
    "      ), left_index=True, right_index=True)\n",
    "    s_df[\"recency\"] = s_df[\"recency\"].apply(lambda p: list(p)[:-1])\n",
    "    s_df[\"payment\"] = s_df[\"payment\"].apply(lambda q: list(q)[:-1])\n",
    "    s_df[\"category_code\"] = s_df[\"category_code\"].apply(lambda r: list(r)[:-1])\n",
    "    s_df[\"method_code\"] = s_df[\"method_code\"].apply(lambda s: list(s)[:-1])\n",
    "    return s_df\n",
    "\n",
    "def make_padding(df, n_padded):\n",
    "    input_seq_padded = keras.preprocessing.sequence.pad_sequences(\n",
    "        df[\"input_seq\"].values, \n",
    "        maxlen=n_padded,\n",
    "        padding=\"pre\",\n",
    "        value=0.0\n",
    "    )\n",
    "    recency_seq_padded = keras.preprocessing.sequence.pad_sequences(\n",
    "        df[\"recency\"].values,\n",
    "        maxlen=n_padded,\n",
    "        padding=\"pre\",\n",
    "        value=0.0\n",
    "    )\n",
    "    payment_seq_padded = keras.preprocessing.sequence.pad_sequences(\n",
    "        df[\"payment\"].values,\n",
    "        maxlen=n_padded,\n",
    "        padding=\"pre\",\n",
    "        value=0.0\n",
    "    )\n",
    "    category_seq_padded = keras.preprocessing.sequence.pad_sequences(\n",
    "        df[\"category_code\"].values,\n",
    "        maxlen=n_padded,\n",
    "        padding=\"pre\",\n",
    "        value=0.0\n",
    "    )\n",
    "    method_seq_padded = keras.preprocessing.sequence.pad_sequences(\n",
    "        df[\"method_code\"].values,\n",
    "        maxlen=n_padded,\n",
    "        padding=\"pre\",\n",
    "        value=0.0\n",
    "    )\n",
    "    if len(df.columns[df.columns.str.contains(\"output_seq\")]) > 0:\n",
    "        output_seq_padded = keras.preprocessing.sequence.pad_sequences(\n",
    "            df[\"output_seq\"].values,\n",
    "            maxlen=n_padded,\n",
    "            padding=\"pre\",\n",
    "            value=0.0\n",
    "        )\n",
    "    else:\n",
    "        output_seq_padded = []\n",
    "    return [input_seq_padded,\n",
    "            recency_seq_padded,\n",
    "            payment_seq_padded,\n",
    "            category_seq_padded,\n",
    "            method_seq_padded,\n",
    "            output_seq_padded]"
   ]
  },
  {
   "cell_type": "code",
   "execution_count": null,
   "id": "6b54b1c9",
   "metadata": {
    "execution": {
     "iopub.execute_input": "2021-11-08T09:20:02.449794Z",
     "iopub.status.busy": "2021-11-08T09:20:02.442571Z",
     "iopub.status.idle": "2021-11-08T09:20:02.463713Z",
     "shell.execute_reply": "2021-11-08T09:20:02.464109Z",
     "shell.execute_reply.started": "2021-10-21T08:11:32.448521Z"
    },
    "id": "6b54b1c9",
    "papermill": {
     "duration": 0.072306,
     "end_time": "2021-11-08T09:20:02.464249",
     "exception": false,
     "start_time": "2021-11-08T09:20:02.391943",
     "status": "completed"
    },
    "tags": []
   },
   "outputs": [],
   "source": [
    "def model1(conf):\n",
    "    input_item = layers.Input(batch_input_shape=[None, conf[\"n_padded\"]],\n",
    "                        name=\"item_input\",\n",
    "                        dtype=tf.int32)\n",
    "    encoding_padding_mask = tf.math.logical_not(tf.math.equal(input_item, 0))\n",
    "    embedding_item = layers.Embedding(input_dim=conf[\"item_max\"], \n",
    "                                    output_dim=conf[\"emb_units\"],\n",
    "                                    name=\"item_embedding\"\n",
    "                                    )(input_item)\n",
    "    lstm = layers.LSTM(units=conf[\"lstm_units\"],\n",
    "                    return_sequences=True,\n",
    "                    name=\"lstm_layer\"\n",
    "                    )(embedding_item)\n",
    "    lstm = layers.Dropout(conf[\"drop_rate\"])(lstm)\n",
    "    lstm = layers.BatchNormalization(name=\"batchnorm_lstm\")(lstm)\n",
    "    att = layers.Attention(use_scale=False,\n",
    "                           causal=True,\n",
    "                           name=\"attention\")(inputs=[lstm, lstm],\n",
    "                                             mask=[encoding_padding_mask,\n",
    "                                                   encoding_padding_mask])\n",
    "    output = layers.Dense(conf[\"item_max\"], name=\"output\")(att)\n",
    "    model_1 = keras.Model(input_item, output, name=\"model_1\")\n",
    "    model_1.compile(loss=conf[\"loss\"],\n",
    "                    optimizer=conf[\"optimizer\"],\n",
    "                    metrics=[conf[\"metric\"]])\n",
    "    return model_1\n",
    "\n",
    "def model2(conf):\n",
    "    input_item = layers.Input(batch_input_shape=[None, conf[\"n_padded\"]],\n",
    "                              name=\"item_input\",\n",
    "                              dtype=tf.int32)\n",
    "    input_rec = layers.Input(batch_input_shape=[None, conf[\"n_padded\"]],\n",
    "                             name=\"rec_input\",\n",
    "                             dtype=tf.int32)\n",
    "    encoding_padding_mask = tf.math.logical_not(tf.math.equal(input_item, 0))\n",
    "    embedding_item = layers.Embedding(input_dim=conf[\"item_max\"],\n",
    "                                      output_dim=conf[\"emb_units\"],\n",
    "                                      name=\"item_embedding\"\n",
    "                                      )(input_item)\n",
    "    embedding_rec = layers.Embedding(input_dim=conf[\"rec_max\"],\n",
    "                                     output_dim=conf[\"emb_units\"],\n",
    "                                     name=\"rec_embedding\"\n",
    "                                     )(input_rec)\n",
    "    concat_inputs = layers.Concatenate(name=\"concat_inputs\")(\n",
    "                [embedding_item, embedding_rec])\n",
    "    concat_inputs = layers.BatchNormalization(\n",
    "             name=\"batchnorm_inputs\")(concat_inputs)                             \n",
    "    lstm = layers.LSTM(units=conf[\"lstm_units\"],\n",
    "                    return_sequences=True,\n",
    "                    name=\"lstm_layer\"\n",
    "                    )(concat_inputs)\n",
    "    lstm = layers.Dropout(conf[\"drop_rate\"])(lstm)\n",
    "    lstm = layers.BatchNormalization(name=\"batchnorm_lstm\")(lstm)\n",
    "    att = layers.Attention(use_scale=False,\n",
    "                           causal=True,\n",
    "                           name=\"attention\")(inputs=[lstm, lstm],\n",
    "                                             mask=[encoding_padding_mask,\n",
    "                                                   encoding_padding_mask])\n",
    "    output = layers.Dense(conf[\"item_max\"], name=\"output\")(att)\n",
    "    model_2 = keras.Model([input_item, input_rec], output, name=\"model_2\")\n",
    "    model_2.compile(loss=conf[\"loss\"],\n",
    "                    optimizer=conf[\"optimizer\"],\n",
    "                    metrics=[conf[\"metric\"]])\n",
    "    return model_2\n",
    "\n",
    "def model3(conf):\n",
    "    input_item = layers.Input(batch_input_shape=[None, conf[\"n_padded\"]],\n",
    "                              name=\"item_input\",\n",
    "                              dtype=tf.int32)\n",
    "    input_rec = layers.Input(batch_input_shape=[None, conf[\"n_padded\"]],\n",
    "                             name=\"rec_input\",\n",
    "                             dtype=tf.int32)\n",
    "    input_pay = layers.Input(batch_input_shape=[None, conf[\"n_padded\"]],\n",
    "                             name=\"pay_input\",\n",
    "                             dtype=tf.int32)\n",
    "    encoding_padding_mask = tf.math.logical_not(tf.math.equal(input_item, 0))\n",
    "    embedding_item = layers.Embedding(input_dim=conf[\"item_max\"],\n",
    "                                      output_dim=conf[\"emb_units\"],\n",
    "                                      name=\"item_embedding\"\n",
    "                                      )(input_item)\n",
    "    embedding_rec = layers.Embedding(input_dim=conf[\"rec_max\"],\n",
    "                                     output_dim=conf[\"emb_units\"],\n",
    "                                     name=\"rec_embedding\"\n",
    "                                     )(input_rec)\n",
    "    embedding_pay = layers.Embedding(input_dim=conf[\"pay_max\"],\n",
    "                                     output_dim=conf[\"emb_units\"],\n",
    "                                     name=\"pay_embedding\"\n",
    "                                     )(input_pay)\n",
    "    concat_inputs = layers.Concatenate(name=\"concat_inputs\")(\n",
    "                [embedding_item, embedding_rec, embedding_pay])\n",
    "    concat_inputs = layers.BatchNormalization(\n",
    "             name=\"batchnorm_inputs\")(concat_inputs)                             \n",
    "    lstm = layers.LSTM(units=conf[\"lstm_units\"],\n",
    "                    return_sequences=True,\n",
    "                    name=\"lstm_layer\"\n",
    "                    )(concat_inputs)\n",
    "    lstm = layers.Dropout(conf[\"drop_rate\"])(lstm)\n",
    "    lstm = layers.BatchNormalization(name=\"batchnorm_lstm\")(lstm)\n",
    "    att = layers.Attention(use_scale=False,\n",
    "                           causal=True,\n",
    "                           name=\"attention\")(inputs=[lstm, lstm],\n",
    "                                             mask=[encoding_padding_mask,\n",
    "                                                   encoding_padding_mask])\n",
    "    output = layers.Dense(conf[\"item_max\"], name=\"output\")(att)\n",
    "    model_3 = keras.Model([input_item,\n",
    "                           input_rec,\n",
    "                           input_pay], output, name=\"model_3\")\n",
    "    model_3.compile(loss=conf[\"loss\"],\n",
    "                    optimizer=conf[\"optimizer\"],\n",
    "                    metrics=[conf[\"metric\"]])\n",
    "    return model_3\n",
    "\n",
    "def model4(conf):\n",
    "    input_item = layers.Input(batch_input_shape=[None, conf[\"n_padded\"]],\n",
    "                              name=\"item_input\",\n",
    "                              dtype=tf.int32)\n",
    "    input_rec = layers.Input(batch_input_shape=[None, conf[\"n_padded\"]],\n",
    "                             name=\"rec_input\",\n",
    "                             dtype=tf.int32)\n",
    "    input_cat = layers.Input(batch_input_shape=[None, conf[\"n_padded\"]],\n",
    "                             name=\"cat_input\",\n",
    "                             dtype=tf.int32)\n",
    "    encoding_padding_mask = tf.math.logical_not(tf.math.equal(input_item, 0))\n",
    "    embedding_item = layers.Embedding(input_dim=conf[\"item_max\"],\n",
    "                                      output_dim=conf[\"emb_units\"],\n",
    "                                      name=\"item_embedding\"\n",
    "                                      )(input_item)\n",
    "    embedding_rec = layers.Embedding(input_dim=conf[\"rec_max\"],\n",
    "                                     output_dim=conf[\"emb_units\"],\n",
    "                                     name=\"rec_embedding\"\n",
    "                                     )(input_rec)\n",
    "    embedding_cat = layers.Embedding(input_dim=conf[\"cat_max\"],\n",
    "                                     output_dim=conf[\"emb_units\"],\n",
    "                                     name=\"cat_embedding\"\n",
    "                                     )(input_cat)\n",
    "    concat_inputs = layers.Concatenate(name=\"concat_inputs\")(\n",
    "                [embedding_item, embedding_rec, embedding_cat])\n",
    "    concat_inputs = layers.BatchNormalization(\n",
    "             name=\"batchnorm_inputs\")(concat_inputs)                             \n",
    "    lstm = layers.LSTM(units=conf[\"lstm_units\"],\n",
    "                    return_sequences=True,\n",
    "                    name=\"lstm_layer\"\n",
    "                    )(concat_inputs)\n",
    "    lstm = layers.Dropout(conf[\"drop_rate\"])(lstm)\n",
    "    lstm = layers.BatchNormalization(name=\"batchnorm_lstm\")(lstm)\n",
    "    att = layers.Attention(use_scale=False,\n",
    "                           causal=True,\n",
    "                           name=\"attention\")(inputs=[lstm, lstm],\n",
    "                                             mask=[encoding_padding_mask,\n",
    "                                                   encoding_padding_mask])\n",
    "    output = layers.Dense(conf[\"item_max\"], name=\"output\")(att)\n",
    "    model_4 = keras.Model([input_item,\n",
    "                           input_rec,\n",
    "                           input_cat], output, name=\"model_4\")\n",
    "    model_4.compile(loss=conf[\"loss\"],\n",
    "                    optimizer=conf[\"optimizer\"],\n",
    "                    metrics=[conf[\"metric\"]])\n",
    "    return model_4\n",
    "\n",
    "def model5(conf):\n",
    "    input_item = layers.Input(batch_input_shape=[None, conf[\"n_padded\"]],\n",
    "                              name=\"item_input\",\n",
    "                              dtype=tf.int32)\n",
    "    input_rec = layers.Input(batch_input_shape=[None, conf[\"n_padded\"]],\n",
    "                             name=\"rec_input\",\n",
    "                             dtype=tf.int32)\n",
    "    input_met = layers.Input(batch_input_shape=[None, conf[\"n_padded\"]],\n",
    "                             name=\"met_input\",\n",
    "                             dtype=tf.int32)\n",
    "    encoding_padding_mask = tf.math.logical_not(tf.math.equal(input_item, 0))\n",
    "    embedding_item = layers.Embedding(input_dim=conf[\"item_max\"],\n",
    "                                      output_dim=conf[\"emb_units\"],\n",
    "                                      name=\"item_embedding\"\n",
    "                                      )(input_item)\n",
    "    embedding_rec = layers.Embedding(input_dim=conf[\"rec_max\"],\n",
    "                                     output_dim=conf[\"emb_units\"],\n",
    "                                     name=\"rec_embedding\"\n",
    "                                     )(input_rec)\n",
    "    embedding_met = layers.Embedding(input_dim=conf[\"met_max\"],\n",
    "                                     output_dim=conf[\"emb_units\"],\n",
    "                                     name=\"met_embedding\"\n",
    "                                     )(input_met)\n",
    "    concat_inputs = layers.Concatenate(name=\"concat_inputs\")(\n",
    "                [embedding_item, embedding_rec, embedding_met])\n",
    "    concat_inputs = layers.BatchNormalization(\n",
    "             name=\"batchnorm_inputs\")(concat_inputs)                             \n",
    "    lstm = layers.LSTM(units=conf[\"lstm_units\"],\n",
    "                    return_sequences=True,\n",
    "                    name=\"lstm_layer\"\n",
    "                    )(concat_inputs)\n",
    "    lstm = layers.Dropout(conf[\"drop_rate\"])(lstm)\n",
    "    lstm = layers.BatchNormalization(name=\"batchnorm_lstm\")(lstm)\n",
    "    att = layers.Attention(use_scale=False,\n",
    "                           causal=True,\n",
    "                           name=\"attention\")(inputs=[lstm, lstm],\n",
    "                                             mask=[encoding_padding_mask,\n",
    "                                                   encoding_padding_mask])\n",
    "    output = layers.Dense(conf[\"item_max\"], name=\"output\")(att)\n",
    "    model_5 = keras.Model([input_item,\n",
    "                           input_rec,\n",
    "                           input_met], output, name=\"model_5\")\n",
    "    model_5.compile(loss=conf[\"loss\"],\n",
    "                    optimizer=conf[\"optimizer\"],\n",
    "                    metrics=[conf[\"metric\"]])\n",
    "    return model_5\n",
    "\n",
    "def model6(conf):\n",
    "    input_item = layers.Input(batch_input_shape=[None, conf[\"n_padded\"]],\n",
    "                              name=\"item_input\",\n",
    "                              dtype=tf.int32)\n",
    "    input_rec = layers.Input(batch_input_shape=[None, conf[\"n_padded\"]],\n",
    "                             name=\"rec_input\",\n",
    "                             dtype=tf.int32)\n",
    "    input_pay = layers.Input(batch_input_shape=[None, conf[\"n_padded\"]],\n",
    "                             name=\"pay_input\",\n",
    "                             dtype=tf.int32)\n",
    "    input_cat = layers.Input(batch_input_shape=[None, conf[\"n_padded\"]],\n",
    "                             name=\"cat_input\",\n",
    "                             dtype=tf.int32)\n",
    "    encoding_padding_mask = tf.math.logical_not(tf.math.equal(input_item, 0))\n",
    "    embedding_item = layers.Embedding(input_dim=conf[\"item_max\"],\n",
    "                                      output_dim=conf[\"emb_units\"],\n",
    "                                      name=\"item_embedding\"\n",
    "                                      )(input_item)\n",
    "    embedding_rec = layers.Embedding(input_dim=conf[\"rec_max\"],\n",
    "                                     output_dim=conf[\"emb_units\"],\n",
    "                                     name=\"rec_embedding\"\n",
    "                                     )(input_rec)\n",
    "    embedding_pay = layers.Embedding(input_dim=conf[\"pay_max\"],\n",
    "                                     output_dim=conf[\"emb_units\"],\n",
    "                                     name=\"pay_embedding\"\n",
    "                                     )(input_pay)\n",
    "    embedding_cat = layers.Embedding(input_dim=conf[\"cat_max\"],\n",
    "                                     output_dim=conf[\"emb_units\"],\n",
    "                                     name=\"cat_embedding\"\n",
    "                                     )(input_cat)                                \n",
    "    concat_inputs = layers.Concatenate(name=\"concat_inputs\")(\n",
    "        [embedding_item, embedding_rec, embedding_pay, embedding_cat])\n",
    "    concat_inputs = layers.BatchNormalization(\n",
    "             name=\"batchnorm_inputs\")(concat_inputs)                             \n",
    "    lstm = layers.LSTM(units=conf[\"lstm_units\"],\n",
    "                    return_sequences=True,\n",
    "                    name=\"lstm_layer\"\n",
    "                    )(concat_inputs)\n",
    "    lstm = layers.Dropout(conf[\"drop_rate\"])(lstm)\n",
    "    lstm = layers.BatchNormalization(name=\"batchnorm_lstm\")(lstm)\n",
    "    att = layers.Attention(use_scale=False,\n",
    "                           causal=True,\n",
    "                           name=\"attention\")(inputs=[lstm, lstm],\n",
    "                                             mask=[encoding_padding_mask,\n",
    "                                                   encoding_padding_mask])\n",
    "    output = layers.Dense(conf[\"item_max\"], name=\"output\")(att)\n",
    "    model_6 = keras.Model([input_item,\n",
    "                           input_rec,\n",
    "                           input_pay,\n",
    "                           input_cat], output, name=\"model_6\")\n",
    "    model_6.compile(loss=conf[\"loss\"],\n",
    "                    optimizer=conf[\"optimizer\"],\n",
    "                    metrics=[conf[\"metric\"]])\n",
    "    return model_6\n",
    "\n",
    "def model7(conf):\n",
    "    input_item = layers.Input(batch_input_shape=[None, conf[\"n_padded\"]],\n",
    "                              name=\"item_input\",\n",
    "                              dtype=tf.int32)\n",
    "    input_rec = layers.Input(batch_input_shape=[None, conf[\"n_padded\"]],\n",
    "                             name=\"rec_input\",\n",
    "                             dtype=tf.int32)\n",
    "    input_cat = layers.Input(batch_input_shape=[None, conf[\"n_padded\"]],\n",
    "                             name=\"cat_input\",\n",
    "                             dtype=tf.int32)\n",
    "    input_met = layers.Input(batch_input_shape=[None, conf[\"n_padded\"]],\n",
    "                             name=\"met_input\",\n",
    "                             dtype=tf.int32)\n",
    "    encoding_padding_mask = tf.math.logical_not(tf.math.equal(input_item, 0))\n",
    "    embedding_item = layers.Embedding(input_dim=conf[\"item_max\"],\n",
    "                                      output_dim=conf[\"emb_units\"],\n",
    "                                      name=\"item_embedding\"\n",
    "                                      )(input_item)\n",
    "    embedding_rec = layers.Embedding(input_dim=conf[\"rec_max\"],\n",
    "                                     output_dim=conf[\"emb_units\"],\n",
    "                                     name=\"rec_embedding\"\n",
    "                                     )(input_rec)\n",
    "    embedding_cat = layers.Embedding(input_dim=conf[\"cat_max\"],\n",
    "                                     output_dim=conf[\"emb_units\"],\n",
    "                                     name=\"cat_embedding\"\n",
    "                                     )(input_cat)      \n",
    "    embedding_met = layers.Embedding(input_dim=conf[\"met_max\"],\n",
    "                                     output_dim=conf[\"emb_units\"],\n",
    "                                     name=\"met_embedding\"\n",
    "                                     )(input_met)                                                         \n",
    "    concat_inputs = layers.Concatenate(name=\"concat_inputs\")([embedding_item,\n",
    "                                                              embedding_rec,\n",
    "                                                              embedding_cat,\n",
    "                                                              embedding_met])\n",
    "    concat_inputs = layers.BatchNormalization(\n",
    "             name=\"batchnorm_inputs\")(concat_inputs)                             \n",
    "    lstm = layers.LSTM(units=conf[\"lstm_units\"],\n",
    "                    return_sequences=True,\n",
    "                    name=\"lstm_layer\"\n",
    "                    )(concat_inputs)\n",
    "    lstm = layers.Dropout(conf[\"drop_rate\"])(lstm)\n",
    "    lstm = layers.BatchNormalization(name=\"batchnorm_lstm\")(lstm)\n",
    "    att = layers.Attention(use_scale=False,\n",
    "                           causal=True,\n",
    "                           name=\"attention\")(inputs=[lstm, lstm],\n",
    "                                             mask=[encoding_padding_mask,\n",
    "                                                   encoding_padding_mask])\n",
    "    output = layers.Dense(conf[\"item_max\"], name=\"output\")(att)\n",
    "    model_7 = keras.Model([input_item,\n",
    "                           input_rec,\n",
    "                           input_cat,\n",
    "                           input_met], output, name=\"model_7\")\n",
    "    model_7.compile(loss=conf[\"loss\"],\n",
    "                    optimizer=conf[\"optimizer\"],\n",
    "                    metrics=[conf[\"metric\"]])\n",
    "    return model_7"
   ]
  },
  {
   "cell_type": "code",
   "execution_count": null,
   "id": "db32a035",
   "metadata": {
    "execution": {
     "iopub.execute_input": "2021-11-08T09:20:02.521086Z",
     "iopub.status.busy": "2021-11-08T09:20:02.515654Z",
     "iopub.status.idle": "2021-11-08T09:20:02.539330Z",
     "shell.execute_reply": "2021-11-08T09:20:02.538933Z",
     "shell.execute_reply.started": "2021-10-21T08:15:56.101233Z"
    },
    "id": "db32a035",
    "papermill": {
     "duration": 0.046332,
     "end_time": "2021-11-08T09:20:02.539452",
     "exception": false,
     "start_time": "2021-11-08T09:20:02.493120",
     "status": "completed"
    },
    "tags": []
   },
   "outputs": [],
   "source": [
    "def logger(exp_df, model, rk, pk, mrrk, hitk, covk, n_padded, k, n_exp):\n",
    "    exp_df = exp_df.append(\n",
    "        {\"model\":model,\n",
    "         \"recall\":rk,\n",
    "         \"precision\":pk,\n",
    "         \"mrr\":mrrk,\n",
    "         \"hit\":hitk,\n",
    "         \"coverage\":covk,\n",
    "         \"n_padded\":n_padded,\n",
    "         \"k\":k,\n",
    "         \"n_exp\":n_exp},\n",
    "        ignore_index=True)\n",
    "    return exp_df\n",
    "\n",
    "def run_experiment2(train_list, test_list, h_df, c_list, exp_df, n_padded, k, n_exp):\n",
    "    n_padded = n_padded\n",
    "    batch_size = 128\n",
    "    \n",
    "    print(\"random\", n_exp)\n",
    "    \n",
    "    es = keras.callbacks.EarlyStopping(monitor=\"val_loss\",\n",
    "                                       mode=\"min\",\n",
    "                                       verbose=1,\n",
    "                                       patience=2)\n",
    "\n",
    "    conf = {\n",
    "        \"n_padded\":n_padded,\n",
    "        \"item_max\":pro_max+1,\n",
    "        \"rec_max\":rec_max+1,\n",
    "        \"pay_max\":pay_max+1,\n",
    "        \"cat_max\":cat_max+1,\n",
    "        \"met_max\":met_max+1,\n",
    "        \"emb_units\":96,\n",
    "        \"lstm_units\":100,\n",
    "        \"drop_rate\":0.8,\n",
    "        \"loss\":loss_function,\n",
    "        \"optimizer\":keras.optimizers.Adam(learning_rate=0.001),\n",
    "        \"metric\":\"sparse_categorical_accuracy\"}\n",
    "\n",
    "    log_dir = \"logs/model1-n\"+str(n_padded)+\"-k\"+str(k)+\"-exp\"+str(n_exp) \n",
    "    tb = tf.keras.callbacks.TensorBoard(log_dir=log_dir)\n",
    "    model_1 = model1(conf)\n",
    "    hist_1 = model_train(model_1,\n",
    "                         train_list[0],\n",
    "                         train_list[-1],\n",
    "                         callback=[es, tb],\n",
    "                         batch_size=batch_size,\n",
    "                         verbose=0)\n",
    "    pk, rk, mrrk, hitk, retk = model_eval(hist_1.model,\n",
    "                                          [test_list[0]],\n",
    "                                          h_df,\n",
    "                                          test_data[\"c_id\"].unique(),\n",
    "                                          k)\n",
    "    exp_df = logger(exp_df,\n",
    "                    \"model1\",\n",
    "                    rk, pk, mrrk, hitk,\n",
    "                    retk/pro_max,\n",
    "                    n_padded, k, n_exp)\n",
    "    \n",
    "    print(\"model1-exp\"+str(n_exp))\n",
    "    \n",
    "    conf[\"emb_units\"] = 128\n",
    "    conf[\"lstm_units\"] = 200\n",
    "    log_dir = \"logs/model2-n\"+str(n_padded)+\"-k\"+str(k)+\"-exp\"+str(n_exp) \n",
    "    tb = tf.keras.callbacks.TensorBoard(log_dir=log_dir)\n",
    "    model_2 = model2(conf)\n",
    "    hist_2 = model_train(model_2,\n",
    "                         [train_list[0], train_list[1]],\n",
    "                         train_list[-1],\n",
    "                         callback=[es, tb],\n",
    "                         batch_size=batch_size,\n",
    "                         verbose=0)\n",
    "    pk, rk, mrrk, hitk, retk = model_eval(hist_2.model,\n",
    "                                          [test_list[0], test_list[1]],\n",
    "                                          h_df,\n",
    "                                          test_data[\"c_id\"].unique(),\n",
    "                                          k)\n",
    "    exp_df = logger(exp_df,\n",
    "                    \"model2\",\n",
    "                    rk, pk, mrrk, hitk,\n",
    "                    retk/pro_max,\n",
    "                    n_padded, k, n_exp)\n",
    "    \n",
    "    print(\"model2-exp\"+str(n_exp))\n",
    "    \n",
    "    log_dir = \"logs/model3-n\"+str(n_padded)+\"-k\"+str(k)+\"-exp\"+str(n_exp)  \n",
    "    tb = tf.keras.callbacks.TensorBoard(log_dir=log_dir)\n",
    "    model_3 = model3(conf)\n",
    "    hist_3 = model_train(model_3,\n",
    "                         [train_list[0],\n",
    "                          train_list[1],\n",
    "                          train_list[2]],\n",
    "                         train_list[-1],\n",
    "                         callback=[es, tb],\n",
    "                         batch_size=batch_size,\n",
    "                         verbose=0)\n",
    "    pk, rk, mrrk, hitk, retk = model_eval(hist_3.model,\n",
    "                                          [test_list[0], test_list[1],\n",
    "                                           test_list[2]],\n",
    "                                          h_df,\n",
    "                                          test_data[\"c_id\"].unique(),\n",
    "                                          k)\n",
    "    exp_df = logger(exp_df,\n",
    "                    \"model3\",\n",
    "                    rk, pk, mrrk, hitk,\n",
    "                    retk/pro_max,\n",
    "                    n_padded, k, n_exp)\n",
    "    \n",
    "    print(\"model3-exp\"+str(n_exp))\n",
    "\n",
    "    log_dir = \"logs/model4-n\"+str(n_padded)+\"-k\"+str(k)+\"-exp\"+str(n_exp)  \n",
    "    tb = tf.keras.callbacks.TensorBoard(log_dir=log_dir)\n",
    "    model_4 = model4(conf)\n",
    "    hist_4 = model_train(model_4,\n",
    "                         [train_list[0], train_list[1], train_list[3]],\n",
    "                         train_list[-1],\n",
    "                         callback=[es, tb],\n",
    "                         batch_size=batch_size,\n",
    "                         verbose=0)\n",
    "    pk, rk, mrrk, hitk, retk = model_eval(hist_4.model,\n",
    "                                          [test_list[0], test_list[1],\n",
    "                                           test_list[3]],\n",
    "                                          h_df,\n",
    "                                          test_data[\"c_id\"].unique(),\n",
    "                                          k)\n",
    "    exp_df = logger(exp_df,\n",
    "                    \"model4\",\n",
    "                    rk, pk, mrrk, hitk,\n",
    "                    retk/pro_max,\n",
    "                    n_padded, k, n_exp)\n",
    "    \n",
    "    print(\"model4-exp\"+str(n_exp))\n",
    "    \n",
    "    conf[\"emb_units\"] = 96\n",
    "    conf[\"lstm_units\"] = 100\n",
    "    log_dir = \"logs/model5-n\"+str(n_padded)+\"-k\"+str(k)+\"-exp\"+str(n_exp)  \n",
    "    tb = tf.keras.callbacks.TensorBoard(log_dir=log_dir)\n",
    "    model_5 = model5(conf)\n",
    "    hist_5 = model_train(model_5,\n",
    "                         [train_list[0], train_list[1], train_list[4]],\n",
    "                         train_list[-1],\n",
    "                         callback=[es, tb],\n",
    "                         batch_size=batch_size,\n",
    "                         verbose=0)\n",
    "    pk, rk, mrrk, hitk, retk = model_eval(hist_5.model,\n",
    "                                          [test_list[0], test_list[1],\n",
    "                                           test_list[4]],\n",
    "                                          h_df,\n",
    "                                          test_data[\"c_id\"].unique(),\n",
    "                                          k)\n",
    "    exp_df = logger(exp_df,\n",
    "                    \"model5\",\n",
    "                    rk, pk, mrrk, hitk,\n",
    "                    retk/pro_max,\n",
    "                    n_padded, k, n_exp)\n",
    "    \n",
    "    print(\"model5-exp\"+str(n_exp))\n",
    "    \n",
    "    conf[\"emb_units\"] = 64\n",
    "    conf[\"lstm_units\"] = 200\n",
    "    log_dir = \"logs/model6-n\"+str(n_padded)+\"-k\"+str(k)+\"-exp\"+str(n_exp) \n",
    "    tb = tf.keras.callbacks.TensorBoard(log_dir=log_dir)\n",
    "    model_6 = model6(conf)\n",
    "    hist_6 = model_train(model_6,\n",
    "                         [train_list[0], train_list[1],\n",
    "                          train_list[2], train_list[3]],\n",
    "                         train_list[-1],\n",
    "                         callback=[es, tb],\n",
    "                         batch_size=batch_size,\n",
    "                         verbose=0)\n",
    "    pk, rk, mrrk, hitk, retk = model_eval(hist_6.model,\n",
    "                                          [test_list[0], test_list[1],\n",
    "                                           test_list[2], test_list[3]],\n",
    "                                          h_df,\n",
    "                                          test_data[\"c_id\"].unique(),\n",
    "                                          k)\n",
    "    exp_df = logger(exp_df,\n",
    "                    \"model6\",\n",
    "                    rk, pk, mrrk, hitk,\n",
    "                    retk/pro_max,\n",
    "                    n_padded, k, n_exp)\n",
    "    \n",
    "    print(\"model6-exp\"+str(n_exp))\n",
    "    \n",
    "    conf[\"emb_units\"] = 96\n",
    "    conf[\"lstm_units\"] = 200\n",
    "    log_dir = \"logs/model7-n\"+str(n_padded)+\"-k\"+str(k)+\"-exp\"+str(n_exp) \n",
    "    tb = tf.keras.callbacks.TensorBoard(log_dir=log_dir)\n",
    "    model_7 = model7(conf)\n",
    "    hist_7 = model_train(model_7,\n",
    "                         [train_list[0], train_list[1],\n",
    "                          train_list[3], train_list[4]],\n",
    "                         train_list[-1],\n",
    "                         callback=[es, tb],\n",
    "                         batch_size=batch_size,\n",
    "                         verbose=0)\n",
    "    pk, rk, mrrk, hitk, retk = model_eval(hist_7.model,\n",
    "                                          [test_list[0], test_list[1],\n",
    "                                           test_list[3], test_list[4]],\n",
    "                                          h_df,\n",
    "                                          test_data[\"c_id\"].unique(),\n",
    "                                          k)\n",
    "    exp_df = logger(exp_df,\n",
    "                    \"model7\",\n",
    "                    rk, pk, mrrk, hitk,\n",
    "                    retk/pro_max,\n",
    "                    n_padded, k, n_exp)\n",
    "    \n",
    "    print(\"model7-exp\"+str(n_exp))\n",
    "        \n",
    "    return exp_df"
   ]
  },
  {
   "cell_type": "code",
   "execution_count": null,
   "id": "91fb701d",
   "metadata": {
    "execution": {
     "iopub.execute_input": "2021-11-08T09:20:02.568382Z",
     "iopub.status.busy": "2021-11-08T09:20:02.567226Z",
     "iopub.status.idle": "2021-11-08T11:04:57.684466Z",
     "shell.execute_reply": "2021-11-08T11:04:57.684939Z",
     "shell.execute_reply.started": "2021-10-21T08:16:06.296659Z"
    },
    "id": "91fb701d",
    "outputId": "65ae3b5a-a9cf-4c20-86bf-2bee9840f48c",
    "papermill": {
     "duration": 6295.136059,
     "end_time": "2021-11-08T11:04:57.685108",
     "exception": false,
     "start_time": "2021-11-08T09:20:02.549049",
     "status": "completed"
    },
    "tags": []
   },
   "outputs": [
    {
     "name": "stdout",
     "output_type": "stream",
     "text": [
      "random 1\n"
     ]
    },
    {
     "name": "stderr",
     "output_type": "stream",
     "text": [
      "2021-11-08 09:20:09.791498: I tensorflow/core/profiler/lib/profiler_session.cc:136] Profiler session initializing.\n",
      "2021-11-08 09:20:09.791553: I tensorflow/core/profiler/lib/profiler_session.cc:155] Profiler session started.\n",
      "2021-11-08 09:20:09.792768: I tensorflow/core/profiler/internal/gpu/cupti_tracer.cc:1365] Profiler found 1 GPUs\n",
      "2021-11-08 09:20:09.814220: I tensorflow/stream_executor/platform/default/dso_loader.cc:49] Successfully opened dynamic library libcupti.so.11.0\n",
      "2021-11-08 09:20:09.998497: I tensorflow/core/profiler/lib/profiler_session.cc:172] Profiler session tear down.\n",
      "2021-11-08 09:20:09.998704: I tensorflow/core/profiler/internal/gpu/cupti_tracer.cc:1487] CUPTI activity buffer flushed\n",
      "2021-11-08 09:20:10.819269: I tensorflow/compiler/mlir/mlir_graph_optimization_pass.cc:116] None of the MLIR optimization passes are enabled (registered 2)\n",
      "2021-11-08 09:20:10.831255: I tensorflow/core/platform/profile_utils/cpu_utils.cc:112] CPU Frequency: 2000179999 Hz\n",
      "2021-11-08 09:20:12.977558: I tensorflow/stream_executor/platform/default/dso_loader.cc:49] Successfully opened dynamic library libcublas.so.11\n",
      "2021-11-08 09:20:13.733641: I tensorflow/stream_executor/platform/default/dso_loader.cc:49] Successfully opened dynamic library libcublasLt.so.11\n",
      "2021-11-08 09:20:13.786464: I tensorflow/stream_executor/platform/default/dso_loader.cc:49] Successfully opened dynamic library libcudnn.so.8\n",
      "2021-11-08 09:20:18.933909: I tensorflow/core/profiler/lib/profiler_session.cc:136] Profiler session initializing.\n",
      "2021-11-08 09:20:18.933963: I tensorflow/core/profiler/lib/profiler_session.cc:155] Profiler session started.\n",
      "2021-11-08 09:20:19.297269: I tensorflow/core/profiler/lib/profiler_session.cc:71] Profiler session collecting data.\n",
      "2021-11-08 09:20:19.297760: I tensorflow/core/profiler/internal/gpu/cupti_tracer.cc:1487] CUPTI activity buffer flushed\n",
      "2021-11-08 09:20:19.431545: I tensorflow/core/profiler/internal/gpu/cupti_collector.cc:228]  GpuTracer has collected 308 callback api events and 296 activity events. \n",
      "2021-11-08 09:20:19.442046: I tensorflow/core/profiler/lib/profiler_session.cc:172] Profiler session tear down.\n",
      "2021-11-08 09:20:19.456808: I tensorflow/core/profiler/rpc/client/save_profile.cc:137] Creating directory: logs/model1-n10-k5-exp1/train/plugins/profile/2021_11_08_09_20_19\n",
      "2021-11-08 09:20:19.464154: I tensorflow/core/profiler/rpc/client/save_profile.cc:143] Dumped gzipped tool data for trace.json.gz to logs/model1-n10-k5-exp1/train/plugins/profile/2021_11_08_09_20_19/d29684dd295e.trace.json.gz\n",
      "2021-11-08 09:20:19.484752: I tensorflow/core/profiler/rpc/client/save_profile.cc:137] Creating directory: logs/model1-n10-k5-exp1/train/plugins/profile/2021_11_08_09_20_19\n",
      "2021-11-08 09:20:19.487206: I tensorflow/core/profiler/rpc/client/save_profile.cc:143] Dumped gzipped tool data for memory_profile.json.gz to logs/model1-n10-k5-exp1/train/plugins/profile/2021_11_08_09_20_19/d29684dd295e.memory_profile.json.gz\n",
      "2021-11-08 09:20:19.487947: I tensorflow/core/profiler/rpc/client/capture_profile.cc:251] Creating directory: logs/model1-n10-k5-exp1/train/plugins/profile/2021_11_08_09_20_19Dumped tool data for xplane.pb to logs/model1-n10-k5-exp1/train/plugins/profile/2021_11_08_09_20_19/d29684dd295e.xplane.pb\n",
      "Dumped tool data for overview_page.pb to logs/model1-n10-k5-exp1/train/plugins/profile/2021_11_08_09_20_19/d29684dd295e.overview_page.pb\n",
      "Dumped tool data for input_pipeline.pb to logs/model1-n10-k5-exp1/train/plugins/profile/2021_11_08_09_20_19/d29684dd295e.input_pipeline.pb\n",
      "Dumped tool data for tensorflow_stats.pb to logs/model1-n10-k5-exp1/train/plugins/profile/2021_11_08_09_20_19/d29684dd295e.tensorflow_stats.pb\n",
      "Dumped tool data for kernel_stats.pb to logs/model1-n10-k5-exp1/train/plugins/profile/2021_11_08_09_20_19/d29684dd295e.kernel_stats.pb\n",
      "\n"
     ]
    },
    {
     "name": "stdout",
     "output_type": "stream",
     "text": [
      "Epoch 00019: early stopping\n",
      "model1-exp1\n"
     ]
    },
    {
     "name": "stderr",
     "output_type": "stream",
     "text": [
      "2021-11-08 09:21:00.813492: I tensorflow/core/profiler/lib/profiler_session.cc:136] Profiler session initializing.\n",
      "2021-11-08 09:21:00.813545: I tensorflow/core/profiler/lib/profiler_session.cc:155] Profiler session started.\n",
      "2021-11-08 09:21:00.966797: I tensorflow/core/profiler/lib/profiler_session.cc:172] Profiler session tear down.\n",
      "2021-11-08 09:21:00.966947: I tensorflow/core/profiler/internal/gpu/cupti_tracer.cc:1487] CUPTI activity buffer flushed\n",
      "2021-11-08 09:21:03.583894: I tensorflow/core/profiler/lib/profiler_session.cc:136] Profiler session initializing.\n",
      "2021-11-08 09:21:03.583963: I tensorflow/core/profiler/lib/profiler_session.cc:155] Profiler session started.\n",
      "2021-11-08 09:21:04.070076: I tensorflow/core/profiler/lib/profiler_session.cc:71] Profiler session collecting data.\n",
      "2021-11-08 09:21:04.070802: I tensorflow/core/profiler/internal/gpu/cupti_tracer.cc:1487] CUPTI activity buffer flushed\n",
      "2021-11-08 09:21:04.291980: I tensorflow/core/profiler/internal/gpu/cupti_collector.cc:228]  GpuTracer has collected 359 callback api events and 347 activity events. \n",
      "2021-11-08 09:21:04.334353: I tensorflow/core/profiler/lib/profiler_session.cc:172] Profiler session tear down.\n",
      "2021-11-08 09:21:04.372902: I tensorflow/core/profiler/rpc/client/save_profile.cc:137] Creating directory: logs/model2-n10-k5-exp1/train/plugins/profile/2021_11_08_09_21_04\n",
      "2021-11-08 09:21:04.397691: I tensorflow/core/profiler/rpc/client/save_profile.cc:143] Dumped gzipped tool data for trace.json.gz to logs/model2-n10-k5-exp1/train/plugins/profile/2021_11_08_09_21_04/d29684dd295e.trace.json.gz\n",
      "2021-11-08 09:21:04.461604: I tensorflow/core/profiler/rpc/client/save_profile.cc:137] Creating directory: logs/model2-n10-k5-exp1/train/plugins/profile/2021_11_08_09_21_04\n",
      "2021-11-08 09:21:04.466800: I tensorflow/core/profiler/rpc/client/save_profile.cc:143] Dumped gzipped tool data for memory_profile.json.gz to logs/model2-n10-k5-exp1/train/plugins/profile/2021_11_08_09_21_04/d29684dd295e.memory_profile.json.gz\n",
      "2021-11-08 09:21:04.469464: I tensorflow/core/profiler/rpc/client/capture_profile.cc:251] Creating directory: logs/model2-n10-k5-exp1/train/plugins/profile/2021_11_08_09_21_04Dumped tool data for xplane.pb to logs/model2-n10-k5-exp1/train/plugins/profile/2021_11_08_09_21_04/d29684dd295e.xplane.pb\n",
      "Dumped tool data for overview_page.pb to logs/model2-n10-k5-exp1/train/plugins/profile/2021_11_08_09_21_04/d29684dd295e.overview_page.pb\n",
      "Dumped tool data for input_pipeline.pb to logs/model2-n10-k5-exp1/train/plugins/profile/2021_11_08_09_21_04/d29684dd295e.input_pipeline.pb\n",
      "Dumped tool data for tensorflow_stats.pb to logs/model2-n10-k5-exp1/train/plugins/profile/2021_11_08_09_21_04/d29684dd295e.tensorflow_stats.pb\n",
      "Dumped tool data for kernel_stats.pb to logs/model2-n10-k5-exp1/train/plugins/profile/2021_11_08_09_21_04/d29684dd295e.kernel_stats.pb\n",
      "\n"
     ]
    },
    {
     "name": "stdout",
     "output_type": "stream",
     "text": [
      "Epoch 00017: early stopping\n",
      "model2-exp1\n"
     ]
    },
    {
     "name": "stderr",
     "output_type": "stream",
     "text": [
      "2021-11-08 09:21:46.607874: I tensorflow/core/profiler/lib/profiler_session.cc:136] Profiler session initializing.\n",
      "2021-11-08 09:21:46.607930: I tensorflow/core/profiler/lib/profiler_session.cc:155] Profiler session started.\n",
      "2021-11-08 09:21:46.750467: I tensorflow/core/profiler/lib/profiler_session.cc:172] Profiler session tear down.\n",
      "2021-11-08 09:21:46.750615: I tensorflow/core/profiler/internal/gpu/cupti_tracer.cc:1487] CUPTI activity buffer flushed\n",
      "2021-11-08 09:21:49.932820: I tensorflow/core/profiler/lib/profiler_session.cc:136] Profiler session initializing.\n",
      "2021-11-08 09:21:49.932879: I tensorflow/core/profiler/lib/profiler_session.cc:155] Profiler session started.\n",
      "2021-11-08 09:21:50.294740: I tensorflow/core/profiler/lib/profiler_session.cc:71] Profiler session collecting data.\n",
      "2021-11-08 09:21:50.295372: I tensorflow/core/profiler/internal/gpu/cupti_tracer.cc:1487] CUPTI activity buffer flushed\n",
      "2021-11-08 09:21:50.428063: I tensorflow/core/profiler/internal/gpu/cupti_collector.cc:228]  GpuTracer has collected 363 callback api events and 351 activity events. \n",
      "2021-11-08 09:21:50.440397: I tensorflow/core/profiler/lib/profiler_session.cc:172] Profiler session tear down.\n",
      "2021-11-08 09:21:50.451853: I tensorflow/core/profiler/rpc/client/save_profile.cc:137] Creating directory: logs/model3-n10-k5-exp1/train/plugins/profile/2021_11_08_09_21_50\n",
      "2021-11-08 09:21:50.459909: I tensorflow/core/profiler/rpc/client/save_profile.cc:143] Dumped gzipped tool data for trace.json.gz to logs/model3-n10-k5-exp1/train/plugins/profile/2021_11_08_09_21_50/d29684dd295e.trace.json.gz\n",
      "2021-11-08 09:21:50.478535: I tensorflow/core/profiler/rpc/client/save_profile.cc:137] Creating directory: logs/model3-n10-k5-exp1/train/plugins/profile/2021_11_08_09_21_50\n",
      "2021-11-08 09:21:50.482027: I tensorflow/core/profiler/rpc/client/save_profile.cc:143] Dumped gzipped tool data for memory_profile.json.gz to logs/model3-n10-k5-exp1/train/plugins/profile/2021_11_08_09_21_50/d29684dd295e.memory_profile.json.gz\n",
      "2021-11-08 09:21:50.483030: I tensorflow/core/profiler/rpc/client/capture_profile.cc:251] Creating directory: logs/model3-n10-k5-exp1/train/plugins/profile/2021_11_08_09_21_50Dumped tool data for xplane.pb to logs/model3-n10-k5-exp1/train/plugins/profile/2021_11_08_09_21_50/d29684dd295e.xplane.pb\n",
      "Dumped tool data for overview_page.pb to logs/model3-n10-k5-exp1/train/plugins/profile/2021_11_08_09_21_50/d29684dd295e.overview_page.pb\n",
      "Dumped tool data for input_pipeline.pb to logs/model3-n10-k5-exp1/train/plugins/profile/2021_11_08_09_21_50/d29684dd295e.input_pipeline.pb\n",
      "Dumped tool data for tensorflow_stats.pb to logs/model3-n10-k5-exp1/train/plugins/profile/2021_11_08_09_21_50/d29684dd295e.tensorflow_stats.pb\n",
      "Dumped tool data for kernel_stats.pb to logs/model3-n10-k5-exp1/train/plugins/profile/2021_11_08_09_21_50/d29684dd295e.kernel_stats.pb\n",
      "\n"
     ]
    },
    {
     "name": "stdout",
     "output_type": "stream",
     "text": [
      "Epoch 00014: early stopping\n",
      "model3-exp1\n"
     ]
    },
    {
     "name": "stderr",
     "output_type": "stream",
     "text": [
      "2021-11-08 09:22:27.218705: I tensorflow/core/profiler/lib/profiler_session.cc:136] Profiler session initializing.\n",
      "2021-11-08 09:22:27.218766: I tensorflow/core/profiler/lib/profiler_session.cc:155] Profiler session started.\n",
      "2021-11-08 09:22:27.363882: I tensorflow/core/profiler/lib/profiler_session.cc:172] Profiler session tear down.\n",
      "2021-11-08 09:22:27.364046: I tensorflow/core/profiler/internal/gpu/cupti_tracer.cc:1487] CUPTI activity buffer flushed\n",
      "2021-11-08 09:22:30.086970: I tensorflow/core/profiler/lib/profiler_session.cc:136] Profiler session initializing.\n",
      "2021-11-08 09:22:30.087031: I tensorflow/core/profiler/lib/profiler_session.cc:155] Profiler session started.\n",
      "2021-11-08 09:22:30.447330: I tensorflow/core/profiler/lib/profiler_session.cc:71] Profiler session collecting data.\n",
      "2021-11-08 09:22:30.447906: I tensorflow/core/profiler/internal/gpu/cupti_tracer.cc:1487] CUPTI activity buffer flushed\n",
      "2021-11-08 09:22:30.580250: I tensorflow/core/profiler/internal/gpu/cupti_collector.cc:228]  GpuTracer has collected 363 callback api events and 351 activity events. \n",
      "2021-11-08 09:22:30.592596: I tensorflow/core/profiler/lib/profiler_session.cc:172] Profiler session tear down.\n",
      "2021-11-08 09:22:30.603794: I tensorflow/core/profiler/rpc/client/save_profile.cc:137] Creating directory: logs/model4-n10-k5-exp1/train/plugins/profile/2021_11_08_09_22_30\n",
      "2021-11-08 09:22:30.611571: I tensorflow/core/profiler/rpc/client/save_profile.cc:143] Dumped gzipped tool data for trace.json.gz to logs/model4-n10-k5-exp1/train/plugins/profile/2021_11_08_09_22_30/d29684dd295e.trace.json.gz\n",
      "2021-11-08 09:22:30.629572: I tensorflow/core/profiler/rpc/client/save_profile.cc:137] Creating directory: logs/model4-n10-k5-exp1/train/plugins/profile/2021_11_08_09_22_30\n",
      "2021-11-08 09:22:30.632847: I tensorflow/core/profiler/rpc/client/save_profile.cc:143] Dumped gzipped tool data for memory_profile.json.gz to logs/model4-n10-k5-exp1/train/plugins/profile/2021_11_08_09_22_30/d29684dd295e.memory_profile.json.gz\n",
      "2021-11-08 09:22:30.633855: I tensorflow/core/profiler/rpc/client/capture_profile.cc:251] Creating directory: logs/model4-n10-k5-exp1/train/plugins/profile/2021_11_08_09_22_30Dumped tool data for xplane.pb to logs/model4-n10-k5-exp1/train/plugins/profile/2021_11_08_09_22_30/d29684dd295e.xplane.pb\n",
      "Dumped tool data for overview_page.pb to logs/model4-n10-k5-exp1/train/plugins/profile/2021_11_08_09_22_30/d29684dd295e.overview_page.pb\n",
      "Dumped tool data for input_pipeline.pb to logs/model4-n10-k5-exp1/train/plugins/profile/2021_11_08_09_22_30/d29684dd295e.input_pipeline.pb\n",
      "Dumped tool data for tensorflow_stats.pb to logs/model4-n10-k5-exp1/train/plugins/profile/2021_11_08_09_22_30/d29684dd295e.tensorflow_stats.pb\n",
      "Dumped tool data for kernel_stats.pb to logs/model4-n10-k5-exp1/train/plugins/profile/2021_11_08_09_22_30/d29684dd295e.kernel_stats.pb\n",
      "\n"
     ]
    },
    {
     "name": "stdout",
     "output_type": "stream",
     "text": [
      "Epoch 00014: early stopping\n",
      "model4-exp1\n"
     ]
    },
    {
     "name": "stderr",
     "output_type": "stream",
     "text": [
      "2021-11-08 09:23:06.188082: I tensorflow/core/profiler/lib/profiler_session.cc:136] Profiler session initializing.\n",
      "2021-11-08 09:23:06.188138: I tensorflow/core/profiler/lib/profiler_session.cc:155] Profiler session started.\n",
      "2021-11-08 09:23:06.331457: I tensorflow/core/profiler/lib/profiler_session.cc:172] Profiler session tear down.\n",
      "2021-11-08 09:23:06.331655: I tensorflow/core/profiler/internal/gpu/cupti_tracer.cc:1487] CUPTI activity buffer flushed\n",
      "2021-11-08 09:23:09.013679: I tensorflow/core/profiler/lib/profiler_session.cc:136] Profiler session initializing.\n",
      "2021-11-08 09:23:09.013737: I tensorflow/core/profiler/lib/profiler_session.cc:155] Profiler session started.\n",
      "2021-11-08 09:23:09.369497: I tensorflow/core/profiler/lib/profiler_session.cc:71] Profiler session collecting data.\n",
      "2021-11-08 09:23:09.370105: I tensorflow/core/profiler/internal/gpu/cupti_tracer.cc:1487] CUPTI activity buffer flushed\n",
      "2021-11-08 09:23:09.502601: I tensorflow/core/profiler/internal/gpu/cupti_collector.cc:228]  GpuTracer has collected 363 callback api events and 351 activity events. \n",
      "2021-11-08 09:23:09.515118: I tensorflow/core/profiler/lib/profiler_session.cc:172] Profiler session tear down.\n",
      "2021-11-08 09:23:09.526477: I tensorflow/core/profiler/rpc/client/save_profile.cc:137] Creating directory: logs/model5-n10-k5-exp1/train/plugins/profile/2021_11_08_09_23_09\n",
      "2021-11-08 09:23:09.534168: I tensorflow/core/profiler/rpc/client/save_profile.cc:143] Dumped gzipped tool data for trace.json.gz to logs/model5-n10-k5-exp1/train/plugins/profile/2021_11_08_09_23_09/d29684dd295e.trace.json.gz\n",
      "2021-11-08 09:23:09.551875: I tensorflow/core/profiler/rpc/client/save_profile.cc:137] Creating directory: logs/model5-n10-k5-exp1/train/plugins/profile/2021_11_08_09_23_09\n",
      "2021-11-08 09:23:09.555310: I tensorflow/core/profiler/rpc/client/save_profile.cc:143] Dumped gzipped tool data for memory_profile.json.gz to logs/model5-n10-k5-exp1/train/plugins/profile/2021_11_08_09_23_09/d29684dd295e.memory_profile.json.gz\n",
      "2021-11-08 09:23:09.556254: I tensorflow/core/profiler/rpc/client/capture_profile.cc:251] Creating directory: logs/model5-n10-k5-exp1/train/plugins/profile/2021_11_08_09_23_09Dumped tool data for xplane.pb to logs/model5-n10-k5-exp1/train/plugins/profile/2021_11_08_09_23_09/d29684dd295e.xplane.pb\n",
      "Dumped tool data for overview_page.pb to logs/model5-n10-k5-exp1/train/plugins/profile/2021_11_08_09_23_09/d29684dd295e.overview_page.pb\n",
      "Dumped tool data for input_pipeline.pb to logs/model5-n10-k5-exp1/train/plugins/profile/2021_11_08_09_23_09/d29684dd295e.input_pipeline.pb\n",
      "Dumped tool data for tensorflow_stats.pb to logs/model5-n10-k5-exp1/train/plugins/profile/2021_11_08_09_23_09/d29684dd295e.tensorflow_stats.pb\n",
      "Dumped tool data for kernel_stats.pb to logs/model5-n10-k5-exp1/train/plugins/profile/2021_11_08_09_23_09/d29684dd295e.kernel_stats.pb\n",
      "\n"
     ]
    },
    {
     "name": "stdout",
     "output_type": "stream",
     "text": [
      "Epoch 00017: early stopping\n",
      "model5-exp1\n"
     ]
    },
    {
     "name": "stderr",
     "output_type": "stream",
     "text": [
      "2021-11-08 09:23:49.041415: I tensorflow/core/profiler/lib/profiler_session.cc:136] Profiler session initializing.\n",
      "2021-11-08 09:23:49.041801: I tensorflow/core/profiler/lib/profiler_session.cc:155] Profiler session started.\n",
      "2021-11-08 09:23:49.444713: I tensorflow/core/profiler/lib/profiler_session.cc:172] Profiler session tear down.\n",
      "2021-11-08 09:23:49.444874: I tensorflow/core/profiler/internal/gpu/cupti_tracer.cc:1487] CUPTI activity buffer flushed\n",
      "2021-11-08 09:23:52.585338: I tensorflow/core/profiler/lib/profiler_session.cc:136] Profiler session initializing.\n",
      "2021-11-08 09:23:52.585393: I tensorflow/core/profiler/lib/profiler_session.cc:155] Profiler session started.\n",
      "2021-11-08 09:23:52.968254: I tensorflow/core/profiler/lib/profiler_session.cc:71] Profiler session collecting data.\n",
      "2021-11-08 09:23:52.968933: I tensorflow/core/profiler/internal/gpu/cupti_tracer.cc:1487] CUPTI activity buffer flushed\n",
      "2021-11-08 09:23:53.105501: I tensorflow/core/profiler/internal/gpu/cupti_collector.cc:228]  GpuTracer has collected 367 callback api events and 355 activity events. \n",
      "2021-11-08 09:23:53.119345: I tensorflow/core/profiler/lib/profiler_session.cc:172] Profiler session tear down.\n",
      "2021-11-08 09:23:53.132725: I tensorflow/core/profiler/rpc/client/save_profile.cc:137] Creating directory: logs/model6-n10-k5-exp1/train/plugins/profile/2021_11_08_09_23_53\n",
      "2021-11-08 09:23:53.141551: I tensorflow/core/profiler/rpc/client/save_profile.cc:143] Dumped gzipped tool data for trace.json.gz to logs/model6-n10-k5-exp1/train/plugins/profile/2021_11_08_09_23_53/d29684dd295e.trace.json.gz\n",
      "2021-11-08 09:23:53.162054: I tensorflow/core/profiler/rpc/client/save_profile.cc:137] Creating directory: logs/model6-n10-k5-exp1/train/plugins/profile/2021_11_08_09_23_53\n",
      "2021-11-08 09:23:53.166094: I tensorflow/core/profiler/rpc/client/save_profile.cc:143] Dumped gzipped tool data for memory_profile.json.gz to logs/model6-n10-k5-exp1/train/plugins/profile/2021_11_08_09_23_53/d29684dd295e.memory_profile.json.gz\n",
      "2021-11-08 09:23:53.167205: I tensorflow/core/profiler/rpc/client/capture_profile.cc:251] Creating directory: logs/model6-n10-k5-exp1/train/plugins/profile/2021_11_08_09_23_53Dumped tool data for xplane.pb to logs/model6-n10-k5-exp1/train/plugins/profile/2021_11_08_09_23_53/d29684dd295e.xplane.pb\n",
      "Dumped tool data for overview_page.pb to logs/model6-n10-k5-exp1/train/plugins/profile/2021_11_08_09_23_53/d29684dd295e.overview_page.pb\n",
      "Dumped tool data for input_pipeline.pb to logs/model6-n10-k5-exp1/train/plugins/profile/2021_11_08_09_23_53/d29684dd295e.input_pipeline.pb\n",
      "Dumped tool data for tensorflow_stats.pb to logs/model6-n10-k5-exp1/train/plugins/profile/2021_11_08_09_23_53/d29684dd295e.tensorflow_stats.pb\n",
      "Dumped tool data for kernel_stats.pb to logs/model6-n10-k5-exp1/train/plugins/profile/2021_11_08_09_23_53/d29684dd295e.kernel_stats.pb\n",
      "\n"
     ]
    },
    {
     "name": "stdout",
     "output_type": "stream",
     "text": [
      "Epoch 00015: early stopping\n",
      "model6-exp1\n"
     ]
    },
    {
     "name": "stderr",
     "output_type": "stream",
     "text": [
      "2021-11-08 09:24:27.788107: I tensorflow/core/profiler/lib/profiler_session.cc:136] Profiler session initializing.\n",
      "2021-11-08 09:24:27.788169: I tensorflow/core/profiler/lib/profiler_session.cc:155] Profiler session started.\n",
      "2021-11-08 09:24:27.932420: I tensorflow/core/profiler/lib/profiler_session.cc:172] Profiler session tear down.\n",
      "2021-11-08 09:24:27.932614: I tensorflow/core/profiler/internal/gpu/cupti_tracer.cc:1487] CUPTI activity buffer flushed\n",
      "2021-11-08 09:24:30.738891: I tensorflow/core/profiler/lib/profiler_session.cc:136] Profiler session initializing.\n",
      "2021-11-08 09:24:30.738945: I tensorflow/core/profiler/lib/profiler_session.cc:155] Profiler session started.\n",
      "2021-11-08 09:24:31.103268: I tensorflow/core/profiler/lib/profiler_session.cc:71] Profiler session collecting data.\n",
      "2021-11-08 09:24:31.103944: I tensorflow/core/profiler/internal/gpu/cupti_tracer.cc:1487] CUPTI activity buffer flushed\n",
      "2021-11-08 09:24:31.236477: I tensorflow/core/profiler/internal/gpu/cupti_collector.cc:228]  GpuTracer has collected 367 callback api events and 355 activity events. \n",
      "2021-11-08 09:24:31.249363: I tensorflow/core/profiler/lib/profiler_session.cc:172] Profiler session tear down.\n",
      "2021-11-08 09:24:31.260673: I tensorflow/core/profiler/rpc/client/save_profile.cc:137] Creating directory: logs/model7-n10-k5-exp1/train/plugins/profile/2021_11_08_09_24_31\n",
      "2021-11-08 09:24:31.268880: I tensorflow/core/profiler/rpc/client/save_profile.cc:143] Dumped gzipped tool data for trace.json.gz to logs/model7-n10-k5-exp1/train/plugins/profile/2021_11_08_09_24_31/d29684dd295e.trace.json.gz\n",
      "2021-11-08 09:24:31.286913: I tensorflow/core/profiler/rpc/client/save_profile.cc:137] Creating directory: logs/model7-n10-k5-exp1/train/plugins/profile/2021_11_08_09_24_31\n",
      "2021-11-08 09:24:31.290454: I tensorflow/core/profiler/rpc/client/save_profile.cc:143] Dumped gzipped tool data for memory_profile.json.gz to logs/model7-n10-k5-exp1/train/plugins/profile/2021_11_08_09_24_31/d29684dd295e.memory_profile.json.gz\n",
      "2021-11-08 09:24:31.291371: I tensorflow/core/profiler/rpc/client/capture_profile.cc:251] Creating directory: logs/model7-n10-k5-exp1/train/plugins/profile/2021_11_08_09_24_31Dumped tool data for xplane.pb to logs/model7-n10-k5-exp1/train/plugins/profile/2021_11_08_09_24_31/d29684dd295e.xplane.pb\n",
      "Dumped tool data for overview_page.pb to logs/model7-n10-k5-exp1/train/plugins/profile/2021_11_08_09_24_31/d29684dd295e.overview_page.pb\n",
      "Dumped tool data for input_pipeline.pb to logs/model7-n10-k5-exp1/train/plugins/profile/2021_11_08_09_24_31/d29684dd295e.input_pipeline.pb\n",
      "Dumped tool data for tensorflow_stats.pb to logs/model7-n10-k5-exp1/train/plugins/profile/2021_11_08_09_24_31/d29684dd295e.tensorflow_stats.pb\n",
      "Dumped tool data for kernel_stats.pb to logs/model7-n10-k5-exp1/train/plugins/profile/2021_11_08_09_24_31/d29684dd295e.kernel_stats.pb\n",
      "\n"
     ]
    },
    {
     "name": "stdout",
     "output_type": "stream",
     "text": [
      "Epoch 00014: early stopping\n",
      "model7-exp1\n",
      "random 2\n"
     ]
    },
    {
     "name": "stderr",
     "output_type": "stream",
     "text": [
      "2021-11-08 09:25:05.709628: I tensorflow/core/profiler/lib/profiler_session.cc:136] Profiler session initializing.\n",
      "2021-11-08 09:25:05.709689: I tensorflow/core/profiler/lib/profiler_session.cc:155] Profiler session started.\n",
      "2021-11-08 09:25:05.887799: I tensorflow/core/profiler/lib/profiler_session.cc:172] Profiler session tear down.\n",
      "2021-11-08 09:25:05.887942: I tensorflow/core/profiler/internal/gpu/cupti_tracer.cc:1487] CUPTI activity buffer flushed\n",
      "2021-11-08 09:25:08.393808: I tensorflow/core/profiler/lib/profiler_session.cc:136] Profiler session initializing.\n",
      "2021-11-08 09:25:08.393863: I tensorflow/core/profiler/lib/profiler_session.cc:155] Profiler session started.\n",
      "2021-11-08 09:25:08.732384: I tensorflow/core/profiler/lib/profiler_session.cc:71] Profiler session collecting data.\n",
      "2021-11-08 09:25:08.732904: I tensorflow/core/profiler/internal/gpu/cupti_tracer.cc:1487] CUPTI activity buffer flushed\n",
      "2021-11-08 09:25:08.864811: I tensorflow/core/profiler/internal/gpu/cupti_collector.cc:228]  GpuTracer has collected 308 callback api events and 296 activity events. \n",
      "2021-11-08 09:25:08.874850: I tensorflow/core/profiler/lib/profiler_session.cc:172] Profiler session tear down.\n",
      "2021-11-08 09:25:08.883742: I tensorflow/core/profiler/rpc/client/save_profile.cc:137] Creating directory: logs/model1-n10-k5-exp2/train/plugins/profile/2021_11_08_09_25_08\n",
      "2021-11-08 09:25:08.889917: I tensorflow/core/profiler/rpc/client/save_profile.cc:143] Dumped gzipped tool data for trace.json.gz to logs/model1-n10-k5-exp2/train/plugins/profile/2021_11_08_09_25_08/d29684dd295e.trace.json.gz\n",
      "2021-11-08 09:25:08.904132: I tensorflow/core/profiler/rpc/client/save_profile.cc:137] Creating directory: logs/model1-n10-k5-exp2/train/plugins/profile/2021_11_08_09_25_08\n",
      "2021-11-08 09:25:08.906917: I tensorflow/core/profiler/rpc/client/save_profile.cc:143] Dumped gzipped tool data for memory_profile.json.gz to logs/model1-n10-k5-exp2/train/plugins/profile/2021_11_08_09_25_08/d29684dd295e.memory_profile.json.gz\n",
      "2021-11-08 09:25:08.907723: I tensorflow/core/profiler/rpc/client/capture_profile.cc:251] Creating directory: logs/model1-n10-k5-exp2/train/plugins/profile/2021_11_08_09_25_08Dumped tool data for xplane.pb to logs/model1-n10-k5-exp2/train/plugins/profile/2021_11_08_09_25_08/d29684dd295e.xplane.pb\n",
      "Dumped tool data for overview_page.pb to logs/model1-n10-k5-exp2/train/plugins/profile/2021_11_08_09_25_08/d29684dd295e.overview_page.pb\n",
      "Dumped tool data for input_pipeline.pb to logs/model1-n10-k5-exp2/train/plugins/profile/2021_11_08_09_25_08/d29684dd295e.input_pipeline.pb\n",
      "Dumped tool data for tensorflow_stats.pb to logs/model1-n10-k5-exp2/train/plugins/profile/2021_11_08_09_25_08/d29684dd295e.tensorflow_stats.pb\n",
      "Dumped tool data for kernel_stats.pb to logs/model1-n10-k5-exp2/train/plugins/profile/2021_11_08_09_25_08/d29684dd295e.kernel_stats.pb\n",
      "\n"
     ]
    },
    {
     "name": "stdout",
     "output_type": "stream",
     "text": [
      "Epoch 00023: early stopping\n",
      "model1-exp2\n"
     ]
    },
    {
     "name": "stderr",
     "output_type": "stream",
     "text": [
      "2021-11-08 09:25:58.339020: I tensorflow/core/profiler/lib/profiler_session.cc:136] Profiler session initializing.\n",
      "2021-11-08 09:25:58.339073: I tensorflow/core/profiler/lib/profiler_session.cc:155] Profiler session started.\n",
      "2021-11-08 09:25:58.483280: I tensorflow/core/profiler/lib/profiler_session.cc:172] Profiler session tear down.\n",
      "2021-11-08 09:25:58.483443: I tensorflow/core/profiler/internal/gpu/cupti_tracer.cc:1487] CUPTI activity buffer flushed\n",
      "2021-11-08 09:26:02.775866: I tensorflow/core/profiler/lib/profiler_session.cc:136] Profiler session initializing.\n",
      "2021-11-08 09:26:02.775924: I tensorflow/core/profiler/lib/profiler_session.cc:155] Profiler session started.\n",
      "2021-11-08 09:26:03.110532: I tensorflow/core/profiler/lib/profiler_session.cc:71] Profiler session collecting data.\n",
      "2021-11-08 09:26:03.111204: I tensorflow/core/profiler/internal/gpu/cupti_tracer.cc:1487] CUPTI activity buffer flushed\n",
      "2021-11-08 09:26:03.248256: I tensorflow/core/profiler/internal/gpu/cupti_collector.cc:228]  GpuTracer has collected 359 callback api events and 347 activity events. \n",
      "2021-11-08 09:26:03.260662: I tensorflow/core/profiler/lib/profiler_session.cc:172] Profiler session tear down.\n",
      "2021-11-08 09:26:03.271693: I tensorflow/core/profiler/rpc/client/save_profile.cc:137] Creating directory: logs/model2-n10-k5-exp2/train/plugins/profile/2021_11_08_09_26_03\n",
      "2021-11-08 09:26:03.279159: I tensorflow/core/profiler/rpc/client/save_profile.cc:143] Dumped gzipped tool data for trace.json.gz to logs/model2-n10-k5-exp2/train/plugins/profile/2021_11_08_09_26_03/d29684dd295e.trace.json.gz\n",
      "2021-11-08 09:26:03.297104: I tensorflow/core/profiler/rpc/client/save_profile.cc:137] Creating directory: logs/model2-n10-k5-exp2/train/plugins/profile/2021_11_08_09_26_03\n",
      "2021-11-08 09:26:03.300414: I tensorflow/core/profiler/rpc/client/save_profile.cc:143] Dumped gzipped tool data for memory_profile.json.gz to logs/model2-n10-k5-exp2/train/plugins/profile/2021_11_08_09_26_03/d29684dd295e.memory_profile.json.gz\n",
      "2021-11-08 09:26:03.301380: I tensorflow/core/profiler/rpc/client/capture_profile.cc:251] Creating directory: logs/model2-n10-k5-exp2/train/plugins/profile/2021_11_08_09_26_03Dumped tool data for xplane.pb to logs/model2-n10-k5-exp2/train/plugins/profile/2021_11_08_09_26_03/d29684dd295e.xplane.pb\n",
      "Dumped tool data for overview_page.pb to logs/model2-n10-k5-exp2/train/plugins/profile/2021_11_08_09_26_03/d29684dd295e.overview_page.pb\n",
      "Dumped tool data for input_pipeline.pb to logs/model2-n10-k5-exp2/train/plugins/profile/2021_11_08_09_26_03/d29684dd295e.input_pipeline.pb\n",
      "Dumped tool data for tensorflow_stats.pb to logs/model2-n10-k5-exp2/train/plugins/profile/2021_11_08_09_26_03/d29684dd295e.tensorflow_stats.pb\n",
      "Dumped tool data for kernel_stats.pb to logs/model2-n10-k5-exp2/train/plugins/profile/2021_11_08_09_26_03/d29684dd295e.kernel_stats.pb\n",
      "\n"
     ]
    },
    {
     "name": "stdout",
     "output_type": "stream",
     "text": [
      "Epoch 00014: early stopping\n",
      "model2-exp2\n"
     ]
    },
    {
     "name": "stderr",
     "output_type": "stream",
     "text": [
      "2021-11-08 09:26:38.077512: I tensorflow/core/profiler/lib/profiler_session.cc:136] Profiler session initializing.\n",
      "2021-11-08 09:26:38.077570: I tensorflow/core/profiler/lib/profiler_session.cc:155] Profiler session started.\n",
      "2021-11-08 09:26:38.226771: I tensorflow/core/profiler/lib/profiler_session.cc:172] Profiler session tear down.\n",
      "2021-11-08 09:26:38.226926: I tensorflow/core/profiler/internal/gpu/cupti_tracer.cc:1487] CUPTI activity buffer flushed\n",
      "2021-11-08 09:26:40.911885: I tensorflow/core/profiler/lib/profiler_session.cc:136] Profiler session initializing.\n",
      "2021-11-08 09:26:40.911943: I tensorflow/core/profiler/lib/profiler_session.cc:155] Profiler session started.\n",
      "2021-11-08 09:26:41.246724: I tensorflow/core/profiler/lib/profiler_session.cc:71] Profiler session collecting data.\n",
      "2021-11-08 09:26:41.247307: I tensorflow/core/profiler/internal/gpu/cupti_tracer.cc:1487] CUPTI activity buffer flushed\n",
      "2021-11-08 09:26:41.380707: I tensorflow/core/profiler/internal/gpu/cupti_collector.cc:228]  GpuTracer has collected 363 callback api events and 351 activity events. \n",
      "2021-11-08 09:26:41.393039: I tensorflow/core/profiler/lib/profiler_session.cc:172] Profiler session tear down.\n",
      "2021-11-08 09:26:41.404317: I tensorflow/core/profiler/rpc/client/save_profile.cc:137] Creating directory: logs/model3-n10-k5-exp2/train/plugins/profile/2021_11_08_09_26_41\n",
      "2021-11-08 09:26:41.412244: I tensorflow/core/profiler/rpc/client/save_profile.cc:143] Dumped gzipped tool data for trace.json.gz to logs/model3-n10-k5-exp2/train/plugins/profile/2021_11_08_09_26_41/d29684dd295e.trace.json.gz\n",
      "2021-11-08 09:26:41.430759: I tensorflow/core/profiler/rpc/client/save_profile.cc:137] Creating directory: logs/model3-n10-k5-exp2/train/plugins/profile/2021_11_08_09_26_41\n",
      "2021-11-08 09:26:41.434038: I tensorflow/core/profiler/rpc/client/save_profile.cc:143] Dumped gzipped tool data for memory_profile.json.gz to logs/model3-n10-k5-exp2/train/plugins/profile/2021_11_08_09_26_41/d29684dd295e.memory_profile.json.gz\n",
      "2021-11-08 09:26:41.435006: I tensorflow/core/profiler/rpc/client/capture_profile.cc:251] Creating directory: logs/model3-n10-k5-exp2/train/plugins/profile/2021_11_08_09_26_41Dumped tool data for xplane.pb to logs/model3-n10-k5-exp2/train/plugins/profile/2021_11_08_09_26_41/d29684dd295e.xplane.pb\n",
      "Dumped tool data for overview_page.pb to logs/model3-n10-k5-exp2/train/plugins/profile/2021_11_08_09_26_41/d29684dd295e.overview_page.pb\n",
      "Dumped tool data for input_pipeline.pb to logs/model3-n10-k5-exp2/train/plugins/profile/2021_11_08_09_26_41/d29684dd295e.input_pipeline.pb\n",
      "Dumped tool data for tensorflow_stats.pb to logs/model3-n10-k5-exp2/train/plugins/profile/2021_11_08_09_26_41/d29684dd295e.tensorflow_stats.pb\n",
      "Dumped tool data for kernel_stats.pb to logs/model3-n10-k5-exp2/train/plugins/profile/2021_11_08_09_26_41/d29684dd295e.kernel_stats.pb\n",
      "\n"
     ]
    },
    {
     "name": "stdout",
     "output_type": "stream",
     "text": [
      "Epoch 00017: early stopping\n",
      "model3-exp2\n"
     ]
    },
    {
     "name": "stderr",
     "output_type": "stream",
     "text": [
      "2021-11-08 09:27:25.612498: I tensorflow/core/profiler/lib/profiler_session.cc:136] Profiler session initializing.\n",
      "2021-11-08 09:27:25.612553: I tensorflow/core/profiler/lib/profiler_session.cc:155] Profiler session started.\n",
      "2021-11-08 09:27:25.756510: I tensorflow/core/profiler/lib/profiler_session.cc:172] Profiler session tear down.\n",
      "2021-11-08 09:27:25.756645: I tensorflow/core/profiler/internal/gpu/cupti_tracer.cc:1487] CUPTI activity buffer flushed\n",
      "2021-11-08 09:27:28.420291: I tensorflow/core/profiler/lib/profiler_session.cc:136] Profiler session initializing.\n",
      "2021-11-08 09:27:28.420344: I tensorflow/core/profiler/lib/profiler_session.cc:155] Profiler session started.\n",
      "2021-11-08 09:27:28.747349: I tensorflow/core/profiler/lib/profiler_session.cc:71] Profiler session collecting data.\n",
      "2021-11-08 09:27:28.747912: I tensorflow/core/profiler/internal/gpu/cupti_tracer.cc:1487] CUPTI activity buffer flushed\n",
      "2021-11-08 09:27:28.901171: I tensorflow/core/profiler/internal/gpu/cupti_collector.cc:228]  GpuTracer has collected 363 callback api events and 351 activity events. \n",
      "2021-11-08 09:27:28.920568: I tensorflow/core/profiler/lib/profiler_session.cc:172] Profiler session tear down.\n",
      "2021-11-08 09:27:28.938738: I tensorflow/core/profiler/rpc/client/save_profile.cc:137] Creating directory: logs/model4-n10-k5-exp2/train/plugins/profile/2021_11_08_09_27_28\n",
      "2021-11-08 09:27:28.950549: I tensorflow/core/profiler/rpc/client/save_profile.cc:143] Dumped gzipped tool data for trace.json.gz to logs/model4-n10-k5-exp2/train/plugins/profile/2021_11_08_09_27_28/d29684dd295e.trace.json.gz\n",
      "2021-11-08 09:27:28.979825: I tensorflow/core/profiler/rpc/client/save_profile.cc:137] Creating directory: logs/model4-n10-k5-exp2/train/plugins/profile/2021_11_08_09_27_28\n",
      "2021-11-08 09:27:28.984584: I tensorflow/core/profiler/rpc/client/save_profile.cc:143] Dumped gzipped tool data for memory_profile.json.gz to logs/model4-n10-k5-exp2/train/plugins/profile/2021_11_08_09_27_28/d29684dd295e.memory_profile.json.gz\n",
      "2021-11-08 09:27:28.985888: I tensorflow/core/profiler/rpc/client/capture_profile.cc:251] Creating directory: logs/model4-n10-k5-exp2/train/plugins/profile/2021_11_08_09_27_28Dumped tool data for xplane.pb to logs/model4-n10-k5-exp2/train/plugins/profile/2021_11_08_09_27_28/d29684dd295e.xplane.pb\n",
      "Dumped tool data for overview_page.pb to logs/model4-n10-k5-exp2/train/plugins/profile/2021_11_08_09_27_28/d29684dd295e.overview_page.pb\n",
      "Dumped tool data for input_pipeline.pb to logs/model4-n10-k5-exp2/train/plugins/profile/2021_11_08_09_27_28/d29684dd295e.input_pipeline.pb\n",
      "Dumped tool data for tensorflow_stats.pb to logs/model4-n10-k5-exp2/train/plugins/profile/2021_11_08_09_27_28/d29684dd295e.tensorflow_stats.pb\n",
      "Dumped tool data for kernel_stats.pb to logs/model4-n10-k5-exp2/train/plugins/profile/2021_11_08_09_27_28/d29684dd295e.kernel_stats.pb\n",
      "\n"
     ]
    },
    {
     "name": "stdout",
     "output_type": "stream",
     "text": [
      "Epoch 00015: early stopping\n",
      "model4-exp2\n"
     ]
    },
    {
     "name": "stderr",
     "output_type": "stream",
     "text": [
      "2021-11-08 09:28:07.031122: I tensorflow/core/profiler/lib/profiler_session.cc:136] Profiler session initializing.\n",
      "2021-11-08 09:28:07.031178: I tensorflow/core/profiler/lib/profiler_session.cc:155] Profiler session started.\n",
      "2021-11-08 09:28:07.182881: I tensorflow/core/profiler/lib/profiler_session.cc:172] Profiler session tear down.\n",
      "2021-11-08 09:28:07.183029: I tensorflow/core/profiler/internal/gpu/cupti_tracer.cc:1487] CUPTI activity buffer flushed\n",
      "2021-11-08 09:28:10.161981: I tensorflow/core/profiler/lib/profiler_session.cc:136] Profiler session initializing.\n",
      "2021-11-08 09:28:10.162049: I tensorflow/core/profiler/lib/profiler_session.cc:155] Profiler session started.\n",
      "2021-11-08 09:28:10.535618: I tensorflow/core/profiler/lib/profiler_session.cc:71] Profiler session collecting data.\n",
      "2021-11-08 09:28:10.536186: I tensorflow/core/profiler/internal/gpu/cupti_tracer.cc:1487] CUPTI activity buffer flushed\n",
      "2021-11-08 09:28:10.668219: I tensorflow/core/profiler/internal/gpu/cupti_collector.cc:228]  GpuTracer has collected 363 callback api events and 351 activity events. \n",
      "2021-11-08 09:28:10.680487: I tensorflow/core/profiler/lib/profiler_session.cc:172] Profiler session tear down.\n",
      "2021-11-08 09:28:10.691631: I tensorflow/core/profiler/rpc/client/save_profile.cc:137] Creating directory: logs/model5-n10-k5-exp2/train/plugins/profile/2021_11_08_09_28_10\n",
      "2021-11-08 09:28:10.699368: I tensorflow/core/profiler/rpc/client/save_profile.cc:143] Dumped gzipped tool data for trace.json.gz to logs/model5-n10-k5-exp2/train/plugins/profile/2021_11_08_09_28_10/d29684dd295e.trace.json.gz\n",
      "2021-11-08 09:28:10.717138: I tensorflow/core/profiler/rpc/client/save_profile.cc:137] Creating directory: logs/model5-n10-k5-exp2/train/plugins/profile/2021_11_08_09_28_10\n",
      "2021-11-08 09:28:10.720535: I tensorflow/core/profiler/rpc/client/save_profile.cc:143] Dumped gzipped tool data for memory_profile.json.gz to logs/model5-n10-k5-exp2/train/plugins/profile/2021_11_08_09_28_10/d29684dd295e.memory_profile.json.gz\n",
      "2021-11-08 09:28:10.721482: I tensorflow/core/profiler/rpc/client/capture_profile.cc:251] Creating directory: logs/model5-n10-k5-exp2/train/plugins/profile/2021_11_08_09_28_10Dumped tool data for xplane.pb to logs/model5-n10-k5-exp2/train/plugins/profile/2021_11_08_09_28_10/d29684dd295e.xplane.pb\n",
      "Dumped tool data for overview_page.pb to logs/model5-n10-k5-exp2/train/plugins/profile/2021_11_08_09_28_10/d29684dd295e.overview_page.pb\n",
      "Dumped tool data for input_pipeline.pb to logs/model5-n10-k5-exp2/train/plugins/profile/2021_11_08_09_28_10/d29684dd295e.input_pipeline.pb\n",
      "Dumped tool data for tensorflow_stats.pb to logs/model5-n10-k5-exp2/train/plugins/profile/2021_11_08_09_28_10/d29684dd295e.tensorflow_stats.pb\n",
      "Dumped tool data for kernel_stats.pb to logs/model5-n10-k5-exp2/train/plugins/profile/2021_11_08_09_28_10/d29684dd295e.kernel_stats.pb\n",
      "\n"
     ]
    },
    {
     "name": "stdout",
     "output_type": "stream",
     "text": [
      "Epoch 00025: early stopping\n",
      "model5-exp2\n"
     ]
    },
    {
     "name": "stderr",
     "output_type": "stream",
     "text": [
      "2021-11-08 09:29:06.450529: I tensorflow/core/profiler/lib/profiler_session.cc:136] Profiler session initializing.\n",
      "2021-11-08 09:29:06.450582: I tensorflow/core/profiler/lib/profiler_session.cc:155] Profiler session started.\n",
      "2021-11-08 09:29:06.594931: I tensorflow/core/profiler/lib/profiler_session.cc:172] Profiler session tear down.\n",
      "2021-11-08 09:29:06.595072: I tensorflow/core/profiler/internal/gpu/cupti_tracer.cc:1487] CUPTI activity buffer flushed\n",
      "2021-11-08 09:29:09.573623: I tensorflow/core/profiler/lib/profiler_session.cc:136] Profiler session initializing.\n",
      "2021-11-08 09:29:09.573678: I tensorflow/core/profiler/lib/profiler_session.cc:155] Profiler session started.\n",
      "2021-11-08 09:29:09.907710: I tensorflow/core/profiler/lib/profiler_session.cc:71] Profiler session collecting data.\n",
      "2021-11-08 09:29:09.908376: I tensorflow/core/profiler/internal/gpu/cupti_tracer.cc:1487] CUPTI activity buffer flushed\n",
      "2021-11-08 09:29:10.041320: I tensorflow/core/profiler/internal/gpu/cupti_collector.cc:228]  GpuTracer has collected 367 callback api events and 355 activity events. \n",
      "2021-11-08 09:29:10.054505: I tensorflow/core/profiler/lib/profiler_session.cc:172] Profiler session tear down.\n",
      "2021-11-08 09:29:10.066130: I tensorflow/core/profiler/rpc/client/save_profile.cc:137] Creating directory: logs/model6-n10-k5-exp2/train/plugins/profile/2021_11_08_09_29_10\n",
      "2021-11-08 09:29:10.074002: I tensorflow/core/profiler/rpc/client/save_profile.cc:143] Dumped gzipped tool data for trace.json.gz to logs/model6-n10-k5-exp2/train/plugins/profile/2021_11_08_09_29_10/d29684dd295e.trace.json.gz\n",
      "2021-11-08 09:29:10.092442: I tensorflow/core/profiler/rpc/client/save_profile.cc:137] Creating directory: logs/model6-n10-k5-exp2/train/plugins/profile/2021_11_08_09_29_10\n",
      "2021-11-08 09:29:10.096195: I tensorflow/core/profiler/rpc/client/save_profile.cc:143] Dumped gzipped tool data for memory_profile.json.gz to logs/model6-n10-k5-exp2/train/plugins/profile/2021_11_08_09_29_10/d29684dd295e.memory_profile.json.gz\n",
      "2021-11-08 09:29:10.097162: I tensorflow/core/profiler/rpc/client/capture_profile.cc:251] Creating directory: logs/model6-n10-k5-exp2/train/plugins/profile/2021_11_08_09_29_10Dumped tool data for xplane.pb to logs/model6-n10-k5-exp2/train/plugins/profile/2021_11_08_09_29_10/d29684dd295e.xplane.pb\n",
      "Dumped tool data for overview_page.pb to logs/model6-n10-k5-exp2/train/plugins/profile/2021_11_08_09_29_10/d29684dd295e.overview_page.pb\n",
      "Dumped tool data for input_pipeline.pb to logs/model6-n10-k5-exp2/train/plugins/profile/2021_11_08_09_29_10/d29684dd295e.input_pipeline.pb\n",
      "Dumped tool data for tensorflow_stats.pb to logs/model6-n10-k5-exp2/train/plugins/profile/2021_11_08_09_29_10/d29684dd295e.tensorflow_stats.pb\n",
      "Dumped tool data for kernel_stats.pb to logs/model6-n10-k5-exp2/train/plugins/profile/2021_11_08_09_29_10/d29684dd295e.kernel_stats.pb\n",
      "\n"
     ]
    },
    {
     "name": "stdout",
     "output_type": "stream",
     "text": [
      "Epoch 00016: early stopping\n",
      "model6-exp2\n"
     ]
    },
    {
     "name": "stderr",
     "output_type": "stream",
     "text": [
      "2021-11-08 09:29:46.722345: I tensorflow/core/profiler/lib/profiler_session.cc:136] Profiler session initializing.\n",
      "2021-11-08 09:29:46.722410: I tensorflow/core/profiler/lib/profiler_session.cc:155] Profiler session started.\n",
      "2021-11-08 09:29:46.917934: I tensorflow/core/profiler/lib/profiler_session.cc:172] Profiler session tear down.\n",
      "2021-11-08 09:29:46.918073: I tensorflow/core/profiler/internal/gpu/cupti_tracer.cc:1487] CUPTI activity buffer flushed\n",
      "2021-11-08 09:29:50.045073: I tensorflow/core/profiler/lib/profiler_session.cc:136] Profiler session initializing.\n",
      "2021-11-08 09:29:50.045132: I tensorflow/core/profiler/lib/profiler_session.cc:155] Profiler session started.\n",
      "2021-11-08 09:29:50.381221: I tensorflow/core/profiler/lib/profiler_session.cc:71] Profiler session collecting data.\n",
      "2021-11-08 09:29:50.381891: I tensorflow/core/profiler/internal/gpu/cupti_tracer.cc:1487] CUPTI activity buffer flushed\n",
      "2021-11-08 09:29:50.521286: I tensorflow/core/profiler/internal/gpu/cupti_collector.cc:228]  GpuTracer has collected 367 callback api events and 355 activity events. \n",
      "2021-11-08 09:29:50.535674: I tensorflow/core/profiler/lib/profiler_session.cc:172] Profiler session tear down.\n",
      "2021-11-08 09:29:50.549111: I tensorflow/core/profiler/rpc/client/save_profile.cc:137] Creating directory: logs/model7-n10-k5-exp2/train/plugins/profile/2021_11_08_09_29_50\n",
      "2021-11-08 09:29:50.557015: I tensorflow/core/profiler/rpc/client/save_profile.cc:143] Dumped gzipped tool data for trace.json.gz to logs/model7-n10-k5-exp2/train/plugins/profile/2021_11_08_09_29_50/d29684dd295e.trace.json.gz\n",
      "2021-11-08 09:29:50.579929: I tensorflow/core/profiler/rpc/client/save_profile.cc:137] Creating directory: logs/model7-n10-k5-exp2/train/plugins/profile/2021_11_08_09_29_50\n",
      "2021-11-08 09:29:50.584316: I tensorflow/core/profiler/rpc/client/save_profile.cc:143] Dumped gzipped tool data for memory_profile.json.gz to logs/model7-n10-k5-exp2/train/plugins/profile/2021_11_08_09_29_50/d29684dd295e.memory_profile.json.gz\n",
      "2021-11-08 09:29:50.585651: I tensorflow/core/profiler/rpc/client/capture_profile.cc:251] Creating directory: logs/model7-n10-k5-exp2/train/plugins/profile/2021_11_08_09_29_50Dumped tool data for xplane.pb to logs/model7-n10-k5-exp2/train/plugins/profile/2021_11_08_09_29_50/d29684dd295e.xplane.pb\n",
      "Dumped tool data for overview_page.pb to logs/model7-n10-k5-exp2/train/plugins/profile/2021_11_08_09_29_50/d29684dd295e.overview_page.pb\n",
      "Dumped tool data for input_pipeline.pb to logs/model7-n10-k5-exp2/train/plugins/profile/2021_11_08_09_29_50/d29684dd295e.input_pipeline.pb\n",
      "Dumped tool data for tensorflow_stats.pb to logs/model7-n10-k5-exp2/train/plugins/profile/2021_11_08_09_29_50/d29684dd295e.tensorflow_stats.pb\n",
      "Dumped tool data for kernel_stats.pb to logs/model7-n10-k5-exp2/train/plugins/profile/2021_11_08_09_29_50/d29684dd295e.kernel_stats.pb\n",
      "\n"
     ]
    },
    {
     "name": "stdout",
     "output_type": "stream",
     "text": [
      "Epoch 00016: early stopping\n",
      "model7-exp2\n",
      "random 3\n"
     ]
    },
    {
     "name": "stderr",
     "output_type": "stream",
     "text": [
      "2021-11-08 09:30:29.080762: I tensorflow/core/profiler/lib/profiler_session.cc:136] Profiler session initializing.\n",
      "2021-11-08 09:30:29.080825: I tensorflow/core/profiler/lib/profiler_session.cc:155] Profiler session started.\n",
      "2021-11-08 09:30:29.225744: I tensorflow/core/profiler/lib/profiler_session.cc:172] Profiler session tear down.\n",
      "2021-11-08 09:30:29.225916: I tensorflow/core/profiler/internal/gpu/cupti_tracer.cc:1487] CUPTI activity buffer flushed\n",
      "2021-11-08 09:30:31.562490: I tensorflow/core/profiler/lib/profiler_session.cc:136] Profiler session initializing.\n",
      "2021-11-08 09:30:31.562542: I tensorflow/core/profiler/lib/profiler_session.cc:155] Profiler session started.\n",
      "2021-11-08 09:30:31.871935: I tensorflow/core/profiler/lib/profiler_session.cc:71] Profiler session collecting data.\n",
      "2021-11-08 09:30:31.872485: I tensorflow/core/profiler/internal/gpu/cupti_tracer.cc:1487] CUPTI activity buffer flushed\n",
      "2021-11-08 09:30:32.003479: I tensorflow/core/profiler/internal/gpu/cupti_collector.cc:228]  GpuTracer has collected 308 callback api events and 296 activity events. \n",
      "2021-11-08 09:30:32.013595: I tensorflow/core/profiler/lib/profiler_session.cc:172] Profiler session tear down.\n",
      "2021-11-08 09:30:32.022359: I tensorflow/core/profiler/rpc/client/save_profile.cc:137] Creating directory: logs/model1-n10-k5-exp3/train/plugins/profile/2021_11_08_09_30_32\n",
      "2021-11-08 09:30:32.028734: I tensorflow/core/profiler/rpc/client/save_profile.cc:143] Dumped gzipped tool data for trace.json.gz to logs/model1-n10-k5-exp3/train/plugins/profile/2021_11_08_09_30_32/d29684dd295e.trace.json.gz\n",
      "2021-11-08 09:30:32.042929: I tensorflow/core/profiler/rpc/client/save_profile.cc:137] Creating directory: logs/model1-n10-k5-exp3/train/plugins/profile/2021_11_08_09_30_32\n",
      "2021-11-08 09:30:32.045757: I tensorflow/core/profiler/rpc/client/save_profile.cc:143] Dumped gzipped tool data for memory_profile.json.gz to logs/model1-n10-k5-exp3/train/plugins/profile/2021_11_08_09_30_32/d29684dd295e.memory_profile.json.gz\n",
      "2021-11-08 09:30:32.046526: I tensorflow/core/profiler/rpc/client/capture_profile.cc:251] Creating directory: logs/model1-n10-k5-exp3/train/plugins/profile/2021_11_08_09_30_32Dumped tool data for xplane.pb to logs/model1-n10-k5-exp3/train/plugins/profile/2021_11_08_09_30_32/d29684dd295e.xplane.pb\n",
      "Dumped tool data for overview_page.pb to logs/model1-n10-k5-exp3/train/plugins/profile/2021_11_08_09_30_32/d29684dd295e.overview_page.pb\n",
      "Dumped tool data for input_pipeline.pb to logs/model1-n10-k5-exp3/train/plugins/profile/2021_11_08_09_30_32/d29684dd295e.input_pipeline.pb\n",
      "Dumped tool data for tensorflow_stats.pb to logs/model1-n10-k5-exp3/train/plugins/profile/2021_11_08_09_30_32/d29684dd295e.tensorflow_stats.pb\n",
      "Dumped tool data for kernel_stats.pb to logs/model1-n10-k5-exp3/train/plugins/profile/2021_11_08_09_30_32/d29684dd295e.kernel_stats.pb\n",
      "\n"
     ]
    },
    {
     "name": "stdout",
     "output_type": "stream",
     "text": [
      "Epoch 00021: early stopping\n",
      "model1-exp3\n"
     ]
    },
    {
     "name": "stderr",
     "output_type": "stream",
     "text": [
      "2021-11-08 09:31:16.604311: I tensorflow/core/profiler/lib/profiler_session.cc:136] Profiler session initializing.\n",
      "2021-11-08 09:31:16.604367: I tensorflow/core/profiler/lib/profiler_session.cc:155] Profiler session started.\n",
      "2021-11-08 09:31:16.748524: I tensorflow/core/profiler/lib/profiler_session.cc:172] Profiler session tear down.\n",
      "2021-11-08 09:31:16.748673: I tensorflow/core/profiler/internal/gpu/cupti_tracer.cc:1487] CUPTI activity buffer flushed\n",
      "2021-11-08 09:31:19.325721: I tensorflow/core/profiler/lib/profiler_session.cc:136] Profiler session initializing.\n",
      "2021-11-08 09:31:19.325775: I tensorflow/core/profiler/lib/profiler_session.cc:155] Profiler session started.\n",
      "2021-11-08 09:31:19.672139: I tensorflow/core/profiler/lib/profiler_session.cc:71] Profiler session collecting data.\n",
      "2021-11-08 09:31:19.672655: I tensorflow/core/profiler/internal/gpu/cupti_tracer.cc:1487] CUPTI activity buffer flushed\n",
      "2021-11-08 09:31:19.823620: I tensorflow/core/profiler/internal/gpu/cupti_collector.cc:228]  GpuTracer has collected 359 callback api events and 347 activity events. \n",
      "2021-11-08 09:31:19.845490: I tensorflow/core/profiler/lib/profiler_session.cc:172] Profiler session tear down.\n",
      "2021-11-08 09:31:19.864855: I tensorflow/core/profiler/rpc/client/save_profile.cc:137] Creating directory: logs/model2-n10-k5-exp3/train/plugins/profile/2021_11_08_09_31_19\n",
      "2021-11-08 09:31:19.877458: I tensorflow/core/profiler/rpc/client/save_profile.cc:143] Dumped gzipped tool data for trace.json.gz to logs/model2-n10-k5-exp3/train/plugins/profile/2021_11_08_09_31_19/d29684dd295e.trace.json.gz\n",
      "2021-11-08 09:31:19.912171: I tensorflow/core/profiler/rpc/client/save_profile.cc:137] Creating directory: logs/model2-n10-k5-exp3/train/plugins/profile/2021_11_08_09_31_19\n",
      "2021-11-08 09:31:19.916828: I tensorflow/core/profiler/rpc/client/save_profile.cc:143] Dumped gzipped tool data for memory_profile.json.gz to logs/model2-n10-k5-exp3/train/plugins/profile/2021_11_08_09_31_19/d29684dd295e.memory_profile.json.gz\n",
      "2021-11-08 09:31:19.918274: I tensorflow/core/profiler/rpc/client/capture_profile.cc:251] Creating directory: logs/model2-n10-k5-exp3/train/plugins/profile/2021_11_08_09_31_19Dumped tool data for xplane.pb to logs/model2-n10-k5-exp3/train/plugins/profile/2021_11_08_09_31_19/d29684dd295e.xplane.pb\n",
      "Dumped tool data for overview_page.pb to logs/model2-n10-k5-exp3/train/plugins/profile/2021_11_08_09_31_19/d29684dd295e.overview_page.pb\n",
      "Dumped tool data for input_pipeline.pb to logs/model2-n10-k5-exp3/train/plugins/profile/2021_11_08_09_31_19/d29684dd295e.input_pipeline.pb\n",
      "Dumped tool data for tensorflow_stats.pb to logs/model2-n10-k5-exp3/train/plugins/profile/2021_11_08_09_31_19/d29684dd295e.tensorflow_stats.pb\n",
      "Dumped tool data for kernel_stats.pb to logs/model2-n10-k5-exp3/train/plugins/profile/2021_11_08_09_31_19/d29684dd295e.kernel_stats.pb\n",
      "\n"
     ]
    },
    {
     "name": "stdout",
     "output_type": "stream",
     "text": [
      "Epoch 00016: early stopping\n",
      "model2-exp3\n"
     ]
    },
    {
     "name": "stderr",
     "output_type": "stream",
     "text": [
      "2021-11-08 09:31:59.136549: I tensorflow/core/profiler/lib/profiler_session.cc:136] Profiler session initializing.\n",
      "2021-11-08 09:31:59.136605: I tensorflow/core/profiler/lib/profiler_session.cc:155] Profiler session started.\n",
      "2021-11-08 09:31:59.281911: I tensorflow/core/profiler/lib/profiler_session.cc:172] Profiler session tear down.\n",
      "2021-11-08 09:31:59.282048: I tensorflow/core/profiler/internal/gpu/cupti_tracer.cc:1487] CUPTI activity buffer flushed\n",
      "2021-11-08 09:32:01.947266: I tensorflow/core/profiler/lib/profiler_session.cc:136] Profiler session initializing.\n",
      "2021-11-08 09:32:01.947323: I tensorflow/core/profiler/lib/profiler_session.cc:155] Profiler session started.\n",
      "2021-11-08 09:32:02.302676: I tensorflow/core/profiler/lib/profiler_session.cc:71] Profiler session collecting data.\n",
      "2021-11-08 09:32:02.303239: I tensorflow/core/profiler/internal/gpu/cupti_tracer.cc:1487] CUPTI activity buffer flushed\n",
      "2021-11-08 09:32:02.434788: I tensorflow/core/profiler/internal/gpu/cupti_collector.cc:228]  GpuTracer has collected 363 callback api events and 351 activity events. \n",
      "2021-11-08 09:32:02.446921: I tensorflow/core/profiler/lib/profiler_session.cc:172] Profiler session tear down.\n",
      "2021-11-08 09:32:02.457655: I tensorflow/core/profiler/rpc/client/save_profile.cc:137] Creating directory: logs/model3-n10-k5-exp3/train/plugins/profile/2021_11_08_09_32_02\n",
      "2021-11-08 09:32:02.465177: I tensorflow/core/profiler/rpc/client/save_profile.cc:143] Dumped gzipped tool data for trace.json.gz to logs/model3-n10-k5-exp3/train/plugins/profile/2021_11_08_09_32_02/d29684dd295e.trace.json.gz\n",
      "2021-11-08 09:32:02.482213: I tensorflow/core/profiler/rpc/client/save_profile.cc:137] Creating directory: logs/model3-n10-k5-exp3/train/plugins/profile/2021_11_08_09_32_02\n",
      "2021-11-08 09:32:02.485469: I tensorflow/core/profiler/rpc/client/save_profile.cc:143] Dumped gzipped tool data for memory_profile.json.gz to logs/model3-n10-k5-exp3/train/plugins/profile/2021_11_08_09_32_02/d29684dd295e.memory_profile.json.gz\n",
      "2021-11-08 09:32:02.486354: I tensorflow/core/profiler/rpc/client/capture_profile.cc:251] Creating directory: logs/model3-n10-k5-exp3/train/plugins/profile/2021_11_08_09_32_02Dumped tool data for xplane.pb to logs/model3-n10-k5-exp3/train/plugins/profile/2021_11_08_09_32_02/d29684dd295e.xplane.pb\n",
      "Dumped tool data for overview_page.pb to logs/model3-n10-k5-exp3/train/plugins/profile/2021_11_08_09_32_02/d29684dd295e.overview_page.pb\n",
      "Dumped tool data for input_pipeline.pb to logs/model3-n10-k5-exp3/train/plugins/profile/2021_11_08_09_32_02/d29684dd295e.input_pipeline.pb\n",
      "Dumped tool data for tensorflow_stats.pb to logs/model3-n10-k5-exp3/train/plugins/profile/2021_11_08_09_32_02/d29684dd295e.tensorflow_stats.pb\n",
      "Dumped tool data for kernel_stats.pb to logs/model3-n10-k5-exp3/train/plugins/profile/2021_11_08_09_32_02/d29684dd295e.kernel_stats.pb\n",
      "\n"
     ]
    },
    {
     "name": "stdout",
     "output_type": "stream",
     "text": [
      "Epoch 00013: early stopping\n",
      "model3-exp3\n"
     ]
    },
    {
     "name": "stderr",
     "output_type": "stream",
     "text": [
      "2021-11-08 09:32:36.101045: I tensorflow/core/profiler/lib/profiler_session.cc:136] Profiler session initializing.\n",
      "2021-11-08 09:32:36.101102: I tensorflow/core/profiler/lib/profiler_session.cc:155] Profiler session started.\n",
      "2021-11-08 09:32:36.247322: I tensorflow/core/profiler/lib/profiler_session.cc:172] Profiler session tear down.\n",
      "2021-11-08 09:32:36.247510: I tensorflow/core/profiler/internal/gpu/cupti_tracer.cc:1487] CUPTI activity buffer flushed\n",
      "2021-11-08 09:32:40.319783: I tensorflow/core/profiler/lib/profiler_session.cc:136] Profiler session initializing.\n",
      "2021-11-08 09:32:40.319844: I tensorflow/core/profiler/lib/profiler_session.cc:155] Profiler session started.\n",
      "2021-11-08 09:32:40.687294: I tensorflow/core/profiler/lib/profiler_session.cc:71] Profiler session collecting data.\n",
      "2021-11-08 09:32:40.688322: I tensorflow/core/profiler/internal/gpu/cupti_tracer.cc:1487] CUPTI activity buffer flushed\n",
      "2021-11-08 09:32:40.826254: I tensorflow/core/profiler/internal/gpu/cupti_collector.cc:228]  GpuTracer has collected 363 callback api events and 351 activity events. \n",
      "2021-11-08 09:32:40.839238: I tensorflow/core/profiler/lib/profiler_session.cc:172] Profiler session tear down.\n",
      "2021-11-08 09:32:40.851067: I tensorflow/core/profiler/rpc/client/save_profile.cc:137] Creating directory: logs/model4-n10-k5-exp3/train/plugins/profile/2021_11_08_09_32_40\n",
      "2021-11-08 09:32:40.859140: I tensorflow/core/profiler/rpc/client/save_profile.cc:143] Dumped gzipped tool data for trace.json.gz to logs/model4-n10-k5-exp3/train/plugins/profile/2021_11_08_09_32_40/d29684dd295e.trace.json.gz\n",
      "2021-11-08 09:32:40.878150: I tensorflow/core/profiler/rpc/client/save_profile.cc:137] Creating directory: logs/model4-n10-k5-exp3/train/plugins/profile/2021_11_08_09_32_40\n",
      "2021-11-08 09:32:40.881584: I tensorflow/core/profiler/rpc/client/save_profile.cc:143] Dumped gzipped tool data for memory_profile.json.gz to logs/model4-n10-k5-exp3/train/plugins/profile/2021_11_08_09_32_40/d29684dd295e.memory_profile.json.gz\n",
      "2021-11-08 09:32:40.882654: I tensorflow/core/profiler/rpc/client/capture_profile.cc:251] Creating directory: logs/model4-n10-k5-exp3/train/plugins/profile/2021_11_08_09_32_40Dumped tool data for xplane.pb to logs/model4-n10-k5-exp3/train/plugins/profile/2021_11_08_09_32_40/d29684dd295e.xplane.pb\n",
      "Dumped tool data for overview_page.pb to logs/model4-n10-k5-exp3/train/plugins/profile/2021_11_08_09_32_40/d29684dd295e.overview_page.pb\n",
      "Dumped tool data for input_pipeline.pb to logs/model4-n10-k5-exp3/train/plugins/profile/2021_11_08_09_32_40/d29684dd295e.input_pipeline.pb\n",
      "Dumped tool data for tensorflow_stats.pb to logs/model4-n10-k5-exp3/train/plugins/profile/2021_11_08_09_32_40/d29684dd295e.tensorflow_stats.pb\n",
      "Dumped tool data for kernel_stats.pb to logs/model4-n10-k5-exp3/train/plugins/profile/2021_11_08_09_32_40/d29684dd295e.kernel_stats.pb\n",
      "\n"
     ]
    },
    {
     "name": "stdout",
     "output_type": "stream",
     "text": [
      "Epoch 00015: early stopping\n",
      "model4-exp3\n"
     ]
    },
    {
     "name": "stderr",
     "output_type": "stream",
     "text": [
      "2021-11-08 09:33:18.232693: I tensorflow/core/profiler/lib/profiler_session.cc:136] Profiler session initializing.\n",
      "2021-11-08 09:33:18.232751: I tensorflow/core/profiler/lib/profiler_session.cc:155] Profiler session started.\n",
      "2021-11-08 09:33:18.391025: I tensorflow/core/profiler/lib/profiler_session.cc:172] Profiler session tear down.\n",
      "2021-11-08 09:33:18.391181: I tensorflow/core/profiler/internal/gpu/cupti_tracer.cc:1487] CUPTI activity buffer flushed\n",
      "2021-11-08 09:33:21.469199: I tensorflow/core/profiler/lib/profiler_session.cc:136] Profiler session initializing.\n",
      "2021-11-08 09:33:21.469256: I tensorflow/core/profiler/lib/profiler_session.cc:155] Profiler session started.\n",
      "2021-11-08 09:33:21.800679: I tensorflow/core/profiler/lib/profiler_session.cc:71] Profiler session collecting data.\n",
      "2021-11-08 09:33:21.801302: I tensorflow/core/profiler/internal/gpu/cupti_tracer.cc:1487] CUPTI activity buffer flushed\n",
      "2021-11-08 09:33:21.935087: I tensorflow/core/profiler/internal/gpu/cupti_collector.cc:228]  GpuTracer has collected 363 callback api events and 351 activity events. \n",
      "2021-11-08 09:33:21.947593: I tensorflow/core/profiler/lib/profiler_session.cc:172] Profiler session tear down.\n",
      "2021-11-08 09:33:21.958639: I tensorflow/core/profiler/rpc/client/save_profile.cc:137] Creating directory: logs/model5-n10-k5-exp3/train/plugins/profile/2021_11_08_09_33_21\n",
      "2021-11-08 09:33:21.966286: I tensorflow/core/profiler/rpc/client/save_profile.cc:143] Dumped gzipped tool data for trace.json.gz to logs/model5-n10-k5-exp3/train/plugins/profile/2021_11_08_09_33_21/d29684dd295e.trace.json.gz\n",
      "2021-11-08 09:33:21.984238: I tensorflow/core/profiler/rpc/client/save_profile.cc:137] Creating directory: logs/model5-n10-k5-exp3/train/plugins/profile/2021_11_08_09_33_21\n",
      "2021-11-08 09:33:21.987621: I tensorflow/core/profiler/rpc/client/save_profile.cc:143] Dumped gzipped tool data for memory_profile.json.gz to logs/model5-n10-k5-exp3/train/plugins/profile/2021_11_08_09_33_21/d29684dd295e.memory_profile.json.gz\n",
      "2021-11-08 09:33:21.988688: I tensorflow/core/profiler/rpc/client/capture_profile.cc:251] Creating directory: logs/model5-n10-k5-exp3/train/plugins/profile/2021_11_08_09_33_21Dumped tool data for xplane.pb to logs/model5-n10-k5-exp3/train/plugins/profile/2021_11_08_09_33_21/d29684dd295e.xplane.pb\n",
      "Dumped tool data for overview_page.pb to logs/model5-n10-k5-exp3/train/plugins/profile/2021_11_08_09_33_21/d29684dd295e.overview_page.pb\n",
      "Dumped tool data for input_pipeline.pb to logs/model5-n10-k5-exp3/train/plugins/profile/2021_11_08_09_33_21/d29684dd295e.input_pipeline.pb\n",
      "Dumped tool data for tensorflow_stats.pb to logs/model5-n10-k5-exp3/train/plugins/profile/2021_11_08_09_33_21/d29684dd295e.tensorflow_stats.pb\n",
      "Dumped tool data for kernel_stats.pb to logs/model5-n10-k5-exp3/train/plugins/profile/2021_11_08_09_33_21/d29684dd295e.kernel_stats.pb\n",
      "\n"
     ]
    },
    {
     "name": "stdout",
     "output_type": "stream",
     "text": [
      "Epoch 00025: early stopping\n",
      "model5-exp3\n"
     ]
    },
    {
     "name": "stderr",
     "output_type": "stream",
     "text": [
      "2021-11-08 09:34:17.837877: I tensorflow/core/profiler/lib/profiler_session.cc:136] Profiler session initializing.\n",
      "2021-11-08 09:34:17.837933: I tensorflow/core/profiler/lib/profiler_session.cc:155] Profiler session started.\n",
      "2021-11-08 09:34:17.986950: I tensorflow/core/profiler/lib/profiler_session.cc:172] Profiler session tear down.\n",
      "2021-11-08 09:34:17.987109: I tensorflow/core/profiler/internal/gpu/cupti_tracer.cc:1487] CUPTI activity buffer flushed\n",
      "2021-11-08 09:34:20.824762: I tensorflow/core/profiler/lib/profiler_session.cc:136] Profiler session initializing.\n",
      "2021-11-08 09:34:20.824819: I tensorflow/core/profiler/lib/profiler_session.cc:155] Profiler session started.\n",
      "2021-11-08 09:34:21.166018: I tensorflow/core/profiler/lib/profiler_session.cc:71] Profiler session collecting data.\n",
      "2021-11-08 09:34:21.166639: I tensorflow/core/profiler/internal/gpu/cupti_tracer.cc:1487] CUPTI activity buffer flushed\n",
      "2021-11-08 09:34:21.300884: I tensorflow/core/profiler/internal/gpu/cupti_collector.cc:228]  GpuTracer has collected 367 callback api events and 355 activity events. \n",
      "2021-11-08 09:34:21.313796: I tensorflow/core/profiler/lib/profiler_session.cc:172] Profiler session tear down.\n",
      "2021-11-08 09:34:21.325521: I tensorflow/core/profiler/rpc/client/save_profile.cc:137] Creating directory: logs/model6-n10-k5-exp3/train/plugins/profile/2021_11_08_09_34_21\n",
      "2021-11-08 09:34:21.333349: I tensorflow/core/profiler/rpc/client/save_profile.cc:143] Dumped gzipped tool data for trace.json.gz to logs/model6-n10-k5-exp3/train/plugins/profile/2021_11_08_09_34_21/d29684dd295e.trace.json.gz\n",
      "2021-11-08 09:34:21.351624: I tensorflow/core/profiler/rpc/client/save_profile.cc:137] Creating directory: logs/model6-n10-k5-exp3/train/plugins/profile/2021_11_08_09_34_21\n",
      "2021-11-08 09:34:21.355038: I tensorflow/core/profiler/rpc/client/save_profile.cc:143] Dumped gzipped tool data for memory_profile.json.gz to logs/model6-n10-k5-exp3/train/plugins/profile/2021_11_08_09_34_21/d29684dd295e.memory_profile.json.gz\n",
      "2021-11-08 09:34:21.356027: I tensorflow/core/profiler/rpc/client/capture_profile.cc:251] Creating directory: logs/model6-n10-k5-exp3/train/plugins/profile/2021_11_08_09_34_21Dumped tool data for xplane.pb to logs/model6-n10-k5-exp3/train/plugins/profile/2021_11_08_09_34_21/d29684dd295e.xplane.pb\n",
      "Dumped tool data for overview_page.pb to logs/model6-n10-k5-exp3/train/plugins/profile/2021_11_08_09_34_21/d29684dd295e.overview_page.pb\n",
      "Dumped tool data for input_pipeline.pb to logs/model6-n10-k5-exp3/train/plugins/profile/2021_11_08_09_34_21/d29684dd295e.input_pipeline.pb\n",
      "Dumped tool data for tensorflow_stats.pb to logs/model6-n10-k5-exp3/train/plugins/profile/2021_11_08_09_34_21/d29684dd295e.tensorflow_stats.pb\n",
      "Dumped tool data for kernel_stats.pb to logs/model6-n10-k5-exp3/train/plugins/profile/2021_11_08_09_34_21/d29684dd295e.kernel_stats.pb\n",
      "\n"
     ]
    },
    {
     "name": "stdout",
     "output_type": "stream",
     "text": [
      "Epoch 00014: early stopping\n",
      "model6-exp3\n"
     ]
    },
    {
     "name": "stderr",
     "output_type": "stream",
     "text": [
      "2021-11-08 09:34:53.542006: I tensorflow/core/profiler/lib/profiler_session.cc:136] Profiler session initializing.\n",
      "2021-11-08 09:34:53.542067: I tensorflow/core/profiler/lib/profiler_session.cc:155] Profiler session started.\n",
      "2021-11-08 09:34:53.696933: I tensorflow/core/profiler/lib/profiler_session.cc:172] Profiler session tear down.\n",
      "2021-11-08 09:34:53.697099: I tensorflow/core/profiler/internal/gpu/cupti_tracer.cc:1487] CUPTI activity buffer flushed\n",
      "2021-11-08 09:34:56.839287: I tensorflow/core/profiler/lib/profiler_session.cc:136] Profiler session initializing.\n",
      "2021-11-08 09:34:56.839342: I tensorflow/core/profiler/lib/profiler_session.cc:155] Profiler session started.\n",
      "2021-11-08 09:34:57.177770: I tensorflow/core/profiler/lib/profiler_session.cc:71] Profiler session collecting data.\n",
      "2021-11-08 09:34:57.178331: I tensorflow/core/profiler/internal/gpu/cupti_tracer.cc:1487] CUPTI activity buffer flushed\n",
      "2021-11-08 09:34:57.311495: I tensorflow/core/profiler/internal/gpu/cupti_collector.cc:228]  GpuTracer has collected 367 callback api events and 355 activity events. \n",
      "2021-11-08 09:34:57.324339: I tensorflow/core/profiler/lib/profiler_session.cc:172] Profiler session tear down.\n",
      "2021-11-08 09:34:57.335919: I tensorflow/core/profiler/rpc/client/save_profile.cc:137] Creating directory: logs/model7-n10-k5-exp3/train/plugins/profile/2021_11_08_09_34_57\n",
      "2021-11-08 09:34:57.343796: I tensorflow/core/profiler/rpc/client/save_profile.cc:143] Dumped gzipped tool data for trace.json.gz to logs/model7-n10-k5-exp3/train/plugins/profile/2021_11_08_09_34_57/d29684dd295e.trace.json.gz\n",
      "2021-11-08 09:34:57.362606: I tensorflow/core/profiler/rpc/client/save_profile.cc:137] Creating directory: logs/model7-n10-k5-exp3/train/plugins/profile/2021_11_08_09_34_57\n",
      "2021-11-08 09:34:57.366338: I tensorflow/core/profiler/rpc/client/save_profile.cc:143] Dumped gzipped tool data for memory_profile.json.gz to logs/model7-n10-k5-exp3/train/plugins/profile/2021_11_08_09_34_57/d29684dd295e.memory_profile.json.gz\n",
      "2021-11-08 09:34:57.367294: I tensorflow/core/profiler/rpc/client/capture_profile.cc:251] Creating directory: logs/model7-n10-k5-exp3/train/plugins/profile/2021_11_08_09_34_57Dumped tool data for xplane.pb to logs/model7-n10-k5-exp3/train/plugins/profile/2021_11_08_09_34_57/d29684dd295e.xplane.pb\n",
      "Dumped tool data for overview_page.pb to logs/model7-n10-k5-exp3/train/plugins/profile/2021_11_08_09_34_57/d29684dd295e.overview_page.pb\n",
      "Dumped tool data for input_pipeline.pb to logs/model7-n10-k5-exp3/train/plugins/profile/2021_11_08_09_34_57/d29684dd295e.input_pipeline.pb\n",
      "Dumped tool data for tensorflow_stats.pb to logs/model7-n10-k5-exp3/train/plugins/profile/2021_11_08_09_34_57/d29684dd295e.tensorflow_stats.pb\n",
      "Dumped tool data for kernel_stats.pb to logs/model7-n10-k5-exp3/train/plugins/profile/2021_11_08_09_34_57/d29684dd295e.kernel_stats.pb\n",
      "\n"
     ]
    },
    {
     "name": "stdout",
     "output_type": "stream",
     "text": [
      "Epoch 00016: early stopping\n",
      "model7-exp3\n",
      "random 4\n"
     ]
    },
    {
     "name": "stderr",
     "output_type": "stream",
     "text": [
      "2021-11-08 09:35:35.961248: I tensorflow/core/profiler/lib/profiler_session.cc:136] Profiler session initializing.\n",
      "2021-11-08 09:35:35.961302: I tensorflow/core/profiler/lib/profiler_session.cc:155] Profiler session started.\n",
      "2021-11-08 09:35:36.107366: I tensorflow/core/profiler/lib/profiler_session.cc:172] Profiler session tear down.\n",
      "2021-11-08 09:35:36.107522: I tensorflow/core/profiler/internal/gpu/cupti_tracer.cc:1487] CUPTI activity buffer flushed\n",
      "2021-11-08 09:35:38.424461: I tensorflow/core/profiler/lib/profiler_session.cc:136] Profiler session initializing.\n",
      "2021-11-08 09:35:38.424514: I tensorflow/core/profiler/lib/profiler_session.cc:155] Profiler session started.\n",
      "2021-11-08 09:35:38.731207: I tensorflow/core/profiler/lib/profiler_session.cc:71] Profiler session collecting data.\n",
      "2021-11-08 09:35:38.731826: I tensorflow/core/profiler/internal/gpu/cupti_tracer.cc:1487] CUPTI activity buffer flushed\n",
      "2021-11-08 09:35:38.863102: I tensorflow/core/profiler/internal/gpu/cupti_collector.cc:228]  GpuTracer has collected 308 callback api events and 296 activity events. \n",
      "2021-11-08 09:35:38.872799: I tensorflow/core/profiler/lib/profiler_session.cc:172] Profiler session tear down.\n",
      "2021-11-08 09:35:38.881454: I tensorflow/core/profiler/rpc/client/save_profile.cc:137] Creating directory: logs/model1-n10-k5-exp4/train/plugins/profile/2021_11_08_09_35_38\n",
      "2021-11-08 09:35:38.887623: I tensorflow/core/profiler/rpc/client/save_profile.cc:143] Dumped gzipped tool data for trace.json.gz to logs/model1-n10-k5-exp4/train/plugins/profile/2021_11_08_09_35_38/d29684dd295e.trace.json.gz\n",
      "2021-11-08 09:35:38.901570: I tensorflow/core/profiler/rpc/client/save_profile.cc:137] Creating directory: logs/model1-n10-k5-exp4/train/plugins/profile/2021_11_08_09_35_38\n",
      "2021-11-08 09:35:38.904247: I tensorflow/core/profiler/rpc/client/save_profile.cc:143] Dumped gzipped tool data for memory_profile.json.gz to logs/model1-n10-k5-exp4/train/plugins/profile/2021_11_08_09_35_38/d29684dd295e.memory_profile.json.gz\n",
      "2021-11-08 09:35:38.905049: I tensorflow/core/profiler/rpc/client/capture_profile.cc:251] Creating directory: logs/model1-n10-k5-exp4/train/plugins/profile/2021_11_08_09_35_38Dumped tool data for xplane.pb to logs/model1-n10-k5-exp4/train/plugins/profile/2021_11_08_09_35_38/d29684dd295e.xplane.pb\n",
      "Dumped tool data for overview_page.pb to logs/model1-n10-k5-exp4/train/plugins/profile/2021_11_08_09_35_38/d29684dd295e.overview_page.pb\n",
      "Dumped tool data for input_pipeline.pb to logs/model1-n10-k5-exp4/train/plugins/profile/2021_11_08_09_35_38/d29684dd295e.input_pipeline.pb\n",
      "Dumped tool data for tensorflow_stats.pb to logs/model1-n10-k5-exp4/train/plugins/profile/2021_11_08_09_35_38/d29684dd295e.tensorflow_stats.pb\n",
      "Dumped tool data for kernel_stats.pb to logs/model1-n10-k5-exp4/train/plugins/profile/2021_11_08_09_35_38/d29684dd295e.kernel_stats.pb\n",
      "\n"
     ]
    },
    {
     "name": "stdout",
     "output_type": "stream",
     "text": [
      "Epoch 00022: early stopping\n",
      "model1-exp4\n"
     ]
    },
    {
     "name": "stderr",
     "output_type": "stream",
     "text": [
      "2021-11-08 09:36:25.567893: I tensorflow/core/profiler/lib/profiler_session.cc:136] Profiler session initializing.\n",
      "2021-11-08 09:36:25.567946: I tensorflow/core/profiler/lib/profiler_session.cc:155] Profiler session started.\n",
      "2021-11-08 09:36:25.713212: I tensorflow/core/profiler/lib/profiler_session.cc:172] Profiler session tear down.\n",
      "2021-11-08 09:36:25.713351: I tensorflow/core/profiler/internal/gpu/cupti_tracer.cc:1487] CUPTI activity buffer flushed\n",
      "2021-11-08 09:36:28.496857: I tensorflow/core/profiler/lib/profiler_session.cc:136] Profiler session initializing.\n",
      "2021-11-08 09:36:28.496907: I tensorflow/core/profiler/lib/profiler_session.cc:155] Profiler session started.\n",
      "2021-11-08 09:36:28.810371: I tensorflow/core/profiler/lib/profiler_session.cc:71] Profiler session collecting data.\n",
      "2021-11-08 09:36:28.810913: I tensorflow/core/profiler/internal/gpu/cupti_tracer.cc:1487] CUPTI activity buffer flushed\n",
      "2021-11-08 09:36:28.942686: I tensorflow/core/profiler/internal/gpu/cupti_collector.cc:228]  GpuTracer has collected 359 callback api events and 347 activity events. \n",
      "2021-11-08 09:36:28.954596: I tensorflow/core/profiler/lib/profiler_session.cc:172] Profiler session tear down.\n",
      "2021-11-08 09:36:28.965147: I tensorflow/core/profiler/rpc/client/save_profile.cc:137] Creating directory: logs/model2-n10-k5-exp4/train/plugins/profile/2021_11_08_09_36_28\n",
      "2021-11-08 09:36:28.972607: I tensorflow/core/profiler/rpc/client/save_profile.cc:143] Dumped gzipped tool data for trace.json.gz to logs/model2-n10-k5-exp4/train/plugins/profile/2021_11_08_09_36_28/d29684dd295e.trace.json.gz\n",
      "2021-11-08 09:36:28.989548: I tensorflow/core/profiler/rpc/client/save_profile.cc:137] Creating directory: logs/model2-n10-k5-exp4/train/plugins/profile/2021_11_08_09_36_28\n",
      "2021-11-08 09:36:28.992681: I tensorflow/core/profiler/rpc/client/save_profile.cc:143] Dumped gzipped tool data for memory_profile.json.gz to logs/model2-n10-k5-exp4/train/plugins/profile/2021_11_08_09_36_28/d29684dd295e.memory_profile.json.gz\n",
      "2021-11-08 09:36:28.993621: I tensorflow/core/profiler/rpc/client/capture_profile.cc:251] Creating directory: logs/model2-n10-k5-exp4/train/plugins/profile/2021_11_08_09_36_28Dumped tool data for xplane.pb to logs/model2-n10-k5-exp4/train/plugins/profile/2021_11_08_09_36_28/d29684dd295e.xplane.pb\n",
      "Dumped tool data for overview_page.pb to logs/model2-n10-k5-exp4/train/plugins/profile/2021_11_08_09_36_28/d29684dd295e.overview_page.pb\n",
      "Dumped tool data for input_pipeline.pb to logs/model2-n10-k5-exp4/train/plugins/profile/2021_11_08_09_36_28/d29684dd295e.input_pipeline.pb\n",
      "Dumped tool data for tensorflow_stats.pb to logs/model2-n10-k5-exp4/train/plugins/profile/2021_11_08_09_36_28/d29684dd295e.tensorflow_stats.pb\n",
      "Dumped tool data for kernel_stats.pb to logs/model2-n10-k5-exp4/train/plugins/profile/2021_11_08_09_36_28/d29684dd295e.kernel_stats.pb\n",
      "\n"
     ]
    },
    {
     "name": "stdout",
     "output_type": "stream",
     "text": [
      "Epoch 00016: early stopping\n",
      "model2-exp4\n"
     ]
    },
    {
     "name": "stderr",
     "output_type": "stream",
     "text": [
      "2021-11-08 09:37:07.907578: I tensorflow/core/profiler/lib/profiler_session.cc:136] Profiler session initializing.\n",
      "2021-11-08 09:37:07.907631: I tensorflow/core/profiler/lib/profiler_session.cc:155] Profiler session started.\n",
      "2021-11-08 09:37:08.052046: I tensorflow/core/profiler/lib/profiler_session.cc:172] Profiler session tear down.\n",
      "2021-11-08 09:37:08.052201: I tensorflow/core/profiler/internal/gpu/cupti_tracer.cc:1487] CUPTI activity buffer flushed\n",
      "2021-11-08 09:37:11.980482: I tensorflow/core/profiler/lib/profiler_session.cc:136] Profiler session initializing.\n",
      "2021-11-08 09:37:11.980542: I tensorflow/core/profiler/lib/profiler_session.cc:155] Profiler session started.\n",
      "2021-11-08 09:37:12.452292: I tensorflow/core/profiler/lib/profiler_session.cc:71] Profiler session collecting data.\n",
      "2021-11-08 09:37:12.453176: I tensorflow/core/profiler/internal/gpu/cupti_tracer.cc:1487] CUPTI activity buffer flushed\n",
      "2021-11-08 09:37:12.590507: I tensorflow/core/profiler/internal/gpu/cupti_collector.cc:228]  GpuTracer has collected 363 callback api events and 351 activity events. \n",
      "2021-11-08 09:37:12.603516: I tensorflow/core/profiler/lib/profiler_session.cc:172] Profiler session tear down.\n",
      "2021-11-08 09:37:12.614979: I tensorflow/core/profiler/rpc/client/save_profile.cc:137] Creating directory: logs/model3-n10-k5-exp4/train/plugins/profile/2021_11_08_09_37_12\n",
      "2021-11-08 09:37:12.622636: I tensorflow/core/profiler/rpc/client/save_profile.cc:143] Dumped gzipped tool data for trace.json.gz to logs/model3-n10-k5-exp4/train/plugins/profile/2021_11_08_09_37_12/d29684dd295e.trace.json.gz\n",
      "2021-11-08 09:37:12.641966: I tensorflow/core/profiler/rpc/client/save_profile.cc:137] Creating directory: logs/model3-n10-k5-exp4/train/plugins/profile/2021_11_08_09_37_12\n",
      "2021-11-08 09:37:12.645442: I tensorflow/core/profiler/rpc/client/save_profile.cc:143] Dumped gzipped tool data for memory_profile.json.gz to logs/model3-n10-k5-exp4/train/plugins/profile/2021_11_08_09_37_12/d29684dd295e.memory_profile.json.gz\n",
      "2021-11-08 09:37:12.646546: I tensorflow/core/profiler/rpc/client/capture_profile.cc:251] Creating directory: logs/model3-n10-k5-exp4/train/plugins/profile/2021_11_08_09_37_12Dumped tool data for xplane.pb to logs/model3-n10-k5-exp4/train/plugins/profile/2021_11_08_09_37_12/d29684dd295e.xplane.pb\n",
      "Dumped tool data for overview_page.pb to logs/model3-n10-k5-exp4/train/plugins/profile/2021_11_08_09_37_12/d29684dd295e.overview_page.pb\n",
      "Dumped tool data for input_pipeline.pb to logs/model3-n10-k5-exp4/train/plugins/profile/2021_11_08_09_37_12/d29684dd295e.input_pipeline.pb\n",
      "Dumped tool data for tensorflow_stats.pb to logs/model3-n10-k5-exp4/train/plugins/profile/2021_11_08_09_37_12/d29684dd295e.tensorflow_stats.pb\n",
      "Dumped tool data for kernel_stats.pb to logs/model3-n10-k5-exp4/train/plugins/profile/2021_11_08_09_37_12/d29684dd295e.kernel_stats.pb\n",
      "\n"
     ]
    },
    {
     "name": "stdout",
     "output_type": "stream",
     "text": [
      "Epoch 00014: early stopping\n",
      "model3-exp4\n"
     ]
    },
    {
     "name": "stderr",
     "output_type": "stream",
     "text": [
      "2021-11-08 09:37:49.362282: I tensorflow/core/profiler/lib/profiler_session.cc:136] Profiler session initializing.\n",
      "2021-11-08 09:37:49.362340: I tensorflow/core/profiler/lib/profiler_session.cc:155] Profiler session started.\n",
      "2021-11-08 09:37:49.517361: I tensorflow/core/profiler/lib/profiler_session.cc:172] Profiler session tear down.\n",
      "2021-11-08 09:37:49.517526: I tensorflow/core/profiler/internal/gpu/cupti_tracer.cc:1487] CUPTI activity buffer flushed\n",
      "2021-11-08 09:37:52.350816: I tensorflow/core/profiler/lib/profiler_session.cc:136] Profiler session initializing.\n",
      "2021-11-08 09:37:52.350875: I tensorflow/core/profiler/lib/profiler_session.cc:155] Profiler session started.\n",
      "2021-11-08 09:37:52.704540: I tensorflow/core/profiler/lib/profiler_session.cc:71] Profiler session collecting data.\n",
      "2021-11-08 09:37:52.705256: I tensorflow/core/profiler/internal/gpu/cupti_tracer.cc:1487] CUPTI activity buffer flushed\n",
      "2021-11-08 09:37:52.841777: I tensorflow/core/profiler/internal/gpu/cupti_collector.cc:228]  GpuTracer has collected 363 callback api events and 351 activity events. \n",
      "2021-11-08 09:37:52.855857: I tensorflow/core/profiler/lib/profiler_session.cc:172] Profiler session tear down.\n",
      "2021-11-08 09:37:52.867626: I tensorflow/core/profiler/rpc/client/save_profile.cc:137] Creating directory: logs/model4-n10-k5-exp4/train/plugins/profile/2021_11_08_09_37_52\n",
      "2021-11-08 09:37:52.875618: I tensorflow/core/profiler/rpc/client/save_profile.cc:143] Dumped gzipped tool data for trace.json.gz to logs/model4-n10-k5-exp4/train/plugins/profile/2021_11_08_09_37_52/d29684dd295e.trace.json.gz\n",
      "2021-11-08 09:37:52.895320: I tensorflow/core/profiler/rpc/client/save_profile.cc:137] Creating directory: logs/model4-n10-k5-exp4/train/plugins/profile/2021_11_08_09_37_52\n",
      "2021-11-08 09:37:52.898847: I tensorflow/core/profiler/rpc/client/save_profile.cc:143] Dumped gzipped tool data for memory_profile.json.gz to logs/model4-n10-k5-exp4/train/plugins/profile/2021_11_08_09_37_52/d29684dd295e.memory_profile.json.gz\n",
      "2021-11-08 09:37:52.899943: I tensorflow/core/profiler/rpc/client/capture_profile.cc:251] Creating directory: logs/model4-n10-k5-exp4/train/plugins/profile/2021_11_08_09_37_52Dumped tool data for xplane.pb to logs/model4-n10-k5-exp4/train/plugins/profile/2021_11_08_09_37_52/d29684dd295e.xplane.pb\n",
      "Dumped tool data for overview_page.pb to logs/model4-n10-k5-exp4/train/plugins/profile/2021_11_08_09_37_52/d29684dd295e.overview_page.pb\n",
      "Dumped tool data for input_pipeline.pb to logs/model4-n10-k5-exp4/train/plugins/profile/2021_11_08_09_37_52/d29684dd295e.input_pipeline.pb\n",
      "Dumped tool data for tensorflow_stats.pb to logs/model4-n10-k5-exp4/train/plugins/profile/2021_11_08_09_37_52/d29684dd295e.tensorflow_stats.pb\n",
      "Dumped tool data for kernel_stats.pb to logs/model4-n10-k5-exp4/train/plugins/profile/2021_11_08_09_37_52/d29684dd295e.kernel_stats.pb\n",
      "\n"
     ]
    },
    {
     "name": "stdout",
     "output_type": "stream",
     "text": [
      "Epoch 00013: early stopping\n",
      "model4-exp4\n"
     ]
    },
    {
     "name": "stderr",
     "output_type": "stream",
     "text": [
      "2021-11-08 09:38:26.182994: I tensorflow/core/profiler/lib/profiler_session.cc:136] Profiler session initializing.\n",
      "2021-11-08 09:38:26.183049: I tensorflow/core/profiler/lib/profiler_session.cc:155] Profiler session started.\n",
      "2021-11-08 09:38:26.331288: I tensorflow/core/profiler/lib/profiler_session.cc:172] Profiler session tear down.\n",
      "2021-11-08 09:38:26.331446: I tensorflow/core/profiler/internal/gpu/cupti_tracer.cc:1487] CUPTI activity buffer flushed\n",
      "2021-11-08 09:38:29.628996: I tensorflow/core/profiler/lib/profiler_session.cc:136] Profiler session initializing.\n",
      "2021-11-08 09:38:29.629053: I tensorflow/core/profiler/lib/profiler_session.cc:155] Profiler session started.\n",
      "2021-11-08 09:38:29.987184: I tensorflow/core/profiler/lib/profiler_session.cc:71] Profiler session collecting data.\n",
      "2021-11-08 09:38:29.988218: I tensorflow/core/profiler/internal/gpu/cupti_tracer.cc:1487] CUPTI activity buffer flushed\n",
      "2021-11-08 09:38:30.123386: I tensorflow/core/profiler/internal/gpu/cupti_collector.cc:228]  GpuTracer has collected 363 callback api events and 351 activity events. \n",
      "2021-11-08 09:38:30.137590: I tensorflow/core/profiler/lib/profiler_session.cc:172] Profiler session tear down.\n",
      "2021-11-08 09:38:30.149376: I tensorflow/core/profiler/rpc/client/save_profile.cc:137] Creating directory: logs/model5-n10-k5-exp4/train/plugins/profile/2021_11_08_09_38_30\n",
      "2021-11-08 09:38:30.157854: I tensorflow/core/profiler/rpc/client/save_profile.cc:143] Dumped gzipped tool data for trace.json.gz to logs/model5-n10-k5-exp4/train/plugins/profile/2021_11_08_09_38_30/d29684dd295e.trace.json.gz\n",
      "2021-11-08 09:38:30.176631: I tensorflow/core/profiler/rpc/client/save_profile.cc:137] Creating directory: logs/model5-n10-k5-exp4/train/plugins/profile/2021_11_08_09_38_30\n",
      "2021-11-08 09:38:30.180160: I tensorflow/core/profiler/rpc/client/save_profile.cc:143] Dumped gzipped tool data for memory_profile.json.gz to logs/model5-n10-k5-exp4/train/plugins/profile/2021_11_08_09_38_30/d29684dd295e.memory_profile.json.gz\n",
      "2021-11-08 09:38:30.181243: I tensorflow/core/profiler/rpc/client/capture_profile.cc:251] Creating directory: logs/model5-n10-k5-exp4/train/plugins/profile/2021_11_08_09_38_30Dumped tool data for xplane.pb to logs/model5-n10-k5-exp4/train/plugins/profile/2021_11_08_09_38_30/d29684dd295e.xplane.pb\n",
      "Dumped tool data for overview_page.pb to logs/model5-n10-k5-exp4/train/plugins/profile/2021_11_08_09_38_30/d29684dd295e.overview_page.pb\n",
      "Dumped tool data for input_pipeline.pb to logs/model5-n10-k5-exp4/train/plugins/profile/2021_11_08_09_38_30/d29684dd295e.input_pipeline.pb\n",
      "Dumped tool data for tensorflow_stats.pb to logs/model5-n10-k5-exp4/train/plugins/profile/2021_11_08_09_38_30/d29684dd295e.tensorflow_stats.pb\n",
      "Dumped tool data for kernel_stats.pb to logs/model5-n10-k5-exp4/train/plugins/profile/2021_11_08_09_38_30/d29684dd295e.kernel_stats.pb\n",
      "\n"
     ]
    },
    {
     "name": "stdout",
     "output_type": "stream",
     "text": [
      "Epoch 00023: early stopping\n",
      "model5-exp4\n"
     ]
    },
    {
     "name": "stderr",
     "output_type": "stream",
     "text": [
      "2021-11-08 09:39:21.904511: I tensorflow/core/profiler/lib/profiler_session.cc:136] Profiler session initializing.\n",
      "2021-11-08 09:39:21.904567: I tensorflow/core/profiler/lib/profiler_session.cc:155] Profiler session started.\n",
      "2021-11-08 09:39:22.050482: I tensorflow/core/profiler/lib/profiler_session.cc:172] Profiler session tear down.\n",
      "2021-11-08 09:39:22.050626: I tensorflow/core/profiler/internal/gpu/cupti_tracer.cc:1487] CUPTI activity buffer flushed\n",
      "2021-11-08 09:39:25.309794: I tensorflow/core/profiler/lib/profiler_session.cc:136] Profiler session initializing.\n",
      "2021-11-08 09:39:25.309848: I tensorflow/core/profiler/lib/profiler_session.cc:155] Profiler session started.\n",
      "2021-11-08 09:39:25.640784: I tensorflow/core/profiler/lib/profiler_session.cc:71] Profiler session collecting data.\n",
      "2021-11-08 09:39:25.641362: I tensorflow/core/profiler/internal/gpu/cupti_tracer.cc:1487] CUPTI activity buffer flushed\n",
      "2021-11-08 09:39:25.782283: I tensorflow/core/profiler/internal/gpu/cupti_collector.cc:228]  GpuTracer has collected 367 callback api events and 355 activity events. \n",
      "2021-11-08 09:39:25.795246: I tensorflow/core/profiler/lib/profiler_session.cc:172] Profiler session tear down.\n",
      "2021-11-08 09:39:25.806888: I tensorflow/core/profiler/rpc/client/save_profile.cc:137] Creating directory: logs/model6-n10-k5-exp4/train/plugins/profile/2021_11_08_09_39_25\n",
      "2021-11-08 09:39:25.814838: I tensorflow/core/profiler/rpc/client/save_profile.cc:143] Dumped gzipped tool data for trace.json.gz to logs/model6-n10-k5-exp4/train/plugins/profile/2021_11_08_09_39_25/d29684dd295e.trace.json.gz\n",
      "2021-11-08 09:39:25.832989: I tensorflow/core/profiler/rpc/client/save_profile.cc:137] Creating directory: logs/model6-n10-k5-exp4/train/plugins/profile/2021_11_08_09_39_25\n",
      "2021-11-08 09:39:25.836381: I tensorflow/core/profiler/rpc/client/save_profile.cc:143] Dumped gzipped tool data for memory_profile.json.gz to logs/model6-n10-k5-exp4/train/plugins/profile/2021_11_08_09_39_25/d29684dd295e.memory_profile.json.gz\n",
      "2021-11-08 09:39:25.837316: I tensorflow/core/profiler/rpc/client/capture_profile.cc:251] Creating directory: logs/model6-n10-k5-exp4/train/plugins/profile/2021_11_08_09_39_25Dumped tool data for xplane.pb to logs/model6-n10-k5-exp4/train/plugins/profile/2021_11_08_09_39_25/d29684dd295e.xplane.pb\n",
      "Dumped tool data for overview_page.pb to logs/model6-n10-k5-exp4/train/plugins/profile/2021_11_08_09_39_25/d29684dd295e.overview_page.pb\n",
      "Dumped tool data for input_pipeline.pb to logs/model6-n10-k5-exp4/train/plugins/profile/2021_11_08_09_39_25/d29684dd295e.input_pipeline.pb\n",
      "Dumped tool data for tensorflow_stats.pb to logs/model6-n10-k5-exp4/train/plugins/profile/2021_11_08_09_39_25/d29684dd295e.tensorflow_stats.pb\n",
      "Dumped tool data for kernel_stats.pb to logs/model6-n10-k5-exp4/train/plugins/profile/2021_11_08_09_39_25/d29684dd295e.kernel_stats.pb\n",
      "\n"
     ]
    },
    {
     "name": "stdout",
     "output_type": "stream",
     "text": [
      "Epoch 00014: early stopping\n",
      "model6-exp4\n"
     ]
    },
    {
     "name": "stderr",
     "output_type": "stream",
     "text": [
      "2021-11-08 09:39:58.447339: I tensorflow/core/profiler/lib/profiler_session.cc:136] Profiler session initializing.\n",
      "2021-11-08 09:39:58.447394: I tensorflow/core/profiler/lib/profiler_session.cc:155] Profiler session started.\n",
      "2021-11-08 09:39:58.592272: I tensorflow/core/profiler/lib/profiler_session.cc:172] Profiler session tear down.\n",
      "2021-11-08 09:39:58.592413: I tensorflow/core/profiler/internal/gpu/cupti_tracer.cc:1487] CUPTI activity buffer flushed\n",
      "2021-11-08 09:40:01.326579: I tensorflow/core/profiler/lib/profiler_session.cc:136] Profiler session initializing.\n",
      "2021-11-08 09:40:01.326632: I tensorflow/core/profiler/lib/profiler_session.cc:155] Profiler session started.\n",
      "2021-11-08 09:40:01.660318: I tensorflow/core/profiler/lib/profiler_session.cc:71] Profiler session collecting data.\n",
      "2021-11-08 09:40:01.660927: I tensorflow/core/profiler/internal/gpu/cupti_tracer.cc:1487] CUPTI activity buffer flushed\n",
      "2021-11-08 09:40:01.793623: I tensorflow/core/profiler/internal/gpu/cupti_collector.cc:228]  GpuTracer has collected 367 callback api events and 355 activity events. \n",
      "2021-11-08 09:40:01.805979: I tensorflow/core/profiler/lib/profiler_session.cc:172] Profiler session tear down.\n",
      "2021-11-08 09:40:01.817582: I tensorflow/core/profiler/rpc/client/save_profile.cc:137] Creating directory: logs/model7-n10-k5-exp4/train/plugins/profile/2021_11_08_09_40_01\n",
      "2021-11-08 09:40:01.825977: I tensorflow/core/profiler/rpc/client/save_profile.cc:143] Dumped gzipped tool data for trace.json.gz to logs/model7-n10-k5-exp4/train/plugins/profile/2021_11_08_09_40_01/d29684dd295e.trace.json.gz\n",
      "2021-11-08 09:40:01.846179: I tensorflow/core/profiler/rpc/client/save_profile.cc:137] Creating directory: logs/model7-n10-k5-exp4/train/plugins/profile/2021_11_08_09_40_01\n",
      "2021-11-08 09:40:01.850008: I tensorflow/core/profiler/rpc/client/save_profile.cc:143] Dumped gzipped tool data for memory_profile.json.gz to logs/model7-n10-k5-exp4/train/plugins/profile/2021_11_08_09_40_01/d29684dd295e.memory_profile.json.gz\n",
      "2021-11-08 09:40:01.851053: I tensorflow/core/profiler/rpc/client/capture_profile.cc:251] Creating directory: logs/model7-n10-k5-exp4/train/plugins/profile/2021_11_08_09_40_01Dumped tool data for xplane.pb to logs/model7-n10-k5-exp4/train/plugins/profile/2021_11_08_09_40_01/d29684dd295e.xplane.pb\n",
      "Dumped tool data for overview_page.pb to logs/model7-n10-k5-exp4/train/plugins/profile/2021_11_08_09_40_01/d29684dd295e.overview_page.pb\n",
      "Dumped tool data for input_pipeline.pb to logs/model7-n10-k5-exp4/train/plugins/profile/2021_11_08_09_40_01/d29684dd295e.input_pipeline.pb\n",
      "Dumped tool data for tensorflow_stats.pb to logs/model7-n10-k5-exp4/train/plugins/profile/2021_11_08_09_40_01/d29684dd295e.tensorflow_stats.pb\n",
      "Dumped tool data for kernel_stats.pb to logs/model7-n10-k5-exp4/train/plugins/profile/2021_11_08_09_40_01/d29684dd295e.kernel_stats.pb\n",
      "\n"
     ]
    },
    {
     "name": "stdout",
     "output_type": "stream",
     "text": [
      "Epoch 00016: early stopping\n",
      "model7-exp4\n",
      "random 5\n"
     ]
    },
    {
     "name": "stderr",
     "output_type": "stream",
     "text": [
      "2021-11-08 09:40:41.419213: I tensorflow/core/profiler/lib/profiler_session.cc:136] Profiler session initializing.\n",
      "2021-11-08 09:40:41.419267: I tensorflow/core/profiler/lib/profiler_session.cc:155] Profiler session started.\n",
      "2021-11-08 09:40:41.565118: I tensorflow/core/profiler/lib/profiler_session.cc:172] Profiler session tear down.\n",
      "2021-11-08 09:40:41.565272: I tensorflow/core/profiler/internal/gpu/cupti_tracer.cc:1487] CUPTI activity buffer flushed\n",
      "2021-11-08 09:40:43.904660: I tensorflow/core/profiler/lib/profiler_session.cc:136] Profiler session initializing.\n",
      "2021-11-08 09:40:43.904723: I tensorflow/core/profiler/lib/profiler_session.cc:155] Profiler session started.\n",
      "2021-11-08 09:40:44.211201: I tensorflow/core/profiler/lib/profiler_session.cc:71] Profiler session collecting data.\n",
      "2021-11-08 09:40:44.211682: I tensorflow/core/profiler/internal/gpu/cupti_tracer.cc:1487] CUPTI activity buffer flushed\n",
      "2021-11-08 09:40:44.343955: I tensorflow/core/profiler/internal/gpu/cupti_collector.cc:228]  GpuTracer has collected 308 callback api events and 296 activity events. \n",
      "2021-11-08 09:40:44.354444: I tensorflow/core/profiler/lib/profiler_session.cc:172] Profiler session tear down.\n",
      "2021-11-08 09:40:44.363206: I tensorflow/core/profiler/rpc/client/save_profile.cc:137] Creating directory: logs/model1-n10-k5-exp5/train/plugins/profile/2021_11_08_09_40_44\n",
      "2021-11-08 09:40:44.369551: I tensorflow/core/profiler/rpc/client/save_profile.cc:143] Dumped gzipped tool data for trace.json.gz to logs/model1-n10-k5-exp5/train/plugins/profile/2021_11_08_09_40_44/d29684dd295e.trace.json.gz\n",
      "2021-11-08 09:40:44.383511: I tensorflow/core/profiler/rpc/client/save_profile.cc:137] Creating directory: logs/model1-n10-k5-exp5/train/plugins/profile/2021_11_08_09_40_44\n",
      "2021-11-08 09:40:44.386148: I tensorflow/core/profiler/rpc/client/save_profile.cc:143] Dumped gzipped tool data for memory_profile.json.gz to logs/model1-n10-k5-exp5/train/plugins/profile/2021_11_08_09_40_44/d29684dd295e.memory_profile.json.gz\n",
      "2021-11-08 09:40:44.386949: I tensorflow/core/profiler/rpc/client/capture_profile.cc:251] Creating directory: logs/model1-n10-k5-exp5/train/plugins/profile/2021_11_08_09_40_44Dumped tool data for xplane.pb to logs/model1-n10-k5-exp5/train/plugins/profile/2021_11_08_09_40_44/d29684dd295e.xplane.pb\n",
      "Dumped tool data for overview_page.pb to logs/model1-n10-k5-exp5/train/plugins/profile/2021_11_08_09_40_44/d29684dd295e.overview_page.pb\n",
      "Dumped tool data for input_pipeline.pb to logs/model1-n10-k5-exp5/train/plugins/profile/2021_11_08_09_40_44/d29684dd295e.input_pipeline.pb\n",
      "Dumped tool data for tensorflow_stats.pb to logs/model1-n10-k5-exp5/train/plugins/profile/2021_11_08_09_40_44/d29684dd295e.tensorflow_stats.pb\n",
      "Dumped tool data for kernel_stats.pb to logs/model1-n10-k5-exp5/train/plugins/profile/2021_11_08_09_40_44/d29684dd295e.kernel_stats.pb\n",
      "\n"
     ]
    },
    {
     "name": "stdout",
     "output_type": "stream",
     "text": [
      "Epoch 00021: early stopping\n",
      "model1-exp5\n"
     ]
    },
    {
     "name": "stderr",
     "output_type": "stream",
     "text": [
      "2021-11-08 09:41:29.488127: I tensorflow/core/profiler/lib/profiler_session.cc:136] Profiler session initializing.\n",
      "2021-11-08 09:41:29.488185: I tensorflow/core/profiler/lib/profiler_session.cc:155] Profiler session started.\n",
      "2021-11-08 09:41:29.633980: I tensorflow/core/profiler/lib/profiler_session.cc:172] Profiler session tear down.\n",
      "2021-11-08 09:41:29.634146: I tensorflow/core/profiler/internal/gpu/cupti_tracer.cc:1487] CUPTI activity buffer flushed\n",
      "2021-11-08 09:41:33.319567: I tensorflow/core/profiler/lib/profiler_session.cc:136] Profiler session initializing.\n",
      "2021-11-08 09:41:33.319622: I tensorflow/core/profiler/lib/profiler_session.cc:155] Profiler session started.\n",
      "2021-11-08 09:41:33.653027: I tensorflow/core/profiler/lib/profiler_session.cc:71] Profiler session collecting data.\n",
      "2021-11-08 09:41:33.653708: I tensorflow/core/profiler/internal/gpu/cupti_tracer.cc:1487] CUPTI activity buffer flushed\n",
      "2021-11-08 09:41:33.788757: I tensorflow/core/profiler/internal/gpu/cupti_collector.cc:228]  GpuTracer has collected 359 callback api events and 347 activity events. \n",
      "2021-11-08 09:41:33.800676: I tensorflow/core/profiler/lib/profiler_session.cc:172] Profiler session tear down.\n",
      "2021-11-08 09:41:33.811250: I tensorflow/core/profiler/rpc/client/save_profile.cc:137] Creating directory: logs/model2-n10-k5-exp5/train/plugins/profile/2021_11_08_09_41_33\n",
      "2021-11-08 09:41:33.818674: I tensorflow/core/profiler/rpc/client/save_profile.cc:143] Dumped gzipped tool data for trace.json.gz to logs/model2-n10-k5-exp5/train/plugins/profile/2021_11_08_09_41_33/d29684dd295e.trace.json.gz\n",
      "2021-11-08 09:41:33.835998: I tensorflow/core/profiler/rpc/client/save_profile.cc:137] Creating directory: logs/model2-n10-k5-exp5/train/plugins/profile/2021_11_08_09_41_33\n",
      "2021-11-08 09:41:33.839190: I tensorflow/core/profiler/rpc/client/save_profile.cc:143] Dumped gzipped tool data for memory_profile.json.gz to logs/model2-n10-k5-exp5/train/plugins/profile/2021_11_08_09_41_33/d29684dd295e.memory_profile.json.gz\n",
      "2021-11-08 09:41:33.840209: I tensorflow/core/profiler/rpc/client/capture_profile.cc:251] Creating directory: logs/model2-n10-k5-exp5/train/plugins/profile/2021_11_08_09_41_33Dumped tool data for xplane.pb to logs/model2-n10-k5-exp5/train/plugins/profile/2021_11_08_09_41_33/d29684dd295e.xplane.pb\n",
      "Dumped tool data for overview_page.pb to logs/model2-n10-k5-exp5/train/plugins/profile/2021_11_08_09_41_33/d29684dd295e.overview_page.pb\n",
      "Dumped tool data for input_pipeline.pb to logs/model2-n10-k5-exp5/train/plugins/profile/2021_11_08_09_41_33/d29684dd295e.input_pipeline.pb\n",
      "Dumped tool data for tensorflow_stats.pb to logs/model2-n10-k5-exp5/train/plugins/profile/2021_11_08_09_41_33/d29684dd295e.tensorflow_stats.pb\n",
      "Dumped tool data for kernel_stats.pb to logs/model2-n10-k5-exp5/train/plugins/profile/2021_11_08_09_41_33/d29684dd295e.kernel_stats.pb\n",
      "\n"
     ]
    },
    {
     "name": "stdout",
     "output_type": "stream",
     "text": [
      "Epoch 00015: early stopping\n",
      "model2-exp5\n"
     ]
    },
    {
     "name": "stderr",
     "output_type": "stream",
     "text": [
      "2021-11-08 09:42:10.989702: I tensorflow/core/profiler/lib/profiler_session.cc:136] Profiler session initializing.\n",
      "2021-11-08 09:42:10.989760: I tensorflow/core/profiler/lib/profiler_session.cc:155] Profiler session started.\n",
      "2021-11-08 09:42:11.140205: I tensorflow/core/profiler/lib/profiler_session.cc:172] Profiler session tear down.\n",
      "2021-11-08 09:42:11.140349: I tensorflow/core/profiler/internal/gpu/cupti_tracer.cc:1487] CUPTI activity buffer flushed\n",
      "2021-11-08 09:42:13.820950: I tensorflow/core/profiler/lib/profiler_session.cc:136] Profiler session initializing.\n",
      "2021-11-08 09:42:13.821007: I tensorflow/core/profiler/lib/profiler_session.cc:155] Profiler session started.\n",
      "2021-11-08 09:42:14.156831: I tensorflow/core/profiler/lib/profiler_session.cc:71] Profiler session collecting data.\n",
      "2021-11-08 09:42:14.157534: I tensorflow/core/profiler/internal/gpu/cupti_tracer.cc:1487] CUPTI activity buffer flushed\n",
      "2021-11-08 09:42:14.290656: I tensorflow/core/profiler/internal/gpu/cupti_collector.cc:228]  GpuTracer has collected 363 callback api events and 351 activity events. \n",
      "2021-11-08 09:42:14.303278: I tensorflow/core/profiler/lib/profiler_session.cc:172] Profiler session tear down.\n",
      "2021-11-08 09:42:14.314369: I tensorflow/core/profiler/rpc/client/save_profile.cc:137] Creating directory: logs/model3-n10-k5-exp5/train/plugins/profile/2021_11_08_09_42_14\n",
      "2021-11-08 09:42:14.321965: I tensorflow/core/profiler/rpc/client/save_profile.cc:143] Dumped gzipped tool data for trace.json.gz to logs/model3-n10-k5-exp5/train/plugins/profile/2021_11_08_09_42_14/d29684dd295e.trace.json.gz\n",
      "2021-11-08 09:42:14.339992: I tensorflow/core/profiler/rpc/client/save_profile.cc:137] Creating directory: logs/model3-n10-k5-exp5/train/plugins/profile/2021_11_08_09_42_14\n",
      "2021-11-08 09:42:14.343316: I tensorflow/core/profiler/rpc/client/save_profile.cc:143] Dumped gzipped tool data for memory_profile.json.gz to logs/model3-n10-k5-exp5/train/plugins/profile/2021_11_08_09_42_14/d29684dd295e.memory_profile.json.gz\n",
      "2021-11-08 09:42:14.344338: I tensorflow/core/profiler/rpc/client/capture_profile.cc:251] Creating directory: logs/model3-n10-k5-exp5/train/plugins/profile/2021_11_08_09_42_14Dumped tool data for xplane.pb to logs/model3-n10-k5-exp5/train/plugins/profile/2021_11_08_09_42_14/d29684dd295e.xplane.pb\n",
      "Dumped tool data for overview_page.pb to logs/model3-n10-k5-exp5/train/plugins/profile/2021_11_08_09_42_14/d29684dd295e.overview_page.pb\n",
      "Dumped tool data for input_pipeline.pb to logs/model3-n10-k5-exp5/train/plugins/profile/2021_11_08_09_42_14/d29684dd295e.input_pipeline.pb\n",
      "Dumped tool data for tensorflow_stats.pb to logs/model3-n10-k5-exp5/train/plugins/profile/2021_11_08_09_42_14/d29684dd295e.tensorflow_stats.pb\n",
      "Dumped tool data for kernel_stats.pb to logs/model3-n10-k5-exp5/train/plugins/profile/2021_11_08_09_42_14/d29684dd295e.kernel_stats.pb\n",
      "\n"
     ]
    },
    {
     "name": "stdout",
     "output_type": "stream",
     "text": [
      "Epoch 00014: early stopping\n",
      "model3-exp5\n"
     ]
    },
    {
     "name": "stderr",
     "output_type": "stream",
     "text": [
      "2021-11-08 09:42:50.868113: I tensorflow/core/profiler/lib/profiler_session.cc:136] Profiler session initializing.\n",
      "2021-11-08 09:42:50.868171: I tensorflow/core/profiler/lib/profiler_session.cc:155] Profiler session started.\n",
      "2021-11-08 09:42:51.016712: I tensorflow/core/profiler/lib/profiler_session.cc:172] Profiler session tear down.\n",
      "2021-11-08 09:42:51.016858: I tensorflow/core/profiler/internal/gpu/cupti_tracer.cc:1487] CUPTI activity buffer flushed\n",
      "2021-11-08 09:42:54.563593: I tensorflow/core/profiler/lib/profiler_session.cc:136] Profiler session initializing.\n",
      "2021-11-08 09:42:54.563649: I tensorflow/core/profiler/lib/profiler_session.cc:155] Profiler session started.\n",
      "2021-11-08 09:42:54.909820: I tensorflow/core/profiler/lib/profiler_session.cc:71] Profiler session collecting data.\n",
      "2021-11-08 09:42:54.910470: I tensorflow/core/profiler/internal/gpu/cupti_tracer.cc:1487] CUPTI activity buffer flushed\n",
      "2021-11-08 09:42:55.044006: I tensorflow/core/profiler/internal/gpu/cupti_collector.cc:228]  GpuTracer has collected 363 callback api events and 351 activity events. \n",
      "2021-11-08 09:42:55.056371: I tensorflow/core/profiler/lib/profiler_session.cc:172] Profiler session tear down.\n",
      "2021-11-08 09:42:55.067315: I tensorflow/core/profiler/rpc/client/save_profile.cc:137] Creating directory: logs/model4-n10-k5-exp5/train/plugins/profile/2021_11_08_09_42_55\n",
      "2021-11-08 09:42:55.075001: I tensorflow/core/profiler/rpc/client/save_profile.cc:143] Dumped gzipped tool data for trace.json.gz to logs/model4-n10-k5-exp5/train/plugins/profile/2021_11_08_09_42_55/d29684dd295e.trace.json.gz\n",
      "2021-11-08 09:42:55.092865: I tensorflow/core/profiler/rpc/client/save_profile.cc:137] Creating directory: logs/model4-n10-k5-exp5/train/plugins/profile/2021_11_08_09_42_55\n",
      "2021-11-08 09:42:55.096146: I tensorflow/core/profiler/rpc/client/save_profile.cc:143] Dumped gzipped tool data for memory_profile.json.gz to logs/model4-n10-k5-exp5/train/plugins/profile/2021_11_08_09_42_55/d29684dd295e.memory_profile.json.gz\n",
      "2021-11-08 09:42:55.097096: I tensorflow/core/profiler/rpc/client/capture_profile.cc:251] Creating directory: logs/model4-n10-k5-exp5/train/plugins/profile/2021_11_08_09_42_55Dumped tool data for xplane.pb to logs/model4-n10-k5-exp5/train/plugins/profile/2021_11_08_09_42_55/d29684dd295e.xplane.pb\n",
      "Dumped tool data for overview_page.pb to logs/model4-n10-k5-exp5/train/plugins/profile/2021_11_08_09_42_55/d29684dd295e.overview_page.pb\n",
      "Dumped tool data for input_pipeline.pb to logs/model4-n10-k5-exp5/train/plugins/profile/2021_11_08_09_42_55/d29684dd295e.input_pipeline.pb\n",
      "Dumped tool data for tensorflow_stats.pb to logs/model4-n10-k5-exp5/train/plugins/profile/2021_11_08_09_42_55/d29684dd295e.tensorflow_stats.pb\n",
      "Dumped tool data for kernel_stats.pb to logs/model4-n10-k5-exp5/train/plugins/profile/2021_11_08_09_42_55/d29684dd295e.kernel_stats.pb\n",
      "\n"
     ]
    },
    {
     "name": "stdout",
     "output_type": "stream",
     "text": [
      "Epoch 00017: early stopping\n",
      "model4-exp5\n"
     ]
    },
    {
     "name": "stderr",
     "output_type": "stream",
     "text": [
      "2021-11-08 09:43:37.883780: I tensorflow/core/profiler/lib/profiler_session.cc:136] Profiler session initializing.\n",
      "2021-11-08 09:43:37.883834: I tensorflow/core/profiler/lib/profiler_session.cc:155] Profiler session started.\n",
      "2021-11-08 09:43:38.030865: I tensorflow/core/profiler/lib/profiler_session.cc:172] Profiler session tear down.\n",
      "2021-11-08 09:43:38.031013: I tensorflow/core/profiler/internal/gpu/cupti_tracer.cc:1487] CUPTI activity buffer flushed\n",
      "2021-11-08 09:43:40.678166: I tensorflow/core/profiler/lib/profiler_session.cc:136] Profiler session initializing.\n",
      "2021-11-08 09:43:40.678228: I tensorflow/core/profiler/lib/profiler_session.cc:155] Profiler session started.\n",
      "2021-11-08 09:43:41.016421: I tensorflow/core/profiler/lib/profiler_session.cc:71] Profiler session collecting data.\n",
      "2021-11-08 09:43:41.017008: I tensorflow/core/profiler/internal/gpu/cupti_tracer.cc:1487] CUPTI activity buffer flushed\n",
      "2021-11-08 09:43:41.151066: I tensorflow/core/profiler/internal/gpu/cupti_collector.cc:228]  GpuTracer has collected 363 callback api events and 351 activity events. \n",
      "2021-11-08 09:43:41.163745: I tensorflow/core/profiler/lib/profiler_session.cc:172] Profiler session tear down.\n",
      "2021-11-08 09:43:41.175006: I tensorflow/core/profiler/rpc/client/save_profile.cc:137] Creating directory: logs/model5-n10-k5-exp5/train/plugins/profile/2021_11_08_09_43_41\n",
      "2021-11-08 09:43:41.182589: I tensorflow/core/profiler/rpc/client/save_profile.cc:143] Dumped gzipped tool data for trace.json.gz to logs/model5-n10-k5-exp5/train/plugins/profile/2021_11_08_09_43_41/d29684dd295e.trace.json.gz\n",
      "2021-11-08 09:43:41.200253: I tensorflow/core/profiler/rpc/client/save_profile.cc:137] Creating directory: logs/model5-n10-k5-exp5/train/plugins/profile/2021_11_08_09_43_41\n",
      "2021-11-08 09:43:41.203534: I tensorflow/core/profiler/rpc/client/save_profile.cc:143] Dumped gzipped tool data for memory_profile.json.gz to logs/model5-n10-k5-exp5/train/plugins/profile/2021_11_08_09_43_41/d29684dd295e.memory_profile.json.gz\n",
      "2021-11-08 09:43:41.204523: I tensorflow/core/profiler/rpc/client/capture_profile.cc:251] Creating directory: logs/model5-n10-k5-exp5/train/plugins/profile/2021_11_08_09_43_41Dumped tool data for xplane.pb to logs/model5-n10-k5-exp5/train/plugins/profile/2021_11_08_09_43_41/d29684dd295e.xplane.pb\n",
      "Dumped tool data for overview_page.pb to logs/model5-n10-k5-exp5/train/plugins/profile/2021_11_08_09_43_41/d29684dd295e.overview_page.pb\n",
      "Dumped tool data for input_pipeline.pb to logs/model5-n10-k5-exp5/train/plugins/profile/2021_11_08_09_43_41/d29684dd295e.input_pipeline.pb\n",
      "Dumped tool data for tensorflow_stats.pb to logs/model5-n10-k5-exp5/train/plugins/profile/2021_11_08_09_43_41/d29684dd295e.tensorflow_stats.pb\n",
      "Dumped tool data for kernel_stats.pb to logs/model5-n10-k5-exp5/train/plugins/profile/2021_11_08_09_43_41/d29684dd295e.kernel_stats.pb\n",
      "\n"
     ]
    },
    {
     "name": "stdout",
     "output_type": "stream",
     "text": [
      "Epoch 00024: early stopping\n",
      "model5-exp5\n"
     ]
    },
    {
     "name": "stderr",
     "output_type": "stream",
     "text": [
      "2021-11-08 09:44:35.539036: I tensorflow/core/profiler/lib/profiler_session.cc:136] Profiler session initializing.\n",
      "2021-11-08 09:44:35.539094: I tensorflow/core/profiler/lib/profiler_session.cc:155] Profiler session started.\n",
      "2021-11-08 09:44:35.685601: I tensorflow/core/profiler/lib/profiler_session.cc:172] Profiler session tear down.\n",
      "2021-11-08 09:44:35.685749: I tensorflow/core/profiler/internal/gpu/cupti_tracer.cc:1487] CUPTI activity buffer flushed\n",
      "2021-11-08 09:44:38.428014: I tensorflow/core/profiler/lib/profiler_session.cc:136] Profiler session initializing.\n",
      "2021-11-08 09:44:38.428071: I tensorflow/core/profiler/lib/profiler_session.cc:155] Profiler session started.\n",
      "2021-11-08 09:44:38.764639: I tensorflow/core/profiler/lib/profiler_session.cc:71] Profiler session collecting data.\n",
      "2021-11-08 09:44:38.765509: I tensorflow/core/profiler/internal/gpu/cupti_tracer.cc:1487] CUPTI activity buffer flushed\n",
      "2021-11-08 09:44:38.898803: I tensorflow/core/profiler/internal/gpu/cupti_collector.cc:228]  GpuTracer has collected 367 callback api events and 355 activity events. \n",
      "2021-11-08 09:44:38.911619: I tensorflow/core/profiler/lib/profiler_session.cc:172] Profiler session tear down.\n",
      "2021-11-08 09:44:38.923246: I tensorflow/core/profiler/rpc/client/save_profile.cc:137] Creating directory: logs/model6-n10-k5-exp5/train/plugins/profile/2021_11_08_09_44_38\n",
      "2021-11-08 09:44:38.931356: I tensorflow/core/profiler/rpc/client/save_profile.cc:143] Dumped gzipped tool data for trace.json.gz to logs/model6-n10-k5-exp5/train/plugins/profile/2021_11_08_09_44_38/d29684dd295e.trace.json.gz\n",
      "2021-11-08 09:44:38.949589: I tensorflow/core/profiler/rpc/client/save_profile.cc:137] Creating directory: logs/model6-n10-k5-exp5/train/plugins/profile/2021_11_08_09_44_38\n",
      "2021-11-08 09:44:38.953158: I tensorflow/core/profiler/rpc/client/save_profile.cc:143] Dumped gzipped tool data for memory_profile.json.gz to logs/model6-n10-k5-exp5/train/plugins/profile/2021_11_08_09_44_38/d29684dd295e.memory_profile.json.gz\n",
      "2021-11-08 09:44:38.954160: I tensorflow/core/profiler/rpc/client/capture_profile.cc:251] Creating directory: logs/model6-n10-k5-exp5/train/plugins/profile/2021_11_08_09_44_38Dumped tool data for xplane.pb to logs/model6-n10-k5-exp5/train/plugins/profile/2021_11_08_09_44_38/d29684dd295e.xplane.pb\n",
      "Dumped tool data for overview_page.pb to logs/model6-n10-k5-exp5/train/plugins/profile/2021_11_08_09_44_38/d29684dd295e.overview_page.pb\n",
      "Dumped tool data for input_pipeline.pb to logs/model6-n10-k5-exp5/train/plugins/profile/2021_11_08_09_44_38/d29684dd295e.input_pipeline.pb\n",
      "Dumped tool data for tensorflow_stats.pb to logs/model6-n10-k5-exp5/train/plugins/profile/2021_11_08_09_44_38/d29684dd295e.tensorflow_stats.pb\n",
      "Dumped tool data for kernel_stats.pb to logs/model6-n10-k5-exp5/train/plugins/profile/2021_11_08_09_44_38/d29684dd295e.kernel_stats.pb\n",
      "\n"
     ]
    },
    {
     "name": "stdout",
     "output_type": "stream",
     "text": [
      "Epoch 00014: early stopping\n",
      "model6-exp5\n"
     ]
    },
    {
     "name": "stderr",
     "output_type": "stream",
     "text": [
      "2021-11-08 09:45:11.521759: I tensorflow/core/profiler/lib/profiler_session.cc:136] Profiler session initializing.\n",
      "2021-11-08 09:45:11.521819: I tensorflow/core/profiler/lib/profiler_session.cc:155] Profiler session started.\n",
      "2021-11-08 09:45:11.667559: I tensorflow/core/profiler/lib/profiler_session.cc:172] Profiler session tear down.\n",
      "2021-11-08 09:45:11.667714: I tensorflow/core/profiler/internal/gpu/cupti_tracer.cc:1487] CUPTI activity buffer flushed\n",
      "2021-11-08 09:45:14.788679: I tensorflow/core/profiler/lib/profiler_session.cc:136] Profiler session initializing.\n",
      "2021-11-08 09:45:14.788733: I tensorflow/core/profiler/lib/profiler_session.cc:155] Profiler session started.\n",
      "2021-11-08 09:45:15.124393: I tensorflow/core/profiler/lib/profiler_session.cc:71] Profiler session collecting data.\n",
      "2021-11-08 09:45:15.125007: I tensorflow/core/profiler/internal/gpu/cupti_tracer.cc:1487] CUPTI activity buffer flushed\n",
      "2021-11-08 09:45:15.258354: I tensorflow/core/profiler/internal/gpu/cupti_collector.cc:228]  GpuTracer has collected 367 callback api events and 355 activity events. \n",
      "2021-11-08 09:45:15.271123: I tensorflow/core/profiler/lib/profiler_session.cc:172] Profiler session tear down.\n",
      "2021-11-08 09:45:15.282640: I tensorflow/core/profiler/rpc/client/save_profile.cc:137] Creating directory: logs/model7-n10-k5-exp5/train/plugins/profile/2021_11_08_09_45_15\n",
      "2021-11-08 09:45:15.290444: I tensorflow/core/profiler/rpc/client/save_profile.cc:143] Dumped gzipped tool data for trace.json.gz to logs/model7-n10-k5-exp5/train/plugins/profile/2021_11_08_09_45_15/d29684dd295e.trace.json.gz\n",
      "2021-11-08 09:45:15.309033: I tensorflow/core/profiler/rpc/client/save_profile.cc:137] Creating directory: logs/model7-n10-k5-exp5/train/plugins/profile/2021_11_08_09_45_15\n",
      "2021-11-08 09:45:15.312634: I tensorflow/core/profiler/rpc/client/save_profile.cc:143] Dumped gzipped tool data for memory_profile.json.gz to logs/model7-n10-k5-exp5/train/plugins/profile/2021_11_08_09_45_15/d29684dd295e.memory_profile.json.gz\n",
      "2021-11-08 09:45:15.313595: I tensorflow/core/profiler/rpc/client/capture_profile.cc:251] Creating directory: logs/model7-n10-k5-exp5/train/plugins/profile/2021_11_08_09_45_15Dumped tool data for xplane.pb to logs/model7-n10-k5-exp5/train/plugins/profile/2021_11_08_09_45_15/d29684dd295e.xplane.pb\n",
      "Dumped tool data for overview_page.pb to logs/model7-n10-k5-exp5/train/plugins/profile/2021_11_08_09_45_15/d29684dd295e.overview_page.pb\n",
      "Dumped tool data for input_pipeline.pb to logs/model7-n10-k5-exp5/train/plugins/profile/2021_11_08_09_45_15/d29684dd295e.input_pipeline.pb\n",
      "Dumped tool data for tensorflow_stats.pb to logs/model7-n10-k5-exp5/train/plugins/profile/2021_11_08_09_45_15/d29684dd295e.tensorflow_stats.pb\n",
      "Dumped tool data for kernel_stats.pb to logs/model7-n10-k5-exp5/train/plugins/profile/2021_11_08_09_45_15/d29684dd295e.kernel_stats.pb\n",
      "\n"
     ]
    },
    {
     "name": "stdout",
     "output_type": "stream",
     "text": [
      "Epoch 00015: early stopping\n",
      "model7-exp5\n",
      "random 6\n"
     ]
    },
    {
     "name": "stderr",
     "output_type": "stream",
     "text": [
      "2021-11-08 09:45:52.060629: I tensorflow/core/profiler/lib/profiler_session.cc:136] Profiler session initializing.\n",
      "2021-11-08 09:45:52.060693: I tensorflow/core/profiler/lib/profiler_session.cc:155] Profiler session started.\n",
      "2021-11-08 09:45:52.209423: I tensorflow/core/profiler/lib/profiler_session.cc:172] Profiler session tear down.\n",
      "2021-11-08 09:45:52.209589: I tensorflow/core/profiler/internal/gpu/cupti_tracer.cc:1487] CUPTI activity buffer flushed\n",
      "2021-11-08 09:45:54.565558: I tensorflow/core/profiler/lib/profiler_session.cc:136] Profiler session initializing.\n",
      "2021-11-08 09:45:54.565611: I tensorflow/core/profiler/lib/profiler_session.cc:155] Profiler session started.\n",
      "2021-11-08 09:45:54.871526: I tensorflow/core/profiler/lib/profiler_session.cc:71] Profiler session collecting data.\n",
      "2021-11-08 09:45:54.872025: I tensorflow/core/profiler/internal/gpu/cupti_tracer.cc:1487] CUPTI activity buffer flushed\n",
      "2021-11-08 09:45:55.004322: I tensorflow/core/profiler/internal/gpu/cupti_collector.cc:228]  GpuTracer has collected 308 callback api events and 296 activity events. \n",
      "2021-11-08 09:45:55.015737: I tensorflow/core/profiler/lib/profiler_session.cc:172] Profiler session tear down.\n",
      "2021-11-08 09:45:55.025549: I tensorflow/core/profiler/rpc/client/save_profile.cc:137] Creating directory: logs/model1-n10-k5-exp6/train/plugins/profile/2021_11_08_09_45_55\n",
      "2021-11-08 09:45:55.032846: I tensorflow/core/profiler/rpc/client/save_profile.cc:143] Dumped gzipped tool data for trace.json.gz to logs/model1-n10-k5-exp6/train/plugins/profile/2021_11_08_09_45_55/d29684dd295e.trace.json.gz\n",
      "2021-11-08 09:45:55.048792: I tensorflow/core/profiler/rpc/client/save_profile.cc:137] Creating directory: logs/model1-n10-k5-exp6/train/plugins/profile/2021_11_08_09_45_55\n",
      "2021-11-08 09:45:55.052016: I tensorflow/core/profiler/rpc/client/save_profile.cc:143] Dumped gzipped tool data for memory_profile.json.gz to logs/model1-n10-k5-exp6/train/plugins/profile/2021_11_08_09_45_55/d29684dd295e.memory_profile.json.gz\n",
      "2021-11-08 09:45:55.052902: I tensorflow/core/profiler/rpc/client/capture_profile.cc:251] Creating directory: logs/model1-n10-k5-exp6/train/plugins/profile/2021_11_08_09_45_55Dumped tool data for xplane.pb to logs/model1-n10-k5-exp6/train/plugins/profile/2021_11_08_09_45_55/d29684dd295e.xplane.pb\n",
      "Dumped tool data for overview_page.pb to logs/model1-n10-k5-exp6/train/plugins/profile/2021_11_08_09_45_55/d29684dd295e.overview_page.pb\n",
      "Dumped tool data for input_pipeline.pb to logs/model1-n10-k5-exp6/train/plugins/profile/2021_11_08_09_45_55/d29684dd295e.input_pipeline.pb\n",
      "Dumped tool data for tensorflow_stats.pb to logs/model1-n10-k5-exp6/train/plugins/profile/2021_11_08_09_45_55/d29684dd295e.tensorflow_stats.pb\n",
      "Dumped tool data for kernel_stats.pb to logs/model1-n10-k5-exp6/train/plugins/profile/2021_11_08_09_45_55/d29684dd295e.kernel_stats.pb\n",
      "\n"
     ]
    },
    {
     "name": "stdout",
     "output_type": "stream",
     "text": [
      "Epoch 00022: early stopping\n",
      "model1-exp6\n"
     ]
    },
    {
     "name": "stderr",
     "output_type": "stream",
     "text": [
      "2021-11-08 09:46:42.097265: I tensorflow/core/profiler/lib/profiler_session.cc:136] Profiler session initializing.\n",
      "2021-11-08 09:46:42.097323: I tensorflow/core/profiler/lib/profiler_session.cc:155] Profiler session started.\n",
      "2021-11-08 09:46:42.243729: I tensorflow/core/profiler/lib/profiler_session.cc:172] Profiler session tear down.\n",
      "2021-11-08 09:46:42.243919: I tensorflow/core/profiler/internal/gpu/cupti_tracer.cc:1487] CUPTI activity buffer flushed\n",
      "2021-11-08 09:46:45.049856: I tensorflow/core/profiler/lib/profiler_session.cc:136] Profiler session initializing.\n",
      "2021-11-08 09:46:45.049914: I tensorflow/core/profiler/lib/profiler_session.cc:155] Profiler session started.\n",
      "2021-11-08 09:46:45.373065: I tensorflow/core/profiler/lib/profiler_session.cc:71] Profiler session collecting data.\n",
      "2021-11-08 09:46:45.373681: I tensorflow/core/profiler/internal/gpu/cupti_tracer.cc:1487] CUPTI activity buffer flushed\n",
      "2021-11-08 09:46:45.505990: I tensorflow/core/profiler/internal/gpu/cupti_collector.cc:228]  GpuTracer has collected 359 callback api events and 347 activity events. \n",
      "2021-11-08 09:46:45.517998: I tensorflow/core/profiler/lib/profiler_session.cc:172] Profiler session tear down.\n",
      "2021-11-08 09:46:45.528770: I tensorflow/core/profiler/rpc/client/save_profile.cc:137] Creating directory: logs/model2-n10-k5-exp6/train/plugins/profile/2021_11_08_09_46_45\n",
      "2021-11-08 09:46:45.536293: I tensorflow/core/profiler/rpc/client/save_profile.cc:143] Dumped gzipped tool data for trace.json.gz to logs/model2-n10-k5-exp6/train/plugins/profile/2021_11_08_09_46_45/d29684dd295e.trace.json.gz\n",
      "2021-11-08 09:46:45.553519: I tensorflow/core/profiler/rpc/client/save_profile.cc:137] Creating directory: logs/model2-n10-k5-exp6/train/plugins/profile/2021_11_08_09_46_45\n",
      "2021-11-08 09:46:45.556669: I tensorflow/core/profiler/rpc/client/save_profile.cc:143] Dumped gzipped tool data for memory_profile.json.gz to logs/model2-n10-k5-exp6/train/plugins/profile/2021_11_08_09_46_45/d29684dd295e.memory_profile.json.gz\n",
      "2021-11-08 09:46:45.557571: I tensorflow/core/profiler/rpc/client/capture_profile.cc:251] Creating directory: logs/model2-n10-k5-exp6/train/plugins/profile/2021_11_08_09_46_45Dumped tool data for xplane.pb to logs/model2-n10-k5-exp6/train/plugins/profile/2021_11_08_09_46_45/d29684dd295e.xplane.pb\n",
      "Dumped tool data for overview_page.pb to logs/model2-n10-k5-exp6/train/plugins/profile/2021_11_08_09_46_45/d29684dd295e.overview_page.pb\n",
      "Dumped tool data for input_pipeline.pb to logs/model2-n10-k5-exp6/train/plugins/profile/2021_11_08_09_46_45/d29684dd295e.input_pipeline.pb\n",
      "Dumped tool data for tensorflow_stats.pb to logs/model2-n10-k5-exp6/train/plugins/profile/2021_11_08_09_46_45/d29684dd295e.tensorflow_stats.pb\n",
      "Dumped tool data for kernel_stats.pb to logs/model2-n10-k5-exp6/train/plugins/profile/2021_11_08_09_46_45/d29684dd295e.kernel_stats.pb\n",
      "\n"
     ]
    },
    {
     "name": "stdout",
     "output_type": "stream",
     "text": [
      "Epoch 00013: early stopping\n",
      "model2-exp6\n"
     ]
    },
    {
     "name": "stderr",
     "output_type": "stream",
     "text": [
      "2021-11-08 09:47:17.828266: I tensorflow/core/profiler/lib/profiler_session.cc:136] Profiler session initializing.\n",
      "2021-11-08 09:47:17.828324: I tensorflow/core/profiler/lib/profiler_session.cc:155] Profiler session started.\n",
      "2021-11-08 09:47:17.971924: I tensorflow/core/profiler/lib/profiler_session.cc:172] Profiler session tear down.\n",
      "2021-11-08 09:47:17.972293: I tensorflow/core/profiler/internal/gpu/cupti_tracer.cc:1487] CUPTI activity buffer flushed\n",
      "2021-11-08 09:47:20.664112: I tensorflow/core/profiler/lib/profiler_session.cc:136] Profiler session initializing.\n",
      "2021-11-08 09:47:20.664170: I tensorflow/core/profiler/lib/profiler_session.cc:155] Profiler session started.\n",
      "2021-11-08 09:47:20.992117: I tensorflow/core/profiler/lib/profiler_session.cc:71] Profiler session collecting data.\n",
      "2021-11-08 09:47:20.992795: I tensorflow/core/profiler/internal/gpu/cupti_tracer.cc:1487] CUPTI activity buffer flushed\n",
      "2021-11-08 09:47:21.125031: I tensorflow/core/profiler/internal/gpu/cupti_collector.cc:228]  GpuTracer has collected 363 callback api events and 351 activity events. \n",
      "2021-11-08 09:47:21.137274: I tensorflow/core/profiler/lib/profiler_session.cc:172] Profiler session tear down.\n",
      "2021-11-08 09:47:21.148191: I tensorflow/core/profiler/rpc/client/save_profile.cc:137] Creating directory: logs/model3-n10-k5-exp6/train/plugins/profile/2021_11_08_09_47_21\n",
      "2021-11-08 09:47:21.155964: I tensorflow/core/profiler/rpc/client/save_profile.cc:143] Dumped gzipped tool data for trace.json.gz to logs/model3-n10-k5-exp6/train/plugins/profile/2021_11_08_09_47_21/d29684dd295e.trace.json.gz\n",
      "2021-11-08 09:47:21.173551: I tensorflow/core/profiler/rpc/client/save_profile.cc:137] Creating directory: logs/model3-n10-k5-exp6/train/plugins/profile/2021_11_08_09_47_21\n",
      "2021-11-08 09:47:21.176805: I tensorflow/core/profiler/rpc/client/save_profile.cc:143] Dumped gzipped tool data for memory_profile.json.gz to logs/model3-n10-k5-exp6/train/plugins/profile/2021_11_08_09_47_21/d29684dd295e.memory_profile.json.gz\n",
      "2021-11-08 09:47:21.177703: I tensorflow/core/profiler/rpc/client/capture_profile.cc:251] Creating directory: logs/model3-n10-k5-exp6/train/plugins/profile/2021_11_08_09_47_21Dumped tool data for xplane.pb to logs/model3-n10-k5-exp6/train/plugins/profile/2021_11_08_09_47_21/d29684dd295e.xplane.pb\n",
      "Dumped tool data for overview_page.pb to logs/model3-n10-k5-exp6/train/plugins/profile/2021_11_08_09_47_21/d29684dd295e.overview_page.pb\n",
      "Dumped tool data for input_pipeline.pb to logs/model3-n10-k5-exp6/train/plugins/profile/2021_11_08_09_47_21/d29684dd295e.input_pipeline.pb\n",
      "Dumped tool data for tensorflow_stats.pb to logs/model3-n10-k5-exp6/train/plugins/profile/2021_11_08_09_47_21/d29684dd295e.tensorflow_stats.pb\n",
      "Dumped tool data for kernel_stats.pb to logs/model3-n10-k5-exp6/train/plugins/profile/2021_11_08_09_47_21/d29684dd295e.kernel_stats.pb\n",
      "\n"
     ]
    },
    {
     "name": "stdout",
     "output_type": "stream",
     "text": [
      "Epoch 00012: early stopping\n",
      "model3-exp6\n"
     ]
    },
    {
     "name": "stderr",
     "output_type": "stream",
     "text": [
      "2021-11-08 09:47:52.492083: I tensorflow/core/profiler/lib/profiler_session.cc:136] Profiler session initializing.\n",
      "2021-11-08 09:47:52.492139: I tensorflow/core/profiler/lib/profiler_session.cc:155] Profiler session started.\n",
      "2021-11-08 09:47:52.636417: I tensorflow/core/profiler/lib/profiler_session.cc:172] Profiler session tear down.\n",
      "2021-11-08 09:47:52.636573: I tensorflow/core/profiler/internal/gpu/cupti_tracer.cc:1487] CUPTI activity buffer flushed\n",
      "2021-11-08 09:47:56.440761: I tensorflow/core/profiler/lib/profiler_session.cc:136] Profiler session initializing.\n",
      "2021-11-08 09:47:56.440816: I tensorflow/core/profiler/lib/profiler_session.cc:155] Profiler session started.\n",
      "2021-11-08 09:47:56.781715: I tensorflow/core/profiler/lib/profiler_session.cc:71] Profiler session collecting data.\n",
      "2021-11-08 09:47:56.782389: I tensorflow/core/profiler/internal/gpu/cupti_tracer.cc:1487] CUPTI activity buffer flushed\n",
      "2021-11-08 09:47:56.916682: I tensorflow/core/profiler/internal/gpu/cupti_collector.cc:228]  GpuTracer has collected 363 callback api events and 351 activity events. \n",
      "2021-11-08 09:47:56.928874: I tensorflow/core/profiler/lib/profiler_session.cc:172] Profiler session tear down.\n",
      "2021-11-08 09:47:56.939761: I tensorflow/core/profiler/rpc/client/save_profile.cc:137] Creating directory: logs/model4-n10-k5-exp6/train/plugins/profile/2021_11_08_09_47_56\n",
      "2021-11-08 09:47:56.947823: I tensorflow/core/profiler/rpc/client/save_profile.cc:143] Dumped gzipped tool data for trace.json.gz to logs/model4-n10-k5-exp6/train/plugins/profile/2021_11_08_09_47_56/d29684dd295e.trace.json.gz\n",
      "2021-11-08 09:47:56.966095: I tensorflow/core/profiler/rpc/client/save_profile.cc:137] Creating directory: logs/model4-n10-k5-exp6/train/plugins/profile/2021_11_08_09_47_56\n",
      "2021-11-08 09:47:56.969211: I tensorflow/core/profiler/rpc/client/save_profile.cc:143] Dumped gzipped tool data for memory_profile.json.gz to logs/model4-n10-k5-exp6/train/plugins/profile/2021_11_08_09_47_56/d29684dd295e.memory_profile.json.gz\n",
      "2021-11-08 09:47:56.970178: I tensorflow/core/profiler/rpc/client/capture_profile.cc:251] Creating directory: logs/model4-n10-k5-exp6/train/plugins/profile/2021_11_08_09_47_56Dumped tool data for xplane.pb to logs/model4-n10-k5-exp6/train/plugins/profile/2021_11_08_09_47_56/d29684dd295e.xplane.pb\n",
      "Dumped tool data for overview_page.pb to logs/model4-n10-k5-exp6/train/plugins/profile/2021_11_08_09_47_56/d29684dd295e.overview_page.pb\n",
      "Dumped tool data for input_pipeline.pb to logs/model4-n10-k5-exp6/train/plugins/profile/2021_11_08_09_47_56/d29684dd295e.input_pipeline.pb\n",
      "Dumped tool data for tensorflow_stats.pb to logs/model4-n10-k5-exp6/train/plugins/profile/2021_11_08_09_47_56/d29684dd295e.tensorflow_stats.pb\n",
      "Dumped tool data for kernel_stats.pb to logs/model4-n10-k5-exp6/train/plugins/profile/2021_11_08_09_47_56/d29684dd295e.kernel_stats.pb\n",
      "\n"
     ]
    },
    {
     "name": "stdout",
     "output_type": "stream",
     "text": [
      "Epoch 00015: early stopping\n",
      "model4-exp6\n"
     ]
    },
    {
     "name": "stderr",
     "output_type": "stream",
     "text": [
      "2021-11-08 09:48:34.708082: I tensorflow/core/profiler/lib/profiler_session.cc:136] Profiler session initializing.\n",
      "2021-11-08 09:48:34.708130: I tensorflow/core/profiler/lib/profiler_session.cc:155] Profiler session started.\n",
      "2021-11-08 09:48:34.860100: I tensorflow/core/profiler/lib/profiler_session.cc:172] Profiler session tear down.\n",
      "2021-11-08 09:48:34.860245: I tensorflow/core/profiler/internal/gpu/cupti_tracer.cc:1487] CUPTI activity buffer flushed\n",
      "2021-11-08 09:48:37.561076: I tensorflow/core/profiler/lib/profiler_session.cc:136] Profiler session initializing.\n",
      "2021-11-08 09:48:37.561132: I tensorflow/core/profiler/lib/profiler_session.cc:155] Profiler session started.\n",
      "2021-11-08 09:48:37.898522: I tensorflow/core/profiler/lib/profiler_session.cc:71] Profiler session collecting data.\n",
      "2021-11-08 09:48:37.899183: I tensorflow/core/profiler/internal/gpu/cupti_tracer.cc:1487] CUPTI activity buffer flushed\n",
      "2021-11-08 09:48:38.036083: I tensorflow/core/profiler/internal/gpu/cupti_collector.cc:228]  GpuTracer has collected 363 callback api events and 351 activity events. \n",
      "2021-11-08 09:48:38.049635: I tensorflow/core/profiler/lib/profiler_session.cc:172] Profiler session tear down.\n",
      "2021-11-08 09:48:38.061889: I tensorflow/core/profiler/rpc/client/save_profile.cc:137] Creating directory: logs/model5-n10-k5-exp6/train/plugins/profile/2021_11_08_09_48_38\n",
      "2021-11-08 09:48:38.070107: I tensorflow/core/profiler/rpc/client/save_profile.cc:143] Dumped gzipped tool data for trace.json.gz to logs/model5-n10-k5-exp6/train/plugins/profile/2021_11_08_09_48_38/d29684dd295e.trace.json.gz\n",
      "2021-11-08 09:48:38.090611: I tensorflow/core/profiler/rpc/client/save_profile.cc:137] Creating directory: logs/model5-n10-k5-exp6/train/plugins/profile/2021_11_08_09_48_38\n",
      "2021-11-08 09:48:38.094355: I tensorflow/core/profiler/rpc/client/save_profile.cc:143] Dumped gzipped tool data for memory_profile.json.gz to logs/model5-n10-k5-exp6/train/plugins/profile/2021_11_08_09_48_38/d29684dd295e.memory_profile.json.gz\n",
      "2021-11-08 09:48:38.095656: I tensorflow/core/profiler/rpc/client/capture_profile.cc:251] Creating directory: logs/model5-n10-k5-exp6/train/plugins/profile/2021_11_08_09_48_38Dumped tool data for xplane.pb to logs/model5-n10-k5-exp6/train/plugins/profile/2021_11_08_09_48_38/d29684dd295e.xplane.pb\n",
      "Dumped tool data for overview_page.pb to logs/model5-n10-k5-exp6/train/plugins/profile/2021_11_08_09_48_38/d29684dd295e.overview_page.pb\n",
      "Dumped tool data for input_pipeline.pb to logs/model5-n10-k5-exp6/train/plugins/profile/2021_11_08_09_48_38/d29684dd295e.input_pipeline.pb\n",
      "Dumped tool data for tensorflow_stats.pb to logs/model5-n10-k5-exp6/train/plugins/profile/2021_11_08_09_48_38/d29684dd295e.tensorflow_stats.pb\n",
      "Dumped tool data for kernel_stats.pb to logs/model5-n10-k5-exp6/train/plugins/profile/2021_11_08_09_48_38/d29684dd295e.kernel_stats.pb\n",
      "\n"
     ]
    },
    {
     "name": "stdout",
     "output_type": "stream",
     "text": [
      "Epoch 00029: early stopping\n",
      "model5-exp6\n"
     ]
    },
    {
     "name": "stderr",
     "output_type": "stream",
     "text": [
      "2021-11-08 09:49:42.860468: I tensorflow/core/profiler/lib/profiler_session.cc:136] Profiler session initializing.\n",
      "2021-11-08 09:49:42.860522: I tensorflow/core/profiler/lib/profiler_session.cc:155] Profiler session started.\n",
      "2021-11-08 09:49:43.009103: I tensorflow/core/profiler/lib/profiler_session.cc:172] Profiler session tear down.\n",
      "2021-11-08 09:49:43.009252: I tensorflow/core/profiler/internal/gpu/cupti_tracer.cc:1487] CUPTI activity buffer flushed\n",
      "2021-11-08 09:49:46.172655: I tensorflow/core/profiler/lib/profiler_session.cc:136] Profiler session initializing.\n",
      "2021-11-08 09:49:46.172715: I tensorflow/core/profiler/lib/profiler_session.cc:155] Profiler session started.\n",
      "2021-11-08 09:49:46.514181: I tensorflow/core/profiler/lib/profiler_session.cc:71] Profiler session collecting data.\n",
      "2021-11-08 09:49:46.514914: I tensorflow/core/profiler/internal/gpu/cupti_tracer.cc:1487] CUPTI activity buffer flushed\n",
      "2021-11-08 09:49:46.648370: I tensorflow/core/profiler/internal/gpu/cupti_collector.cc:228]  GpuTracer has collected 367 callback api events and 355 activity events. \n",
      "2021-11-08 09:49:46.661804: I tensorflow/core/profiler/lib/profiler_session.cc:172] Profiler session tear down.\n",
      "2021-11-08 09:49:46.674119: I tensorflow/core/profiler/rpc/client/save_profile.cc:137] Creating directory: logs/model6-n10-k5-exp6/train/plugins/profile/2021_11_08_09_49_46\n",
      "2021-11-08 09:49:46.682206: I tensorflow/core/profiler/rpc/client/save_profile.cc:143] Dumped gzipped tool data for trace.json.gz to logs/model6-n10-k5-exp6/train/plugins/profile/2021_11_08_09_49_46/d29684dd295e.trace.json.gz\n",
      "2021-11-08 09:49:46.701276: I tensorflow/core/profiler/rpc/client/save_profile.cc:137] Creating directory: logs/model6-n10-k5-exp6/train/plugins/profile/2021_11_08_09_49_46\n",
      "2021-11-08 09:49:46.704854: I tensorflow/core/profiler/rpc/client/save_profile.cc:143] Dumped gzipped tool data for memory_profile.json.gz to logs/model6-n10-k5-exp6/train/plugins/profile/2021_11_08_09_49_46/d29684dd295e.memory_profile.json.gz\n",
      "2021-11-08 09:49:46.705942: I tensorflow/core/profiler/rpc/client/capture_profile.cc:251] Creating directory: logs/model6-n10-k5-exp6/train/plugins/profile/2021_11_08_09_49_46Dumped tool data for xplane.pb to logs/model6-n10-k5-exp6/train/plugins/profile/2021_11_08_09_49_46/d29684dd295e.xplane.pb\n",
      "Dumped tool data for overview_page.pb to logs/model6-n10-k5-exp6/train/plugins/profile/2021_11_08_09_49_46/d29684dd295e.overview_page.pb\n",
      "Dumped tool data for input_pipeline.pb to logs/model6-n10-k5-exp6/train/plugins/profile/2021_11_08_09_49_46/d29684dd295e.input_pipeline.pb\n",
      "Dumped tool data for tensorflow_stats.pb to logs/model6-n10-k5-exp6/train/plugins/profile/2021_11_08_09_49_46/d29684dd295e.tensorflow_stats.pb\n",
      "Dumped tool data for kernel_stats.pb to logs/model6-n10-k5-exp6/train/plugins/profile/2021_11_08_09_49_46/d29684dd295e.kernel_stats.pb\n",
      "\n"
     ]
    },
    {
     "name": "stdout",
     "output_type": "stream",
     "text": [
      "Epoch 00015: early stopping\n",
      "model6-exp6\n"
     ]
    },
    {
     "name": "stderr",
     "output_type": "stream",
     "text": [
      "2021-11-08 09:50:20.911049: I tensorflow/core/profiler/lib/profiler_session.cc:136] Profiler session initializing.\n",
      "2021-11-08 09:50:20.911108: I tensorflow/core/profiler/lib/profiler_session.cc:155] Profiler session started.\n",
      "2021-11-08 09:50:21.064843: I tensorflow/core/profiler/lib/profiler_session.cc:172] Profiler session tear down.\n",
      "2021-11-08 09:50:21.064986: I tensorflow/core/profiler/internal/gpu/cupti_tracer.cc:1487] CUPTI activity buffer flushed\n",
      "2021-11-08 09:50:23.875257: I tensorflow/core/profiler/lib/profiler_session.cc:136] Profiler session initializing.\n",
      "2021-11-08 09:50:23.875313: I tensorflow/core/profiler/lib/profiler_session.cc:155] Profiler session started.\n",
      "2021-11-08 09:50:24.401883: I tensorflow/core/profiler/lib/profiler_session.cc:71] Profiler session collecting data.\n",
      "2021-11-08 09:50:24.402552: I tensorflow/core/profiler/internal/gpu/cupti_tracer.cc:1487] CUPTI activity buffer flushed\n",
      "2021-11-08 09:50:24.535595: I tensorflow/core/profiler/internal/gpu/cupti_collector.cc:228]  GpuTracer has collected 367 callback api events and 355 activity events. \n",
      "2021-11-08 09:50:24.548323: I tensorflow/core/profiler/lib/profiler_session.cc:172] Profiler session tear down.\n",
      "2021-11-08 09:50:24.560048: I tensorflow/core/profiler/rpc/client/save_profile.cc:137] Creating directory: logs/model7-n10-k5-exp6/train/plugins/profile/2021_11_08_09_50_24\n",
      "2021-11-08 09:50:24.568035: I tensorflow/core/profiler/rpc/client/save_profile.cc:143] Dumped gzipped tool data for trace.json.gz to logs/model7-n10-k5-exp6/train/plugins/profile/2021_11_08_09_50_24/d29684dd295e.trace.json.gz\n",
      "2021-11-08 09:50:24.586314: I tensorflow/core/profiler/rpc/client/save_profile.cc:137] Creating directory: logs/model7-n10-k5-exp6/train/plugins/profile/2021_11_08_09_50_24\n",
      "2021-11-08 09:50:24.589850: I tensorflow/core/profiler/rpc/client/save_profile.cc:143] Dumped gzipped tool data for memory_profile.json.gz to logs/model7-n10-k5-exp6/train/plugins/profile/2021_11_08_09_50_24/d29684dd295e.memory_profile.json.gz\n",
      "2021-11-08 09:50:24.590862: I tensorflow/core/profiler/rpc/client/capture_profile.cc:251] Creating directory: logs/model7-n10-k5-exp6/train/plugins/profile/2021_11_08_09_50_24Dumped tool data for xplane.pb to logs/model7-n10-k5-exp6/train/plugins/profile/2021_11_08_09_50_24/d29684dd295e.xplane.pb\n",
      "Dumped tool data for overview_page.pb to logs/model7-n10-k5-exp6/train/plugins/profile/2021_11_08_09_50_24/d29684dd295e.overview_page.pb\n",
      "Dumped tool data for input_pipeline.pb to logs/model7-n10-k5-exp6/train/plugins/profile/2021_11_08_09_50_24/d29684dd295e.input_pipeline.pb\n",
      "Dumped tool data for tensorflow_stats.pb to logs/model7-n10-k5-exp6/train/plugins/profile/2021_11_08_09_50_24/d29684dd295e.tensorflow_stats.pb\n",
      "Dumped tool data for kernel_stats.pb to logs/model7-n10-k5-exp6/train/plugins/profile/2021_11_08_09_50_24/d29684dd295e.kernel_stats.pb\n",
      "\n"
     ]
    },
    {
     "name": "stdout",
     "output_type": "stream",
     "text": [
      "Epoch 00018: early stopping\n",
      "model7-exp6\n",
      "random 7\n"
     ]
    },
    {
     "name": "stderr",
     "output_type": "stream",
     "text": [
      "2021-11-08 09:51:08.285733: I tensorflow/core/profiler/lib/profiler_session.cc:136] Profiler session initializing.\n",
      "2021-11-08 09:51:08.285801: I tensorflow/core/profiler/lib/profiler_session.cc:155] Profiler session started.\n",
      "2021-11-08 09:51:08.458602: I tensorflow/core/profiler/lib/profiler_session.cc:172] Profiler session tear down.\n",
      "2021-11-08 09:51:08.458758: I tensorflow/core/profiler/internal/gpu/cupti_tracer.cc:1487] CUPTI activity buffer flushed\n",
      "2021-11-08 09:51:10.771583: I tensorflow/core/profiler/lib/profiler_session.cc:136] Profiler session initializing.\n",
      "2021-11-08 09:51:10.771640: I tensorflow/core/profiler/lib/profiler_session.cc:155] Profiler session started.\n",
      "2021-11-08 09:51:11.081843: I tensorflow/core/profiler/lib/profiler_session.cc:71] Profiler session collecting data.\n",
      "2021-11-08 09:51:11.082357: I tensorflow/core/profiler/internal/gpu/cupti_tracer.cc:1487] CUPTI activity buffer flushed\n",
      "2021-11-08 09:51:11.213232: I tensorflow/core/profiler/internal/gpu/cupti_collector.cc:228]  GpuTracer has collected 308 callback api events and 296 activity events. \n",
      "2021-11-08 09:51:11.223768: I tensorflow/core/profiler/lib/profiler_session.cc:172] Profiler session tear down.\n",
      "2021-11-08 09:51:11.232813: I tensorflow/core/profiler/rpc/client/save_profile.cc:137] Creating directory: logs/model1-n10-k5-exp7/train/plugins/profile/2021_11_08_09_51_11\n",
      "2021-11-08 09:51:11.239111: I tensorflow/core/profiler/rpc/client/save_profile.cc:143] Dumped gzipped tool data for trace.json.gz to logs/model1-n10-k5-exp7/train/plugins/profile/2021_11_08_09_51_11/d29684dd295e.trace.json.gz\n",
      "2021-11-08 09:51:11.254511: I tensorflow/core/profiler/rpc/client/save_profile.cc:137] Creating directory: logs/model1-n10-k5-exp7/train/plugins/profile/2021_11_08_09_51_11\n",
      "2021-11-08 09:51:11.257287: I tensorflow/core/profiler/rpc/client/save_profile.cc:143] Dumped gzipped tool data for memory_profile.json.gz to logs/model1-n10-k5-exp7/train/plugins/profile/2021_11_08_09_51_11/d29684dd295e.memory_profile.json.gz\n",
      "2021-11-08 09:51:11.258117: I tensorflow/core/profiler/rpc/client/capture_profile.cc:251] Creating directory: logs/model1-n10-k5-exp7/train/plugins/profile/2021_11_08_09_51_11Dumped tool data for xplane.pb to logs/model1-n10-k5-exp7/train/plugins/profile/2021_11_08_09_51_11/d29684dd295e.xplane.pb\n",
      "Dumped tool data for overview_page.pb to logs/model1-n10-k5-exp7/train/plugins/profile/2021_11_08_09_51_11/d29684dd295e.overview_page.pb\n",
      "Dumped tool data for input_pipeline.pb to logs/model1-n10-k5-exp7/train/plugins/profile/2021_11_08_09_51_11/d29684dd295e.input_pipeline.pb\n",
      "Dumped tool data for tensorflow_stats.pb to logs/model1-n10-k5-exp7/train/plugins/profile/2021_11_08_09_51_11/d29684dd295e.tensorflow_stats.pb\n",
      "Dumped tool data for kernel_stats.pb to logs/model1-n10-k5-exp7/train/plugins/profile/2021_11_08_09_51_11/d29684dd295e.kernel_stats.pb\n",
      "\n"
     ]
    },
    {
     "name": "stdout",
     "output_type": "stream",
     "text": [
      "Epoch 00022: early stopping\n",
      "model1-exp7\n"
     ]
    },
    {
     "name": "stderr",
     "output_type": "stream",
     "text": [
      "2021-11-08 09:51:58.183616: I tensorflow/core/profiler/lib/profiler_session.cc:136] Profiler session initializing.\n",
      "2021-11-08 09:51:58.183673: I tensorflow/core/profiler/lib/profiler_session.cc:155] Profiler session started.\n",
      "2021-11-08 09:51:58.328986: I tensorflow/core/profiler/lib/profiler_session.cc:172] Profiler session tear down.\n",
      "2021-11-08 09:51:58.329146: I tensorflow/core/profiler/internal/gpu/cupti_tracer.cc:1487] CUPTI activity buffer flushed\n",
      "2021-11-08 09:52:00.948801: I tensorflow/core/profiler/lib/profiler_session.cc:136] Profiler session initializing.\n",
      "2021-11-08 09:52:00.948862: I tensorflow/core/profiler/lib/profiler_session.cc:155] Profiler session started.\n",
      "2021-11-08 09:52:01.269941: I tensorflow/core/profiler/lib/profiler_session.cc:71] Profiler session collecting data.\n",
      "2021-11-08 09:52:01.270538: I tensorflow/core/profiler/internal/gpu/cupti_tracer.cc:1487] CUPTI activity buffer flushed\n",
      "2021-11-08 09:52:01.402709: I tensorflow/core/profiler/internal/gpu/cupti_collector.cc:228]  GpuTracer has collected 359 callback api events and 347 activity events. \n",
      "2021-11-08 09:52:01.415022: I tensorflow/core/profiler/lib/profiler_session.cc:172] Profiler session tear down.\n",
      "2021-11-08 09:52:01.425480: I tensorflow/core/profiler/rpc/client/save_profile.cc:137] Creating directory: logs/model2-n10-k5-exp7/train/plugins/profile/2021_11_08_09_52_01\n",
      "2021-11-08 09:52:01.433051: I tensorflow/core/profiler/rpc/client/save_profile.cc:143] Dumped gzipped tool data for trace.json.gz to logs/model2-n10-k5-exp7/train/plugins/profile/2021_11_08_09_52_01/d29684dd295e.trace.json.gz\n",
      "2021-11-08 09:52:01.449728: I tensorflow/core/profiler/rpc/client/save_profile.cc:137] Creating directory: logs/model2-n10-k5-exp7/train/plugins/profile/2021_11_08_09_52_01\n",
      "2021-11-08 09:52:01.452965: I tensorflow/core/profiler/rpc/client/save_profile.cc:143] Dumped gzipped tool data for memory_profile.json.gz to logs/model2-n10-k5-exp7/train/plugins/profile/2021_11_08_09_52_01/d29684dd295e.memory_profile.json.gz\n",
      "2021-11-08 09:52:01.453959: I tensorflow/core/profiler/rpc/client/capture_profile.cc:251] Creating directory: logs/model2-n10-k5-exp7/train/plugins/profile/2021_11_08_09_52_01Dumped tool data for xplane.pb to logs/model2-n10-k5-exp7/train/plugins/profile/2021_11_08_09_52_01/d29684dd295e.xplane.pb\n",
      "Dumped tool data for overview_page.pb to logs/model2-n10-k5-exp7/train/plugins/profile/2021_11_08_09_52_01/d29684dd295e.overview_page.pb\n",
      "Dumped tool data for input_pipeline.pb to logs/model2-n10-k5-exp7/train/plugins/profile/2021_11_08_09_52_01/d29684dd295e.input_pipeline.pb\n",
      "Dumped tool data for tensorflow_stats.pb to logs/model2-n10-k5-exp7/train/plugins/profile/2021_11_08_09_52_01/d29684dd295e.tensorflow_stats.pb\n",
      "Dumped tool data for kernel_stats.pb to logs/model2-n10-k5-exp7/train/plugins/profile/2021_11_08_09_52_01/d29684dd295e.kernel_stats.pb\n",
      "\n"
     ]
    },
    {
     "name": "stdout",
     "output_type": "stream",
     "text": [
      "Epoch 00014: early stopping\n",
      "model2-exp7\n"
     ]
    },
    {
     "name": "stderr",
     "output_type": "stream",
     "text": [
      "2021-11-08 09:52:37.645523: I tensorflow/core/profiler/lib/profiler_session.cc:136] Profiler session initializing.\n",
      "2021-11-08 09:52:37.645591: I tensorflow/core/profiler/lib/profiler_session.cc:155] Profiler session started.\n",
      "2021-11-08 09:52:37.860484: I tensorflow/core/profiler/lib/profiler_session.cc:172] Profiler session tear down.\n",
      "2021-11-08 09:52:37.860620: I tensorflow/core/profiler/internal/gpu/cupti_tracer.cc:1487] CUPTI activity buffer flushed\n",
      "2021-11-08 09:52:40.634404: I tensorflow/core/profiler/lib/profiler_session.cc:136] Profiler session initializing.\n",
      "2021-11-08 09:52:40.634470: I tensorflow/core/profiler/lib/profiler_session.cc:155] Profiler session started.\n",
      "2021-11-08 09:52:40.977742: I tensorflow/core/profiler/lib/profiler_session.cc:71] Profiler session collecting data.\n",
      "2021-11-08 09:52:40.978473: I tensorflow/core/profiler/internal/gpu/cupti_tracer.cc:1487] CUPTI activity buffer flushed\n",
      "2021-11-08 09:52:41.112783: I tensorflow/core/profiler/internal/gpu/cupti_collector.cc:228]  GpuTracer has collected 363 callback api events and 351 activity events. \n",
      "2021-11-08 09:52:41.125555: I tensorflow/core/profiler/lib/profiler_session.cc:172] Profiler session tear down.\n",
      "2021-11-08 09:52:41.137251: I tensorflow/core/profiler/rpc/client/save_profile.cc:137] Creating directory: logs/model3-n10-k5-exp7/train/plugins/profile/2021_11_08_09_52_41\n",
      "2021-11-08 09:52:41.144954: I tensorflow/core/profiler/rpc/client/save_profile.cc:143] Dumped gzipped tool data for trace.json.gz to logs/model3-n10-k5-exp7/train/plugins/profile/2021_11_08_09_52_41/d29684dd295e.trace.json.gz\n",
      "2021-11-08 09:52:41.164053: I tensorflow/core/profiler/rpc/client/save_profile.cc:137] Creating directory: logs/model3-n10-k5-exp7/train/plugins/profile/2021_11_08_09_52_41\n",
      "2021-11-08 09:52:41.167498: I tensorflow/core/profiler/rpc/client/save_profile.cc:143] Dumped gzipped tool data for memory_profile.json.gz to logs/model3-n10-k5-exp7/train/plugins/profile/2021_11_08_09_52_41/d29684dd295e.memory_profile.json.gz\n",
      "2021-11-08 09:52:41.168542: I tensorflow/core/profiler/rpc/client/capture_profile.cc:251] Creating directory: logs/model3-n10-k5-exp7/train/plugins/profile/2021_11_08_09_52_41Dumped tool data for xplane.pb to logs/model3-n10-k5-exp7/train/plugins/profile/2021_11_08_09_52_41/d29684dd295e.xplane.pb\n",
      "Dumped tool data for overview_page.pb to logs/model3-n10-k5-exp7/train/plugins/profile/2021_11_08_09_52_41/d29684dd295e.overview_page.pb\n",
      "Dumped tool data for input_pipeline.pb to logs/model3-n10-k5-exp7/train/plugins/profile/2021_11_08_09_52_41/d29684dd295e.input_pipeline.pb\n",
      "Dumped tool data for tensorflow_stats.pb to logs/model3-n10-k5-exp7/train/plugins/profile/2021_11_08_09_52_41/d29684dd295e.tensorflow_stats.pb\n",
      "Dumped tool data for kernel_stats.pb to logs/model3-n10-k5-exp7/train/plugins/profile/2021_11_08_09_52_41/d29684dd295e.kernel_stats.pb\n",
      "\n"
     ]
    },
    {
     "name": "stdout",
     "output_type": "stream",
     "text": [
      "Epoch 00016: early stopping\n",
      "model3-exp7\n"
     ]
    },
    {
     "name": "stderr",
     "output_type": "stream",
     "text": [
      "2021-11-08 09:53:22.440355: I tensorflow/core/profiler/lib/profiler_session.cc:136] Profiler session initializing.\n",
      "2021-11-08 09:53:22.440411: I tensorflow/core/profiler/lib/profiler_session.cc:155] Profiler session started.\n",
      "2021-11-08 09:53:22.591694: I tensorflow/core/profiler/lib/profiler_session.cc:172] Profiler session tear down.\n",
      "2021-11-08 09:53:22.591859: I tensorflow/core/profiler/internal/gpu/cupti_tracer.cc:1487] CUPTI activity buffer flushed\n",
      "2021-11-08 09:53:25.291280: I tensorflow/core/profiler/lib/profiler_session.cc:136] Profiler session initializing.\n",
      "2021-11-08 09:53:25.291336: I tensorflow/core/profiler/lib/profiler_session.cc:155] Profiler session started.\n",
      "2021-11-08 09:53:25.625922: I tensorflow/core/profiler/lib/profiler_session.cc:71] Profiler session collecting data.\n",
      "2021-11-08 09:53:25.626564: I tensorflow/core/profiler/internal/gpu/cupti_tracer.cc:1487] CUPTI activity buffer flushed\n",
      "2021-11-08 09:53:25.759805: I tensorflow/core/profiler/internal/gpu/cupti_collector.cc:228]  GpuTracer has collected 363 callback api events and 351 activity events. \n",
      "2021-11-08 09:53:25.781844: I tensorflow/core/profiler/lib/profiler_session.cc:172] Profiler session tear down.\n",
      "2021-11-08 09:53:25.794233: I tensorflow/core/profiler/rpc/client/save_profile.cc:137] Creating directory: logs/model4-n10-k5-exp7/train/plugins/profile/2021_11_08_09_53_25\n",
      "2021-11-08 09:53:25.802494: I tensorflow/core/profiler/rpc/client/save_profile.cc:143] Dumped gzipped tool data for trace.json.gz to logs/model4-n10-k5-exp7/train/plugins/profile/2021_11_08_09_53_25/d29684dd295e.trace.json.gz\n",
      "2021-11-08 09:53:25.822742: I tensorflow/core/profiler/rpc/client/save_profile.cc:137] Creating directory: logs/model4-n10-k5-exp7/train/plugins/profile/2021_11_08_09_53_25\n",
      "2021-11-08 09:53:25.826354: I tensorflow/core/profiler/rpc/client/save_profile.cc:143] Dumped gzipped tool data for memory_profile.json.gz to logs/model4-n10-k5-exp7/train/plugins/profile/2021_11_08_09_53_25/d29684dd295e.memory_profile.json.gz\n",
      "2021-11-08 09:53:25.827462: I tensorflow/core/profiler/rpc/client/capture_profile.cc:251] Creating directory: logs/model4-n10-k5-exp7/train/plugins/profile/2021_11_08_09_53_25Dumped tool data for xplane.pb to logs/model4-n10-k5-exp7/train/plugins/profile/2021_11_08_09_53_25/d29684dd295e.xplane.pb\n",
      "Dumped tool data for overview_page.pb to logs/model4-n10-k5-exp7/train/plugins/profile/2021_11_08_09_53_25/d29684dd295e.overview_page.pb\n",
      "Dumped tool data for input_pipeline.pb to logs/model4-n10-k5-exp7/train/plugins/profile/2021_11_08_09_53_25/d29684dd295e.input_pipeline.pb\n",
      "Dumped tool data for tensorflow_stats.pb to logs/model4-n10-k5-exp7/train/plugins/profile/2021_11_08_09_53_25/d29684dd295e.tensorflow_stats.pb\n",
      "Dumped tool data for kernel_stats.pb to logs/model4-n10-k5-exp7/train/plugins/profile/2021_11_08_09_53_25/d29684dd295e.kernel_stats.pb\n",
      "\n"
     ]
    },
    {
     "name": "stdout",
     "output_type": "stream",
     "text": [
      "Epoch 00016: early stopping\n",
      "model4-exp7\n"
     ]
    },
    {
     "name": "stderr",
     "output_type": "stream",
     "text": [
      "2021-11-08 09:54:05.561448: I tensorflow/core/profiler/lib/profiler_session.cc:136] Profiler session initializing.\n",
      "2021-11-08 09:54:05.561505: I tensorflow/core/profiler/lib/profiler_session.cc:155] Profiler session started.\n",
      "2021-11-08 09:54:05.710889: I tensorflow/core/profiler/lib/profiler_session.cc:172] Profiler session tear down.\n",
      "2021-11-08 09:54:05.711035: I tensorflow/core/profiler/internal/gpu/cupti_tracer.cc:1487] CUPTI activity buffer flushed\n",
      "2021-11-08 09:54:08.700407: I tensorflow/core/profiler/lib/profiler_session.cc:136] Profiler session initializing.\n",
      "2021-11-08 09:54:08.700478: I tensorflow/core/profiler/lib/profiler_session.cc:155] Profiler session started.\n",
      "2021-11-08 09:54:09.051970: I tensorflow/core/profiler/lib/profiler_session.cc:71] Profiler session collecting data.\n",
      "2021-11-08 09:54:09.052605: I tensorflow/core/profiler/internal/gpu/cupti_tracer.cc:1487] CUPTI activity buffer flushed\n",
      "2021-11-08 09:54:09.186970: I tensorflow/core/profiler/internal/gpu/cupti_collector.cc:228]  GpuTracer has collected 363 callback api events and 351 activity events. \n",
      "2021-11-08 09:54:09.199872: I tensorflow/core/profiler/lib/profiler_session.cc:172] Profiler session tear down.\n",
      "2021-11-08 09:54:09.211864: I tensorflow/core/profiler/rpc/client/save_profile.cc:137] Creating directory: logs/model5-n10-k5-exp7/train/plugins/profile/2021_11_08_09_54_09\n",
      "2021-11-08 09:54:09.220006: I tensorflow/core/profiler/rpc/client/save_profile.cc:143] Dumped gzipped tool data for trace.json.gz to logs/model5-n10-k5-exp7/train/plugins/profile/2021_11_08_09_54_09/d29684dd295e.trace.json.gz\n",
      "2021-11-08 09:54:09.238930: I tensorflow/core/profiler/rpc/client/save_profile.cc:137] Creating directory: logs/model5-n10-k5-exp7/train/plugins/profile/2021_11_08_09_54_09\n",
      "2021-11-08 09:54:09.242367: I tensorflow/core/profiler/rpc/client/save_profile.cc:143] Dumped gzipped tool data for memory_profile.json.gz to logs/model5-n10-k5-exp7/train/plugins/profile/2021_11_08_09_54_09/d29684dd295e.memory_profile.json.gz\n",
      "2021-11-08 09:54:09.243421: I tensorflow/core/profiler/rpc/client/capture_profile.cc:251] Creating directory: logs/model5-n10-k5-exp7/train/plugins/profile/2021_11_08_09_54_09Dumped tool data for xplane.pb to logs/model5-n10-k5-exp7/train/plugins/profile/2021_11_08_09_54_09/d29684dd295e.xplane.pb\n",
      "Dumped tool data for overview_page.pb to logs/model5-n10-k5-exp7/train/plugins/profile/2021_11_08_09_54_09/d29684dd295e.overview_page.pb\n",
      "Dumped tool data for input_pipeline.pb to logs/model5-n10-k5-exp7/train/plugins/profile/2021_11_08_09_54_09/d29684dd295e.input_pipeline.pb\n",
      "Dumped tool data for tensorflow_stats.pb to logs/model5-n10-k5-exp7/train/plugins/profile/2021_11_08_09_54_09/d29684dd295e.tensorflow_stats.pb\n",
      "Dumped tool data for kernel_stats.pb to logs/model5-n10-k5-exp7/train/plugins/profile/2021_11_08_09_54_09/d29684dd295e.kernel_stats.pb\n",
      "\n"
     ]
    },
    {
     "name": "stdout",
     "output_type": "stream",
     "text": [
      "Epoch 00023: early stopping\n",
      "model5-exp7\n"
     ]
    },
    {
     "name": "stderr",
     "output_type": "stream",
     "text": [
      "2021-11-08 09:55:01.179678: I tensorflow/core/profiler/lib/profiler_session.cc:136] Profiler session initializing.\n",
      "2021-11-08 09:55:01.179741: I tensorflow/core/profiler/lib/profiler_session.cc:155] Profiler session started.\n",
      "2021-11-08 09:55:01.327614: I tensorflow/core/profiler/lib/profiler_session.cc:172] Profiler session tear down.\n",
      "2021-11-08 09:55:01.327764: I tensorflow/core/profiler/internal/gpu/cupti_tracer.cc:1487] CUPTI activity buffer flushed\n",
      "2021-11-08 09:55:04.131359: I tensorflow/core/profiler/lib/profiler_session.cc:136] Profiler session initializing.\n",
      "2021-11-08 09:55:04.131427: I tensorflow/core/profiler/lib/profiler_session.cc:155] Profiler session started.\n",
      "2021-11-08 09:55:04.464229: I tensorflow/core/profiler/lib/profiler_session.cc:71] Profiler session collecting data.\n",
      "2021-11-08 09:55:04.464823: I tensorflow/core/profiler/internal/gpu/cupti_tracer.cc:1487] CUPTI activity buffer flushed\n",
      "2021-11-08 09:55:04.597581: I tensorflow/core/profiler/internal/gpu/cupti_collector.cc:228]  GpuTracer has collected 367 callback api events and 355 activity events. \n",
      "2021-11-08 09:55:04.609971: I tensorflow/core/profiler/lib/profiler_session.cc:172] Profiler session tear down.\n",
      "2021-11-08 09:55:04.621246: I tensorflow/core/profiler/rpc/client/save_profile.cc:137] Creating directory: logs/model6-n10-k5-exp7/train/plugins/profile/2021_11_08_09_55_04\n",
      "2021-11-08 09:55:04.629088: I tensorflow/core/profiler/rpc/client/save_profile.cc:143] Dumped gzipped tool data for trace.json.gz to logs/model6-n10-k5-exp7/train/plugins/profile/2021_11_08_09_55_04/d29684dd295e.trace.json.gz\n",
      "2021-11-08 09:55:04.646938: I tensorflow/core/profiler/rpc/client/save_profile.cc:137] Creating directory: logs/model6-n10-k5-exp7/train/plugins/profile/2021_11_08_09_55_04\n",
      "2021-11-08 09:55:04.650397: I tensorflow/core/profiler/rpc/client/save_profile.cc:143] Dumped gzipped tool data for memory_profile.json.gz to logs/model6-n10-k5-exp7/train/plugins/profile/2021_11_08_09_55_04/d29684dd295e.memory_profile.json.gz\n",
      "2021-11-08 09:55:04.651348: I tensorflow/core/profiler/rpc/client/capture_profile.cc:251] Creating directory: logs/model6-n10-k5-exp7/train/plugins/profile/2021_11_08_09_55_04Dumped tool data for xplane.pb to logs/model6-n10-k5-exp7/train/plugins/profile/2021_11_08_09_55_04/d29684dd295e.xplane.pb\n",
      "Dumped tool data for overview_page.pb to logs/model6-n10-k5-exp7/train/plugins/profile/2021_11_08_09_55_04/d29684dd295e.overview_page.pb\n",
      "Dumped tool data for input_pipeline.pb to logs/model6-n10-k5-exp7/train/plugins/profile/2021_11_08_09_55_04/d29684dd295e.input_pipeline.pb\n",
      "Dumped tool data for tensorflow_stats.pb to logs/model6-n10-k5-exp7/train/plugins/profile/2021_11_08_09_55_04/d29684dd295e.tensorflow_stats.pb\n",
      "Dumped tool data for kernel_stats.pb to logs/model6-n10-k5-exp7/train/plugins/profile/2021_11_08_09_55_04/d29684dd295e.kernel_stats.pb\n",
      "\n"
     ]
    },
    {
     "name": "stdout",
     "output_type": "stream",
     "text": [
      "Epoch 00014: early stopping\n",
      "model6-exp7\n"
     ]
    },
    {
     "name": "stderr",
     "output_type": "stream",
     "text": [
      "2021-11-08 09:55:37.014850: I tensorflow/core/profiler/lib/profiler_session.cc:136] Profiler session initializing.\n",
      "2021-11-08 09:55:37.014926: I tensorflow/core/profiler/lib/profiler_session.cc:155] Profiler session started.\n",
      "2021-11-08 09:55:37.161416: I tensorflow/core/profiler/lib/profiler_session.cc:172] Profiler session tear down.\n",
      "2021-11-08 09:55:37.161648: I tensorflow/core/profiler/internal/gpu/cupti_tracer.cc:1487] CUPTI activity buffer flushed\n",
      "2021-11-08 09:55:39.926387: I tensorflow/core/profiler/lib/profiler_session.cc:136] Profiler session initializing.\n",
      "2021-11-08 09:55:39.926472: I tensorflow/core/profiler/lib/profiler_session.cc:155] Profiler session started.\n",
      "2021-11-08 09:55:40.264256: I tensorflow/core/profiler/lib/profiler_session.cc:71] Profiler session collecting data.\n",
      "2021-11-08 09:55:40.264901: I tensorflow/core/profiler/internal/gpu/cupti_tracer.cc:1487] CUPTI activity buffer flushed\n",
      "2021-11-08 09:55:40.398394: I tensorflow/core/profiler/internal/gpu/cupti_collector.cc:228]  GpuTracer has collected 367 callback api events and 355 activity events. \n",
      "2021-11-08 09:55:40.411256: I tensorflow/core/profiler/lib/profiler_session.cc:172] Profiler session tear down.\n",
      "2021-11-08 09:55:40.422946: I tensorflow/core/profiler/rpc/client/save_profile.cc:137] Creating directory: logs/model7-n10-k5-exp7/train/plugins/profile/2021_11_08_09_55_40\n",
      "2021-11-08 09:55:40.430840: I tensorflow/core/profiler/rpc/client/save_profile.cc:143] Dumped gzipped tool data for trace.json.gz to logs/model7-n10-k5-exp7/train/plugins/profile/2021_11_08_09_55_40/d29684dd295e.trace.json.gz\n",
      "2021-11-08 09:55:40.449237: I tensorflow/core/profiler/rpc/client/save_profile.cc:137] Creating directory: logs/model7-n10-k5-exp7/train/plugins/profile/2021_11_08_09_55_40\n",
      "2021-11-08 09:55:40.452748: I tensorflow/core/profiler/rpc/client/save_profile.cc:143] Dumped gzipped tool data for memory_profile.json.gz to logs/model7-n10-k5-exp7/train/plugins/profile/2021_11_08_09_55_40/d29684dd295e.memory_profile.json.gz\n",
      "2021-11-08 09:55:40.453825: I tensorflow/core/profiler/rpc/client/capture_profile.cc:251] Creating directory: logs/model7-n10-k5-exp7/train/plugins/profile/2021_11_08_09_55_40Dumped tool data for xplane.pb to logs/model7-n10-k5-exp7/train/plugins/profile/2021_11_08_09_55_40/d29684dd295e.xplane.pb\n",
      "Dumped tool data for overview_page.pb to logs/model7-n10-k5-exp7/train/plugins/profile/2021_11_08_09_55_40/d29684dd295e.overview_page.pb\n",
      "Dumped tool data for input_pipeline.pb to logs/model7-n10-k5-exp7/train/plugins/profile/2021_11_08_09_55_40/d29684dd295e.input_pipeline.pb\n",
      "Dumped tool data for tensorflow_stats.pb to logs/model7-n10-k5-exp7/train/plugins/profile/2021_11_08_09_55_40/d29684dd295e.tensorflow_stats.pb\n",
      "Dumped tool data for kernel_stats.pb to logs/model7-n10-k5-exp7/train/plugins/profile/2021_11_08_09_55_40/d29684dd295e.kernel_stats.pb\n",
      "\n"
     ]
    },
    {
     "name": "stdout",
     "output_type": "stream",
     "text": [
      "Epoch 00018: early stopping\n",
      "model7-exp7\n",
      "random 8\n"
     ]
    },
    {
     "name": "stderr",
     "output_type": "stream",
     "text": [
      "2021-11-08 09:56:23.994350: I tensorflow/core/profiler/lib/profiler_session.cc:136] Profiler session initializing.\n",
      "2021-11-08 09:56:23.994413: I tensorflow/core/profiler/lib/profiler_session.cc:155] Profiler session started.\n",
      "2021-11-08 09:56:24.142065: I tensorflow/core/profiler/lib/profiler_session.cc:172] Profiler session tear down.\n",
      "2021-11-08 09:56:24.142221: I tensorflow/core/profiler/internal/gpu/cupti_tracer.cc:1487] CUPTI activity buffer flushed\n",
      "2021-11-08 09:56:27.701903: I tensorflow/core/profiler/lib/profiler_session.cc:136] Profiler session initializing.\n",
      "2021-11-08 09:56:27.701958: I tensorflow/core/profiler/lib/profiler_session.cc:155] Profiler session started.\n",
      "2021-11-08 09:56:28.031192: I tensorflow/core/profiler/lib/profiler_session.cc:71] Profiler session collecting data.\n",
      "2021-11-08 09:56:28.032490: I tensorflow/core/profiler/internal/gpu/cupti_tracer.cc:1487] CUPTI activity buffer flushed\n",
      "2021-11-08 09:56:28.171191: I tensorflow/core/profiler/internal/gpu/cupti_collector.cc:228]  GpuTracer has collected 308 callback api events and 296 activity events. \n",
      "2021-11-08 09:56:28.182001: I tensorflow/core/profiler/lib/profiler_session.cc:172] Profiler session tear down.\n",
      "2021-11-08 09:56:28.191619: I tensorflow/core/profiler/rpc/client/save_profile.cc:137] Creating directory: logs/model1-n10-k5-exp8/train/plugins/profile/2021_11_08_09_56_28\n",
      "2021-11-08 09:56:28.197948: I tensorflow/core/profiler/rpc/client/save_profile.cc:143] Dumped gzipped tool data for trace.json.gz to logs/model1-n10-k5-exp8/train/plugins/profile/2021_11_08_09_56_28/d29684dd295e.trace.json.gz\n",
      "2021-11-08 09:56:28.214160: I tensorflow/core/profiler/rpc/client/save_profile.cc:137] Creating directory: logs/model1-n10-k5-exp8/train/plugins/profile/2021_11_08_09_56_28\n",
      "2021-11-08 09:56:28.217110: I tensorflow/core/profiler/rpc/client/save_profile.cc:143] Dumped gzipped tool data for memory_profile.json.gz to logs/model1-n10-k5-exp8/train/plugins/profile/2021_11_08_09_56_28/d29684dd295e.memory_profile.json.gz\n",
      "2021-11-08 09:56:28.218065: I tensorflow/core/profiler/rpc/client/capture_profile.cc:251] Creating directory: logs/model1-n10-k5-exp8/train/plugins/profile/2021_11_08_09_56_28Dumped tool data for xplane.pb to logs/model1-n10-k5-exp8/train/plugins/profile/2021_11_08_09_56_28/d29684dd295e.xplane.pb\n",
      "Dumped tool data for overview_page.pb to logs/model1-n10-k5-exp8/train/plugins/profile/2021_11_08_09_56_28/d29684dd295e.overview_page.pb\n",
      "Dumped tool data for input_pipeline.pb to logs/model1-n10-k5-exp8/train/plugins/profile/2021_11_08_09_56_28/d29684dd295e.input_pipeline.pb\n",
      "Dumped tool data for tensorflow_stats.pb to logs/model1-n10-k5-exp8/train/plugins/profile/2021_11_08_09_56_28/d29684dd295e.tensorflow_stats.pb\n",
      "Dumped tool data for kernel_stats.pb to logs/model1-n10-k5-exp8/train/plugins/profile/2021_11_08_09_56_28/d29684dd295e.kernel_stats.pb\n",
      "\n"
     ]
    },
    {
     "name": "stdout",
     "output_type": "stream",
     "text": [
      "Epoch 00022: early stopping\n",
      "model1-exp8\n"
     ]
    },
    {
     "name": "stderr",
     "output_type": "stream",
     "text": [
      "2021-11-08 09:57:15.669199: I tensorflow/core/profiler/lib/profiler_session.cc:136] Profiler session initializing.\n",
      "2021-11-08 09:57:15.669257: I tensorflow/core/profiler/lib/profiler_session.cc:155] Profiler session started.\n",
      "2021-11-08 09:57:15.833090: I tensorflow/core/profiler/lib/profiler_session.cc:172] Profiler session tear down.\n",
      "2021-11-08 09:57:15.833236: I tensorflow/core/profiler/internal/gpu/cupti_tracer.cc:1487] CUPTI activity buffer flushed\n",
      "2021-11-08 09:57:18.421270: I tensorflow/core/profiler/lib/profiler_session.cc:136] Profiler session initializing.\n",
      "2021-11-08 09:57:18.421391: I tensorflow/core/profiler/lib/profiler_session.cc:155] Profiler session started.\n",
      "2021-11-08 09:57:18.758215: I tensorflow/core/profiler/lib/profiler_session.cc:71] Profiler session collecting data.\n",
      "2021-11-08 09:57:18.759119: I tensorflow/core/profiler/internal/gpu/cupti_tracer.cc:1487] CUPTI activity buffer flushed\n",
      "2021-11-08 09:57:18.894058: I tensorflow/core/profiler/internal/gpu/cupti_collector.cc:228]  GpuTracer has collected 359 callback api events and 347 activity events. \n",
      "2021-11-08 09:57:18.906567: I tensorflow/core/profiler/lib/profiler_session.cc:172] Profiler session tear down.\n",
      "2021-11-08 09:57:18.917472: I tensorflow/core/profiler/rpc/client/save_profile.cc:137] Creating directory: logs/model2-n10-k5-exp8/train/plugins/profile/2021_11_08_09_57_18\n",
      "2021-11-08 09:57:18.924935: I tensorflow/core/profiler/rpc/client/save_profile.cc:143] Dumped gzipped tool data for trace.json.gz to logs/model2-n10-k5-exp8/train/plugins/profile/2021_11_08_09_57_18/d29684dd295e.trace.json.gz\n",
      "2021-11-08 09:57:18.942729: I tensorflow/core/profiler/rpc/client/save_profile.cc:137] Creating directory: logs/model2-n10-k5-exp8/train/plugins/profile/2021_11_08_09_57_18\n",
      "2021-11-08 09:57:18.945943: I tensorflow/core/profiler/rpc/client/save_profile.cc:143] Dumped gzipped tool data for memory_profile.json.gz to logs/model2-n10-k5-exp8/train/plugins/profile/2021_11_08_09_57_18/d29684dd295e.memory_profile.json.gz\n",
      "2021-11-08 09:57:18.946985: I tensorflow/core/profiler/rpc/client/capture_profile.cc:251] Creating directory: logs/model2-n10-k5-exp8/train/plugins/profile/2021_11_08_09_57_18Dumped tool data for xplane.pb to logs/model2-n10-k5-exp8/train/plugins/profile/2021_11_08_09_57_18/d29684dd295e.xplane.pb\n",
      "Dumped tool data for overview_page.pb to logs/model2-n10-k5-exp8/train/plugins/profile/2021_11_08_09_57_18/d29684dd295e.overview_page.pb\n",
      "Dumped tool data for input_pipeline.pb to logs/model2-n10-k5-exp8/train/plugins/profile/2021_11_08_09_57_18/d29684dd295e.input_pipeline.pb\n",
      "Dumped tool data for tensorflow_stats.pb to logs/model2-n10-k5-exp8/train/plugins/profile/2021_11_08_09_57_18/d29684dd295e.tensorflow_stats.pb\n",
      "Dumped tool data for kernel_stats.pb to logs/model2-n10-k5-exp8/train/plugins/profile/2021_11_08_09_57_18/d29684dd295e.kernel_stats.pb\n",
      "\n"
     ]
    },
    {
     "name": "stdout",
     "output_type": "stream",
     "text": [
      "Epoch 00015: early stopping\n",
      "model2-exp8\n"
     ]
    },
    {
     "name": "stderr",
     "output_type": "stream",
     "text": [
      "2021-11-08 09:57:55.946021: I tensorflow/core/profiler/lib/profiler_session.cc:136] Profiler session initializing.\n",
      "2021-11-08 09:57:55.946072: I tensorflow/core/profiler/lib/profiler_session.cc:155] Profiler session started.\n",
      "2021-11-08 09:57:56.107160: I tensorflow/core/profiler/lib/profiler_session.cc:172] Profiler session tear down.\n",
      "2021-11-08 09:57:56.107308: I tensorflow/core/profiler/internal/gpu/cupti_tracer.cc:1487] CUPTI activity buffer flushed\n",
      "2021-11-08 09:57:58.776668: I tensorflow/core/profiler/lib/profiler_session.cc:136] Profiler session initializing.\n",
      "2021-11-08 09:57:58.776730: I tensorflow/core/profiler/lib/profiler_session.cc:155] Profiler session started.\n",
      "2021-11-08 09:57:59.114249: I tensorflow/core/profiler/lib/profiler_session.cc:71] Profiler session collecting data.\n",
      "2021-11-08 09:57:59.114900: I tensorflow/core/profiler/internal/gpu/cupti_tracer.cc:1487] CUPTI activity buffer flushed\n",
      "2021-11-08 09:57:59.248501: I tensorflow/core/profiler/internal/gpu/cupti_collector.cc:228]  GpuTracer has collected 363 callback api events and 351 activity events. \n",
      "2021-11-08 09:57:59.260783: I tensorflow/core/profiler/lib/profiler_session.cc:172] Profiler session tear down.\n",
      "2021-11-08 09:57:59.271908: I tensorflow/core/profiler/rpc/client/save_profile.cc:137] Creating directory: logs/model3-n10-k5-exp8/train/plugins/profile/2021_11_08_09_57_59\n",
      "2021-11-08 09:57:59.279500: I tensorflow/core/profiler/rpc/client/save_profile.cc:143] Dumped gzipped tool data for trace.json.gz to logs/model3-n10-k5-exp8/train/plugins/profile/2021_11_08_09_57_59/d29684dd295e.trace.json.gz\n",
      "2021-11-08 09:57:59.297064: I tensorflow/core/profiler/rpc/client/save_profile.cc:137] Creating directory: logs/model3-n10-k5-exp8/train/plugins/profile/2021_11_08_09_57_59\n",
      "2021-11-08 09:57:59.300326: I tensorflow/core/profiler/rpc/client/save_profile.cc:143] Dumped gzipped tool data for memory_profile.json.gz to logs/model3-n10-k5-exp8/train/plugins/profile/2021_11_08_09_57_59/d29684dd295e.memory_profile.json.gz\n",
      "2021-11-08 09:57:59.301281: I tensorflow/core/profiler/rpc/client/capture_profile.cc:251] Creating directory: logs/model3-n10-k5-exp8/train/plugins/profile/2021_11_08_09_57_59Dumped tool data for xplane.pb to logs/model3-n10-k5-exp8/train/plugins/profile/2021_11_08_09_57_59/d29684dd295e.xplane.pb\n",
      "Dumped tool data for overview_page.pb to logs/model3-n10-k5-exp8/train/plugins/profile/2021_11_08_09_57_59/d29684dd295e.overview_page.pb\n",
      "Dumped tool data for input_pipeline.pb to logs/model3-n10-k5-exp8/train/plugins/profile/2021_11_08_09_57_59/d29684dd295e.input_pipeline.pb\n",
      "Dumped tool data for tensorflow_stats.pb to logs/model3-n10-k5-exp8/train/plugins/profile/2021_11_08_09_57_59/d29684dd295e.tensorflow_stats.pb\n",
      "Dumped tool data for kernel_stats.pb to logs/model3-n10-k5-exp8/train/plugins/profile/2021_11_08_09_57_59/d29684dd295e.kernel_stats.pb\n",
      "\n"
     ]
    },
    {
     "name": "stdout",
     "output_type": "stream",
     "text": [
      "Epoch 00018: early stopping\n",
      "model3-exp8\n"
     ]
    },
    {
     "name": "stderr",
     "output_type": "stream",
     "text": [
      "2021-11-08 09:58:46.094410: I tensorflow/core/profiler/lib/profiler_session.cc:136] Profiler session initializing.\n",
      "2021-11-08 09:58:46.094477: I tensorflow/core/profiler/lib/profiler_session.cc:155] Profiler session started.\n",
      "2021-11-08 09:58:46.249606: I tensorflow/core/profiler/lib/profiler_session.cc:172] Profiler session tear down.\n",
      "2021-11-08 09:58:46.249754: I tensorflow/core/profiler/internal/gpu/cupti_tracer.cc:1487] CUPTI activity buffer flushed\n",
      "2021-11-08 09:58:48.954414: I tensorflow/core/profiler/lib/profiler_session.cc:136] Profiler session initializing.\n",
      "2021-11-08 09:58:48.954481: I tensorflow/core/profiler/lib/profiler_session.cc:155] Profiler session started.\n",
      "2021-11-08 09:58:49.289420: I tensorflow/core/profiler/lib/profiler_session.cc:71] Profiler session collecting data.\n",
      "2021-11-08 09:58:49.290034: I tensorflow/core/profiler/internal/gpu/cupti_tracer.cc:1487] CUPTI activity buffer flushed\n",
      "2021-11-08 09:58:49.424716: I tensorflow/core/profiler/internal/gpu/cupti_collector.cc:228]  GpuTracer has collected 363 callback api events and 351 activity events. \n",
      "2021-11-08 09:58:49.437047: I tensorflow/core/profiler/lib/profiler_session.cc:172] Profiler session tear down.\n",
      "2021-11-08 09:58:49.448339: I tensorflow/core/profiler/rpc/client/save_profile.cc:137] Creating directory: logs/model4-n10-k5-exp8/train/plugins/profile/2021_11_08_09_58_49\n",
      "2021-11-08 09:58:49.455929: I tensorflow/core/profiler/rpc/client/save_profile.cc:143] Dumped gzipped tool data for trace.json.gz to logs/model4-n10-k5-exp8/train/plugins/profile/2021_11_08_09_58_49/d29684dd295e.trace.json.gz\n",
      "2021-11-08 09:58:49.473867: I tensorflow/core/profiler/rpc/client/save_profile.cc:137] Creating directory: logs/model4-n10-k5-exp8/train/plugins/profile/2021_11_08_09_58_49\n",
      "2021-11-08 09:58:49.477092: I tensorflow/core/profiler/rpc/client/save_profile.cc:143] Dumped gzipped tool data for memory_profile.json.gz to logs/model4-n10-k5-exp8/train/plugins/profile/2021_11_08_09_58_49/d29684dd295e.memory_profile.json.gz\n",
      "2021-11-08 09:58:49.478065: I tensorflow/core/profiler/rpc/client/capture_profile.cc:251] Creating directory: logs/model4-n10-k5-exp8/train/plugins/profile/2021_11_08_09_58_49Dumped tool data for xplane.pb to logs/model4-n10-k5-exp8/train/plugins/profile/2021_11_08_09_58_49/d29684dd295e.xplane.pb\n",
      "Dumped tool data for overview_page.pb to logs/model4-n10-k5-exp8/train/plugins/profile/2021_11_08_09_58_49/d29684dd295e.overview_page.pb\n",
      "Dumped tool data for input_pipeline.pb to logs/model4-n10-k5-exp8/train/plugins/profile/2021_11_08_09_58_49/d29684dd295e.input_pipeline.pb\n",
      "Dumped tool data for tensorflow_stats.pb to logs/model4-n10-k5-exp8/train/plugins/profile/2021_11_08_09_58_49/d29684dd295e.tensorflow_stats.pb\n",
      "Dumped tool data for kernel_stats.pb to logs/model4-n10-k5-exp8/train/plugins/profile/2021_11_08_09_58_49/d29684dd295e.kernel_stats.pb\n",
      "\n"
     ]
    },
    {
     "name": "stdout",
     "output_type": "stream",
     "text": [
      "Epoch 00016: early stopping\n",
      "model4-exp8\n"
     ]
    },
    {
     "name": "stderr",
     "output_type": "stream",
     "text": [
      "2021-11-08 09:59:29.177585: I tensorflow/core/profiler/lib/profiler_session.cc:136] Profiler session initializing.\n",
      "2021-11-08 09:59:29.177638: I tensorflow/core/profiler/lib/profiler_session.cc:155] Profiler session started.\n",
      "2021-11-08 09:59:29.326853: I tensorflow/core/profiler/lib/profiler_session.cc:172] Profiler session tear down.\n",
      "2021-11-08 09:59:29.327018: I tensorflow/core/profiler/internal/gpu/cupti_tracer.cc:1487] CUPTI activity buffer flushed\n",
      "2021-11-08 09:59:31.949061: I tensorflow/core/profiler/lib/profiler_session.cc:136] Profiler session initializing.\n",
      "2021-11-08 09:59:31.949130: I tensorflow/core/profiler/lib/profiler_session.cc:155] Profiler session started.\n",
      "2021-11-08 09:59:32.275481: I tensorflow/core/profiler/lib/profiler_session.cc:71] Profiler session collecting data.\n",
      "2021-11-08 09:59:32.276094: I tensorflow/core/profiler/internal/gpu/cupti_tracer.cc:1487] CUPTI activity buffer flushed\n",
      "2021-11-08 09:59:32.408089: I tensorflow/core/profiler/internal/gpu/cupti_collector.cc:228]  GpuTracer has collected 363 callback api events and 351 activity events. \n",
      "2021-11-08 09:59:32.420085: I tensorflow/core/profiler/lib/profiler_session.cc:172] Profiler session tear down.\n",
      "2021-11-08 09:59:32.431169: I tensorflow/core/profiler/rpc/client/save_profile.cc:137] Creating directory: logs/model5-n10-k5-exp8/train/plugins/profile/2021_11_08_09_59_32\n",
      "2021-11-08 09:59:32.438759: I tensorflow/core/profiler/rpc/client/save_profile.cc:143] Dumped gzipped tool data for trace.json.gz to logs/model5-n10-k5-exp8/train/plugins/profile/2021_11_08_09_59_32/d29684dd295e.trace.json.gz\n",
      "2021-11-08 09:59:32.455967: I tensorflow/core/profiler/rpc/client/save_profile.cc:137] Creating directory: logs/model5-n10-k5-exp8/train/plugins/profile/2021_11_08_09_59_32\n",
      "2021-11-08 09:59:32.459173: I tensorflow/core/profiler/rpc/client/save_profile.cc:143] Dumped gzipped tool data for memory_profile.json.gz to logs/model5-n10-k5-exp8/train/plugins/profile/2021_11_08_09_59_32/d29684dd295e.memory_profile.json.gz\n",
      "2021-11-08 09:59:32.460207: I tensorflow/core/profiler/rpc/client/capture_profile.cc:251] Creating directory: logs/model5-n10-k5-exp8/train/plugins/profile/2021_11_08_09_59_32Dumped tool data for xplane.pb to logs/model5-n10-k5-exp8/train/plugins/profile/2021_11_08_09_59_32/d29684dd295e.xplane.pb\n",
      "Dumped tool data for overview_page.pb to logs/model5-n10-k5-exp8/train/plugins/profile/2021_11_08_09_59_32/d29684dd295e.overview_page.pb\n",
      "Dumped tool data for input_pipeline.pb to logs/model5-n10-k5-exp8/train/plugins/profile/2021_11_08_09_59_32/d29684dd295e.input_pipeline.pb\n",
      "Dumped tool data for tensorflow_stats.pb to logs/model5-n10-k5-exp8/train/plugins/profile/2021_11_08_09_59_32/d29684dd295e.tensorflow_stats.pb\n",
      "Dumped tool data for kernel_stats.pb to logs/model5-n10-k5-exp8/train/plugins/profile/2021_11_08_09_59_32/d29684dd295e.kernel_stats.pb\n",
      "\n"
     ]
    },
    {
     "name": "stdout",
     "output_type": "stream",
     "text": [
      "Epoch 00019: early stopping\n",
      "model5-exp8\n"
     ]
    },
    {
     "name": "stderr",
     "output_type": "stream",
     "text": [
      "2021-11-08 10:00:14.936847: I tensorflow/core/profiler/lib/profiler_session.cc:136] Profiler session initializing.\n",
      "2021-11-08 10:00:14.936904: I tensorflow/core/profiler/lib/profiler_session.cc:155] Profiler session started.\n",
      "2021-11-08 10:00:15.083713: I tensorflow/core/profiler/lib/profiler_session.cc:172] Profiler session tear down.\n",
      "2021-11-08 10:00:15.083858: I tensorflow/core/profiler/internal/gpu/cupti_tracer.cc:1487] CUPTI activity buffer flushed\n",
      "2021-11-08 10:00:18.433808: I tensorflow/core/profiler/lib/profiler_session.cc:136] Profiler session initializing.\n",
      "2021-11-08 10:00:18.433858: I tensorflow/core/profiler/lib/profiler_session.cc:155] Profiler session started.\n",
      "2021-11-08 10:00:18.763908: I tensorflow/core/profiler/lib/profiler_session.cc:71] Profiler session collecting data.\n",
      "2021-11-08 10:00:18.764484: I tensorflow/core/profiler/internal/gpu/cupti_tracer.cc:1487] CUPTI activity buffer flushed\n",
      "2021-11-08 10:00:18.898360: I tensorflow/core/profiler/internal/gpu/cupti_collector.cc:228]  GpuTracer has collected 367 callback api events and 355 activity events. \n",
      "2021-11-08 10:00:18.910794: I tensorflow/core/profiler/lib/profiler_session.cc:172] Profiler session tear down.\n",
      "2021-11-08 10:00:18.922121: I tensorflow/core/profiler/rpc/client/save_profile.cc:137] Creating directory: logs/model6-n10-k5-exp8/train/plugins/profile/2021_11_08_10_00_18\n",
      "2021-11-08 10:00:18.930095: I tensorflow/core/profiler/rpc/client/save_profile.cc:143] Dumped gzipped tool data for trace.json.gz to logs/model6-n10-k5-exp8/train/plugins/profile/2021_11_08_10_00_18/d29684dd295e.trace.json.gz\n",
      "2021-11-08 10:00:18.948559: I tensorflow/core/profiler/rpc/client/save_profile.cc:137] Creating directory: logs/model6-n10-k5-exp8/train/plugins/profile/2021_11_08_10_00_18\n",
      "2021-11-08 10:00:18.952009: I tensorflow/core/profiler/rpc/client/save_profile.cc:143] Dumped gzipped tool data for memory_profile.json.gz to logs/model6-n10-k5-exp8/train/plugins/profile/2021_11_08_10_00_18/d29684dd295e.memory_profile.json.gz\n",
      "2021-11-08 10:00:18.953062: I tensorflow/core/profiler/rpc/client/capture_profile.cc:251] Creating directory: logs/model6-n10-k5-exp8/train/plugins/profile/2021_11_08_10_00_18Dumped tool data for xplane.pb to logs/model6-n10-k5-exp8/train/plugins/profile/2021_11_08_10_00_18/d29684dd295e.xplane.pb\n",
      "Dumped tool data for overview_page.pb to logs/model6-n10-k5-exp8/train/plugins/profile/2021_11_08_10_00_18/d29684dd295e.overview_page.pb\n",
      "Dumped tool data for input_pipeline.pb to logs/model6-n10-k5-exp8/train/plugins/profile/2021_11_08_10_00_18/d29684dd295e.input_pipeline.pb\n",
      "Dumped tool data for tensorflow_stats.pb to logs/model6-n10-k5-exp8/train/plugins/profile/2021_11_08_10_00_18/d29684dd295e.tensorflow_stats.pb\n",
      "Dumped tool data for kernel_stats.pb to logs/model6-n10-k5-exp8/train/plugins/profile/2021_11_08_10_00_18/d29684dd295e.kernel_stats.pb\n",
      "\n"
     ]
    },
    {
     "name": "stdout",
     "output_type": "stream",
     "text": [
      "Epoch 00013: early stopping\n",
      "model6-exp8\n"
     ]
    },
    {
     "name": "stderr",
     "output_type": "stream",
     "text": [
      "2021-11-08 10:00:48.681448: I tensorflow/core/profiler/lib/profiler_session.cc:136] Profiler session initializing.\n",
      "2021-11-08 10:00:48.681506: I tensorflow/core/profiler/lib/profiler_session.cc:155] Profiler session started.\n",
      "2021-11-08 10:00:48.824799: I tensorflow/core/profiler/lib/profiler_session.cc:172] Profiler session tear down.\n",
      "2021-11-08 10:00:48.824938: I tensorflow/core/profiler/internal/gpu/cupti_tracer.cc:1487] CUPTI activity buffer flushed\n",
      "2021-11-08 10:00:51.789890: I tensorflow/core/profiler/lib/profiler_session.cc:136] Profiler session initializing.\n",
      "2021-11-08 10:00:51.789947: I tensorflow/core/profiler/lib/profiler_session.cc:155] Profiler session started.\n",
      "2021-11-08 10:00:52.275887: I tensorflow/core/profiler/lib/profiler_session.cc:71] Profiler session collecting data.\n",
      "2021-11-08 10:00:52.276571: I tensorflow/core/profiler/internal/gpu/cupti_tracer.cc:1487] CUPTI activity buffer flushed\n",
      "2021-11-08 10:00:52.424644: I tensorflow/core/profiler/internal/gpu/cupti_collector.cc:228]  GpuTracer has collected 367 callback api events and 355 activity events. \n",
      "2021-11-08 10:00:52.444205: I tensorflow/core/profiler/lib/profiler_session.cc:172] Profiler session tear down.\n",
      "2021-11-08 10:00:52.463346: I tensorflow/core/profiler/rpc/client/save_profile.cc:137] Creating directory: logs/model7-n10-k5-exp8/train/plugins/profile/2021_11_08_10_00_52\n",
      "2021-11-08 10:00:52.474469: I tensorflow/core/profiler/rpc/client/save_profile.cc:143] Dumped gzipped tool data for trace.json.gz to logs/model7-n10-k5-exp8/train/plugins/profile/2021_11_08_10_00_52/d29684dd295e.trace.json.gz\n",
      "2021-11-08 10:00:52.505852: I tensorflow/core/profiler/rpc/client/save_profile.cc:137] Creating directory: logs/model7-n10-k5-exp8/train/plugins/profile/2021_11_08_10_00_52\n",
      "2021-11-08 10:00:52.510608: I tensorflow/core/profiler/rpc/client/save_profile.cc:143] Dumped gzipped tool data for memory_profile.json.gz to logs/model7-n10-k5-exp8/train/plugins/profile/2021_11_08_10_00_52/d29684dd295e.memory_profile.json.gz\n",
      "2021-11-08 10:00:52.511936: I tensorflow/core/profiler/rpc/client/capture_profile.cc:251] Creating directory: logs/model7-n10-k5-exp8/train/plugins/profile/2021_11_08_10_00_52Dumped tool data for xplane.pb to logs/model7-n10-k5-exp8/train/plugins/profile/2021_11_08_10_00_52/d29684dd295e.xplane.pb\n",
      "Dumped tool data for overview_page.pb to logs/model7-n10-k5-exp8/train/plugins/profile/2021_11_08_10_00_52/d29684dd295e.overview_page.pb\n",
      "Dumped tool data for input_pipeline.pb to logs/model7-n10-k5-exp8/train/plugins/profile/2021_11_08_10_00_52/d29684dd295e.input_pipeline.pb\n",
      "Dumped tool data for tensorflow_stats.pb to logs/model7-n10-k5-exp8/train/plugins/profile/2021_11_08_10_00_52/d29684dd295e.tensorflow_stats.pb\n",
      "Dumped tool data for kernel_stats.pb to logs/model7-n10-k5-exp8/train/plugins/profile/2021_11_08_10_00_52/d29684dd295e.kernel_stats.pb\n",
      "\n"
     ]
    },
    {
     "name": "stdout",
     "output_type": "stream",
     "text": [
      "Epoch 00015: early stopping\n",
      "model7-exp8\n",
      "random 9\n"
     ]
    },
    {
     "name": "stderr",
     "output_type": "stream",
     "text": [
      "2021-11-08 10:01:28.836548: I tensorflow/core/profiler/lib/profiler_session.cc:136] Profiler session initializing.\n",
      "2021-11-08 10:01:28.836604: I tensorflow/core/profiler/lib/profiler_session.cc:155] Profiler session started.\n",
      "2021-11-08 10:01:28.983205: I tensorflow/core/profiler/lib/profiler_session.cc:172] Profiler session tear down.\n",
      "2021-11-08 10:01:28.983357: I tensorflow/core/profiler/internal/gpu/cupti_tracer.cc:1487] CUPTI activity buffer flushed\n",
      "2021-11-08 10:01:31.313118: I tensorflow/core/profiler/lib/profiler_session.cc:136] Profiler session initializing.\n",
      "2021-11-08 10:01:31.313171: I tensorflow/core/profiler/lib/profiler_session.cc:155] Profiler session started.\n",
      "2021-11-08 10:01:31.620373: I tensorflow/core/profiler/lib/profiler_session.cc:71] Profiler session collecting data.\n",
      "2021-11-08 10:01:31.620880: I tensorflow/core/profiler/internal/gpu/cupti_tracer.cc:1487] CUPTI activity buffer flushed\n",
      "2021-11-08 10:01:31.751953: I tensorflow/core/profiler/internal/gpu/cupti_collector.cc:228]  GpuTracer has collected 308 callback api events and 296 activity events. \n",
      "2021-11-08 10:01:31.761985: I tensorflow/core/profiler/lib/profiler_session.cc:172] Profiler session tear down.\n",
      "2021-11-08 10:01:31.770944: I tensorflow/core/profiler/rpc/client/save_profile.cc:137] Creating directory: logs/model1-n10-k5-exp9/train/plugins/profile/2021_11_08_10_01_31\n",
      "2021-11-08 10:01:31.777032: I tensorflow/core/profiler/rpc/client/save_profile.cc:143] Dumped gzipped tool data for trace.json.gz to logs/model1-n10-k5-exp9/train/plugins/profile/2021_11_08_10_01_31/d29684dd295e.trace.json.gz\n",
      "2021-11-08 10:01:31.790914: I tensorflow/core/profiler/rpc/client/save_profile.cc:137] Creating directory: logs/model1-n10-k5-exp9/train/plugins/profile/2021_11_08_10_01_31\n",
      "2021-11-08 10:01:31.793618: I tensorflow/core/profiler/rpc/client/save_profile.cc:143] Dumped gzipped tool data for memory_profile.json.gz to logs/model1-n10-k5-exp9/train/plugins/profile/2021_11_08_10_01_31/d29684dd295e.memory_profile.json.gz\n",
      "2021-11-08 10:01:31.794369: I tensorflow/core/profiler/rpc/client/capture_profile.cc:251] Creating directory: logs/model1-n10-k5-exp9/train/plugins/profile/2021_11_08_10_01_31Dumped tool data for xplane.pb to logs/model1-n10-k5-exp9/train/plugins/profile/2021_11_08_10_01_31/d29684dd295e.xplane.pb\n",
      "Dumped tool data for overview_page.pb to logs/model1-n10-k5-exp9/train/plugins/profile/2021_11_08_10_01_31/d29684dd295e.overview_page.pb\n",
      "Dumped tool data for input_pipeline.pb to logs/model1-n10-k5-exp9/train/plugins/profile/2021_11_08_10_01_31/d29684dd295e.input_pipeline.pb\n",
      "Dumped tool data for tensorflow_stats.pb to logs/model1-n10-k5-exp9/train/plugins/profile/2021_11_08_10_01_31/d29684dd295e.tensorflow_stats.pb\n",
      "Dumped tool data for kernel_stats.pb to logs/model1-n10-k5-exp9/train/plugins/profile/2021_11_08_10_01_31/d29684dd295e.kernel_stats.pb\n",
      "\n"
     ]
    },
    {
     "name": "stdout",
     "output_type": "stream",
     "text": [
      "Epoch 00022: early stopping\n",
      "model1-exp9\n"
     ]
    },
    {
     "name": "stderr",
     "output_type": "stream",
     "text": [
      "2021-11-08 10:02:18.733649: I tensorflow/core/profiler/lib/profiler_session.cc:136] Profiler session initializing.\n",
      "2021-11-08 10:02:18.733710: I tensorflow/core/profiler/lib/profiler_session.cc:155] Profiler session started.\n",
      "2021-11-08 10:02:18.920705: I tensorflow/core/profiler/lib/profiler_session.cc:172] Profiler session tear down.\n",
      "2021-11-08 10:02:18.920882: I tensorflow/core/profiler/internal/gpu/cupti_tracer.cc:1487] CUPTI activity buffer flushed\n",
      "2021-11-08 10:02:22.635607: I tensorflow/core/profiler/lib/profiler_session.cc:136] Profiler session initializing.\n",
      "2021-11-08 10:02:22.635660: I tensorflow/core/profiler/lib/profiler_session.cc:155] Profiler session started.\n",
      "2021-11-08 10:02:22.977307: I tensorflow/core/profiler/lib/profiler_session.cc:71] Profiler session collecting data.\n",
      "2021-11-08 10:02:22.978196: I tensorflow/core/profiler/internal/gpu/cupti_tracer.cc:1487] CUPTI activity buffer flushed\n",
      "2021-11-08 10:02:23.127480: I tensorflow/core/profiler/internal/gpu/cupti_collector.cc:228]  GpuTracer has collected 359 callback api events and 347 activity events. \n",
      "2021-11-08 10:02:23.140100: I tensorflow/core/profiler/lib/profiler_session.cc:172] Profiler session tear down.\n",
      "2021-11-08 10:02:23.152164: I tensorflow/core/profiler/rpc/client/save_profile.cc:137] Creating directory: logs/model2-n10-k5-exp9/train/plugins/profile/2021_11_08_10_02_23\n",
      "2021-11-08 10:02:23.159590: I tensorflow/core/profiler/rpc/client/save_profile.cc:143] Dumped gzipped tool data for trace.json.gz to logs/model2-n10-k5-exp9/train/plugins/profile/2021_11_08_10_02_23/d29684dd295e.trace.json.gz\n",
      "2021-11-08 10:02:23.181040: I tensorflow/core/profiler/rpc/client/save_profile.cc:137] Creating directory: logs/model2-n10-k5-exp9/train/plugins/profile/2021_11_08_10_02_23\n",
      "2021-11-08 10:02:23.184870: I tensorflow/core/profiler/rpc/client/save_profile.cc:143] Dumped gzipped tool data for memory_profile.json.gz to logs/model2-n10-k5-exp9/train/plugins/profile/2021_11_08_10_02_23/d29684dd295e.memory_profile.json.gz\n",
      "2021-11-08 10:02:23.186151: I tensorflow/core/profiler/rpc/client/capture_profile.cc:251] Creating directory: logs/model2-n10-k5-exp9/train/plugins/profile/2021_11_08_10_02_23Dumped tool data for xplane.pb to logs/model2-n10-k5-exp9/train/plugins/profile/2021_11_08_10_02_23/d29684dd295e.xplane.pb\n",
      "Dumped tool data for overview_page.pb to logs/model2-n10-k5-exp9/train/plugins/profile/2021_11_08_10_02_23/d29684dd295e.overview_page.pb\n",
      "Dumped tool data for input_pipeline.pb to logs/model2-n10-k5-exp9/train/plugins/profile/2021_11_08_10_02_23/d29684dd295e.input_pipeline.pb\n",
      "Dumped tool data for tensorflow_stats.pb to logs/model2-n10-k5-exp9/train/plugins/profile/2021_11_08_10_02_23/d29684dd295e.tensorflow_stats.pb\n",
      "Dumped tool data for kernel_stats.pb to logs/model2-n10-k5-exp9/train/plugins/profile/2021_11_08_10_02_23/d29684dd295e.kernel_stats.pb\n",
      "\n"
     ]
    },
    {
     "name": "stdout",
     "output_type": "stream",
     "text": [
      "Epoch 00013: early stopping\n",
      "model2-exp9\n"
     ]
    },
    {
     "name": "stderr",
     "output_type": "stream",
     "text": [
      "2021-11-08 10:02:55.326212: I tensorflow/core/profiler/lib/profiler_session.cc:136] Profiler session initializing.\n",
      "2021-11-08 10:02:55.326268: I tensorflow/core/profiler/lib/profiler_session.cc:155] Profiler session started.\n",
      "2021-11-08 10:02:55.482397: I tensorflow/core/profiler/lib/profiler_session.cc:172] Profiler session tear down.\n",
      "2021-11-08 10:02:55.482552: I tensorflow/core/profiler/internal/gpu/cupti_tracer.cc:1487] CUPTI activity buffer flushed\n",
      "2021-11-08 10:02:58.311969: I tensorflow/core/profiler/lib/profiler_session.cc:136] Profiler session initializing.\n",
      "2021-11-08 10:02:58.312027: I tensorflow/core/profiler/lib/profiler_session.cc:155] Profiler session started.\n",
      "2021-11-08 10:02:58.667350: I tensorflow/core/profiler/lib/profiler_session.cc:71] Profiler session collecting data.\n",
      "2021-11-08 10:02:58.668554: I tensorflow/core/profiler/internal/gpu/cupti_tracer.cc:1487] CUPTI activity buffer flushed\n",
      "2021-11-08 10:02:58.803582: I tensorflow/core/profiler/internal/gpu/cupti_collector.cc:228]  GpuTracer has collected 363 callback api events and 351 activity events. \n",
      "2021-11-08 10:02:58.816547: I tensorflow/core/profiler/lib/profiler_session.cc:172] Profiler session tear down.\n",
      "2021-11-08 10:02:58.828497: I tensorflow/core/profiler/rpc/client/save_profile.cc:137] Creating directory: logs/model3-n10-k5-exp9/train/plugins/profile/2021_11_08_10_02_58\n",
      "2021-11-08 10:02:58.835998: I tensorflow/core/profiler/rpc/client/save_profile.cc:143] Dumped gzipped tool data for trace.json.gz to logs/model3-n10-k5-exp9/train/plugins/profile/2021_11_08_10_02_58/d29684dd295e.trace.json.gz\n",
      "2021-11-08 10:02:58.855938: I tensorflow/core/profiler/rpc/client/save_profile.cc:137] Creating directory: logs/model3-n10-k5-exp9/train/plugins/profile/2021_11_08_10_02_58\n",
      "2021-11-08 10:02:58.859449: I tensorflow/core/profiler/rpc/client/save_profile.cc:143] Dumped gzipped tool data for memory_profile.json.gz to logs/model3-n10-k5-exp9/train/plugins/profile/2021_11_08_10_02_58/d29684dd295e.memory_profile.json.gz\n",
      "2021-11-08 10:02:58.860660: I tensorflow/core/profiler/rpc/client/capture_profile.cc:251] Creating directory: logs/model3-n10-k5-exp9/train/plugins/profile/2021_11_08_10_02_58Dumped tool data for xplane.pb to logs/model3-n10-k5-exp9/train/plugins/profile/2021_11_08_10_02_58/d29684dd295e.xplane.pb\n",
      "Dumped tool data for overview_page.pb to logs/model3-n10-k5-exp9/train/plugins/profile/2021_11_08_10_02_58/d29684dd295e.overview_page.pb\n",
      "Dumped tool data for input_pipeline.pb to logs/model3-n10-k5-exp9/train/plugins/profile/2021_11_08_10_02_58/d29684dd295e.input_pipeline.pb\n",
      "Dumped tool data for tensorflow_stats.pb to logs/model3-n10-k5-exp9/train/plugins/profile/2021_11_08_10_02_58/d29684dd295e.tensorflow_stats.pb\n",
      "Dumped tool data for kernel_stats.pb to logs/model3-n10-k5-exp9/train/plugins/profile/2021_11_08_10_02_58/d29684dd295e.kernel_stats.pb\n",
      "\n"
     ]
    },
    {
     "name": "stdout",
     "output_type": "stream",
     "text": [
      "Epoch 00016: early stopping\n",
      "model3-exp9\n"
     ]
    },
    {
     "name": "stderr",
     "output_type": "stream",
     "text": [
      "2021-11-08 10:03:40.368110: I tensorflow/core/profiler/lib/profiler_session.cc:136] Profiler session initializing.\n",
      "2021-11-08 10:03:40.368167: I tensorflow/core/profiler/lib/profiler_session.cc:155] Profiler session started.\n",
      "2021-11-08 10:03:40.518243: I tensorflow/core/profiler/lib/profiler_session.cc:172] Profiler session tear down.\n",
      "2021-11-08 10:03:40.518383: I tensorflow/core/profiler/internal/gpu/cupti_tracer.cc:1487] CUPTI activity buffer flushed\n",
      "2021-11-08 10:03:43.206941: I tensorflow/core/profiler/lib/profiler_session.cc:136] Profiler session initializing.\n",
      "2021-11-08 10:03:43.206997: I tensorflow/core/profiler/lib/profiler_session.cc:155] Profiler session started.\n",
      "2021-11-08 10:03:43.544886: I tensorflow/core/profiler/lib/profiler_session.cc:71] Profiler session collecting data.\n",
      "2021-11-08 10:03:43.545523: I tensorflow/core/profiler/internal/gpu/cupti_tracer.cc:1487] CUPTI activity buffer flushed\n",
      "2021-11-08 10:03:43.679627: I tensorflow/core/profiler/internal/gpu/cupti_collector.cc:228]  GpuTracer has collected 363 callback api events and 351 activity events. \n",
      "2021-11-08 10:03:43.692876: I tensorflow/core/profiler/lib/profiler_session.cc:172] Profiler session tear down.\n",
      "2021-11-08 10:03:43.704279: I tensorflow/core/profiler/rpc/client/save_profile.cc:137] Creating directory: logs/model4-n10-k5-exp9/train/plugins/profile/2021_11_08_10_03_43\n",
      "2021-11-08 10:03:43.712167: I tensorflow/core/profiler/rpc/client/save_profile.cc:143] Dumped gzipped tool data for trace.json.gz to logs/model4-n10-k5-exp9/train/plugins/profile/2021_11_08_10_03_43/d29684dd295e.trace.json.gz\n",
      "2021-11-08 10:03:43.730734: I tensorflow/core/profiler/rpc/client/save_profile.cc:137] Creating directory: logs/model4-n10-k5-exp9/train/plugins/profile/2021_11_08_10_03_43\n",
      "2021-11-08 10:03:43.734122: I tensorflow/core/profiler/rpc/client/save_profile.cc:143] Dumped gzipped tool data for memory_profile.json.gz to logs/model4-n10-k5-exp9/train/plugins/profile/2021_11_08_10_03_43/d29684dd295e.memory_profile.json.gz\n",
      "2021-11-08 10:03:43.735121: I tensorflow/core/profiler/rpc/client/capture_profile.cc:251] Creating directory: logs/model4-n10-k5-exp9/train/plugins/profile/2021_11_08_10_03_43Dumped tool data for xplane.pb to logs/model4-n10-k5-exp9/train/plugins/profile/2021_11_08_10_03_43/d29684dd295e.xplane.pb\n",
      "Dumped tool data for overview_page.pb to logs/model4-n10-k5-exp9/train/plugins/profile/2021_11_08_10_03_43/d29684dd295e.overview_page.pb\n",
      "Dumped tool data for input_pipeline.pb to logs/model4-n10-k5-exp9/train/plugins/profile/2021_11_08_10_03_43/d29684dd295e.input_pipeline.pb\n",
      "Dumped tool data for tensorflow_stats.pb to logs/model4-n10-k5-exp9/train/plugins/profile/2021_11_08_10_03_43/d29684dd295e.tensorflow_stats.pb\n",
      "Dumped tool data for kernel_stats.pb to logs/model4-n10-k5-exp9/train/plugins/profile/2021_11_08_10_03_43/d29684dd295e.kernel_stats.pb\n",
      "\n"
     ]
    },
    {
     "name": "stdout",
     "output_type": "stream",
     "text": [
      "Epoch 00015: early stopping\n",
      "model4-exp9\n"
     ]
    },
    {
     "name": "stderr",
     "output_type": "stream",
     "text": [
      "2021-11-08 10:04:22.024535: I tensorflow/core/profiler/lib/profiler_session.cc:136] Profiler session initializing.\n",
      "2021-11-08 10:04:22.024590: I tensorflow/core/profiler/lib/profiler_session.cc:155] Profiler session started.\n",
      "2021-11-08 10:04:22.173117: I tensorflow/core/profiler/lib/profiler_session.cc:172] Profiler session tear down.\n",
      "2021-11-08 10:04:22.173264: I tensorflow/core/profiler/internal/gpu/cupti_tracer.cc:1487] CUPTI activity buffer flushed\n",
      "2021-11-08 10:04:25.128211: I tensorflow/core/profiler/lib/profiler_session.cc:136] Profiler session initializing.\n",
      "2021-11-08 10:04:25.128265: I tensorflow/core/profiler/lib/profiler_session.cc:155] Profiler session started.\n",
      "2021-11-08 10:04:25.461268: I tensorflow/core/profiler/lib/profiler_session.cc:71] Profiler session collecting data.\n",
      "2021-11-08 10:04:25.461860: I tensorflow/core/profiler/internal/gpu/cupti_tracer.cc:1487] CUPTI activity buffer flushed\n",
      "2021-11-08 10:04:25.595198: I tensorflow/core/profiler/internal/gpu/cupti_collector.cc:228]  GpuTracer has collected 363 callback api events and 351 activity events. \n",
      "2021-11-08 10:04:25.608105: I tensorflow/core/profiler/lib/profiler_session.cc:172] Profiler session tear down.\n",
      "2021-11-08 10:04:25.619225: I tensorflow/core/profiler/rpc/client/save_profile.cc:137] Creating directory: logs/model5-n10-k5-exp9/train/plugins/profile/2021_11_08_10_04_25\n",
      "2021-11-08 10:04:25.626797: I tensorflow/core/profiler/rpc/client/save_profile.cc:143] Dumped gzipped tool data for trace.json.gz to logs/model5-n10-k5-exp9/train/plugins/profile/2021_11_08_10_04_25/d29684dd295e.trace.json.gz\n",
      "2021-11-08 10:04:25.644607: I tensorflow/core/profiler/rpc/client/save_profile.cc:137] Creating directory: logs/model5-n10-k5-exp9/train/plugins/profile/2021_11_08_10_04_25\n",
      "2021-11-08 10:04:25.647974: I tensorflow/core/profiler/rpc/client/save_profile.cc:143] Dumped gzipped tool data for memory_profile.json.gz to logs/model5-n10-k5-exp9/train/plugins/profile/2021_11_08_10_04_25/d29684dd295e.memory_profile.json.gz\n",
      "2021-11-08 10:04:25.648957: I tensorflow/core/profiler/rpc/client/capture_profile.cc:251] Creating directory: logs/model5-n10-k5-exp9/train/plugins/profile/2021_11_08_10_04_25Dumped tool data for xplane.pb to logs/model5-n10-k5-exp9/train/plugins/profile/2021_11_08_10_04_25/d29684dd295e.xplane.pb\n",
      "Dumped tool data for overview_page.pb to logs/model5-n10-k5-exp9/train/plugins/profile/2021_11_08_10_04_25/d29684dd295e.overview_page.pb\n",
      "Dumped tool data for input_pipeline.pb to logs/model5-n10-k5-exp9/train/plugins/profile/2021_11_08_10_04_25/d29684dd295e.input_pipeline.pb\n",
      "Dumped tool data for tensorflow_stats.pb to logs/model5-n10-k5-exp9/train/plugins/profile/2021_11_08_10_04_25/d29684dd295e.tensorflow_stats.pb\n",
      "Dumped tool data for kernel_stats.pb to logs/model5-n10-k5-exp9/train/plugins/profile/2021_11_08_10_04_25/d29684dd295e.kernel_stats.pb\n",
      "\n"
     ]
    },
    {
     "name": "stdout",
     "output_type": "stream",
     "text": [
      "Epoch 00023: early stopping\n",
      "model5-exp9\n"
     ]
    },
    {
     "name": "stderr",
     "output_type": "stream",
     "text": [
      "2021-11-08 10:05:17.266690: I tensorflow/core/profiler/lib/profiler_session.cc:136] Profiler session initializing.\n",
      "2021-11-08 10:05:17.266754: I tensorflow/core/profiler/lib/profiler_session.cc:155] Profiler session started.\n",
      "2021-11-08 10:05:17.417660: I tensorflow/core/profiler/lib/profiler_session.cc:172] Profiler session tear down.\n",
      "2021-11-08 10:05:17.417806: I tensorflow/core/profiler/internal/gpu/cupti_tracer.cc:1487] CUPTI activity buffer flushed\n",
      "2021-11-08 10:05:20.198324: I tensorflow/core/profiler/lib/profiler_session.cc:136] Profiler session initializing.\n",
      "2021-11-08 10:05:20.198381: I tensorflow/core/profiler/lib/profiler_session.cc:155] Profiler session started.\n",
      "2021-11-08 10:05:20.532848: I tensorflow/core/profiler/lib/profiler_session.cc:71] Profiler session collecting data.\n",
      "2021-11-08 10:05:20.533510: I tensorflow/core/profiler/internal/gpu/cupti_tracer.cc:1487] CUPTI activity buffer flushed\n",
      "2021-11-08 10:05:20.666823: I tensorflow/core/profiler/internal/gpu/cupti_collector.cc:228]  GpuTracer has collected 367 callback api events and 355 activity events. \n",
      "2021-11-08 10:05:20.679672: I tensorflow/core/profiler/lib/profiler_session.cc:172] Profiler session tear down.\n",
      "2021-11-08 10:05:20.691562: I tensorflow/core/profiler/rpc/client/save_profile.cc:137] Creating directory: logs/model6-n10-k5-exp9/train/plugins/profile/2021_11_08_10_05_20\n",
      "2021-11-08 10:05:20.699584: I tensorflow/core/profiler/rpc/client/save_profile.cc:143] Dumped gzipped tool data for trace.json.gz to logs/model6-n10-k5-exp9/train/plugins/profile/2021_11_08_10_05_20/d29684dd295e.trace.json.gz\n",
      "2021-11-08 10:05:20.718735: I tensorflow/core/profiler/rpc/client/save_profile.cc:137] Creating directory: logs/model6-n10-k5-exp9/train/plugins/profile/2021_11_08_10_05_20\n",
      "2021-11-08 10:05:20.722395: I tensorflow/core/profiler/rpc/client/save_profile.cc:143] Dumped gzipped tool data for memory_profile.json.gz to logs/model6-n10-k5-exp9/train/plugins/profile/2021_11_08_10_05_20/d29684dd295e.memory_profile.json.gz\n",
      "2021-11-08 10:05:20.723371: I tensorflow/core/profiler/rpc/client/capture_profile.cc:251] Creating directory: logs/model6-n10-k5-exp9/train/plugins/profile/2021_11_08_10_05_20Dumped tool data for xplane.pb to logs/model6-n10-k5-exp9/train/plugins/profile/2021_11_08_10_05_20/d29684dd295e.xplane.pb\n",
      "Dumped tool data for overview_page.pb to logs/model6-n10-k5-exp9/train/plugins/profile/2021_11_08_10_05_20/d29684dd295e.overview_page.pb\n",
      "Dumped tool data for input_pipeline.pb to logs/model6-n10-k5-exp9/train/plugins/profile/2021_11_08_10_05_20/d29684dd295e.input_pipeline.pb\n",
      "Dumped tool data for tensorflow_stats.pb to logs/model6-n10-k5-exp9/train/plugins/profile/2021_11_08_10_05_20/d29684dd295e.tensorflow_stats.pb\n",
      "Dumped tool data for kernel_stats.pb to logs/model6-n10-k5-exp9/train/plugins/profile/2021_11_08_10_05_20/d29684dd295e.kernel_stats.pb\n",
      "\n"
     ]
    },
    {
     "name": "stdout",
     "output_type": "stream",
     "text": [
      "Epoch 00015: early stopping\n",
      "model6-exp9\n"
     ]
    },
    {
     "name": "stderr",
     "output_type": "stream",
     "text": [
      "2021-11-08 10:05:55.066720: I tensorflow/core/profiler/lib/profiler_session.cc:136] Profiler session initializing.\n",
      "2021-11-08 10:05:55.066782: I tensorflow/core/profiler/lib/profiler_session.cc:155] Profiler session started.\n",
      "2021-11-08 10:05:55.214908: I tensorflow/core/profiler/lib/profiler_session.cc:172] Profiler session tear down.\n",
      "2021-11-08 10:05:55.215058: I tensorflow/core/profiler/internal/gpu/cupti_tracer.cc:1487] CUPTI activity buffer flushed\n",
      "2021-11-08 10:05:58.006097: I tensorflow/core/profiler/lib/profiler_session.cc:136] Profiler session initializing.\n",
      "2021-11-08 10:05:58.006155: I tensorflow/core/profiler/lib/profiler_session.cc:155] Profiler session started.\n",
      "2021-11-08 10:05:58.335603: I tensorflow/core/profiler/lib/profiler_session.cc:71] Profiler session collecting data.\n",
      "2021-11-08 10:05:58.336169: I tensorflow/core/profiler/internal/gpu/cupti_tracer.cc:1487] CUPTI activity buffer flushed\n",
      "2021-11-08 10:05:58.469228: I tensorflow/core/profiler/internal/gpu/cupti_collector.cc:228]  GpuTracer has collected 367 callback api events and 355 activity events. \n",
      "2021-11-08 10:05:58.481486: I tensorflow/core/profiler/lib/profiler_session.cc:172] Profiler session tear down.\n",
      "2021-11-08 10:05:58.492599: I tensorflow/core/profiler/rpc/client/save_profile.cc:137] Creating directory: logs/model7-n10-k5-exp9/train/plugins/profile/2021_11_08_10_05_58\n",
      "2021-11-08 10:05:58.500420: I tensorflow/core/profiler/rpc/client/save_profile.cc:143] Dumped gzipped tool data for trace.json.gz to logs/model7-n10-k5-exp9/train/plugins/profile/2021_11_08_10_05_58/d29684dd295e.trace.json.gz\n",
      "2021-11-08 10:05:58.518163: I tensorflow/core/profiler/rpc/client/save_profile.cc:137] Creating directory: logs/model7-n10-k5-exp9/train/plugins/profile/2021_11_08_10_05_58\n",
      "2021-11-08 10:05:58.521594: I tensorflow/core/profiler/rpc/client/save_profile.cc:143] Dumped gzipped tool data for memory_profile.json.gz to logs/model7-n10-k5-exp9/train/plugins/profile/2021_11_08_10_05_58/d29684dd295e.memory_profile.json.gz\n",
      "2021-11-08 10:05:58.522579: I tensorflow/core/profiler/rpc/client/capture_profile.cc:251] Creating directory: logs/model7-n10-k5-exp9/train/plugins/profile/2021_11_08_10_05_58Dumped tool data for xplane.pb to logs/model7-n10-k5-exp9/train/plugins/profile/2021_11_08_10_05_58/d29684dd295e.xplane.pb\n",
      "Dumped tool data for overview_page.pb to logs/model7-n10-k5-exp9/train/plugins/profile/2021_11_08_10_05_58/d29684dd295e.overview_page.pb\n",
      "Dumped tool data for input_pipeline.pb to logs/model7-n10-k5-exp9/train/plugins/profile/2021_11_08_10_05_58/d29684dd295e.input_pipeline.pb\n",
      "Dumped tool data for tensorflow_stats.pb to logs/model7-n10-k5-exp9/train/plugins/profile/2021_11_08_10_05_58/d29684dd295e.tensorflow_stats.pb\n",
      "Dumped tool data for kernel_stats.pb to logs/model7-n10-k5-exp9/train/plugins/profile/2021_11_08_10_05_58/d29684dd295e.kernel_stats.pb\n",
      "\n"
     ]
    },
    {
     "name": "stdout",
     "output_type": "stream",
     "text": [
      "Epoch 00017: early stopping\n",
      "model7-exp9\n",
      "random 10\n"
     ]
    },
    {
     "name": "stderr",
     "output_type": "stream",
     "text": [
      "2021-11-08 10:06:39.563716: I tensorflow/core/profiler/lib/profiler_session.cc:136] Profiler session initializing.\n",
      "2021-11-08 10:06:39.563770: I tensorflow/core/profiler/lib/profiler_session.cc:155] Profiler session started.\n",
      "2021-11-08 10:06:39.710488: I tensorflow/core/profiler/lib/profiler_session.cc:172] Profiler session tear down.\n",
      "2021-11-08 10:06:39.710629: I tensorflow/core/profiler/internal/gpu/cupti_tracer.cc:1487] CUPTI activity buffer flushed\n",
      "2021-11-08 10:06:43.438874: I tensorflow/core/profiler/lib/profiler_session.cc:136] Profiler session initializing.\n",
      "2021-11-08 10:06:43.438919: I tensorflow/core/profiler/lib/profiler_session.cc:155] Profiler session started.\n",
      "2021-11-08 10:06:43.793124: I tensorflow/core/profiler/lib/profiler_session.cc:71] Profiler session collecting data.\n",
      "2021-11-08 10:06:43.794220: I tensorflow/core/profiler/internal/gpu/cupti_tracer.cc:1487] CUPTI activity buffer flushed\n",
      "2021-11-08 10:06:43.932568: I tensorflow/core/profiler/internal/gpu/cupti_collector.cc:228]  GpuTracer has collected 308 callback api events and 296 activity events. \n",
      "2021-11-08 10:06:43.944833: I tensorflow/core/profiler/lib/profiler_session.cc:172] Profiler session tear down.\n",
      "2021-11-08 10:06:43.954677: I tensorflow/core/profiler/rpc/client/save_profile.cc:137] Creating directory: logs/model1-n10-k5-exp10/train/plugins/profile/2021_11_08_10_06_43\n",
      "2021-11-08 10:06:43.961359: I tensorflow/core/profiler/rpc/client/save_profile.cc:143] Dumped gzipped tool data for trace.json.gz to logs/model1-n10-k5-exp10/train/plugins/profile/2021_11_08_10_06_43/d29684dd295e.trace.json.gz\n",
      "2021-11-08 10:06:43.978161: I tensorflow/core/profiler/rpc/client/save_profile.cc:137] Creating directory: logs/model1-n10-k5-exp10/train/plugins/profile/2021_11_08_10_06_43\n",
      "2021-11-08 10:06:43.981402: I tensorflow/core/profiler/rpc/client/save_profile.cc:143] Dumped gzipped tool data for memory_profile.json.gz to logs/model1-n10-k5-exp10/train/plugins/profile/2021_11_08_10_06_43/d29684dd295e.memory_profile.json.gz\n",
      "2021-11-08 10:06:43.982467: I tensorflow/core/profiler/rpc/client/capture_profile.cc:251] Creating directory: logs/model1-n10-k5-exp10/train/plugins/profile/2021_11_08_10_06_43Dumped tool data for xplane.pb to logs/model1-n10-k5-exp10/train/plugins/profile/2021_11_08_10_06_43/d29684dd295e.xplane.pb\n",
      "Dumped tool data for overview_page.pb to logs/model1-n10-k5-exp10/train/plugins/profile/2021_11_08_10_06_43/d29684dd295e.overview_page.pb\n",
      "Dumped tool data for input_pipeline.pb to logs/model1-n10-k5-exp10/train/plugins/profile/2021_11_08_10_06_43/d29684dd295e.input_pipeline.pb\n",
      "Dumped tool data for tensorflow_stats.pb to logs/model1-n10-k5-exp10/train/plugins/profile/2021_11_08_10_06_43/d29684dd295e.tensorflow_stats.pb\n",
      "Dumped tool data for kernel_stats.pb to logs/model1-n10-k5-exp10/train/plugins/profile/2021_11_08_10_06_43/d29684dd295e.kernel_stats.pb\n",
      "\n"
     ]
    },
    {
     "name": "stdout",
     "output_type": "stream",
     "text": [
      "Epoch 00020: early stopping\n",
      "model1-exp10\n"
     ]
    },
    {
     "name": "stderr",
     "output_type": "stream",
     "text": [
      "2021-11-08 10:07:27.033077: I tensorflow/core/profiler/lib/profiler_session.cc:136] Profiler session initializing.\n",
      "2021-11-08 10:07:27.033141: I tensorflow/core/profiler/lib/profiler_session.cc:155] Profiler session started.\n",
      "2021-11-08 10:07:27.370134: I tensorflow/core/profiler/lib/profiler_session.cc:172] Profiler session tear down.\n",
      "2021-11-08 10:07:27.370279: I tensorflow/core/profiler/internal/gpu/cupti_tracer.cc:1487] CUPTI activity buffer flushed\n",
      "2021-11-08 10:07:30.251044: I tensorflow/core/profiler/lib/profiler_session.cc:136] Profiler session initializing.\n",
      "2021-11-08 10:07:30.251102: I tensorflow/core/profiler/lib/profiler_session.cc:155] Profiler session started.\n",
      "2021-11-08 10:07:30.579942: I tensorflow/core/profiler/lib/profiler_session.cc:71] Profiler session collecting data.\n",
      "2021-11-08 10:07:30.580739: I tensorflow/core/profiler/internal/gpu/cupti_tracer.cc:1487] CUPTI activity buffer flushed\n",
      "2021-11-08 10:07:30.715258: I tensorflow/core/profiler/internal/gpu/cupti_collector.cc:228]  GpuTracer has collected 359 callback api events and 347 activity events. \n",
      "2021-11-08 10:07:30.727510: I tensorflow/core/profiler/lib/profiler_session.cc:172] Profiler session tear down.\n",
      "2021-11-08 10:07:30.738353: I tensorflow/core/profiler/rpc/client/save_profile.cc:137] Creating directory: logs/model2-n10-k5-exp10/train/plugins/profile/2021_11_08_10_07_30\n",
      "2021-11-08 10:07:30.745921: I tensorflow/core/profiler/rpc/client/save_profile.cc:143] Dumped gzipped tool data for trace.json.gz to logs/model2-n10-k5-exp10/train/plugins/profile/2021_11_08_10_07_30/d29684dd295e.trace.json.gz\n",
      "2021-11-08 10:07:30.763978: I tensorflow/core/profiler/rpc/client/save_profile.cc:137] Creating directory: logs/model2-n10-k5-exp10/train/plugins/profile/2021_11_08_10_07_30\n",
      "2021-11-08 10:07:30.766870: I tensorflow/core/profiler/rpc/client/save_profile.cc:143] Dumped gzipped tool data for memory_profile.json.gz to logs/model2-n10-k5-exp10/train/plugins/profile/2021_11_08_10_07_30/d29684dd295e.memory_profile.json.gz\n",
      "2021-11-08 10:07:30.767941: I tensorflow/core/profiler/rpc/client/capture_profile.cc:251] Creating directory: logs/model2-n10-k5-exp10/train/plugins/profile/2021_11_08_10_07_30Dumped tool data for xplane.pb to logs/model2-n10-k5-exp10/train/plugins/profile/2021_11_08_10_07_30/d29684dd295e.xplane.pb\n",
      "Dumped tool data for overview_page.pb to logs/model2-n10-k5-exp10/train/plugins/profile/2021_11_08_10_07_30/d29684dd295e.overview_page.pb\n",
      "Dumped tool data for input_pipeline.pb to logs/model2-n10-k5-exp10/train/plugins/profile/2021_11_08_10_07_30/d29684dd295e.input_pipeline.pb\n",
      "Dumped tool data for tensorflow_stats.pb to logs/model2-n10-k5-exp10/train/plugins/profile/2021_11_08_10_07_30/d29684dd295e.tensorflow_stats.pb\n",
      "Dumped tool data for kernel_stats.pb to logs/model2-n10-k5-exp10/train/plugins/profile/2021_11_08_10_07_30/d29684dd295e.kernel_stats.pb\n",
      "\n"
     ]
    },
    {
     "name": "stdout",
     "output_type": "stream",
     "text": [
      "Epoch 00015: early stopping\n",
      "model2-exp10\n"
     ]
    },
    {
     "name": "stderr",
     "output_type": "stream",
     "text": [
      "2021-11-08 10:08:07.323588: I tensorflow/core/profiler/lib/profiler_session.cc:136] Profiler session initializing.\n",
      "2021-11-08 10:08:07.323644: I tensorflow/core/profiler/lib/profiler_session.cc:155] Profiler session started.\n",
      "2021-11-08 10:08:07.476967: I tensorflow/core/profiler/lib/profiler_session.cc:172] Profiler session tear down.\n",
      "2021-11-08 10:08:07.477105: I tensorflow/core/profiler/internal/gpu/cupti_tracer.cc:1487] CUPTI activity buffer flushed\n",
      "2021-11-08 10:08:10.419632: I tensorflow/core/profiler/lib/profiler_session.cc:136] Profiler session initializing.\n",
      "2021-11-08 10:08:10.419685: I tensorflow/core/profiler/lib/profiler_session.cc:155] Profiler session started.\n",
      "2021-11-08 10:08:10.752827: I tensorflow/core/profiler/lib/profiler_session.cc:71] Profiler session collecting data.\n",
      "2021-11-08 10:08:10.753449: I tensorflow/core/profiler/internal/gpu/cupti_tracer.cc:1487] CUPTI activity buffer flushed\n",
      "2021-11-08 10:08:10.906054: I tensorflow/core/profiler/internal/gpu/cupti_collector.cc:228]  GpuTracer has collected 363 callback api events and 351 activity events. \n",
      "2021-11-08 10:08:10.926670: I tensorflow/core/profiler/lib/profiler_session.cc:172] Profiler session tear down.\n",
      "2021-11-08 10:08:10.945697: I tensorflow/core/profiler/rpc/client/save_profile.cc:137] Creating directory: logs/model3-n10-k5-exp10/train/plugins/profile/2021_11_08_10_08_10\n",
      "2021-11-08 10:08:10.957680: I tensorflow/core/profiler/rpc/client/save_profile.cc:143] Dumped gzipped tool data for trace.json.gz to logs/model3-n10-k5-exp10/train/plugins/profile/2021_11_08_10_08_10/d29684dd295e.trace.json.gz\n",
      "2021-11-08 10:08:10.988552: I tensorflow/core/profiler/rpc/client/save_profile.cc:137] Creating directory: logs/model3-n10-k5-exp10/train/plugins/profile/2021_11_08_10_08_10\n",
      "2021-11-08 10:08:10.993574: I tensorflow/core/profiler/rpc/client/save_profile.cc:143] Dumped gzipped tool data for memory_profile.json.gz to logs/model3-n10-k5-exp10/train/plugins/profile/2021_11_08_10_08_10/d29684dd295e.memory_profile.json.gz\n",
      "2021-11-08 10:08:10.995022: I tensorflow/core/profiler/rpc/client/capture_profile.cc:251] Creating directory: logs/model3-n10-k5-exp10/train/plugins/profile/2021_11_08_10_08_10Dumped tool data for xplane.pb to logs/model3-n10-k5-exp10/train/plugins/profile/2021_11_08_10_08_10/d29684dd295e.xplane.pb\n",
      "Dumped tool data for overview_page.pb to logs/model3-n10-k5-exp10/train/plugins/profile/2021_11_08_10_08_10/d29684dd295e.overview_page.pb\n",
      "Dumped tool data for input_pipeline.pb to logs/model3-n10-k5-exp10/train/plugins/profile/2021_11_08_10_08_10/d29684dd295e.input_pipeline.pb\n",
      "Dumped tool data for tensorflow_stats.pb to logs/model3-n10-k5-exp10/train/plugins/profile/2021_11_08_10_08_10/d29684dd295e.tensorflow_stats.pb\n",
      "Dumped tool data for kernel_stats.pb to logs/model3-n10-k5-exp10/train/plugins/profile/2021_11_08_10_08_10/d29684dd295e.kernel_stats.pb\n",
      "\n"
     ]
    },
    {
     "name": "stdout",
     "output_type": "stream",
     "text": [
      "Epoch 00016: early stopping\n",
      "model3-exp10\n"
     ]
    },
    {
     "name": "stderr",
     "output_type": "stream",
     "text": [
      "2021-11-08 10:08:52.471244: I tensorflow/core/profiler/lib/profiler_session.cc:136] Profiler session initializing.\n",
      "2021-11-08 10:08:52.471299: I tensorflow/core/profiler/lib/profiler_session.cc:155] Profiler session started.\n",
      "2021-11-08 10:08:52.622492: I tensorflow/core/profiler/lib/profiler_session.cc:172] Profiler session tear down.\n",
      "2021-11-08 10:08:52.622696: I tensorflow/core/profiler/internal/gpu/cupti_tracer.cc:1487] CUPTI activity buffer flushed\n",
      "2021-11-08 10:08:55.539574: I tensorflow/core/profiler/lib/profiler_session.cc:136] Profiler session initializing.\n",
      "2021-11-08 10:08:55.539629: I tensorflow/core/profiler/lib/profiler_session.cc:155] Profiler session started.\n",
      "2021-11-08 10:08:55.886106: I tensorflow/core/profiler/lib/profiler_session.cc:71] Profiler session collecting data.\n",
      "2021-11-08 10:08:55.886717: I tensorflow/core/profiler/internal/gpu/cupti_tracer.cc:1487] CUPTI activity buffer flushed\n",
      "2021-11-08 10:08:56.020515: I tensorflow/core/profiler/internal/gpu/cupti_collector.cc:228]  GpuTracer has collected 363 callback api events and 351 activity events. \n",
      "2021-11-08 10:08:56.033379: I tensorflow/core/profiler/lib/profiler_session.cc:172] Profiler session tear down.\n",
      "2021-11-08 10:08:56.044720: I tensorflow/core/profiler/rpc/client/save_profile.cc:137] Creating directory: logs/model4-n10-k5-exp10/train/plugins/profile/2021_11_08_10_08_56\n",
      "2021-11-08 10:08:56.052541: I tensorflow/core/profiler/rpc/client/save_profile.cc:143] Dumped gzipped tool data for trace.json.gz to logs/model4-n10-k5-exp10/train/plugins/profile/2021_11_08_10_08_56/d29684dd295e.trace.json.gz\n",
      "2021-11-08 10:08:56.070727: I tensorflow/core/profiler/rpc/client/save_profile.cc:137] Creating directory: logs/model4-n10-k5-exp10/train/plugins/profile/2021_11_08_10_08_56\n",
      "2021-11-08 10:08:56.073997: I tensorflow/core/profiler/rpc/client/save_profile.cc:143] Dumped gzipped tool data for memory_profile.json.gz to logs/model4-n10-k5-exp10/train/plugins/profile/2021_11_08_10_08_56/d29684dd295e.memory_profile.json.gz\n",
      "2021-11-08 10:08:56.075133: I tensorflow/core/profiler/rpc/client/capture_profile.cc:251] Creating directory: logs/model4-n10-k5-exp10/train/plugins/profile/2021_11_08_10_08_56Dumped tool data for xplane.pb to logs/model4-n10-k5-exp10/train/plugins/profile/2021_11_08_10_08_56/d29684dd295e.xplane.pb\n",
      "Dumped tool data for overview_page.pb to logs/model4-n10-k5-exp10/train/plugins/profile/2021_11_08_10_08_56/d29684dd295e.overview_page.pb\n",
      "Dumped tool data for input_pipeline.pb to logs/model4-n10-k5-exp10/train/plugins/profile/2021_11_08_10_08_56/d29684dd295e.input_pipeline.pb\n",
      "Dumped tool data for tensorflow_stats.pb to logs/model4-n10-k5-exp10/train/plugins/profile/2021_11_08_10_08_56/d29684dd295e.tensorflow_stats.pb\n",
      "Dumped tool data for kernel_stats.pb to logs/model4-n10-k5-exp10/train/plugins/profile/2021_11_08_10_08_56/d29684dd295e.kernel_stats.pb\n",
      "\n"
     ]
    },
    {
     "name": "stdout",
     "output_type": "stream",
     "text": [
      "Epoch 00013: early stopping\n",
      "model4-exp10\n"
     ]
    },
    {
     "name": "stderr",
     "output_type": "stream",
     "text": [
      "2021-11-08 10:09:28.853794: I tensorflow/core/profiler/lib/profiler_session.cc:136] Profiler session initializing.\n",
      "2021-11-08 10:09:28.853852: I tensorflow/core/profiler/lib/profiler_session.cc:155] Profiler session started.\n",
      "2021-11-08 10:09:29.003082: I tensorflow/core/profiler/lib/profiler_session.cc:172] Profiler session tear down.\n",
      "2021-11-08 10:09:29.003270: I tensorflow/core/profiler/internal/gpu/cupti_tracer.cc:1487] CUPTI activity buffer flushed\n",
      "2021-11-08 10:09:31.636895: I tensorflow/core/profiler/lib/profiler_session.cc:136] Profiler session initializing.\n",
      "2021-11-08 10:09:31.636946: I tensorflow/core/profiler/lib/profiler_session.cc:155] Profiler session started.\n",
      "2021-11-08 10:09:31.979674: I tensorflow/core/profiler/lib/profiler_session.cc:71] Profiler session collecting data.\n",
      "2021-11-08 10:09:31.980315: I tensorflow/core/profiler/internal/gpu/cupti_tracer.cc:1487] CUPTI activity buffer flushed\n",
      "2021-11-08 10:09:32.113491: I tensorflow/core/profiler/internal/gpu/cupti_collector.cc:228]  GpuTracer has collected 363 callback api events and 351 activity events. \n",
      "2021-11-08 10:09:32.125967: I tensorflow/core/profiler/lib/profiler_session.cc:172] Profiler session tear down.\n",
      "2021-11-08 10:09:32.137150: I tensorflow/core/profiler/rpc/client/save_profile.cc:137] Creating directory: logs/model5-n10-k5-exp10/train/plugins/profile/2021_11_08_10_09_32\n",
      "2021-11-08 10:09:32.145373: I tensorflow/core/profiler/rpc/client/save_profile.cc:143] Dumped gzipped tool data for trace.json.gz to logs/model5-n10-k5-exp10/train/plugins/profile/2021_11_08_10_09_32/d29684dd295e.trace.json.gz\n",
      "2021-11-08 10:09:32.163025: I tensorflow/core/profiler/rpc/client/save_profile.cc:137] Creating directory: logs/model5-n10-k5-exp10/train/plugins/profile/2021_11_08_10_09_32\n",
      "2021-11-08 10:09:32.166340: I tensorflow/core/profiler/rpc/client/save_profile.cc:143] Dumped gzipped tool data for memory_profile.json.gz to logs/model5-n10-k5-exp10/train/plugins/profile/2021_11_08_10_09_32/d29684dd295e.memory_profile.json.gz\n",
      "2021-11-08 10:09:32.167252: I tensorflow/core/profiler/rpc/client/capture_profile.cc:251] Creating directory: logs/model5-n10-k5-exp10/train/plugins/profile/2021_11_08_10_09_32Dumped tool data for xplane.pb to logs/model5-n10-k5-exp10/train/plugins/profile/2021_11_08_10_09_32/d29684dd295e.xplane.pb\n",
      "Dumped tool data for overview_page.pb to logs/model5-n10-k5-exp10/train/plugins/profile/2021_11_08_10_09_32/d29684dd295e.overview_page.pb\n",
      "Dumped tool data for input_pipeline.pb to logs/model5-n10-k5-exp10/train/plugins/profile/2021_11_08_10_09_32/d29684dd295e.input_pipeline.pb\n",
      "Dumped tool data for tensorflow_stats.pb to logs/model5-n10-k5-exp10/train/plugins/profile/2021_11_08_10_09_32/d29684dd295e.tensorflow_stats.pb\n",
      "Dumped tool data for kernel_stats.pb to logs/model5-n10-k5-exp10/train/plugins/profile/2021_11_08_10_09_32/d29684dd295e.kernel_stats.pb\n",
      "\n"
     ]
    },
    {
     "name": "stdout",
     "output_type": "stream",
     "text": [
      "Epoch 00027: early stopping\n",
      "model5-exp10\n"
     ]
    },
    {
     "name": "stderr",
     "output_type": "stream",
     "text": [
      "2021-11-08 10:10:32.798351: I tensorflow/core/profiler/lib/profiler_session.cc:136] Profiler session initializing.\n",
      "2021-11-08 10:10:32.798402: I tensorflow/core/profiler/lib/profiler_session.cc:155] Profiler session started.\n",
      "2021-11-08 10:10:32.947951: I tensorflow/core/profiler/lib/profiler_session.cc:172] Profiler session tear down.\n",
      "2021-11-08 10:10:32.948118: I tensorflow/core/profiler/internal/gpu/cupti_tracer.cc:1487] CUPTI activity buffer flushed\n",
      "2021-11-08 10:10:35.908397: I tensorflow/core/profiler/lib/profiler_session.cc:136] Profiler session initializing.\n",
      "2021-11-08 10:10:35.908463: I tensorflow/core/profiler/lib/profiler_session.cc:155] Profiler session started.\n",
      "2021-11-08 10:10:36.240234: I tensorflow/core/profiler/lib/profiler_session.cc:71] Profiler session collecting data.\n",
      "2021-11-08 10:10:36.240884: I tensorflow/core/profiler/internal/gpu/cupti_tracer.cc:1487] CUPTI activity buffer flushed\n",
      "2021-11-08 10:10:36.375665: I tensorflow/core/profiler/internal/gpu/cupti_collector.cc:228]  GpuTracer has collected 367 callback api events and 355 activity events. \n",
      "2021-11-08 10:10:36.389117: I tensorflow/core/profiler/lib/profiler_session.cc:172] Profiler session tear down.\n",
      "2021-11-08 10:10:36.400811: I tensorflow/core/profiler/rpc/client/save_profile.cc:137] Creating directory: logs/model6-n10-k5-exp10/train/plugins/profile/2021_11_08_10_10_36\n",
      "2021-11-08 10:10:36.408738: I tensorflow/core/profiler/rpc/client/save_profile.cc:143] Dumped gzipped tool data for trace.json.gz to logs/model6-n10-k5-exp10/train/plugins/profile/2021_11_08_10_10_36/d29684dd295e.trace.json.gz\n",
      "2021-11-08 10:10:36.427911: I tensorflow/core/profiler/rpc/client/save_profile.cc:137] Creating directory: logs/model6-n10-k5-exp10/train/plugins/profile/2021_11_08_10_10_36\n",
      "2021-11-08 10:10:36.431449: I tensorflow/core/profiler/rpc/client/save_profile.cc:143] Dumped gzipped tool data for memory_profile.json.gz to logs/model6-n10-k5-exp10/train/plugins/profile/2021_11_08_10_10_36/d29684dd295e.memory_profile.json.gz\n",
      "2021-11-08 10:10:36.432420: I tensorflow/core/profiler/rpc/client/capture_profile.cc:251] Creating directory: logs/model6-n10-k5-exp10/train/plugins/profile/2021_11_08_10_10_36Dumped tool data for xplane.pb to logs/model6-n10-k5-exp10/train/plugins/profile/2021_11_08_10_10_36/d29684dd295e.xplane.pb\n",
      "Dumped tool data for overview_page.pb to logs/model6-n10-k5-exp10/train/plugins/profile/2021_11_08_10_10_36/d29684dd295e.overview_page.pb\n",
      "Dumped tool data for input_pipeline.pb to logs/model6-n10-k5-exp10/train/plugins/profile/2021_11_08_10_10_36/d29684dd295e.input_pipeline.pb\n",
      "Dumped tool data for tensorflow_stats.pb to logs/model6-n10-k5-exp10/train/plugins/profile/2021_11_08_10_10_36/d29684dd295e.tensorflow_stats.pb\n",
      "Dumped tool data for kernel_stats.pb to logs/model6-n10-k5-exp10/train/plugins/profile/2021_11_08_10_10_36/d29684dd295e.kernel_stats.pb\n",
      "\n"
     ]
    },
    {
     "name": "stdout",
     "output_type": "stream",
     "text": [
      "Epoch 00014: early stopping\n",
      "model6-exp10\n"
     ]
    },
    {
     "name": "stderr",
     "output_type": "stream",
     "text": [
      "2021-11-08 10:11:08.630658: I tensorflow/core/profiler/lib/profiler_session.cc:136] Profiler session initializing.\n",
      "2021-11-08 10:11:08.630725: I tensorflow/core/profiler/lib/profiler_session.cc:155] Profiler session started.\n",
      "2021-11-08 10:11:08.776360: I tensorflow/core/profiler/lib/profiler_session.cc:172] Profiler session tear down.\n",
      "2021-11-08 10:11:08.776607: I tensorflow/core/profiler/internal/gpu/cupti_tracer.cc:1487] CUPTI activity buffer flushed\n",
      "2021-11-08 10:11:11.534591: I tensorflow/core/profiler/lib/profiler_session.cc:136] Profiler session initializing.\n",
      "2021-11-08 10:11:11.534647: I tensorflow/core/profiler/lib/profiler_session.cc:155] Profiler session started.\n",
      "2021-11-08 10:11:11.871419: I tensorflow/core/profiler/lib/profiler_session.cc:71] Profiler session collecting data.\n",
      "2021-11-08 10:11:11.872067: I tensorflow/core/profiler/internal/gpu/cupti_tracer.cc:1487] CUPTI activity buffer flushed\n",
      "2021-11-08 10:11:12.005302: I tensorflow/core/profiler/internal/gpu/cupti_collector.cc:228]  GpuTracer has collected 367 callback api events and 355 activity events. \n",
      "2021-11-08 10:11:12.017989: I tensorflow/core/profiler/lib/profiler_session.cc:172] Profiler session tear down.\n",
      "2021-11-08 10:11:12.029815: I tensorflow/core/profiler/rpc/client/save_profile.cc:137] Creating directory: logs/model7-n10-k5-exp10/train/plugins/profile/2021_11_08_10_11_12\n",
      "2021-11-08 10:11:12.037618: I tensorflow/core/profiler/rpc/client/save_profile.cc:143] Dumped gzipped tool data for trace.json.gz to logs/model7-n10-k5-exp10/train/plugins/profile/2021_11_08_10_11_12/d29684dd295e.trace.json.gz\n",
      "2021-11-08 10:11:12.055737: I tensorflow/core/profiler/rpc/client/save_profile.cc:137] Creating directory: logs/model7-n10-k5-exp10/train/plugins/profile/2021_11_08_10_11_12\n",
      "2021-11-08 10:11:12.059181: I tensorflow/core/profiler/rpc/client/save_profile.cc:143] Dumped gzipped tool data for memory_profile.json.gz to logs/model7-n10-k5-exp10/train/plugins/profile/2021_11_08_10_11_12/d29684dd295e.memory_profile.json.gz\n",
      "2021-11-08 10:11:12.060259: I tensorflow/core/profiler/rpc/client/capture_profile.cc:251] Creating directory: logs/model7-n10-k5-exp10/train/plugins/profile/2021_11_08_10_11_12Dumped tool data for xplane.pb to logs/model7-n10-k5-exp10/train/plugins/profile/2021_11_08_10_11_12/d29684dd295e.xplane.pb\n",
      "Dumped tool data for overview_page.pb to logs/model7-n10-k5-exp10/train/plugins/profile/2021_11_08_10_11_12/d29684dd295e.overview_page.pb\n",
      "Dumped tool data for input_pipeline.pb to logs/model7-n10-k5-exp10/train/plugins/profile/2021_11_08_10_11_12/d29684dd295e.input_pipeline.pb\n",
      "Dumped tool data for tensorflow_stats.pb to logs/model7-n10-k5-exp10/train/plugins/profile/2021_11_08_10_11_12/d29684dd295e.tensorflow_stats.pb\n",
      "Dumped tool data for kernel_stats.pb to logs/model7-n10-k5-exp10/train/plugins/profile/2021_11_08_10_11_12/d29684dd295e.kernel_stats.pb\n",
      "\n"
     ]
    },
    {
     "name": "stdout",
     "output_type": "stream",
     "text": [
      "Epoch 00016: early stopping\n",
      "model7-exp10\n",
      "random 1\n"
     ]
    },
    {
     "name": "stderr",
     "output_type": "stream",
     "text": [
      "2021-11-08 10:11:50.517780: I tensorflow/core/profiler/lib/profiler_session.cc:136] Profiler session initializing.\n",
      "2021-11-08 10:11:50.517834: I tensorflow/core/profiler/lib/profiler_session.cc:155] Profiler session started.\n",
      "2021-11-08 10:11:50.665022: I tensorflow/core/profiler/lib/profiler_session.cc:172] Profiler session tear down.\n",
      "2021-11-08 10:11:50.665183: I tensorflow/core/profiler/internal/gpu/cupti_tracer.cc:1487] CUPTI activity buffer flushed\n",
      "2021-11-08 10:11:53.651942: I tensorflow/core/profiler/lib/profiler_session.cc:136] Profiler session initializing.\n",
      "2021-11-08 10:11:53.651997: I tensorflow/core/profiler/lib/profiler_session.cc:155] Profiler session started.\n",
      "2021-11-08 10:11:53.961328: I tensorflow/core/profiler/lib/profiler_session.cc:71] Profiler session collecting data.\n",
      "2021-11-08 10:11:53.961845: I tensorflow/core/profiler/internal/gpu/cupti_tracer.cc:1487] CUPTI activity buffer flushed\n",
      "2021-11-08 10:11:54.094085: I tensorflow/core/profiler/internal/gpu/cupti_collector.cc:228]  GpuTracer has collected 318 callback api events and 306 activity events. \n",
      "2021-11-08 10:11:54.104480: I tensorflow/core/profiler/lib/profiler_session.cc:172] Profiler session tear down.\n",
      "2021-11-08 10:11:54.113317: I tensorflow/core/profiler/rpc/client/save_profile.cc:137] Creating directory: logs/model1-n12-k5-exp1/train/plugins/profile/2021_11_08_10_11_54\n",
      "2021-11-08 10:11:54.119516: I tensorflow/core/profiler/rpc/client/save_profile.cc:143] Dumped gzipped tool data for trace.json.gz to logs/model1-n12-k5-exp1/train/plugins/profile/2021_11_08_10_11_54/d29684dd295e.trace.json.gz\n",
      "2021-11-08 10:11:54.133493: I tensorflow/core/profiler/rpc/client/save_profile.cc:137] Creating directory: logs/model1-n12-k5-exp1/train/plugins/profile/2021_11_08_10_11_54\n",
      "2021-11-08 10:11:54.136217: I tensorflow/core/profiler/rpc/client/save_profile.cc:143] Dumped gzipped tool data for memory_profile.json.gz to logs/model1-n12-k5-exp1/train/plugins/profile/2021_11_08_10_11_54/d29684dd295e.memory_profile.json.gz\n",
      "2021-11-08 10:11:54.136988: I tensorflow/core/profiler/rpc/client/capture_profile.cc:251] Creating directory: logs/model1-n12-k5-exp1/train/plugins/profile/2021_11_08_10_11_54Dumped tool data for xplane.pb to logs/model1-n12-k5-exp1/train/plugins/profile/2021_11_08_10_11_54/d29684dd295e.xplane.pb\n",
      "Dumped tool data for overview_page.pb to logs/model1-n12-k5-exp1/train/plugins/profile/2021_11_08_10_11_54/d29684dd295e.overview_page.pb\n",
      "Dumped tool data for input_pipeline.pb to logs/model1-n12-k5-exp1/train/plugins/profile/2021_11_08_10_11_54/d29684dd295e.input_pipeline.pb\n",
      "Dumped tool data for tensorflow_stats.pb to logs/model1-n12-k5-exp1/train/plugins/profile/2021_11_08_10_11_54/d29684dd295e.tensorflow_stats.pb\n",
      "Dumped tool data for kernel_stats.pb to logs/model1-n12-k5-exp1/train/plugins/profile/2021_11_08_10_11_54/d29684dd295e.kernel_stats.pb\n",
      "\n"
     ]
    },
    {
     "name": "stdout",
     "output_type": "stream",
     "text": [
      "Epoch 00021: early stopping\n",
      "model1-exp1\n"
     ]
    },
    {
     "name": "stderr",
     "output_type": "stream",
     "text": [
      "2021-11-08 10:12:40.191826: I tensorflow/core/profiler/lib/profiler_session.cc:136] Profiler session initializing.\n",
      "2021-11-08 10:12:40.191883: I tensorflow/core/profiler/lib/profiler_session.cc:155] Profiler session started.\n",
      "2021-11-08 10:12:40.336486: I tensorflow/core/profiler/lib/profiler_session.cc:172] Profiler session tear down.\n",
      "2021-11-08 10:12:40.336626: I tensorflow/core/profiler/internal/gpu/cupti_tracer.cc:1487] CUPTI activity buffer flushed\n",
      "2021-11-08 10:12:44.027132: I tensorflow/core/profiler/lib/profiler_session.cc:136] Profiler session initializing.\n",
      "2021-11-08 10:12:44.027192: I tensorflow/core/profiler/lib/profiler_session.cc:155] Profiler session started.\n",
      "2021-11-08 10:12:44.363154: I tensorflow/core/profiler/lib/profiler_session.cc:71] Profiler session collecting data.\n",
      "2021-11-08 10:12:44.363810: I tensorflow/core/profiler/internal/gpu/cupti_tracer.cc:1487] CUPTI activity buffer flushed\n",
      "2021-11-08 10:12:44.499537: I tensorflow/core/profiler/internal/gpu/cupti_collector.cc:228]  GpuTracer has collected 369 callback api events and 357 activity events. \n",
      "2021-11-08 10:12:44.511916: I tensorflow/core/profiler/lib/profiler_session.cc:172] Profiler session tear down.\n",
      "2021-11-08 10:12:44.522832: I tensorflow/core/profiler/rpc/client/save_profile.cc:137] Creating directory: logs/model2-n12-k5-exp1/train/plugins/profile/2021_11_08_10_12_44\n",
      "2021-11-08 10:12:44.530367: I tensorflow/core/profiler/rpc/client/save_profile.cc:143] Dumped gzipped tool data for trace.json.gz to logs/model2-n12-k5-exp1/train/plugins/profile/2021_11_08_10_12_44/d29684dd295e.trace.json.gz\n",
      "2021-11-08 10:12:44.547960: I tensorflow/core/profiler/rpc/client/save_profile.cc:137] Creating directory: logs/model2-n12-k5-exp1/train/plugins/profile/2021_11_08_10_12_44\n",
      "2021-11-08 10:12:44.551187: I tensorflow/core/profiler/rpc/client/save_profile.cc:143] Dumped gzipped tool data for memory_profile.json.gz to logs/model2-n12-k5-exp1/train/plugins/profile/2021_11_08_10_12_44/d29684dd295e.memory_profile.json.gz\n",
      "2021-11-08 10:12:44.552266: I tensorflow/core/profiler/rpc/client/capture_profile.cc:251] Creating directory: logs/model2-n12-k5-exp1/train/plugins/profile/2021_11_08_10_12_44Dumped tool data for xplane.pb to logs/model2-n12-k5-exp1/train/plugins/profile/2021_11_08_10_12_44/d29684dd295e.xplane.pb\n",
      "Dumped tool data for overview_page.pb to logs/model2-n12-k5-exp1/train/plugins/profile/2021_11_08_10_12_44/d29684dd295e.overview_page.pb\n",
      "Dumped tool data for input_pipeline.pb to logs/model2-n12-k5-exp1/train/plugins/profile/2021_11_08_10_12_44/d29684dd295e.input_pipeline.pb\n",
      "Dumped tool data for tensorflow_stats.pb to logs/model2-n12-k5-exp1/train/plugins/profile/2021_11_08_10_12_44/d29684dd295e.tensorflow_stats.pb\n",
      "Dumped tool data for kernel_stats.pb to logs/model2-n12-k5-exp1/train/plugins/profile/2021_11_08_10_12_44/d29684dd295e.kernel_stats.pb\n",
      "\n"
     ]
    },
    {
     "name": "stdout",
     "output_type": "stream",
     "text": [
      "Epoch 00015: early stopping\n",
      "model2-exp1\n"
     ]
    },
    {
     "name": "stderr",
     "output_type": "stream",
     "text": [
      "2021-11-08 10:13:22.261334: I tensorflow/core/profiler/lib/profiler_session.cc:136] Profiler session initializing.\n",
      "2021-11-08 10:13:22.261390: I tensorflow/core/profiler/lib/profiler_session.cc:155] Profiler session started.\n",
      "2021-11-08 10:13:22.414163: I tensorflow/core/profiler/lib/profiler_session.cc:172] Profiler session tear down.\n",
      "2021-11-08 10:13:22.414310: I tensorflow/core/profiler/internal/gpu/cupti_tracer.cc:1487] CUPTI activity buffer flushed\n",
      "2021-11-08 10:13:25.174588: I tensorflow/core/profiler/lib/profiler_session.cc:136] Profiler session initializing.\n",
      "2021-11-08 10:13:25.174643: I tensorflow/core/profiler/lib/profiler_session.cc:155] Profiler session started.\n",
      "2021-11-08 10:13:25.523980: I tensorflow/core/profiler/lib/profiler_session.cc:71] Profiler session collecting data.\n",
      "2021-11-08 10:13:25.524652: I tensorflow/core/profiler/internal/gpu/cupti_tracer.cc:1487] CUPTI activity buffer flushed\n",
      "2021-11-08 10:13:25.659184: I tensorflow/core/profiler/internal/gpu/cupti_collector.cc:228]  GpuTracer has collected 373 callback api events and 361 activity events. \n",
      "2021-11-08 10:13:25.671792: I tensorflow/core/profiler/lib/profiler_session.cc:172] Profiler session tear down.\n",
      "2021-11-08 10:13:25.683112: I tensorflow/core/profiler/rpc/client/save_profile.cc:137] Creating directory: logs/model3-n12-k5-exp1/train/plugins/profile/2021_11_08_10_13_25\n",
      "2021-11-08 10:13:25.690737: I tensorflow/core/profiler/rpc/client/save_profile.cc:143] Dumped gzipped tool data for trace.json.gz to logs/model3-n12-k5-exp1/train/plugins/profile/2021_11_08_10_13_25/d29684dd295e.trace.json.gz\n",
      "2021-11-08 10:13:25.709010: I tensorflow/core/profiler/rpc/client/save_profile.cc:137] Creating directory: logs/model3-n12-k5-exp1/train/plugins/profile/2021_11_08_10_13_25\n",
      "2021-11-08 10:13:25.712297: I tensorflow/core/profiler/rpc/client/save_profile.cc:143] Dumped gzipped tool data for memory_profile.json.gz to logs/model3-n12-k5-exp1/train/plugins/profile/2021_11_08_10_13_25/d29684dd295e.memory_profile.json.gz\n",
      "2021-11-08 10:13:25.713339: I tensorflow/core/profiler/rpc/client/capture_profile.cc:251] Creating directory: logs/model3-n12-k5-exp1/train/plugins/profile/2021_11_08_10_13_25Dumped tool data for xplane.pb to logs/model3-n12-k5-exp1/train/plugins/profile/2021_11_08_10_13_25/d29684dd295e.xplane.pb\n",
      "Dumped tool data for overview_page.pb to logs/model3-n12-k5-exp1/train/plugins/profile/2021_11_08_10_13_25/d29684dd295e.overview_page.pb\n",
      "Dumped tool data for input_pipeline.pb to logs/model3-n12-k5-exp1/train/plugins/profile/2021_11_08_10_13_25/d29684dd295e.input_pipeline.pb\n",
      "Dumped tool data for tensorflow_stats.pb to logs/model3-n12-k5-exp1/train/plugins/profile/2021_11_08_10_13_25/d29684dd295e.tensorflow_stats.pb\n",
      "Dumped tool data for kernel_stats.pb to logs/model3-n12-k5-exp1/train/plugins/profile/2021_11_08_10_13_25/d29684dd295e.kernel_stats.pb\n",
      "\n"
     ]
    },
    {
     "name": "stdout",
     "output_type": "stream",
     "text": [
      "Epoch 00015: early stopping\n",
      "model3-exp1\n"
     ]
    },
    {
     "name": "stderr",
     "output_type": "stream",
     "text": [
      "2021-11-08 10:14:05.983999: I tensorflow/core/profiler/lib/profiler_session.cc:136] Profiler session initializing.\n",
      "2021-11-08 10:14:05.984058: I tensorflow/core/profiler/lib/profiler_session.cc:155] Profiler session started.\n",
      "2021-11-08 10:14:06.140240: I tensorflow/core/profiler/lib/profiler_session.cc:172] Profiler session tear down.\n",
      "2021-11-08 10:14:06.140388: I tensorflow/core/profiler/internal/gpu/cupti_tracer.cc:1487] CUPTI activity buffer flushed\n",
      "2021-11-08 10:14:09.099813: I tensorflow/core/profiler/lib/profiler_session.cc:136] Profiler session initializing.\n",
      "2021-11-08 10:14:09.099869: I tensorflow/core/profiler/lib/profiler_session.cc:155] Profiler session started.\n",
      "2021-11-08 10:14:09.440809: I tensorflow/core/profiler/lib/profiler_session.cc:71] Profiler session collecting data.\n",
      "2021-11-08 10:14:09.441522: I tensorflow/core/profiler/internal/gpu/cupti_tracer.cc:1487] CUPTI activity buffer flushed\n",
      "2021-11-08 10:14:09.574610: I tensorflow/core/profiler/internal/gpu/cupti_collector.cc:228]  GpuTracer has collected 373 callback api events and 361 activity events. \n",
      "2021-11-08 10:14:09.587363: I tensorflow/core/profiler/lib/profiler_session.cc:172] Profiler session tear down.\n",
      "2021-11-08 10:14:09.598920: I tensorflow/core/profiler/rpc/client/save_profile.cc:137] Creating directory: logs/model4-n12-k5-exp1/train/plugins/profile/2021_11_08_10_14_09\n",
      "2021-11-08 10:14:09.606554: I tensorflow/core/profiler/rpc/client/save_profile.cc:143] Dumped gzipped tool data for trace.json.gz to logs/model4-n12-k5-exp1/train/plugins/profile/2021_11_08_10_14_09/d29684dd295e.trace.json.gz\n",
      "2021-11-08 10:14:09.624275: I tensorflow/core/profiler/rpc/client/save_profile.cc:137] Creating directory: logs/model4-n12-k5-exp1/train/plugins/profile/2021_11_08_10_14_09\n",
      "2021-11-08 10:14:09.627546: I tensorflow/core/profiler/rpc/client/save_profile.cc:143] Dumped gzipped tool data for memory_profile.json.gz to logs/model4-n12-k5-exp1/train/plugins/profile/2021_11_08_10_14_09/d29684dd295e.memory_profile.json.gz\n",
      "2021-11-08 10:14:09.628559: I tensorflow/core/profiler/rpc/client/capture_profile.cc:251] Creating directory: logs/model4-n12-k5-exp1/train/plugins/profile/2021_11_08_10_14_09Dumped tool data for xplane.pb to logs/model4-n12-k5-exp1/train/plugins/profile/2021_11_08_10_14_09/d29684dd295e.xplane.pb\n",
      "Dumped tool data for overview_page.pb to logs/model4-n12-k5-exp1/train/plugins/profile/2021_11_08_10_14_09/d29684dd295e.overview_page.pb\n",
      "Dumped tool data for input_pipeline.pb to logs/model4-n12-k5-exp1/train/plugins/profile/2021_11_08_10_14_09/d29684dd295e.input_pipeline.pb\n",
      "Dumped tool data for tensorflow_stats.pb to logs/model4-n12-k5-exp1/train/plugins/profile/2021_11_08_10_14_09/d29684dd295e.tensorflow_stats.pb\n",
      "Dumped tool data for kernel_stats.pb to logs/model4-n12-k5-exp1/train/plugins/profile/2021_11_08_10_14_09/d29684dd295e.kernel_stats.pb\n",
      "\n"
     ]
    },
    {
     "name": "stdout",
     "output_type": "stream",
     "text": [
      "Epoch 00015: early stopping\n",
      "model4-exp1\n"
     ]
    },
    {
     "name": "stderr",
     "output_type": "stream",
     "text": [
      "2021-11-08 10:14:48.356447: I tensorflow/core/profiler/lib/profiler_session.cc:136] Profiler session initializing.\n",
      "2021-11-08 10:14:48.356504: I tensorflow/core/profiler/lib/profiler_session.cc:155] Profiler session started.\n",
      "2021-11-08 10:14:48.506239: I tensorflow/core/profiler/lib/profiler_session.cc:172] Profiler session tear down.\n",
      "2021-11-08 10:14:48.506485: I tensorflow/core/profiler/internal/gpu/cupti_tracer.cc:1487] CUPTI activity buffer flushed\n",
      "2021-11-08 10:14:51.207969: I tensorflow/core/profiler/lib/profiler_session.cc:136] Profiler session initializing.\n",
      "2021-11-08 10:14:51.208023: I tensorflow/core/profiler/lib/profiler_session.cc:155] Profiler session started.\n",
      "2021-11-08 10:14:51.536118: I tensorflow/core/profiler/lib/profiler_session.cc:71] Profiler session collecting data.\n",
      "2021-11-08 10:14:51.536785: I tensorflow/core/profiler/internal/gpu/cupti_tracer.cc:1487] CUPTI activity buffer flushed\n",
      "2021-11-08 10:14:51.670265: I tensorflow/core/profiler/internal/gpu/cupti_collector.cc:228]  GpuTracer has collected 373 callback api events and 361 activity events. \n",
      "2021-11-08 10:14:51.684893: I tensorflow/core/profiler/lib/profiler_session.cc:172] Profiler session tear down.\n",
      "2021-11-08 10:14:51.697002: I tensorflow/core/profiler/rpc/client/save_profile.cc:137] Creating directory: logs/model5-n12-k5-exp1/train/plugins/profile/2021_11_08_10_14_51\n",
      "2021-11-08 10:14:51.705227: I tensorflow/core/profiler/rpc/client/save_profile.cc:143] Dumped gzipped tool data for trace.json.gz to logs/model5-n12-k5-exp1/train/plugins/profile/2021_11_08_10_14_51/d29684dd295e.trace.json.gz\n",
      "2021-11-08 10:14:51.724293: I tensorflow/core/profiler/rpc/client/save_profile.cc:137] Creating directory: logs/model5-n12-k5-exp1/train/plugins/profile/2021_11_08_10_14_51\n",
      "2021-11-08 10:14:51.727759: I tensorflow/core/profiler/rpc/client/save_profile.cc:143] Dumped gzipped tool data for memory_profile.json.gz to logs/model5-n12-k5-exp1/train/plugins/profile/2021_11_08_10_14_51/d29684dd295e.memory_profile.json.gz\n",
      "2021-11-08 10:14:51.728733: I tensorflow/core/profiler/rpc/client/capture_profile.cc:251] Creating directory: logs/model5-n12-k5-exp1/train/plugins/profile/2021_11_08_10_14_51Dumped tool data for xplane.pb to logs/model5-n12-k5-exp1/train/plugins/profile/2021_11_08_10_14_51/d29684dd295e.xplane.pb\n",
      "Dumped tool data for overview_page.pb to logs/model5-n12-k5-exp1/train/plugins/profile/2021_11_08_10_14_51/d29684dd295e.overview_page.pb\n",
      "Dumped tool data for input_pipeline.pb to logs/model5-n12-k5-exp1/train/plugins/profile/2021_11_08_10_14_51/d29684dd295e.input_pipeline.pb\n",
      "Dumped tool data for tensorflow_stats.pb to logs/model5-n12-k5-exp1/train/plugins/profile/2021_11_08_10_14_51/d29684dd295e.tensorflow_stats.pb\n",
      "Dumped tool data for kernel_stats.pb to logs/model5-n12-k5-exp1/train/plugins/profile/2021_11_08_10_14_51/d29684dd295e.kernel_stats.pb\n",
      "\n"
     ]
    },
    {
     "name": "stdout",
     "output_type": "stream",
     "text": [
      "Epoch 00028: early stopping\n",
      "model5-exp1\n"
     ]
    },
    {
     "name": "stderr",
     "output_type": "stream",
     "text": [
      "2021-11-08 10:15:56.067915: I tensorflow/core/profiler/lib/profiler_session.cc:136] Profiler session initializing.\n",
      "2021-11-08 10:15:56.067971: I tensorflow/core/profiler/lib/profiler_session.cc:155] Profiler session started.\n",
      "2021-11-08 10:15:56.219601: I tensorflow/core/profiler/lib/profiler_session.cc:172] Profiler session tear down.\n",
      "2021-11-08 10:15:56.219747: I tensorflow/core/profiler/internal/gpu/cupti_tracer.cc:1487] CUPTI activity buffer flushed\n",
      "2021-11-08 10:15:58.978021: I tensorflow/core/profiler/lib/profiler_session.cc:136] Profiler session initializing.\n",
      "2021-11-08 10:15:58.978077: I tensorflow/core/profiler/lib/profiler_session.cc:155] Profiler session started.\n",
      "2021-11-08 10:15:59.316136: I tensorflow/core/profiler/lib/profiler_session.cc:71] Profiler session collecting data.\n",
      "2021-11-08 10:15:59.316805: I tensorflow/core/profiler/internal/gpu/cupti_tracer.cc:1487] CUPTI activity buffer flushed\n",
      "2021-11-08 10:15:59.450506: I tensorflow/core/profiler/internal/gpu/cupti_collector.cc:228]  GpuTracer has collected 377 callback api events and 365 activity events. \n",
      "2021-11-08 10:15:59.463949: I tensorflow/core/profiler/lib/profiler_session.cc:172] Profiler session tear down.\n",
      "2021-11-08 10:15:59.475706: I tensorflow/core/profiler/rpc/client/save_profile.cc:137] Creating directory: logs/model6-n12-k5-exp1/train/plugins/profile/2021_11_08_10_15_59\n",
      "2021-11-08 10:15:59.483866: I tensorflow/core/profiler/rpc/client/save_profile.cc:143] Dumped gzipped tool data for trace.json.gz to logs/model6-n12-k5-exp1/train/plugins/profile/2021_11_08_10_15_59/d29684dd295e.trace.json.gz\n",
      "2021-11-08 10:15:59.502783: I tensorflow/core/profiler/rpc/client/save_profile.cc:137] Creating directory: logs/model6-n12-k5-exp1/train/plugins/profile/2021_11_08_10_15_59\n",
      "2021-11-08 10:15:59.506284: I tensorflow/core/profiler/rpc/client/save_profile.cc:143] Dumped gzipped tool data for memory_profile.json.gz to logs/model6-n12-k5-exp1/train/plugins/profile/2021_11_08_10_15_59/d29684dd295e.memory_profile.json.gz\n",
      "2021-11-08 10:15:59.507301: I tensorflow/core/profiler/rpc/client/capture_profile.cc:251] Creating directory: logs/model6-n12-k5-exp1/train/plugins/profile/2021_11_08_10_15_59Dumped tool data for xplane.pb to logs/model6-n12-k5-exp1/train/plugins/profile/2021_11_08_10_15_59/d29684dd295e.xplane.pb\n",
      "Dumped tool data for overview_page.pb to logs/model6-n12-k5-exp1/train/plugins/profile/2021_11_08_10_15_59/d29684dd295e.overview_page.pb\n",
      "Dumped tool data for input_pipeline.pb to logs/model6-n12-k5-exp1/train/plugins/profile/2021_11_08_10_15_59/d29684dd295e.input_pipeline.pb\n",
      "Dumped tool data for tensorflow_stats.pb to logs/model6-n12-k5-exp1/train/plugins/profile/2021_11_08_10_15_59/d29684dd295e.tensorflow_stats.pb\n",
      "Dumped tool data for kernel_stats.pb to logs/model6-n12-k5-exp1/train/plugins/profile/2021_11_08_10_15_59/d29684dd295e.kernel_stats.pb\n",
      "\n"
     ]
    },
    {
     "name": "stdout",
     "output_type": "stream",
     "text": [
      "Epoch 00014: early stopping\n",
      "model6-exp1\n"
     ]
    },
    {
     "name": "stderr",
     "output_type": "stream",
     "text": [
      "2021-11-08 10:16:32.817790: I tensorflow/core/profiler/lib/profiler_session.cc:136] Profiler session initializing.\n",
      "2021-11-08 10:16:32.817848: I tensorflow/core/profiler/lib/profiler_session.cc:155] Profiler session started.\n",
      "2021-11-08 10:16:32.965594: I tensorflow/core/profiler/lib/profiler_session.cc:172] Profiler session tear down.\n",
      "2021-11-08 10:16:32.965766: I tensorflow/core/profiler/internal/gpu/cupti_tracer.cc:1487] CUPTI activity buffer flushed\n",
      "2021-11-08 10:16:36.087760: I tensorflow/core/profiler/lib/profiler_session.cc:136] Profiler session initializing.\n",
      "2021-11-08 10:16:36.087816: I tensorflow/core/profiler/lib/profiler_session.cc:155] Profiler session started.\n",
      "2021-11-08 10:16:36.421035: I tensorflow/core/profiler/lib/profiler_session.cc:71] Profiler session collecting data.\n",
      "2021-11-08 10:16:36.421766: I tensorflow/core/profiler/internal/gpu/cupti_tracer.cc:1487] CUPTI activity buffer flushed\n",
      "2021-11-08 10:16:36.554960: I tensorflow/core/profiler/internal/gpu/cupti_collector.cc:228]  GpuTracer has collected 377 callback api events and 365 activity events. \n",
      "2021-11-08 10:16:36.567575: I tensorflow/core/profiler/lib/profiler_session.cc:172] Profiler session tear down.\n",
      "2021-11-08 10:16:36.578922: I tensorflow/core/profiler/rpc/client/save_profile.cc:137] Creating directory: logs/model7-n12-k5-exp1/train/plugins/profile/2021_11_08_10_16_36\n",
      "2021-11-08 10:16:36.586831: I tensorflow/core/profiler/rpc/client/save_profile.cc:143] Dumped gzipped tool data for trace.json.gz to logs/model7-n12-k5-exp1/train/plugins/profile/2021_11_08_10_16_36/d29684dd295e.trace.json.gz\n",
      "2021-11-08 10:16:36.604917: I tensorflow/core/profiler/rpc/client/save_profile.cc:137] Creating directory: logs/model7-n12-k5-exp1/train/plugins/profile/2021_11_08_10_16_36\n",
      "2021-11-08 10:16:36.608475: I tensorflow/core/profiler/rpc/client/save_profile.cc:143] Dumped gzipped tool data for memory_profile.json.gz to logs/model7-n12-k5-exp1/train/plugins/profile/2021_11_08_10_16_36/d29684dd295e.memory_profile.json.gz\n",
      "2021-11-08 10:16:36.609466: I tensorflow/core/profiler/rpc/client/capture_profile.cc:251] Creating directory: logs/model7-n12-k5-exp1/train/plugins/profile/2021_11_08_10_16_36Dumped tool data for xplane.pb to logs/model7-n12-k5-exp1/train/plugins/profile/2021_11_08_10_16_36/d29684dd295e.xplane.pb\n",
      "Dumped tool data for overview_page.pb to logs/model7-n12-k5-exp1/train/plugins/profile/2021_11_08_10_16_36/d29684dd295e.overview_page.pb\n",
      "Dumped tool data for input_pipeline.pb to logs/model7-n12-k5-exp1/train/plugins/profile/2021_11_08_10_16_36/d29684dd295e.input_pipeline.pb\n",
      "Dumped tool data for tensorflow_stats.pb to logs/model7-n12-k5-exp1/train/plugins/profile/2021_11_08_10_16_36/d29684dd295e.tensorflow_stats.pb\n",
      "Dumped tool data for kernel_stats.pb to logs/model7-n12-k5-exp1/train/plugins/profile/2021_11_08_10_16_36/d29684dd295e.kernel_stats.pb\n",
      "\n"
     ]
    },
    {
     "name": "stdout",
     "output_type": "stream",
     "text": [
      "Epoch 00014: early stopping\n",
      "model7-exp1\n",
      "random 2\n"
     ]
    },
    {
     "name": "stderr",
     "output_type": "stream",
     "text": [
      "2021-11-08 10:17:11.860029: I tensorflow/core/profiler/lib/profiler_session.cc:136] Profiler session initializing.\n",
      "2021-11-08 10:17:11.860083: I tensorflow/core/profiler/lib/profiler_session.cc:155] Profiler session started.\n",
      "2021-11-08 10:17:12.006192: I tensorflow/core/profiler/lib/profiler_session.cc:172] Profiler session tear down.\n",
      "2021-11-08 10:17:12.006366: I tensorflow/core/profiler/internal/gpu/cupti_tracer.cc:1487] CUPTI activity buffer flushed\n",
      "2021-11-08 10:17:14.398381: I tensorflow/core/profiler/lib/profiler_session.cc:136] Profiler session initializing.\n",
      "2021-11-08 10:17:14.398447: I tensorflow/core/profiler/lib/profiler_session.cc:155] Profiler session started.\n",
      "2021-11-08 10:17:14.708601: I tensorflow/core/profiler/lib/profiler_session.cc:71] Profiler session collecting data.\n",
      "2021-11-08 10:17:14.709196: I tensorflow/core/profiler/internal/gpu/cupti_tracer.cc:1487] CUPTI activity buffer flushed\n",
      "2021-11-08 10:17:14.840233: I tensorflow/core/profiler/internal/gpu/cupti_collector.cc:228]  GpuTracer has collected 318 callback api events and 306 activity events. \n",
      "2021-11-08 10:17:14.850776: I tensorflow/core/profiler/lib/profiler_session.cc:172] Profiler session tear down.\n",
      "2021-11-08 10:17:14.859657: I tensorflow/core/profiler/rpc/client/save_profile.cc:137] Creating directory: logs/model1-n12-k5-exp2/train/plugins/profile/2021_11_08_10_17_14\n",
      "2021-11-08 10:17:14.866015: I tensorflow/core/profiler/rpc/client/save_profile.cc:143] Dumped gzipped tool data for trace.json.gz to logs/model1-n12-k5-exp2/train/plugins/profile/2021_11_08_10_17_14/d29684dd295e.trace.json.gz\n",
      "2021-11-08 10:17:14.879828: I tensorflow/core/profiler/rpc/client/save_profile.cc:137] Creating directory: logs/model1-n12-k5-exp2/train/plugins/profile/2021_11_08_10_17_14\n",
      "2021-11-08 10:17:14.882583: I tensorflow/core/profiler/rpc/client/save_profile.cc:143] Dumped gzipped tool data for memory_profile.json.gz to logs/model1-n12-k5-exp2/train/plugins/profile/2021_11_08_10_17_14/d29684dd295e.memory_profile.json.gz\n",
      "2021-11-08 10:17:14.883447: I tensorflow/core/profiler/rpc/client/capture_profile.cc:251] Creating directory: logs/model1-n12-k5-exp2/train/plugins/profile/2021_11_08_10_17_14Dumped tool data for xplane.pb to logs/model1-n12-k5-exp2/train/plugins/profile/2021_11_08_10_17_14/d29684dd295e.xplane.pb\n",
      "Dumped tool data for overview_page.pb to logs/model1-n12-k5-exp2/train/plugins/profile/2021_11_08_10_17_14/d29684dd295e.overview_page.pb\n",
      "Dumped tool data for input_pipeline.pb to logs/model1-n12-k5-exp2/train/plugins/profile/2021_11_08_10_17_14/d29684dd295e.input_pipeline.pb\n",
      "Dumped tool data for tensorflow_stats.pb to logs/model1-n12-k5-exp2/train/plugins/profile/2021_11_08_10_17_14/d29684dd295e.tensorflow_stats.pb\n",
      "Dumped tool data for kernel_stats.pb to logs/model1-n12-k5-exp2/train/plugins/profile/2021_11_08_10_17_14/d29684dd295e.kernel_stats.pb\n",
      "\n"
     ]
    },
    {
     "name": "stdout",
     "output_type": "stream",
     "text": [
      "Epoch 00021: early stopping\n",
      "model1-exp2\n"
     ]
    },
    {
     "name": "stderr",
     "output_type": "stream",
     "text": [
      "2021-11-08 10:18:01.094805: I tensorflow/core/profiler/lib/profiler_session.cc:136] Profiler session initializing.\n",
      "2021-11-08 10:18:01.094862: I tensorflow/core/profiler/lib/profiler_session.cc:155] Profiler session started.\n",
      "2021-11-08 10:18:01.239864: I tensorflow/core/profiler/lib/profiler_session.cc:172] Profiler session tear down.\n",
      "2021-11-08 10:18:01.240010: I tensorflow/core/profiler/internal/gpu/cupti_tracer.cc:1487] CUPTI activity buffer flushed\n",
      "2021-11-08 10:18:03.874131: I tensorflow/core/profiler/lib/profiler_session.cc:136] Profiler session initializing.\n",
      "2021-11-08 10:18:03.874189: I tensorflow/core/profiler/lib/profiler_session.cc:155] Profiler session started.\n",
      "2021-11-08 10:18:04.198244: I tensorflow/core/profiler/lib/profiler_session.cc:71] Profiler session collecting data.\n",
      "2021-11-08 10:18:04.198761: I tensorflow/core/profiler/internal/gpu/cupti_tracer.cc:1487] CUPTI activity buffer flushed\n",
      "2021-11-08 10:18:04.329973: I tensorflow/core/profiler/internal/gpu/cupti_collector.cc:228]  GpuTracer has collected 369 callback api events and 357 activity events. \n",
      "2021-11-08 10:18:04.341876: I tensorflow/core/profiler/lib/profiler_session.cc:172] Profiler session tear down.\n",
      "2021-11-08 10:18:04.352742: I tensorflow/core/profiler/rpc/client/save_profile.cc:137] Creating directory: logs/model2-n12-k5-exp2/train/plugins/profile/2021_11_08_10_18_04\n",
      "2021-11-08 10:18:04.360655: I tensorflow/core/profiler/rpc/client/save_profile.cc:143] Dumped gzipped tool data for trace.json.gz to logs/model2-n12-k5-exp2/train/plugins/profile/2021_11_08_10_18_04/d29684dd295e.trace.json.gz\n",
      "2021-11-08 10:18:04.377348: I tensorflow/core/profiler/rpc/client/save_profile.cc:137] Creating directory: logs/model2-n12-k5-exp2/train/plugins/profile/2021_11_08_10_18_04\n",
      "2021-11-08 10:18:04.380489: I tensorflow/core/profiler/rpc/client/save_profile.cc:143] Dumped gzipped tool data for memory_profile.json.gz to logs/model2-n12-k5-exp2/train/plugins/profile/2021_11_08_10_18_04/d29684dd295e.memory_profile.json.gz\n",
      "2021-11-08 10:18:04.381328: I tensorflow/core/profiler/rpc/client/capture_profile.cc:251] Creating directory: logs/model2-n12-k5-exp2/train/plugins/profile/2021_11_08_10_18_04Dumped tool data for xplane.pb to logs/model2-n12-k5-exp2/train/plugins/profile/2021_11_08_10_18_04/d29684dd295e.xplane.pb\n",
      "Dumped tool data for overview_page.pb to logs/model2-n12-k5-exp2/train/plugins/profile/2021_11_08_10_18_04/d29684dd295e.overview_page.pb\n",
      "Dumped tool data for input_pipeline.pb to logs/model2-n12-k5-exp2/train/plugins/profile/2021_11_08_10_18_04/d29684dd295e.input_pipeline.pb\n",
      "Dumped tool data for tensorflow_stats.pb to logs/model2-n12-k5-exp2/train/plugins/profile/2021_11_08_10_18_04/d29684dd295e.tensorflow_stats.pb\n",
      "Dumped tool data for kernel_stats.pb to logs/model2-n12-k5-exp2/train/plugins/profile/2021_11_08_10_18_04/d29684dd295e.kernel_stats.pb\n",
      "\n"
     ]
    },
    {
     "name": "stdout",
     "output_type": "stream",
     "text": [
      "Epoch 00013: early stopping\n",
      "model2-exp2\n"
     ]
    },
    {
     "name": "stderr",
     "output_type": "stream",
     "text": [
      "2021-11-08 10:18:37.392686: I tensorflow/core/profiler/lib/profiler_session.cc:136] Profiler session initializing.\n",
      "2021-11-08 10:18:37.392742: I tensorflow/core/profiler/lib/profiler_session.cc:155] Profiler session started.\n",
      "2021-11-08 10:18:37.537513: I tensorflow/core/profiler/lib/profiler_session.cc:172] Profiler session tear down.\n",
      "2021-11-08 10:18:37.537686: I tensorflow/core/profiler/internal/gpu/cupti_tracer.cc:1487] CUPTI activity buffer flushed\n",
      "2021-11-08 10:18:40.413807: I tensorflow/core/profiler/lib/profiler_session.cc:136] Profiler session initializing.\n",
      "2021-11-08 10:18:40.413861: I tensorflow/core/profiler/lib/profiler_session.cc:155] Profiler session started.\n",
      "2021-11-08 10:18:40.745064: I tensorflow/core/profiler/lib/profiler_session.cc:71] Profiler session collecting data.\n",
      "2021-11-08 10:18:40.745690: I tensorflow/core/profiler/internal/gpu/cupti_tracer.cc:1487] CUPTI activity buffer flushed\n",
      "2021-11-08 10:18:40.879363: I tensorflow/core/profiler/internal/gpu/cupti_collector.cc:228]  GpuTracer has collected 373 callback api events and 361 activity events. \n",
      "2021-11-08 10:18:40.892127: I tensorflow/core/profiler/lib/profiler_session.cc:172] Profiler session tear down.\n",
      "2021-11-08 10:18:40.903330: I tensorflow/core/profiler/rpc/client/save_profile.cc:137] Creating directory: logs/model3-n12-k5-exp2/train/plugins/profile/2021_11_08_10_18_40\n",
      "2021-11-08 10:18:40.911163: I tensorflow/core/profiler/rpc/client/save_profile.cc:143] Dumped gzipped tool data for trace.json.gz to logs/model3-n12-k5-exp2/train/plugins/profile/2021_11_08_10_18_40/d29684dd295e.trace.json.gz\n",
      "2021-11-08 10:18:40.928612: I tensorflow/core/profiler/rpc/client/save_profile.cc:137] Creating directory: logs/model3-n12-k5-exp2/train/plugins/profile/2021_11_08_10_18_40\n",
      "2021-11-08 10:18:40.931915: I tensorflow/core/profiler/rpc/client/save_profile.cc:143] Dumped gzipped tool data for memory_profile.json.gz to logs/model3-n12-k5-exp2/train/plugins/profile/2021_11_08_10_18_40/d29684dd295e.memory_profile.json.gz\n",
      "2021-11-08 10:18:40.932839: I tensorflow/core/profiler/rpc/client/capture_profile.cc:251] Creating directory: logs/model3-n12-k5-exp2/train/plugins/profile/2021_11_08_10_18_40Dumped tool data for xplane.pb to logs/model3-n12-k5-exp2/train/plugins/profile/2021_11_08_10_18_40/d29684dd295e.xplane.pb\n",
      "Dumped tool data for overview_page.pb to logs/model3-n12-k5-exp2/train/plugins/profile/2021_11_08_10_18_40/d29684dd295e.overview_page.pb\n",
      "Dumped tool data for input_pipeline.pb to logs/model3-n12-k5-exp2/train/plugins/profile/2021_11_08_10_18_40/d29684dd295e.input_pipeline.pb\n",
      "Dumped tool data for tensorflow_stats.pb to logs/model3-n12-k5-exp2/train/plugins/profile/2021_11_08_10_18_40/d29684dd295e.tensorflow_stats.pb\n",
      "Dumped tool data for kernel_stats.pb to logs/model3-n12-k5-exp2/train/plugins/profile/2021_11_08_10_18_40/d29684dd295e.kernel_stats.pb\n",
      "\n"
     ]
    },
    {
     "name": "stdout",
     "output_type": "stream",
     "text": [
      "Epoch 00016: early stopping\n",
      "model3-exp2\n"
     ]
    },
    {
     "name": "stderr",
     "output_type": "stream",
     "text": [
      "2021-11-08 10:19:24.469303: I tensorflow/core/profiler/lib/profiler_session.cc:136] Profiler session initializing.\n",
      "2021-11-08 10:19:24.469361: I tensorflow/core/profiler/lib/profiler_session.cc:155] Profiler session started.\n",
      "2021-11-08 10:19:24.625474: I tensorflow/core/profiler/lib/profiler_session.cc:172] Profiler session tear down.\n",
      "2021-11-08 10:19:24.625661: I tensorflow/core/profiler/internal/gpu/cupti_tracer.cc:1487] CUPTI activity buffer flushed\n",
      "2021-11-08 10:19:27.371449: I tensorflow/core/profiler/lib/profiler_session.cc:136] Profiler session initializing.\n",
      "2021-11-08 10:19:27.371501: I tensorflow/core/profiler/lib/profiler_session.cc:155] Profiler session started.\n",
      "2021-11-08 10:19:27.724331: I tensorflow/core/profiler/lib/profiler_session.cc:71] Profiler session collecting data.\n",
      "2021-11-08 10:19:27.725181: I tensorflow/core/profiler/internal/gpu/cupti_tracer.cc:1487] CUPTI activity buffer flushed\n",
      "2021-11-08 10:19:27.864367: I tensorflow/core/profiler/internal/gpu/cupti_collector.cc:228]  GpuTracer has collected 373 callback api events and 361 activity events. \n",
      "2021-11-08 10:19:27.880450: I tensorflow/core/profiler/lib/profiler_session.cc:172] Profiler session tear down.\n",
      "2021-11-08 10:19:27.895224: I tensorflow/core/profiler/rpc/client/save_profile.cc:137] Creating directory: logs/model4-n12-k5-exp2/train/plugins/profile/2021_11_08_10_19_27\n",
      "2021-11-08 10:19:27.905185: I tensorflow/core/profiler/rpc/client/save_profile.cc:143] Dumped gzipped tool data for trace.json.gz to logs/model4-n12-k5-exp2/train/plugins/profile/2021_11_08_10_19_27/d29684dd295e.trace.json.gz\n",
      "2021-11-08 10:19:27.929814: I tensorflow/core/profiler/rpc/client/save_profile.cc:137] Creating directory: logs/model4-n12-k5-exp2/train/plugins/profile/2021_11_08_10_19_27\n",
      "2021-11-08 10:19:27.933855: I tensorflow/core/profiler/rpc/client/save_profile.cc:143] Dumped gzipped tool data for memory_profile.json.gz to logs/model4-n12-k5-exp2/train/plugins/profile/2021_11_08_10_19_27/d29684dd295e.memory_profile.json.gz\n",
      "2021-11-08 10:19:27.935231: I tensorflow/core/profiler/rpc/client/capture_profile.cc:251] Creating directory: logs/model4-n12-k5-exp2/train/plugins/profile/2021_11_08_10_19_27Dumped tool data for xplane.pb to logs/model4-n12-k5-exp2/train/plugins/profile/2021_11_08_10_19_27/d29684dd295e.xplane.pb\n",
      "Dumped tool data for overview_page.pb to logs/model4-n12-k5-exp2/train/plugins/profile/2021_11_08_10_19_27/d29684dd295e.overview_page.pb\n",
      "Dumped tool data for input_pipeline.pb to logs/model4-n12-k5-exp2/train/plugins/profile/2021_11_08_10_19_27/d29684dd295e.input_pipeline.pb\n",
      "Dumped tool data for tensorflow_stats.pb to logs/model4-n12-k5-exp2/train/plugins/profile/2021_11_08_10_19_27/d29684dd295e.tensorflow_stats.pb\n",
      "Dumped tool data for kernel_stats.pb to logs/model4-n12-k5-exp2/train/plugins/profile/2021_11_08_10_19_27/d29684dd295e.kernel_stats.pb\n",
      "\n"
     ]
    },
    {
     "name": "stdout",
     "output_type": "stream",
     "text": [
      "Epoch 00015: early stopping\n",
      "model4-exp2\n"
     ]
    },
    {
     "name": "stderr",
     "output_type": "stream",
     "text": [
      "2021-11-08 10:20:07.449171: I tensorflow/core/profiler/lib/profiler_session.cc:136] Profiler session initializing.\n",
      "2021-11-08 10:20:07.449227: I tensorflow/core/profiler/lib/profiler_session.cc:155] Profiler session started.\n",
      "2021-11-08 10:20:07.602218: I tensorflow/core/profiler/lib/profiler_session.cc:172] Profiler session tear down.\n",
      "2021-11-08 10:20:07.602383: I tensorflow/core/profiler/internal/gpu/cupti_tracer.cc:1487] CUPTI activity buffer flushed\n",
      "2021-11-08 10:20:10.273385: I tensorflow/core/profiler/lib/profiler_session.cc:136] Profiler session initializing.\n",
      "2021-11-08 10:20:10.273455: I tensorflow/core/profiler/lib/profiler_session.cc:155] Profiler session started.\n",
      "2021-11-08 10:20:10.606580: I tensorflow/core/profiler/lib/profiler_session.cc:71] Profiler session collecting data.\n",
      "2021-11-08 10:20:10.607458: I tensorflow/core/profiler/internal/gpu/cupti_tracer.cc:1487] CUPTI activity buffer flushed\n",
      "2021-11-08 10:20:10.742516: I tensorflow/core/profiler/internal/gpu/cupti_collector.cc:228]  GpuTracer has collected 373 callback api events and 361 activity events. \n",
      "2021-11-08 10:20:10.755136: I tensorflow/core/profiler/lib/profiler_session.cc:172] Profiler session tear down.\n",
      "2021-11-08 10:20:10.766712: I tensorflow/core/profiler/rpc/client/save_profile.cc:137] Creating directory: logs/model5-n12-k5-exp2/train/plugins/profile/2021_11_08_10_20_10\n",
      "2021-11-08 10:20:10.774309: I tensorflow/core/profiler/rpc/client/save_profile.cc:143] Dumped gzipped tool data for trace.json.gz to logs/model5-n12-k5-exp2/train/plugins/profile/2021_11_08_10_20_10/d29684dd295e.trace.json.gz\n",
      "2021-11-08 10:20:10.792280: I tensorflow/core/profiler/rpc/client/save_profile.cc:137] Creating directory: logs/model5-n12-k5-exp2/train/plugins/profile/2021_11_08_10_20_10\n",
      "2021-11-08 10:20:10.795646: I tensorflow/core/profiler/rpc/client/save_profile.cc:143] Dumped gzipped tool data for memory_profile.json.gz to logs/model5-n12-k5-exp2/train/plugins/profile/2021_11_08_10_20_10/d29684dd295e.memory_profile.json.gz\n",
      "2021-11-08 10:20:10.796724: I tensorflow/core/profiler/rpc/client/capture_profile.cc:251] Creating directory: logs/model5-n12-k5-exp2/train/plugins/profile/2021_11_08_10_20_10Dumped tool data for xplane.pb to logs/model5-n12-k5-exp2/train/plugins/profile/2021_11_08_10_20_10/d29684dd295e.xplane.pb\n",
      "Dumped tool data for overview_page.pb to logs/model5-n12-k5-exp2/train/plugins/profile/2021_11_08_10_20_10/d29684dd295e.overview_page.pb\n",
      "Dumped tool data for input_pipeline.pb to logs/model5-n12-k5-exp2/train/plugins/profile/2021_11_08_10_20_10/d29684dd295e.input_pipeline.pb\n",
      "Dumped tool data for tensorflow_stats.pb to logs/model5-n12-k5-exp2/train/plugins/profile/2021_11_08_10_20_10/d29684dd295e.tensorflow_stats.pb\n",
      "Dumped tool data for kernel_stats.pb to logs/model5-n12-k5-exp2/train/plugins/profile/2021_11_08_10_20_10/d29684dd295e.kernel_stats.pb\n",
      "\n"
     ]
    },
    {
     "name": "stdout",
     "output_type": "stream",
     "text": [
      "Epoch 00025: early stopping\n",
      "model5-exp2\n"
     ]
    },
    {
     "name": "stderr",
     "output_type": "stream",
     "text": [
      "2021-11-08 10:21:08.292180: I tensorflow/core/profiler/lib/profiler_session.cc:136] Profiler session initializing.\n",
      "2021-11-08 10:21:08.292241: I tensorflow/core/profiler/lib/profiler_session.cc:155] Profiler session started.\n",
      "2021-11-08 10:21:08.450030: I tensorflow/core/profiler/lib/profiler_session.cc:172] Profiler session tear down.\n",
      "2021-11-08 10:21:08.450207: I tensorflow/core/profiler/internal/gpu/cupti_tracer.cc:1487] CUPTI activity buffer flushed\n",
      "2021-11-08 10:21:11.760893: I tensorflow/core/profiler/lib/profiler_session.cc:136] Profiler session initializing.\n",
      "2021-11-08 10:21:11.760957: I tensorflow/core/profiler/lib/profiler_session.cc:155] Profiler session started.\n",
      "2021-11-08 10:21:12.568622: I tensorflow/core/profiler/lib/profiler_session.cc:71] Profiler session collecting data.\n",
      "2021-11-08 10:21:12.573720: I tensorflow/core/profiler/internal/gpu/cupti_tracer.cc:1487] CUPTI activity buffer flushed\n",
      "2021-11-08 10:21:12.773594: I tensorflow/core/profiler/internal/gpu/cupti_collector.cc:228]  GpuTracer has collected 377 callback api events and 365 activity events. \n",
      "2021-11-08 10:21:12.818321: I tensorflow/core/profiler/lib/profiler_session.cc:172] Profiler session tear down.\n",
      "2021-11-08 10:21:12.830359: I tensorflow/core/profiler/rpc/client/save_profile.cc:137] Creating directory: logs/model6-n12-k5-exp2/train/plugins/profile/2021_11_08_10_21_12\n",
      "2021-11-08 10:21:12.838349: I tensorflow/core/profiler/rpc/client/save_profile.cc:143] Dumped gzipped tool data for trace.json.gz to logs/model6-n12-k5-exp2/train/plugins/profile/2021_11_08_10_21_12/d29684dd295e.trace.json.gz\n",
      "2021-11-08 10:21:12.857450: I tensorflow/core/profiler/rpc/client/save_profile.cc:137] Creating directory: logs/model6-n12-k5-exp2/train/plugins/profile/2021_11_08_10_21_12\n",
      "2021-11-08 10:21:12.860889: I tensorflow/core/profiler/rpc/client/save_profile.cc:143] Dumped gzipped tool data for memory_profile.json.gz to logs/model6-n12-k5-exp2/train/plugins/profile/2021_11_08_10_21_12/d29684dd295e.memory_profile.json.gz\n",
      "2021-11-08 10:21:12.861990: I tensorflow/core/profiler/rpc/client/capture_profile.cc:251] Creating directory: logs/model6-n12-k5-exp2/train/plugins/profile/2021_11_08_10_21_12Dumped tool data for xplane.pb to logs/model6-n12-k5-exp2/train/plugins/profile/2021_11_08_10_21_12/d29684dd295e.xplane.pb\n",
      "Dumped tool data for overview_page.pb to logs/model6-n12-k5-exp2/train/plugins/profile/2021_11_08_10_21_12/d29684dd295e.overview_page.pb\n",
      "Dumped tool data for input_pipeline.pb to logs/model6-n12-k5-exp2/train/plugins/profile/2021_11_08_10_21_12/d29684dd295e.input_pipeline.pb\n",
      "Dumped tool data for tensorflow_stats.pb to logs/model6-n12-k5-exp2/train/plugins/profile/2021_11_08_10_21_12/d29684dd295e.tensorflow_stats.pb\n",
      "Dumped tool data for kernel_stats.pb to logs/model6-n12-k5-exp2/train/plugins/profile/2021_11_08_10_21_12/d29684dd295e.kernel_stats.pb\n",
      "\n"
     ]
    },
    {
     "name": "stdout",
     "output_type": "stream",
     "text": [
      "Epoch 00016: early stopping\n",
      "model6-exp2\n"
     ]
    },
    {
     "name": "stderr",
     "output_type": "stream",
     "text": [
      "2021-11-08 10:21:51.192045: I tensorflow/core/profiler/lib/profiler_session.cc:136] Profiler session initializing.\n",
      "2021-11-08 10:21:51.192101: I tensorflow/core/profiler/lib/profiler_session.cc:155] Profiler session started.\n",
      "2021-11-08 10:21:51.342026: I tensorflow/core/profiler/lib/profiler_session.cc:172] Profiler session tear down.\n",
      "2021-11-08 10:21:51.342214: I tensorflow/core/profiler/internal/gpu/cupti_tracer.cc:1487] CUPTI activity buffer flushed\n",
      "2021-11-08 10:21:54.119235: I tensorflow/core/profiler/lib/profiler_session.cc:136] Profiler session initializing.\n",
      "2021-11-08 10:21:54.119292: I tensorflow/core/profiler/lib/profiler_session.cc:155] Profiler session started.\n",
      "2021-11-08 10:21:54.461567: I tensorflow/core/profiler/lib/profiler_session.cc:71] Profiler session collecting data.\n",
      "2021-11-08 10:21:54.462260: I tensorflow/core/profiler/internal/gpu/cupti_tracer.cc:1487] CUPTI activity buffer flushed\n",
      "2021-11-08 10:21:54.596071: I tensorflow/core/profiler/internal/gpu/cupti_collector.cc:228]  GpuTracer has collected 377 callback api events and 365 activity events. \n",
      "2021-11-08 10:21:54.609617: I tensorflow/core/profiler/lib/profiler_session.cc:172] Profiler session tear down.\n",
      "2021-11-08 10:21:54.621400: I tensorflow/core/profiler/rpc/client/save_profile.cc:137] Creating directory: logs/model7-n12-k5-exp2/train/plugins/profile/2021_11_08_10_21_54\n",
      "2021-11-08 10:21:54.629505: I tensorflow/core/profiler/rpc/client/save_profile.cc:143] Dumped gzipped tool data for trace.json.gz to logs/model7-n12-k5-exp2/train/plugins/profile/2021_11_08_10_21_54/d29684dd295e.trace.json.gz\n",
      "2021-11-08 10:21:54.648539: I tensorflow/core/profiler/rpc/client/save_profile.cc:137] Creating directory: logs/model7-n12-k5-exp2/train/plugins/profile/2021_11_08_10_21_54\n",
      "2021-11-08 10:21:54.652325: I tensorflow/core/profiler/rpc/client/save_profile.cc:143] Dumped gzipped tool data for memory_profile.json.gz to logs/model7-n12-k5-exp2/train/plugins/profile/2021_11_08_10_21_54/d29684dd295e.memory_profile.json.gz\n",
      "2021-11-08 10:21:54.653350: I tensorflow/core/profiler/rpc/client/capture_profile.cc:251] Creating directory: logs/model7-n12-k5-exp2/train/plugins/profile/2021_11_08_10_21_54Dumped tool data for xplane.pb to logs/model7-n12-k5-exp2/train/plugins/profile/2021_11_08_10_21_54/d29684dd295e.xplane.pb\n",
      "Dumped tool data for overview_page.pb to logs/model7-n12-k5-exp2/train/plugins/profile/2021_11_08_10_21_54/d29684dd295e.overview_page.pb\n",
      "Dumped tool data for input_pipeline.pb to logs/model7-n12-k5-exp2/train/plugins/profile/2021_11_08_10_21_54/d29684dd295e.input_pipeline.pb\n",
      "Dumped tool data for tensorflow_stats.pb to logs/model7-n12-k5-exp2/train/plugins/profile/2021_11_08_10_21_54/d29684dd295e.tensorflow_stats.pb\n",
      "Dumped tool data for kernel_stats.pb to logs/model7-n12-k5-exp2/train/plugins/profile/2021_11_08_10_21_54/d29684dd295e.kernel_stats.pb\n",
      "\n"
     ]
    },
    {
     "name": "stdout",
     "output_type": "stream",
     "text": [
      "Epoch 00015: early stopping\n",
      "model7-exp2\n",
      "random 3\n"
     ]
    },
    {
     "name": "stderr",
     "output_type": "stream",
     "text": [
      "2021-11-08 10:22:32.816491: I tensorflow/core/profiler/lib/profiler_session.cc:136] Profiler session initializing.\n",
      "2021-11-08 10:22:32.816545: I tensorflow/core/profiler/lib/profiler_session.cc:155] Profiler session started.\n",
      "2021-11-08 10:22:32.966116: I tensorflow/core/profiler/lib/profiler_session.cc:172] Profiler session tear down.\n",
      "2021-11-08 10:22:32.966268: I tensorflow/core/profiler/internal/gpu/cupti_tracer.cc:1487] CUPTI activity buffer flushed\n",
      "2021-11-08 10:22:35.332876: I tensorflow/core/profiler/lib/profiler_session.cc:136] Profiler session initializing.\n",
      "2021-11-08 10:22:35.332932: I tensorflow/core/profiler/lib/profiler_session.cc:155] Profiler session started.\n",
      "2021-11-08 10:22:35.642964: I tensorflow/core/profiler/lib/profiler_session.cc:71] Profiler session collecting data.\n",
      "2021-11-08 10:22:35.643460: I tensorflow/core/profiler/internal/gpu/cupti_tracer.cc:1487] CUPTI activity buffer flushed\n",
      "2021-11-08 10:22:35.783060: I tensorflow/core/profiler/internal/gpu/cupti_collector.cc:228]  GpuTracer has collected 318 callback api events and 306 activity events. \n",
      "2021-11-08 10:22:35.793548: I tensorflow/core/profiler/lib/profiler_session.cc:172] Profiler session tear down.\n",
      "2021-11-08 10:22:35.802510: I tensorflow/core/profiler/rpc/client/save_profile.cc:137] Creating directory: logs/model1-n12-k5-exp3/train/plugins/profile/2021_11_08_10_22_35\n",
      "2021-11-08 10:22:35.808828: I tensorflow/core/profiler/rpc/client/save_profile.cc:143] Dumped gzipped tool data for trace.json.gz to logs/model1-n12-k5-exp3/train/plugins/profile/2021_11_08_10_22_35/d29684dd295e.trace.json.gz\n",
      "2021-11-08 10:22:35.822874: I tensorflow/core/profiler/rpc/client/save_profile.cc:137] Creating directory: logs/model1-n12-k5-exp3/train/plugins/profile/2021_11_08_10_22_35\n",
      "2021-11-08 10:22:35.825567: I tensorflow/core/profiler/rpc/client/save_profile.cc:143] Dumped gzipped tool data for memory_profile.json.gz to logs/model1-n12-k5-exp3/train/plugins/profile/2021_11_08_10_22_35/d29684dd295e.memory_profile.json.gz\n",
      "2021-11-08 10:22:35.826334: I tensorflow/core/profiler/rpc/client/capture_profile.cc:251] Creating directory: logs/model1-n12-k5-exp3/train/plugins/profile/2021_11_08_10_22_35Dumped tool data for xplane.pb to logs/model1-n12-k5-exp3/train/plugins/profile/2021_11_08_10_22_35/d29684dd295e.xplane.pb\n",
      "Dumped tool data for overview_page.pb to logs/model1-n12-k5-exp3/train/plugins/profile/2021_11_08_10_22_35/d29684dd295e.overview_page.pb\n",
      "Dumped tool data for input_pipeline.pb to logs/model1-n12-k5-exp3/train/plugins/profile/2021_11_08_10_22_35/d29684dd295e.input_pipeline.pb\n",
      "Dumped tool data for tensorflow_stats.pb to logs/model1-n12-k5-exp3/train/plugins/profile/2021_11_08_10_22_35/d29684dd295e.tensorflow_stats.pb\n",
      "Dumped tool data for kernel_stats.pb to logs/model1-n12-k5-exp3/train/plugins/profile/2021_11_08_10_22_35/d29684dd295e.kernel_stats.pb\n",
      "\n"
     ]
    },
    {
     "name": "stdout",
     "output_type": "stream",
     "text": [
      "Epoch 00019: early stopping\n",
      "model1-exp3\n"
     ]
    },
    {
     "name": "stderr",
     "output_type": "stream",
     "text": [
      "2021-11-08 10:23:17.870753: I tensorflow/core/profiler/lib/profiler_session.cc:136] Profiler session initializing.\n",
      "2021-11-08 10:23:17.870807: I tensorflow/core/profiler/lib/profiler_session.cc:155] Profiler session started.\n",
      "2021-11-08 10:23:18.021510: I tensorflow/core/profiler/lib/profiler_session.cc:172] Profiler session tear down.\n",
      "2021-11-08 10:23:18.021656: I tensorflow/core/profiler/internal/gpu/cupti_tracer.cc:1487] CUPTI activity buffer flushed\n",
      "2021-11-08 10:23:20.722586: I tensorflow/core/profiler/lib/profiler_session.cc:136] Profiler session initializing.\n",
      "2021-11-08 10:23:20.722644: I tensorflow/core/profiler/lib/profiler_session.cc:155] Profiler session started.\n",
      "2021-11-08 10:23:21.056394: I tensorflow/core/profiler/lib/profiler_session.cc:71] Profiler session collecting data.\n",
      "2021-11-08 10:23:21.056957: I tensorflow/core/profiler/internal/gpu/cupti_tracer.cc:1487] CUPTI activity buffer flushed\n",
      "2021-11-08 10:23:21.189176: I tensorflow/core/profiler/internal/gpu/cupti_collector.cc:228]  GpuTracer has collected 369 callback api events and 357 activity events. \n",
      "2021-11-08 10:23:21.201274: I tensorflow/core/profiler/lib/profiler_session.cc:172] Profiler session tear down.\n",
      "2021-11-08 10:23:21.212279: I tensorflow/core/profiler/rpc/client/save_profile.cc:137] Creating directory: logs/model2-n12-k5-exp3/train/plugins/profile/2021_11_08_10_23_21\n",
      "2021-11-08 10:23:21.219877: I tensorflow/core/profiler/rpc/client/save_profile.cc:143] Dumped gzipped tool data for trace.json.gz to logs/model2-n12-k5-exp3/train/plugins/profile/2021_11_08_10_23_21/d29684dd295e.trace.json.gz\n",
      "2021-11-08 10:23:21.237276: I tensorflow/core/profiler/rpc/client/save_profile.cc:137] Creating directory: logs/model2-n12-k5-exp3/train/plugins/profile/2021_11_08_10_23_21\n",
      "2021-11-08 10:23:21.240627: I tensorflow/core/profiler/rpc/client/save_profile.cc:143] Dumped gzipped tool data for memory_profile.json.gz to logs/model2-n12-k5-exp3/train/plugins/profile/2021_11_08_10_23_21/d29684dd295e.memory_profile.json.gz\n",
      "2021-11-08 10:23:21.241584: I tensorflow/core/profiler/rpc/client/capture_profile.cc:251] Creating directory: logs/model2-n12-k5-exp3/train/plugins/profile/2021_11_08_10_23_21Dumped tool data for xplane.pb to logs/model2-n12-k5-exp3/train/plugins/profile/2021_11_08_10_23_21/d29684dd295e.xplane.pb\n",
      "Dumped tool data for overview_page.pb to logs/model2-n12-k5-exp3/train/plugins/profile/2021_11_08_10_23_21/d29684dd295e.overview_page.pb\n",
      "Dumped tool data for input_pipeline.pb to logs/model2-n12-k5-exp3/train/plugins/profile/2021_11_08_10_23_21/d29684dd295e.input_pipeline.pb\n",
      "Dumped tool data for tensorflow_stats.pb to logs/model2-n12-k5-exp3/train/plugins/profile/2021_11_08_10_23_21/d29684dd295e.tensorflow_stats.pb\n",
      "Dumped tool data for kernel_stats.pb to logs/model2-n12-k5-exp3/train/plugins/profile/2021_11_08_10_23_21/d29684dd295e.kernel_stats.pb\n",
      "\n"
     ]
    },
    {
     "name": "stdout",
     "output_type": "stream",
     "text": [
      "Epoch 00013: early stopping\n",
      "model2-exp3\n"
     ]
    },
    {
     "name": "stderr",
     "output_type": "stream",
     "text": [
      "2021-11-08 10:23:55.952754: I tensorflow/core/profiler/lib/profiler_session.cc:136] Profiler session initializing.\n",
      "2021-11-08 10:23:55.952807: I tensorflow/core/profiler/lib/profiler_session.cc:155] Profiler session started.\n",
      "2021-11-08 10:23:56.117790: I tensorflow/core/profiler/lib/profiler_session.cc:172] Profiler session tear down.\n",
      "2021-11-08 10:23:56.117938: I tensorflow/core/profiler/internal/gpu/cupti_tracer.cc:1487] CUPTI activity buffer flushed\n",
      "2021-11-08 10:23:59.588519: I tensorflow/core/profiler/lib/profiler_session.cc:136] Profiler session initializing.\n",
      "2021-11-08 10:23:59.588572: I tensorflow/core/profiler/lib/profiler_session.cc:155] Profiler session started.\n",
      "2021-11-08 10:23:59.939112: I tensorflow/core/profiler/lib/profiler_session.cc:71] Profiler session collecting data.\n",
      "2021-11-08 10:23:59.940056: I tensorflow/core/profiler/internal/gpu/cupti_tracer.cc:1487] CUPTI activity buffer flushed\n",
      "2021-11-08 10:24:00.077291: I tensorflow/core/profiler/internal/gpu/cupti_collector.cc:228]  GpuTracer has collected 373 callback api events and 361 activity events. \n",
      "2021-11-08 10:24:00.091182: I tensorflow/core/profiler/lib/profiler_session.cc:172] Profiler session tear down.\n",
      "2021-11-08 10:24:00.103404: I tensorflow/core/profiler/rpc/client/save_profile.cc:137] Creating directory: logs/model3-n12-k5-exp3/train/plugins/profile/2021_11_08_10_24_00\n",
      "2021-11-08 10:24:00.111067: I tensorflow/core/profiler/rpc/client/save_profile.cc:143] Dumped gzipped tool data for trace.json.gz to logs/model3-n12-k5-exp3/train/plugins/profile/2021_11_08_10_24_00/d29684dd295e.trace.json.gz\n",
      "2021-11-08 10:24:00.130752: I tensorflow/core/profiler/rpc/client/save_profile.cc:137] Creating directory: logs/model3-n12-k5-exp3/train/plugins/profile/2021_11_08_10_24_00\n",
      "2021-11-08 10:24:00.134226: I tensorflow/core/profiler/rpc/client/save_profile.cc:143] Dumped gzipped tool data for memory_profile.json.gz to logs/model3-n12-k5-exp3/train/plugins/profile/2021_11_08_10_24_00/d29684dd295e.memory_profile.json.gz\n",
      "2021-11-08 10:24:00.135361: I tensorflow/core/profiler/rpc/client/capture_profile.cc:251] Creating directory: logs/model3-n12-k5-exp3/train/plugins/profile/2021_11_08_10_24_00Dumped tool data for xplane.pb to logs/model3-n12-k5-exp3/train/plugins/profile/2021_11_08_10_24_00/d29684dd295e.xplane.pb\n",
      "Dumped tool data for overview_page.pb to logs/model3-n12-k5-exp3/train/plugins/profile/2021_11_08_10_24_00/d29684dd295e.overview_page.pb\n",
      "Dumped tool data for input_pipeline.pb to logs/model3-n12-k5-exp3/train/plugins/profile/2021_11_08_10_24_00/d29684dd295e.input_pipeline.pb\n",
      "Dumped tool data for tensorflow_stats.pb to logs/model3-n12-k5-exp3/train/plugins/profile/2021_11_08_10_24_00/d29684dd295e.tensorflow_stats.pb\n",
      "Dumped tool data for kernel_stats.pb to logs/model3-n12-k5-exp3/train/plugins/profile/2021_11_08_10_24_00/d29684dd295e.kernel_stats.pb\n",
      "\n"
     ]
    },
    {
     "name": "stdout",
     "output_type": "stream",
     "text": [
      "Epoch 00016: early stopping\n",
      "model3-exp3\n"
     ]
    },
    {
     "name": "stderr",
     "output_type": "stream",
     "text": [
      "2021-11-08 10:24:43.060547: I tensorflow/core/profiler/lib/profiler_session.cc:136] Profiler session initializing.\n",
      "2021-11-08 10:24:43.060618: I tensorflow/core/profiler/lib/profiler_session.cc:155] Profiler session started.\n",
      "2021-11-08 10:24:43.213173: I tensorflow/core/profiler/lib/profiler_session.cc:172] Profiler session tear down.\n",
      "2021-11-08 10:24:43.213320: I tensorflow/core/profiler/internal/gpu/cupti_tracer.cc:1487] CUPTI activity buffer flushed\n",
      "2021-11-08 10:24:45.926753: I tensorflow/core/profiler/lib/profiler_session.cc:136] Profiler session initializing.\n",
      "2021-11-08 10:24:45.926806: I tensorflow/core/profiler/lib/profiler_session.cc:155] Profiler session started.\n",
      "2021-11-08 10:24:46.265490: I tensorflow/core/profiler/lib/profiler_session.cc:71] Profiler session collecting data.\n",
      "2021-11-08 10:24:46.266318: I tensorflow/core/profiler/internal/gpu/cupti_tracer.cc:1487] CUPTI activity buffer flushed\n",
      "2021-11-08 10:24:46.401480: I tensorflow/core/profiler/internal/gpu/cupti_collector.cc:228]  GpuTracer has collected 373 callback api events and 361 activity events. \n",
      "2021-11-08 10:24:46.413916: I tensorflow/core/profiler/lib/profiler_session.cc:172] Profiler session tear down.\n",
      "2021-11-08 10:24:46.425029: I tensorflow/core/profiler/rpc/client/save_profile.cc:137] Creating directory: logs/model4-n12-k5-exp3/train/plugins/profile/2021_11_08_10_24_46\n",
      "2021-11-08 10:24:46.432695: I tensorflow/core/profiler/rpc/client/save_profile.cc:143] Dumped gzipped tool data for trace.json.gz to logs/model4-n12-k5-exp3/train/plugins/profile/2021_11_08_10_24_46/d29684dd295e.trace.json.gz\n",
      "2021-11-08 10:24:46.450695: I tensorflow/core/profiler/rpc/client/save_profile.cc:137] Creating directory: logs/model4-n12-k5-exp3/train/plugins/profile/2021_11_08_10_24_46\n",
      "2021-11-08 10:24:46.453970: I tensorflow/core/profiler/rpc/client/save_profile.cc:143] Dumped gzipped tool data for memory_profile.json.gz to logs/model4-n12-k5-exp3/train/plugins/profile/2021_11_08_10_24_46/d29684dd295e.memory_profile.json.gz\n",
      "2021-11-08 10:24:46.454946: I tensorflow/core/profiler/rpc/client/capture_profile.cc:251] Creating directory: logs/model4-n12-k5-exp3/train/plugins/profile/2021_11_08_10_24_46Dumped tool data for xplane.pb to logs/model4-n12-k5-exp3/train/plugins/profile/2021_11_08_10_24_46/d29684dd295e.xplane.pb\n",
      "Dumped tool data for overview_page.pb to logs/model4-n12-k5-exp3/train/plugins/profile/2021_11_08_10_24_46/d29684dd295e.overview_page.pb\n",
      "Dumped tool data for input_pipeline.pb to logs/model4-n12-k5-exp3/train/plugins/profile/2021_11_08_10_24_46/d29684dd295e.input_pipeline.pb\n",
      "Dumped tool data for tensorflow_stats.pb to logs/model4-n12-k5-exp3/train/plugins/profile/2021_11_08_10_24_46/d29684dd295e.tensorflow_stats.pb\n",
      "Dumped tool data for kernel_stats.pb to logs/model4-n12-k5-exp3/train/plugins/profile/2021_11_08_10_24_46/d29684dd295e.kernel_stats.pb\n",
      "\n"
     ]
    },
    {
     "name": "stdout",
     "output_type": "stream",
     "text": [
      "Epoch 00015: early stopping\n",
      "model4-exp3\n"
     ]
    },
    {
     "name": "stderr",
     "output_type": "stream",
     "text": [
      "2021-11-08 10:25:25.270260: I tensorflow/core/profiler/lib/profiler_session.cc:136] Profiler session initializing.\n",
      "2021-11-08 10:25:25.270326: I tensorflow/core/profiler/lib/profiler_session.cc:155] Profiler session started.\n",
      "2021-11-08 10:25:25.467022: I tensorflow/core/profiler/lib/profiler_session.cc:172] Profiler session tear down.\n",
      "2021-11-08 10:25:25.467176: I tensorflow/core/profiler/internal/gpu/cupti_tracer.cc:1487] CUPTI activity buffer flushed\n",
      "2021-11-08 10:25:28.491276: I tensorflow/core/profiler/lib/profiler_session.cc:136] Profiler session initializing.\n",
      "2021-11-08 10:25:28.491331: I tensorflow/core/profiler/lib/profiler_session.cc:155] Profiler session started.\n",
      "2021-11-08 10:25:28.823734: I tensorflow/core/profiler/lib/profiler_session.cc:71] Profiler session collecting data.\n",
      "2021-11-08 10:25:28.824390: I tensorflow/core/profiler/internal/gpu/cupti_tracer.cc:1487] CUPTI activity buffer flushed\n",
      "2021-11-08 10:25:28.958427: I tensorflow/core/profiler/internal/gpu/cupti_collector.cc:228]  GpuTracer has collected 373 callback api events and 361 activity events. \n",
      "2021-11-08 10:25:28.971301: I tensorflow/core/profiler/lib/profiler_session.cc:172] Profiler session tear down.\n",
      "2021-11-08 10:25:28.983088: I tensorflow/core/profiler/rpc/client/save_profile.cc:137] Creating directory: logs/model5-n12-k5-exp3/train/plugins/profile/2021_11_08_10_25_28\n",
      "2021-11-08 10:25:28.991278: I tensorflow/core/profiler/rpc/client/save_profile.cc:143] Dumped gzipped tool data for trace.json.gz to logs/model5-n12-k5-exp3/train/plugins/profile/2021_11_08_10_25_28/d29684dd295e.trace.json.gz\n",
      "2021-11-08 10:25:29.010131: I tensorflow/core/profiler/rpc/client/save_profile.cc:137] Creating directory: logs/model5-n12-k5-exp3/train/plugins/profile/2021_11_08_10_25_28\n",
      "2021-11-08 10:25:29.013681: I tensorflow/core/profiler/rpc/client/save_profile.cc:143] Dumped gzipped tool data for memory_profile.json.gz to logs/model5-n12-k5-exp3/train/plugins/profile/2021_11_08_10_25_28/d29684dd295e.memory_profile.json.gz\n",
      "2021-11-08 10:25:29.014698: I tensorflow/core/profiler/rpc/client/capture_profile.cc:251] Creating directory: logs/model5-n12-k5-exp3/train/plugins/profile/2021_11_08_10_25_28Dumped tool data for xplane.pb to logs/model5-n12-k5-exp3/train/plugins/profile/2021_11_08_10_25_28/d29684dd295e.xplane.pb\n",
      "Dumped tool data for overview_page.pb to logs/model5-n12-k5-exp3/train/plugins/profile/2021_11_08_10_25_28/d29684dd295e.overview_page.pb\n",
      "Dumped tool data for input_pipeline.pb to logs/model5-n12-k5-exp3/train/plugins/profile/2021_11_08_10_25_28/d29684dd295e.input_pipeline.pb\n",
      "Dumped tool data for tensorflow_stats.pb to logs/model5-n12-k5-exp3/train/plugins/profile/2021_11_08_10_25_28/d29684dd295e.tensorflow_stats.pb\n",
      "Dumped tool data for kernel_stats.pb to logs/model5-n12-k5-exp3/train/plugins/profile/2021_11_08_10_25_28/d29684dd295e.kernel_stats.pb\n",
      "\n"
     ]
    },
    {
     "name": "stdout",
     "output_type": "stream",
     "text": [
      "Epoch 00026: early stopping\n",
      "model5-exp3\n"
     ]
    },
    {
     "name": "stderr",
     "output_type": "stream",
     "text": [
      "2021-11-08 10:26:28.953274: I tensorflow/core/profiler/lib/profiler_session.cc:136] Profiler session initializing.\n",
      "2021-11-08 10:26:28.953329: I tensorflow/core/profiler/lib/profiler_session.cc:155] Profiler session started.\n",
      "2021-11-08 10:26:29.104339: I tensorflow/core/profiler/lib/profiler_session.cc:172] Profiler session tear down.\n",
      "2021-11-08 10:26:29.104506: I tensorflow/core/profiler/internal/gpu/cupti_tracer.cc:1487] CUPTI activity buffer flushed\n",
      "2021-11-08 10:26:32.103613: I tensorflow/core/profiler/lib/profiler_session.cc:136] Profiler session initializing.\n",
      "2021-11-08 10:26:32.103674: I tensorflow/core/profiler/lib/profiler_session.cc:155] Profiler session started.\n",
      "2021-11-08 10:26:32.444029: I tensorflow/core/profiler/lib/profiler_session.cc:71] Profiler session collecting data.\n",
      "2021-11-08 10:26:32.444716: I tensorflow/core/profiler/internal/gpu/cupti_tracer.cc:1487] CUPTI activity buffer flushed\n",
      "2021-11-08 10:26:32.578069: I tensorflow/core/profiler/internal/gpu/cupti_collector.cc:228]  GpuTracer has collected 377 callback api events and 365 activity events. \n",
      "2021-11-08 10:26:32.590685: I tensorflow/core/profiler/lib/profiler_session.cc:172] Profiler session tear down.\n",
      "2021-11-08 10:26:32.602563: I tensorflow/core/profiler/rpc/client/save_profile.cc:137] Creating directory: logs/model6-n12-k5-exp3/train/plugins/profile/2021_11_08_10_26_32\n",
      "2021-11-08 10:26:32.610711: I tensorflow/core/profiler/rpc/client/save_profile.cc:143] Dumped gzipped tool data for trace.json.gz to logs/model6-n12-k5-exp3/train/plugins/profile/2021_11_08_10_26_32/d29684dd295e.trace.json.gz\n",
      "2021-11-08 10:26:32.629981: I tensorflow/core/profiler/rpc/client/save_profile.cc:137] Creating directory: logs/model6-n12-k5-exp3/train/plugins/profile/2021_11_08_10_26_32\n",
      "2021-11-08 10:26:32.633729: I tensorflow/core/profiler/rpc/client/save_profile.cc:143] Dumped gzipped tool data for memory_profile.json.gz to logs/model6-n12-k5-exp3/train/plugins/profile/2021_11_08_10_26_32/d29684dd295e.memory_profile.json.gz\n",
      "2021-11-08 10:26:32.634739: I tensorflow/core/profiler/rpc/client/capture_profile.cc:251] Creating directory: logs/model6-n12-k5-exp3/train/plugins/profile/2021_11_08_10_26_32Dumped tool data for xplane.pb to logs/model6-n12-k5-exp3/train/plugins/profile/2021_11_08_10_26_32/d29684dd295e.xplane.pb\n",
      "Dumped tool data for overview_page.pb to logs/model6-n12-k5-exp3/train/plugins/profile/2021_11_08_10_26_32/d29684dd295e.overview_page.pb\n",
      "Dumped tool data for input_pipeline.pb to logs/model6-n12-k5-exp3/train/plugins/profile/2021_11_08_10_26_32/d29684dd295e.input_pipeline.pb\n",
      "Dumped tool data for tensorflow_stats.pb to logs/model6-n12-k5-exp3/train/plugins/profile/2021_11_08_10_26_32/d29684dd295e.tensorflow_stats.pb\n",
      "Dumped tool data for kernel_stats.pb to logs/model6-n12-k5-exp3/train/plugins/profile/2021_11_08_10_26_32/d29684dd295e.kernel_stats.pb\n",
      "\n"
     ]
    },
    {
     "name": "stdout",
     "output_type": "stream",
     "text": [
      "Epoch 00014: early stopping\n",
      "model6-exp3\n"
     ]
    },
    {
     "name": "stderr",
     "output_type": "stream",
     "text": [
      "2021-11-08 10:27:06.101380: I tensorflow/core/profiler/lib/profiler_session.cc:136] Profiler session initializing.\n",
      "2021-11-08 10:27:06.101449: I tensorflow/core/profiler/lib/profiler_session.cc:155] Profiler session started.\n",
      "2021-11-08 10:27:06.252102: I tensorflow/core/profiler/lib/profiler_session.cc:172] Profiler session tear down.\n",
      "2021-11-08 10:27:06.252249: I tensorflow/core/profiler/internal/gpu/cupti_tracer.cc:1487] CUPTI activity buffer flushed\n",
      "2021-11-08 10:27:09.043316: I tensorflow/core/profiler/lib/profiler_session.cc:136] Profiler session initializing.\n",
      "2021-11-08 10:27:09.043377: I tensorflow/core/profiler/lib/profiler_session.cc:155] Profiler session started.\n",
      "2021-11-08 10:27:09.389704: I tensorflow/core/profiler/lib/profiler_session.cc:71] Profiler session collecting data.\n",
      "2021-11-08 10:27:09.390280: I tensorflow/core/profiler/internal/gpu/cupti_tracer.cc:1487] CUPTI activity buffer flushed\n",
      "2021-11-08 10:27:09.523411: I tensorflow/core/profiler/internal/gpu/cupti_collector.cc:228]  GpuTracer has collected 377 callback api events and 365 activity events. \n",
      "2021-11-08 10:27:09.536077: I tensorflow/core/profiler/lib/profiler_session.cc:172] Profiler session tear down.\n",
      "2021-11-08 10:27:09.547925: I tensorflow/core/profiler/rpc/client/save_profile.cc:137] Creating directory: logs/model7-n12-k5-exp3/train/plugins/profile/2021_11_08_10_27_09\n",
      "2021-11-08 10:27:09.556155: I tensorflow/core/profiler/rpc/client/save_profile.cc:143] Dumped gzipped tool data for trace.json.gz to logs/model7-n12-k5-exp3/train/plugins/profile/2021_11_08_10_27_09/d29684dd295e.trace.json.gz\n",
      "2021-11-08 10:27:09.574966: I tensorflow/core/profiler/rpc/client/save_profile.cc:137] Creating directory: logs/model7-n12-k5-exp3/train/plugins/profile/2021_11_08_10_27_09\n",
      "2021-11-08 10:27:09.578559: I tensorflow/core/profiler/rpc/client/save_profile.cc:143] Dumped gzipped tool data for memory_profile.json.gz to logs/model7-n12-k5-exp3/train/plugins/profile/2021_11_08_10_27_09/d29684dd295e.memory_profile.json.gz\n",
      "2021-11-08 10:27:09.579552: I tensorflow/core/profiler/rpc/client/capture_profile.cc:251] Creating directory: logs/model7-n12-k5-exp3/train/plugins/profile/2021_11_08_10_27_09Dumped tool data for xplane.pb to logs/model7-n12-k5-exp3/train/plugins/profile/2021_11_08_10_27_09/d29684dd295e.xplane.pb\n",
      "Dumped tool data for overview_page.pb to logs/model7-n12-k5-exp3/train/plugins/profile/2021_11_08_10_27_09/d29684dd295e.overview_page.pb\n",
      "Dumped tool data for input_pipeline.pb to logs/model7-n12-k5-exp3/train/plugins/profile/2021_11_08_10_27_09/d29684dd295e.input_pipeline.pb\n",
      "Dumped tool data for tensorflow_stats.pb to logs/model7-n12-k5-exp3/train/plugins/profile/2021_11_08_10_27_09/d29684dd295e.tensorflow_stats.pb\n",
      "Dumped tool data for kernel_stats.pb to logs/model7-n12-k5-exp3/train/plugins/profile/2021_11_08_10_27_09/d29684dd295e.kernel_stats.pb\n",
      "\n"
     ]
    },
    {
     "name": "stdout",
     "output_type": "stream",
     "text": [
      "Epoch 00015: early stopping\n",
      "model7-exp3\n",
      "random 4\n"
     ]
    },
    {
     "name": "stderr",
     "output_type": "stream",
     "text": [
      "2021-11-08 10:27:47.434058: I tensorflow/core/profiler/lib/profiler_session.cc:136] Profiler session initializing.\n",
      "2021-11-08 10:27:47.434124: I tensorflow/core/profiler/lib/profiler_session.cc:155] Profiler session started.\n",
      "2021-11-08 10:27:47.627111: I tensorflow/core/profiler/lib/profiler_session.cc:172] Profiler session tear down.\n",
      "2021-11-08 10:27:47.627266: I tensorflow/core/profiler/internal/gpu/cupti_tracer.cc:1487] CUPTI activity buffer flushed\n",
      "2021-11-08 10:27:51.464422: I tensorflow/core/profiler/lib/profiler_session.cc:136] Profiler session initializing.\n",
      "2021-11-08 10:27:51.464491: I tensorflow/core/profiler/lib/profiler_session.cc:155] Profiler session started.\n",
      "2021-11-08 10:27:51.797036: I tensorflow/core/profiler/lib/profiler_session.cc:71] Profiler session collecting data.\n",
      "2021-11-08 10:27:51.798324: I tensorflow/core/profiler/internal/gpu/cupti_tracer.cc:1487] CUPTI activity buffer flushed\n",
      "2021-11-08 10:27:51.937984: I tensorflow/core/profiler/internal/gpu/cupti_collector.cc:228]  GpuTracer has collected 318 callback api events and 306 activity events. \n",
      "2021-11-08 10:27:51.948852: I tensorflow/core/profiler/lib/profiler_session.cc:172] Profiler session tear down.\n",
      "2021-11-08 10:27:51.958500: I tensorflow/core/profiler/rpc/client/save_profile.cc:137] Creating directory: logs/model1-n12-k5-exp4/train/plugins/profile/2021_11_08_10_27_51\n",
      "2021-11-08 10:27:51.964753: I tensorflow/core/profiler/rpc/client/save_profile.cc:143] Dumped gzipped tool data for trace.json.gz to logs/model1-n12-k5-exp4/train/plugins/profile/2021_11_08_10_27_51/d29684dd295e.trace.json.gz\n",
      "2021-11-08 10:27:51.981441: I tensorflow/core/profiler/rpc/client/save_profile.cc:137] Creating directory: logs/model1-n12-k5-exp4/train/plugins/profile/2021_11_08_10_27_51\n",
      "2021-11-08 10:27:51.984699: I tensorflow/core/profiler/rpc/client/save_profile.cc:143] Dumped gzipped tool data for memory_profile.json.gz to logs/model1-n12-k5-exp4/train/plugins/profile/2021_11_08_10_27_51/d29684dd295e.memory_profile.json.gz\n",
      "2021-11-08 10:27:51.985775: I tensorflow/core/profiler/rpc/client/capture_profile.cc:251] Creating directory: logs/model1-n12-k5-exp4/train/plugins/profile/2021_11_08_10_27_51Dumped tool data for xplane.pb to logs/model1-n12-k5-exp4/train/plugins/profile/2021_11_08_10_27_51/d29684dd295e.xplane.pb\n",
      "Dumped tool data for overview_page.pb to logs/model1-n12-k5-exp4/train/plugins/profile/2021_11_08_10_27_51/d29684dd295e.overview_page.pb\n",
      "Dumped tool data for input_pipeline.pb to logs/model1-n12-k5-exp4/train/plugins/profile/2021_11_08_10_27_51/d29684dd295e.input_pipeline.pb\n",
      "Dumped tool data for tensorflow_stats.pb to logs/model1-n12-k5-exp4/train/plugins/profile/2021_11_08_10_27_51/d29684dd295e.tensorflow_stats.pb\n",
      "Dumped tool data for kernel_stats.pb to logs/model1-n12-k5-exp4/train/plugins/profile/2021_11_08_10_27_51/d29684dd295e.kernel_stats.pb\n",
      "\n"
     ]
    },
    {
     "name": "stdout",
     "output_type": "stream",
     "text": [
      "Epoch 00020: early stopping\n",
      "model1-exp4\n"
     ]
    },
    {
     "name": "stderr",
     "output_type": "stream",
     "text": [
      "2021-11-08 10:28:36.272120: I tensorflow/core/profiler/lib/profiler_session.cc:136] Profiler session initializing.\n",
      "2021-11-08 10:28:36.272178: I tensorflow/core/profiler/lib/profiler_session.cc:155] Profiler session started.\n",
      "2021-11-08 10:28:36.430139: I tensorflow/core/profiler/lib/profiler_session.cc:172] Profiler session tear down.\n",
      "2021-11-08 10:28:36.430280: I tensorflow/core/profiler/internal/gpu/cupti_tracer.cc:1487] CUPTI activity buffer flushed\n",
      "2021-11-08 10:28:39.102334: I tensorflow/core/profiler/lib/profiler_session.cc:136] Profiler session initializing.\n",
      "2021-11-08 10:28:39.102390: I tensorflow/core/profiler/lib/profiler_session.cc:155] Profiler session started.\n",
      "2021-11-08 10:28:39.440588: I tensorflow/core/profiler/lib/profiler_session.cc:71] Profiler session collecting data.\n",
      "2021-11-08 10:28:39.441215: I tensorflow/core/profiler/internal/gpu/cupti_tracer.cc:1487] CUPTI activity buffer flushed\n",
      "2021-11-08 10:28:39.575794: I tensorflow/core/profiler/internal/gpu/cupti_collector.cc:228]  GpuTracer has collected 369 callback api events and 357 activity events. \n",
      "2021-11-08 10:28:39.588070: I tensorflow/core/profiler/lib/profiler_session.cc:172] Profiler session tear down.\n",
      "2021-11-08 10:28:39.599252: I tensorflow/core/profiler/rpc/client/save_profile.cc:137] Creating directory: logs/model2-n12-k5-exp4/train/plugins/profile/2021_11_08_10_28_39\n",
      "2021-11-08 10:28:39.606687: I tensorflow/core/profiler/rpc/client/save_profile.cc:143] Dumped gzipped tool data for trace.json.gz to logs/model2-n12-k5-exp4/train/plugins/profile/2021_11_08_10_28_39/d29684dd295e.trace.json.gz\n",
      "2021-11-08 10:28:39.624494: I tensorflow/core/profiler/rpc/client/save_profile.cc:137] Creating directory: logs/model2-n12-k5-exp4/train/plugins/profile/2021_11_08_10_28_39\n",
      "2021-11-08 10:28:39.627791: I tensorflow/core/profiler/rpc/client/save_profile.cc:143] Dumped gzipped tool data for memory_profile.json.gz to logs/model2-n12-k5-exp4/train/plugins/profile/2021_11_08_10_28_39/d29684dd295e.memory_profile.json.gz\n",
      "2021-11-08 10:28:39.628863: I tensorflow/core/profiler/rpc/client/capture_profile.cc:251] Creating directory: logs/model2-n12-k5-exp4/train/plugins/profile/2021_11_08_10_28_39Dumped tool data for xplane.pb to logs/model2-n12-k5-exp4/train/plugins/profile/2021_11_08_10_28_39/d29684dd295e.xplane.pb\n",
      "Dumped tool data for overview_page.pb to logs/model2-n12-k5-exp4/train/plugins/profile/2021_11_08_10_28_39/d29684dd295e.overview_page.pb\n",
      "Dumped tool data for input_pipeline.pb to logs/model2-n12-k5-exp4/train/plugins/profile/2021_11_08_10_28_39/d29684dd295e.input_pipeline.pb\n",
      "Dumped tool data for tensorflow_stats.pb to logs/model2-n12-k5-exp4/train/plugins/profile/2021_11_08_10_28_39/d29684dd295e.tensorflow_stats.pb\n",
      "Dumped tool data for kernel_stats.pb to logs/model2-n12-k5-exp4/train/plugins/profile/2021_11_08_10_28_39/d29684dd295e.kernel_stats.pb\n",
      "\n"
     ]
    },
    {
     "name": "stdout",
     "output_type": "stream",
     "text": [
      "Epoch 00014: early stopping\n",
      "model2-exp4\n"
     ]
    },
    {
     "name": "stderr",
     "output_type": "stream",
     "text": [
      "2021-11-08 10:29:15.302942: I tensorflow/core/profiler/lib/profiler_session.cc:136] Profiler session initializing.\n",
      "2021-11-08 10:29:15.302999: I tensorflow/core/profiler/lib/profiler_session.cc:155] Profiler session started.\n",
      "2021-11-08 10:29:15.460348: I tensorflow/core/profiler/lib/profiler_session.cc:172] Profiler session tear down.\n",
      "2021-11-08 10:29:15.460512: I tensorflow/core/profiler/internal/gpu/cupti_tracer.cc:1487] CUPTI activity buffer flushed\n",
      "2021-11-08 10:29:18.701409: I tensorflow/core/profiler/lib/profiler_session.cc:136] Profiler session initializing.\n",
      "2021-11-08 10:29:18.701478: I tensorflow/core/profiler/lib/profiler_session.cc:155] Profiler session started.\n",
      "2021-11-08 10:29:19.052404: I tensorflow/core/profiler/lib/profiler_session.cc:71] Profiler session collecting data.\n",
      "2021-11-08 10:29:19.053195: I tensorflow/core/profiler/internal/gpu/cupti_tracer.cc:1487] CUPTI activity buffer flushed\n",
      "2021-11-08 10:29:19.193114: I tensorflow/core/profiler/internal/gpu/cupti_collector.cc:228]  GpuTracer has collected 373 callback api events and 361 activity events. \n",
      "2021-11-08 10:29:19.206853: I tensorflow/core/profiler/lib/profiler_session.cc:172] Profiler session tear down.\n",
      "2021-11-08 10:29:19.219645: I tensorflow/core/profiler/rpc/client/save_profile.cc:137] Creating directory: logs/model3-n12-k5-exp4/train/plugins/profile/2021_11_08_10_29_19\n",
      "2021-11-08 10:29:19.227648: I tensorflow/core/profiler/rpc/client/save_profile.cc:143] Dumped gzipped tool data for trace.json.gz to logs/model3-n12-k5-exp4/train/plugins/profile/2021_11_08_10_29_19/d29684dd295e.trace.json.gz\n",
      "2021-11-08 10:29:19.248942: I tensorflow/core/profiler/rpc/client/save_profile.cc:137] Creating directory: logs/model3-n12-k5-exp4/train/plugins/profile/2021_11_08_10_29_19\n",
      "2021-11-08 10:29:19.252703: I tensorflow/core/profiler/rpc/client/save_profile.cc:143] Dumped gzipped tool data for memory_profile.json.gz to logs/model3-n12-k5-exp4/train/plugins/profile/2021_11_08_10_29_19/d29684dd295e.memory_profile.json.gz\n",
      "2021-11-08 10:29:19.253973: I tensorflow/core/profiler/rpc/client/capture_profile.cc:251] Creating directory: logs/model3-n12-k5-exp4/train/plugins/profile/2021_11_08_10_29_19Dumped tool data for xplane.pb to logs/model3-n12-k5-exp4/train/plugins/profile/2021_11_08_10_29_19/d29684dd295e.xplane.pb\n",
      "Dumped tool data for overview_page.pb to logs/model3-n12-k5-exp4/train/plugins/profile/2021_11_08_10_29_19/d29684dd295e.overview_page.pb\n",
      "Dumped tool data for input_pipeline.pb to logs/model3-n12-k5-exp4/train/plugins/profile/2021_11_08_10_29_19/d29684dd295e.input_pipeline.pb\n",
      "Dumped tool data for tensorflow_stats.pb to logs/model3-n12-k5-exp4/train/plugins/profile/2021_11_08_10_29_19/d29684dd295e.tensorflow_stats.pb\n",
      "Dumped tool data for kernel_stats.pb to logs/model3-n12-k5-exp4/train/plugins/profile/2021_11_08_10_29_19/d29684dd295e.kernel_stats.pb\n",
      "\n"
     ]
    },
    {
     "name": "stdout",
     "output_type": "stream",
     "text": [
      "Epoch 00017: early stopping\n",
      "model3-exp4\n"
     ]
    },
    {
     "name": "stderr",
     "output_type": "stream",
     "text": [
      "2021-11-08 10:30:04.634693: I tensorflow/core/profiler/lib/profiler_session.cc:136] Profiler session initializing.\n",
      "2021-11-08 10:30:04.634748: I tensorflow/core/profiler/lib/profiler_session.cc:155] Profiler session started.\n",
      "2021-11-08 10:30:04.790326: I tensorflow/core/profiler/lib/profiler_session.cc:172] Profiler session tear down.\n",
      "2021-11-08 10:30:04.790503: I tensorflow/core/profiler/internal/gpu/cupti_tracer.cc:1487] CUPTI activity buffer flushed\n",
      "2021-11-08 10:30:07.526390: I tensorflow/core/profiler/lib/profiler_session.cc:136] Profiler session initializing.\n",
      "2021-11-08 10:30:07.526454: I tensorflow/core/profiler/lib/profiler_session.cc:155] Profiler session started.\n",
      "2021-11-08 10:30:07.866756: I tensorflow/core/profiler/lib/profiler_session.cc:71] Profiler session collecting data.\n",
      "2021-11-08 10:30:07.867413: I tensorflow/core/profiler/internal/gpu/cupti_tracer.cc:1487] CUPTI activity buffer flushed\n",
      "2021-11-08 10:30:08.001949: I tensorflow/core/profiler/internal/gpu/cupti_collector.cc:228]  GpuTracer has collected 373 callback api events and 361 activity events. \n",
      "2021-11-08 10:30:08.015565: I tensorflow/core/profiler/lib/profiler_session.cc:172] Profiler session tear down.\n",
      "2021-11-08 10:30:08.027105: I tensorflow/core/profiler/rpc/client/save_profile.cc:137] Creating directory: logs/model4-n12-k5-exp4/train/plugins/profile/2021_11_08_10_30_08\n",
      "2021-11-08 10:30:08.035077: I tensorflow/core/profiler/rpc/client/save_profile.cc:143] Dumped gzipped tool data for trace.json.gz to logs/model4-n12-k5-exp4/train/plugins/profile/2021_11_08_10_30_08/d29684dd295e.trace.json.gz\n",
      "2021-11-08 10:30:08.053666: I tensorflow/core/profiler/rpc/client/save_profile.cc:137] Creating directory: logs/model4-n12-k5-exp4/train/plugins/profile/2021_11_08_10_30_08\n",
      "2021-11-08 10:30:08.057008: I tensorflow/core/profiler/rpc/client/save_profile.cc:143] Dumped gzipped tool data for memory_profile.json.gz to logs/model4-n12-k5-exp4/train/plugins/profile/2021_11_08_10_30_08/d29684dd295e.memory_profile.json.gz\n",
      "2021-11-08 10:30:08.058000: I tensorflow/core/profiler/rpc/client/capture_profile.cc:251] Creating directory: logs/model4-n12-k5-exp4/train/plugins/profile/2021_11_08_10_30_08Dumped tool data for xplane.pb to logs/model4-n12-k5-exp4/train/plugins/profile/2021_11_08_10_30_08/d29684dd295e.xplane.pb\n",
      "Dumped tool data for overview_page.pb to logs/model4-n12-k5-exp4/train/plugins/profile/2021_11_08_10_30_08/d29684dd295e.overview_page.pb\n",
      "Dumped tool data for input_pipeline.pb to logs/model4-n12-k5-exp4/train/plugins/profile/2021_11_08_10_30_08/d29684dd295e.input_pipeline.pb\n",
      "Dumped tool data for tensorflow_stats.pb to logs/model4-n12-k5-exp4/train/plugins/profile/2021_11_08_10_30_08/d29684dd295e.tensorflow_stats.pb\n",
      "Dumped tool data for kernel_stats.pb to logs/model4-n12-k5-exp4/train/plugins/profile/2021_11_08_10_30_08/d29684dd295e.kernel_stats.pb\n",
      "\n"
     ]
    },
    {
     "name": "stdout",
     "output_type": "stream",
     "text": [
      "Epoch 00016: early stopping\n",
      "model4-exp4\n"
     ]
    },
    {
     "name": "stderr",
     "output_type": "stream",
     "text": [
      "2021-11-08 10:30:49.576247: I tensorflow/core/profiler/lib/profiler_session.cc:136] Profiler session initializing.\n",
      "2021-11-08 10:30:49.576301: I tensorflow/core/profiler/lib/profiler_session.cc:155] Profiler session started.\n",
      "2021-11-08 10:30:49.728227: I tensorflow/core/profiler/lib/profiler_session.cc:172] Profiler session tear down.\n",
      "2021-11-08 10:30:49.728376: I tensorflow/core/profiler/internal/gpu/cupti_tracer.cc:1487] CUPTI activity buffer flushed\n",
      "2021-11-08 10:30:52.416639: I tensorflow/core/profiler/lib/profiler_session.cc:136] Profiler session initializing.\n",
      "2021-11-08 10:30:52.416701: I tensorflow/core/profiler/lib/profiler_session.cc:155] Profiler session started.\n",
      "2021-11-08 10:30:52.757631: I tensorflow/core/profiler/lib/profiler_session.cc:71] Profiler session collecting data.\n",
      "2021-11-08 10:30:52.758243: I tensorflow/core/profiler/internal/gpu/cupti_tracer.cc:1487] CUPTI activity buffer flushed\n",
      "2021-11-08 10:30:52.892244: I tensorflow/core/profiler/internal/gpu/cupti_collector.cc:228]  GpuTracer has collected 373 callback api events and 361 activity events. \n",
      "2021-11-08 10:30:52.904829: I tensorflow/core/profiler/lib/profiler_session.cc:172] Profiler session tear down.\n",
      "2021-11-08 10:30:52.916327: I tensorflow/core/profiler/rpc/client/save_profile.cc:137] Creating directory: logs/model5-n12-k5-exp4/train/plugins/profile/2021_11_08_10_30_52\n",
      "2021-11-08 10:30:52.924152: I tensorflow/core/profiler/rpc/client/save_profile.cc:143] Dumped gzipped tool data for trace.json.gz to logs/model5-n12-k5-exp4/train/plugins/profile/2021_11_08_10_30_52/d29684dd295e.trace.json.gz\n",
      "2021-11-08 10:30:52.941944: I tensorflow/core/profiler/rpc/client/save_profile.cc:137] Creating directory: logs/model5-n12-k5-exp4/train/plugins/profile/2021_11_08_10_30_52\n",
      "2021-11-08 10:30:52.945208: I tensorflow/core/profiler/rpc/client/save_profile.cc:143] Dumped gzipped tool data for memory_profile.json.gz to logs/model5-n12-k5-exp4/train/plugins/profile/2021_11_08_10_30_52/d29684dd295e.memory_profile.json.gz\n",
      "2021-11-08 10:30:52.946209: I tensorflow/core/profiler/rpc/client/capture_profile.cc:251] Creating directory: logs/model5-n12-k5-exp4/train/plugins/profile/2021_11_08_10_30_52Dumped tool data for xplane.pb to logs/model5-n12-k5-exp4/train/plugins/profile/2021_11_08_10_30_52/d29684dd295e.xplane.pb\n",
      "Dumped tool data for overview_page.pb to logs/model5-n12-k5-exp4/train/plugins/profile/2021_11_08_10_30_52/d29684dd295e.overview_page.pb\n",
      "Dumped tool data for input_pipeline.pb to logs/model5-n12-k5-exp4/train/plugins/profile/2021_11_08_10_30_52/d29684dd295e.input_pipeline.pb\n",
      "Dumped tool data for tensorflow_stats.pb to logs/model5-n12-k5-exp4/train/plugins/profile/2021_11_08_10_30_52/d29684dd295e.tensorflow_stats.pb\n",
      "Dumped tool data for kernel_stats.pb to logs/model5-n12-k5-exp4/train/plugins/profile/2021_11_08_10_30_52/d29684dd295e.kernel_stats.pb\n",
      "\n"
     ]
    },
    {
     "name": "stdout",
     "output_type": "stream",
     "text": [
      "Epoch 00025: early stopping\n",
      "model5-exp4\n"
     ]
    },
    {
     "name": "stderr",
     "output_type": "stream",
     "text": [
      "2021-11-08 10:31:51.218466: I tensorflow/core/profiler/lib/profiler_session.cc:136] Profiler session initializing.\n",
      "2021-11-08 10:31:51.218521: I tensorflow/core/profiler/lib/profiler_session.cc:155] Profiler session started.\n",
      "2021-11-08 10:31:51.368498: I tensorflow/core/profiler/lib/profiler_session.cc:172] Profiler session tear down.\n",
      "2021-11-08 10:31:51.368645: I tensorflow/core/profiler/internal/gpu/cupti_tracer.cc:1487] CUPTI activity buffer flushed\n",
      "2021-11-08 10:31:54.451093: I tensorflow/core/profiler/lib/profiler_session.cc:136] Profiler session initializing.\n",
      "2021-11-08 10:31:54.451148: I tensorflow/core/profiler/lib/profiler_session.cc:155] Profiler session started.\n",
      "2021-11-08 10:31:54.787856: I tensorflow/core/profiler/lib/profiler_session.cc:71] Profiler session collecting data.\n",
      "2021-11-08 10:31:54.788449: I tensorflow/core/profiler/internal/gpu/cupti_tracer.cc:1487] CUPTI activity buffer flushed\n",
      "2021-11-08 10:31:54.921609: I tensorflow/core/profiler/internal/gpu/cupti_collector.cc:228]  GpuTracer has collected 377 callback api events and 365 activity events. \n",
      "2021-11-08 10:31:54.934524: I tensorflow/core/profiler/lib/profiler_session.cc:172] Profiler session tear down.\n",
      "2021-11-08 10:31:54.946052: I tensorflow/core/profiler/rpc/client/save_profile.cc:137] Creating directory: logs/model6-n12-k5-exp4/train/plugins/profile/2021_11_08_10_31_54\n",
      "2021-11-08 10:31:54.954297: I tensorflow/core/profiler/rpc/client/save_profile.cc:143] Dumped gzipped tool data for trace.json.gz to logs/model6-n12-k5-exp4/train/plugins/profile/2021_11_08_10_31_54/d29684dd295e.trace.json.gz\n",
      "2021-11-08 10:31:54.973072: I tensorflow/core/profiler/rpc/client/save_profile.cc:137] Creating directory: logs/model6-n12-k5-exp4/train/plugins/profile/2021_11_08_10_31_54\n",
      "2021-11-08 10:31:54.976723: I tensorflow/core/profiler/rpc/client/save_profile.cc:143] Dumped gzipped tool data for memory_profile.json.gz to logs/model6-n12-k5-exp4/train/plugins/profile/2021_11_08_10_31_54/d29684dd295e.memory_profile.json.gz\n",
      "2021-11-08 10:31:54.977650: I tensorflow/core/profiler/rpc/client/capture_profile.cc:251] Creating directory: logs/model6-n12-k5-exp4/train/plugins/profile/2021_11_08_10_31_54Dumped tool data for xplane.pb to logs/model6-n12-k5-exp4/train/plugins/profile/2021_11_08_10_31_54/d29684dd295e.xplane.pb\n",
      "Dumped tool data for overview_page.pb to logs/model6-n12-k5-exp4/train/plugins/profile/2021_11_08_10_31_54/d29684dd295e.overview_page.pb\n",
      "Dumped tool data for input_pipeline.pb to logs/model6-n12-k5-exp4/train/plugins/profile/2021_11_08_10_31_54/d29684dd295e.input_pipeline.pb\n",
      "Dumped tool data for tensorflow_stats.pb to logs/model6-n12-k5-exp4/train/plugins/profile/2021_11_08_10_31_54/d29684dd295e.tensorflow_stats.pb\n",
      "Dumped tool data for kernel_stats.pb to logs/model6-n12-k5-exp4/train/plugins/profile/2021_11_08_10_31_54/d29684dd295e.kernel_stats.pb\n",
      "\n"
     ]
    },
    {
     "name": "stdout",
     "output_type": "stream",
     "text": [
      "Epoch 00016: early stopping\n",
      "model6-exp4\n"
     ]
    },
    {
     "name": "stderr",
     "output_type": "stream",
     "text": [
      "2021-11-08 10:32:32.746756: I tensorflow/core/profiler/lib/profiler_session.cc:136] Profiler session initializing.\n",
      "2021-11-08 10:32:32.746814: I tensorflow/core/profiler/lib/profiler_session.cc:155] Profiler session started.\n",
      "2021-11-08 10:32:32.898774: I tensorflow/core/profiler/lib/profiler_session.cc:172] Profiler session tear down.\n",
      "2021-11-08 10:32:32.898924: I tensorflow/core/profiler/internal/gpu/cupti_tracer.cc:1487] CUPTI activity buffer flushed\n",
      "2021-11-08 10:32:35.908780: I tensorflow/core/profiler/lib/profiler_session.cc:136] Profiler session initializing.\n",
      "2021-11-08 10:32:35.908835: I tensorflow/core/profiler/lib/profiler_session.cc:155] Profiler session started.\n",
      "2021-11-08 10:32:36.251393: I tensorflow/core/profiler/lib/profiler_session.cc:71] Profiler session collecting data.\n",
      "2021-11-08 10:32:36.252004: I tensorflow/core/profiler/internal/gpu/cupti_tracer.cc:1487] CUPTI activity buffer flushed\n",
      "2021-11-08 10:32:36.385000: I tensorflow/core/profiler/internal/gpu/cupti_collector.cc:228]  GpuTracer has collected 377 callback api events and 365 activity events. \n",
      "2021-11-08 10:32:36.397835: I tensorflow/core/profiler/lib/profiler_session.cc:172] Profiler session tear down.\n",
      "2021-11-08 10:32:36.409721: I tensorflow/core/profiler/rpc/client/save_profile.cc:137] Creating directory: logs/model7-n12-k5-exp4/train/plugins/profile/2021_11_08_10_32_36\n",
      "2021-11-08 10:32:36.417889: I tensorflow/core/profiler/rpc/client/save_profile.cc:143] Dumped gzipped tool data for trace.json.gz to logs/model7-n12-k5-exp4/train/plugins/profile/2021_11_08_10_32_36/d29684dd295e.trace.json.gz\n",
      "2021-11-08 10:32:36.436210: I tensorflow/core/profiler/rpc/client/save_profile.cc:137] Creating directory: logs/model7-n12-k5-exp4/train/plugins/profile/2021_11_08_10_32_36\n",
      "2021-11-08 10:32:36.439632: I tensorflow/core/profiler/rpc/client/save_profile.cc:143] Dumped gzipped tool data for memory_profile.json.gz to logs/model7-n12-k5-exp4/train/plugins/profile/2021_11_08_10_32_36/d29684dd295e.memory_profile.json.gz\n",
      "2021-11-08 10:32:36.440636: I tensorflow/core/profiler/rpc/client/capture_profile.cc:251] Creating directory: logs/model7-n12-k5-exp4/train/plugins/profile/2021_11_08_10_32_36Dumped tool data for xplane.pb to logs/model7-n12-k5-exp4/train/plugins/profile/2021_11_08_10_32_36/d29684dd295e.xplane.pb\n",
      "Dumped tool data for overview_page.pb to logs/model7-n12-k5-exp4/train/plugins/profile/2021_11_08_10_32_36/d29684dd295e.overview_page.pb\n",
      "Dumped tool data for input_pipeline.pb to logs/model7-n12-k5-exp4/train/plugins/profile/2021_11_08_10_32_36/d29684dd295e.input_pipeline.pb\n",
      "Dumped tool data for tensorflow_stats.pb to logs/model7-n12-k5-exp4/train/plugins/profile/2021_11_08_10_32_36/d29684dd295e.tensorflow_stats.pb\n",
      "Dumped tool data for kernel_stats.pb to logs/model7-n12-k5-exp4/train/plugins/profile/2021_11_08_10_32_36/d29684dd295e.kernel_stats.pb\n",
      "\n"
     ]
    },
    {
     "name": "stdout",
     "output_type": "stream",
     "text": [
      "Epoch 00016: early stopping\n",
      "model7-exp4\n",
      "random 5\n"
     ]
    },
    {
     "name": "stderr",
     "output_type": "stream",
     "text": [
      "2021-11-08 10:33:16.564670: I tensorflow/core/profiler/lib/profiler_session.cc:136] Profiler session initializing.\n",
      "2021-11-08 10:33:16.564727: I tensorflow/core/profiler/lib/profiler_session.cc:155] Profiler session started.\n",
      "2021-11-08 10:33:16.709619: I tensorflow/core/profiler/lib/profiler_session.cc:172] Profiler session tear down.\n",
      "2021-11-08 10:33:16.709764: I tensorflow/core/profiler/internal/gpu/cupti_tracer.cc:1487] CUPTI activity buffer flushed\n",
      "2021-11-08 10:33:19.585263: I tensorflow/core/profiler/lib/profiler_session.cc:136] Profiler session initializing.\n",
      "2021-11-08 10:33:19.585325: I tensorflow/core/profiler/lib/profiler_session.cc:155] Profiler session started.\n",
      "2021-11-08 10:33:19.893820: I tensorflow/core/profiler/lib/profiler_session.cc:71] Profiler session collecting data.\n",
      "2021-11-08 10:33:19.894297: I tensorflow/core/profiler/internal/gpu/cupti_tracer.cc:1487] CUPTI activity buffer flushed\n",
      "2021-11-08 10:33:20.027847: I tensorflow/core/profiler/internal/gpu/cupti_collector.cc:228]  GpuTracer has collected 318 callback api events and 306 activity events. \n",
      "2021-11-08 10:33:20.038544: I tensorflow/core/profiler/lib/profiler_session.cc:172] Profiler session tear down.\n",
      "2021-11-08 10:33:20.047653: I tensorflow/core/profiler/rpc/client/save_profile.cc:137] Creating directory: logs/model1-n12-k5-exp5/train/plugins/profile/2021_11_08_10_33_20\n",
      "2021-11-08 10:33:20.053916: I tensorflow/core/profiler/rpc/client/save_profile.cc:143] Dumped gzipped tool data for trace.json.gz to logs/model1-n12-k5-exp5/train/plugins/profile/2021_11_08_10_33_20/d29684dd295e.trace.json.gz\n",
      "2021-11-08 10:33:20.067909: I tensorflow/core/profiler/rpc/client/save_profile.cc:137] Creating directory: logs/model1-n12-k5-exp5/train/plugins/profile/2021_11_08_10_33_20\n",
      "2021-11-08 10:33:20.070621: I tensorflow/core/profiler/rpc/client/save_profile.cc:143] Dumped gzipped tool data for memory_profile.json.gz to logs/model1-n12-k5-exp5/train/plugins/profile/2021_11_08_10_33_20/d29684dd295e.memory_profile.json.gz\n",
      "2021-11-08 10:33:20.071372: I tensorflow/core/profiler/rpc/client/capture_profile.cc:251] Creating directory: logs/model1-n12-k5-exp5/train/plugins/profile/2021_11_08_10_33_20Dumped tool data for xplane.pb to logs/model1-n12-k5-exp5/train/plugins/profile/2021_11_08_10_33_20/d29684dd295e.xplane.pb\n",
      "Dumped tool data for overview_page.pb to logs/model1-n12-k5-exp5/train/plugins/profile/2021_11_08_10_33_20/d29684dd295e.overview_page.pb\n",
      "Dumped tool data for input_pipeline.pb to logs/model1-n12-k5-exp5/train/plugins/profile/2021_11_08_10_33_20/d29684dd295e.input_pipeline.pb\n",
      "Dumped tool data for tensorflow_stats.pb to logs/model1-n12-k5-exp5/train/plugins/profile/2021_11_08_10_33_20/d29684dd295e.tensorflow_stats.pb\n",
      "Dumped tool data for kernel_stats.pb to logs/model1-n12-k5-exp5/train/plugins/profile/2021_11_08_10_33_20/d29684dd295e.kernel_stats.pb\n",
      "\n"
     ]
    },
    {
     "name": "stdout",
     "output_type": "stream",
     "text": [
      "Epoch 00018: early stopping\n",
      "model1-exp5\n"
     ]
    },
    {
     "name": "stderr",
     "output_type": "stream",
     "text": [
      "2021-11-08 10:33:59.690085: I tensorflow/core/profiler/lib/profiler_session.cc:136] Profiler session initializing.\n",
      "2021-11-08 10:33:59.690142: I tensorflow/core/profiler/lib/profiler_session.cc:155] Profiler session started.\n",
      "2021-11-08 10:33:59.837944: I tensorflow/core/profiler/lib/profiler_session.cc:172] Profiler session tear down.\n",
      "2021-11-08 10:33:59.838096: I tensorflow/core/profiler/internal/gpu/cupti_tracer.cc:1487] CUPTI activity buffer flushed\n",
      "2021-11-08 10:34:03.731099: I tensorflow/core/profiler/lib/profiler_session.cc:136] Profiler session initializing.\n",
      "2021-11-08 10:34:03.731155: I tensorflow/core/profiler/lib/profiler_session.cc:155] Profiler session started.\n",
      "2021-11-08 10:34:04.082072: I tensorflow/core/profiler/lib/profiler_session.cc:71] Profiler session collecting data.\n",
      "2021-11-08 10:34:04.083201: I tensorflow/core/profiler/internal/gpu/cupti_tracer.cc:1487] CUPTI activity buffer flushed\n",
      "2021-11-08 10:34:04.224068: I tensorflow/core/profiler/internal/gpu/cupti_collector.cc:228]  GpuTracer has collected 369 callback api events and 357 activity events. \n",
      "2021-11-08 10:34:04.237585: I tensorflow/core/profiler/lib/profiler_session.cc:172] Profiler session tear down.\n",
      "2021-11-08 10:34:04.249255: I tensorflow/core/profiler/rpc/client/save_profile.cc:137] Creating directory: logs/model2-n12-k5-exp5/train/plugins/profile/2021_11_08_10_34_04\n",
      "2021-11-08 10:34:04.256794: I tensorflow/core/profiler/rpc/client/save_profile.cc:143] Dumped gzipped tool data for trace.json.gz to logs/model2-n12-k5-exp5/train/plugins/profile/2021_11_08_10_34_04/d29684dd295e.trace.json.gz\n",
      "2021-11-08 10:34:04.276669: I tensorflow/core/profiler/rpc/client/save_profile.cc:137] Creating directory: logs/model2-n12-k5-exp5/train/plugins/profile/2021_11_08_10_34_04\n",
      "2021-11-08 10:34:04.280184: I tensorflow/core/profiler/rpc/client/save_profile.cc:143] Dumped gzipped tool data for memory_profile.json.gz to logs/model2-n12-k5-exp5/train/plugins/profile/2021_11_08_10_34_04/d29684dd295e.memory_profile.json.gz\n",
      "2021-11-08 10:34:04.281305: I tensorflow/core/profiler/rpc/client/capture_profile.cc:251] Creating directory: logs/model2-n12-k5-exp5/train/plugins/profile/2021_11_08_10_34_04Dumped tool data for xplane.pb to logs/model2-n12-k5-exp5/train/plugins/profile/2021_11_08_10_34_04/d29684dd295e.xplane.pb\n",
      "Dumped tool data for overview_page.pb to logs/model2-n12-k5-exp5/train/plugins/profile/2021_11_08_10_34_04/d29684dd295e.overview_page.pb\n",
      "Dumped tool data for input_pipeline.pb to logs/model2-n12-k5-exp5/train/plugins/profile/2021_11_08_10_34_04/d29684dd295e.input_pipeline.pb\n",
      "Dumped tool data for tensorflow_stats.pb to logs/model2-n12-k5-exp5/train/plugins/profile/2021_11_08_10_34_04/d29684dd295e.tensorflow_stats.pb\n",
      "Dumped tool data for kernel_stats.pb to logs/model2-n12-k5-exp5/train/plugins/profile/2021_11_08_10_34_04/d29684dd295e.kernel_stats.pb\n",
      "\n"
     ]
    },
    {
     "name": "stdout",
     "output_type": "stream",
     "text": [
      "Epoch 00014: early stopping\n",
      "model2-exp5\n"
     ]
    },
    {
     "name": "stderr",
     "output_type": "stream",
     "text": [
      "2021-11-08 10:34:40.038739: I tensorflow/core/profiler/lib/profiler_session.cc:136] Profiler session initializing.\n",
      "2021-11-08 10:34:40.038798: I tensorflow/core/profiler/lib/profiler_session.cc:155] Profiler session started.\n",
      "2021-11-08 10:34:40.194692: I tensorflow/core/profiler/lib/profiler_session.cc:172] Profiler session tear down.\n",
      "2021-11-08 10:34:40.194841: I tensorflow/core/profiler/internal/gpu/cupti_tracer.cc:1487] CUPTI activity buffer flushed\n",
      "2021-11-08 10:34:42.915675: I tensorflow/core/profiler/lib/profiler_session.cc:136] Profiler session initializing.\n",
      "2021-11-08 10:34:42.915738: I tensorflow/core/profiler/lib/profiler_session.cc:155] Profiler session started.\n",
      "2021-11-08 10:34:43.271448: I tensorflow/core/profiler/lib/profiler_session.cc:71] Profiler session collecting data.\n",
      "2021-11-08 10:34:43.272233: I tensorflow/core/profiler/internal/gpu/cupti_tracer.cc:1487] CUPTI activity buffer flushed\n",
      "2021-11-08 10:34:43.409618: I tensorflow/core/profiler/internal/gpu/cupti_collector.cc:228]  GpuTracer has collected 373 callback api events and 361 activity events. \n",
      "2021-11-08 10:34:43.422749: I tensorflow/core/profiler/lib/profiler_session.cc:172] Profiler session tear down.\n",
      "2021-11-08 10:34:43.434283: I tensorflow/core/profiler/rpc/client/save_profile.cc:137] Creating directory: logs/model3-n12-k5-exp5/train/plugins/profile/2021_11_08_10_34_43\n",
      "2021-11-08 10:34:43.441964: I tensorflow/core/profiler/rpc/client/save_profile.cc:143] Dumped gzipped tool data for trace.json.gz to logs/model3-n12-k5-exp5/train/plugins/profile/2021_11_08_10_34_43/d29684dd295e.trace.json.gz\n",
      "2021-11-08 10:34:43.461491: I tensorflow/core/profiler/rpc/client/save_profile.cc:137] Creating directory: logs/model3-n12-k5-exp5/train/plugins/profile/2021_11_08_10_34_43\n",
      "2021-11-08 10:34:43.464869: I tensorflow/core/profiler/rpc/client/save_profile.cc:143] Dumped gzipped tool data for memory_profile.json.gz to logs/model3-n12-k5-exp5/train/plugins/profile/2021_11_08_10_34_43/d29684dd295e.memory_profile.json.gz\n",
      "2021-11-08 10:34:43.465936: I tensorflow/core/profiler/rpc/client/capture_profile.cc:251] Creating directory: logs/model3-n12-k5-exp5/train/plugins/profile/2021_11_08_10_34_43Dumped tool data for xplane.pb to logs/model3-n12-k5-exp5/train/plugins/profile/2021_11_08_10_34_43/d29684dd295e.xplane.pb\n",
      "Dumped tool data for overview_page.pb to logs/model3-n12-k5-exp5/train/plugins/profile/2021_11_08_10_34_43/d29684dd295e.overview_page.pb\n",
      "Dumped tool data for input_pipeline.pb to logs/model3-n12-k5-exp5/train/plugins/profile/2021_11_08_10_34_43/d29684dd295e.input_pipeline.pb\n",
      "Dumped tool data for tensorflow_stats.pb to logs/model3-n12-k5-exp5/train/plugins/profile/2021_11_08_10_34_43/d29684dd295e.tensorflow_stats.pb\n",
      "Dumped tool data for kernel_stats.pb to logs/model3-n12-k5-exp5/train/plugins/profile/2021_11_08_10_34_43/d29684dd295e.kernel_stats.pb\n",
      "\n"
     ]
    },
    {
     "name": "stdout",
     "output_type": "stream",
     "text": [
      "Epoch 00015: early stopping\n",
      "model3-exp5\n"
     ]
    },
    {
     "name": "stderr",
     "output_type": "stream",
     "text": [
      "2021-11-08 10:35:23.703584: I tensorflow/core/profiler/lib/profiler_session.cc:136] Profiler session initializing.\n",
      "2021-11-08 10:35:23.703637: I tensorflow/core/profiler/lib/profiler_session.cc:155] Profiler session started.\n",
      "2021-11-08 10:35:23.856230: I tensorflow/core/profiler/lib/profiler_session.cc:172] Profiler session tear down.\n",
      "2021-11-08 10:35:23.856366: I tensorflow/core/profiler/internal/gpu/cupti_tracer.cc:1487] CUPTI activity buffer flushed\n",
      "2021-11-08 10:35:26.606725: I tensorflow/core/profiler/lib/profiler_session.cc:136] Profiler session initializing.\n",
      "2021-11-08 10:35:26.606777: I tensorflow/core/profiler/lib/profiler_session.cc:155] Profiler session started.\n",
      "2021-11-08 10:35:26.965412: I tensorflow/core/profiler/lib/profiler_session.cc:71] Profiler session collecting data.\n",
      "2021-11-08 10:35:26.966510: I tensorflow/core/profiler/internal/gpu/cupti_tracer.cc:1487] CUPTI activity buffer flushed\n",
      "2021-11-08 10:35:27.118476: I tensorflow/core/profiler/internal/gpu/cupti_collector.cc:228]  GpuTracer has collected 373 callback api events and 361 activity events. \n",
      "2021-11-08 10:35:27.138659: I tensorflow/core/profiler/lib/profiler_session.cc:172] Profiler session tear down.\n",
      "2021-11-08 10:35:27.157812: I tensorflow/core/profiler/rpc/client/save_profile.cc:137] Creating directory: logs/model4-n12-k5-exp5/train/plugins/profile/2021_11_08_10_35_27\n",
      "2021-11-08 10:35:27.168903: I tensorflow/core/profiler/rpc/client/save_profile.cc:143] Dumped gzipped tool data for trace.json.gz to logs/model4-n12-k5-exp5/train/plugins/profile/2021_11_08_10_35_27/d29684dd295e.trace.json.gz\n",
      "2021-11-08 10:35:27.197810: I tensorflow/core/profiler/rpc/client/save_profile.cc:137] Creating directory: logs/model4-n12-k5-exp5/train/plugins/profile/2021_11_08_10_35_27\n",
      "2021-11-08 10:35:27.202447: I tensorflow/core/profiler/rpc/client/save_profile.cc:143] Dumped gzipped tool data for memory_profile.json.gz to logs/model4-n12-k5-exp5/train/plugins/profile/2021_11_08_10_35_27/d29684dd295e.memory_profile.json.gz\n",
      "2021-11-08 10:35:27.203806: I tensorflow/core/profiler/rpc/client/capture_profile.cc:251] Creating directory: logs/model4-n12-k5-exp5/train/plugins/profile/2021_11_08_10_35_27Dumped tool data for xplane.pb to logs/model4-n12-k5-exp5/train/plugins/profile/2021_11_08_10_35_27/d29684dd295e.xplane.pb\n",
      "Dumped tool data for overview_page.pb to logs/model4-n12-k5-exp5/train/plugins/profile/2021_11_08_10_35_27/d29684dd295e.overview_page.pb\n",
      "Dumped tool data for input_pipeline.pb to logs/model4-n12-k5-exp5/train/plugins/profile/2021_11_08_10_35_27/d29684dd295e.input_pipeline.pb\n",
      "Dumped tool data for tensorflow_stats.pb to logs/model4-n12-k5-exp5/train/plugins/profile/2021_11_08_10_35_27/d29684dd295e.tensorflow_stats.pb\n",
      "Dumped tool data for kernel_stats.pb to logs/model4-n12-k5-exp5/train/plugins/profile/2021_11_08_10_35_27/d29684dd295e.kernel_stats.pb\n",
      "\n"
     ]
    },
    {
     "name": "stdout",
     "output_type": "stream",
     "text": [
      "Epoch 00016: early stopping\n",
      "model4-exp5\n"
     ]
    },
    {
     "name": "stderr",
     "output_type": "stream",
     "text": [
      "2021-11-08 10:36:08.787961: I tensorflow/core/profiler/lib/profiler_session.cc:136] Profiler session initializing.\n",
      "2021-11-08 10:36:08.788018: I tensorflow/core/profiler/lib/profiler_session.cc:155] Profiler session started.\n",
      "2021-11-08 10:36:08.940626: I tensorflow/core/profiler/lib/profiler_session.cc:172] Profiler session tear down.\n",
      "2021-11-08 10:36:08.940770: I tensorflow/core/profiler/internal/gpu/cupti_tracer.cc:1487] CUPTI activity buffer flushed\n",
      "2021-11-08 10:36:11.916142: I tensorflow/core/profiler/lib/profiler_session.cc:136] Profiler session initializing.\n",
      "2021-11-08 10:36:11.916201: I tensorflow/core/profiler/lib/profiler_session.cc:155] Profiler session started.\n",
      "2021-11-08 10:36:12.252721: I tensorflow/core/profiler/lib/profiler_session.cc:71] Profiler session collecting data.\n",
      "2021-11-08 10:36:12.253372: I tensorflow/core/profiler/internal/gpu/cupti_tracer.cc:1487] CUPTI activity buffer flushed\n",
      "2021-11-08 10:36:12.387608: I tensorflow/core/profiler/internal/gpu/cupti_collector.cc:228]  GpuTracer has collected 373 callback api events and 361 activity events. \n",
      "2021-11-08 10:36:12.400501: I tensorflow/core/profiler/lib/profiler_session.cc:172] Profiler session tear down.\n",
      "2021-11-08 10:36:12.412948: I tensorflow/core/profiler/rpc/client/save_profile.cc:137] Creating directory: logs/model5-n12-k5-exp5/train/plugins/profile/2021_11_08_10_36_12\n",
      "2021-11-08 10:36:12.421724: I tensorflow/core/profiler/rpc/client/save_profile.cc:143] Dumped gzipped tool data for trace.json.gz to logs/model5-n12-k5-exp5/train/plugins/profile/2021_11_08_10_36_12/d29684dd295e.trace.json.gz\n",
      "2021-11-08 10:36:12.441893: I tensorflow/core/profiler/rpc/client/save_profile.cc:137] Creating directory: logs/model5-n12-k5-exp5/train/plugins/profile/2021_11_08_10_36_12\n",
      "2021-11-08 10:36:12.445668: I tensorflow/core/profiler/rpc/client/save_profile.cc:143] Dumped gzipped tool data for memory_profile.json.gz to logs/model5-n12-k5-exp5/train/plugins/profile/2021_11_08_10_36_12/d29684dd295e.memory_profile.json.gz\n",
      "2021-11-08 10:36:12.446780: I tensorflow/core/profiler/rpc/client/capture_profile.cc:251] Creating directory: logs/model5-n12-k5-exp5/train/plugins/profile/2021_11_08_10_36_12Dumped tool data for xplane.pb to logs/model5-n12-k5-exp5/train/plugins/profile/2021_11_08_10_36_12/d29684dd295e.xplane.pb\n",
      "Dumped tool data for overview_page.pb to logs/model5-n12-k5-exp5/train/plugins/profile/2021_11_08_10_36_12/d29684dd295e.overview_page.pb\n",
      "Dumped tool data for input_pipeline.pb to logs/model5-n12-k5-exp5/train/plugins/profile/2021_11_08_10_36_12/d29684dd295e.input_pipeline.pb\n",
      "Dumped tool data for tensorflow_stats.pb to logs/model5-n12-k5-exp5/train/plugins/profile/2021_11_08_10_36_12/d29684dd295e.tensorflow_stats.pb\n",
      "Dumped tool data for kernel_stats.pb to logs/model5-n12-k5-exp5/train/plugins/profile/2021_11_08_10_36_12/d29684dd295e.kernel_stats.pb\n",
      "\n"
     ]
    },
    {
     "name": "stdout",
     "output_type": "stream",
     "text": [
      "Epoch 00023: early stopping\n",
      "model5-exp5\n"
     ]
    },
    {
     "name": "stderr",
     "output_type": "stream",
     "text": [
      "2021-11-08 10:37:05.817289: I tensorflow/core/profiler/lib/profiler_session.cc:136] Profiler session initializing.\n",
      "2021-11-08 10:37:05.817358: I tensorflow/core/profiler/lib/profiler_session.cc:155] Profiler session started.\n",
      "2021-11-08 10:37:06.038528: I tensorflow/core/profiler/lib/profiler_session.cc:172] Profiler session tear down.\n",
      "2021-11-08 10:37:06.038701: I tensorflow/core/profiler/internal/gpu/cupti_tracer.cc:1487] CUPTI activity buffer flushed\n",
      "2021-11-08 10:37:09.565220: I tensorflow/core/profiler/lib/profiler_session.cc:136] Profiler session initializing.\n",
      "2021-11-08 10:37:09.565274: I tensorflow/core/profiler/lib/profiler_session.cc:155] Profiler session started.\n",
      "2021-11-08 10:37:09.910545: I tensorflow/core/profiler/lib/profiler_session.cc:71] Profiler session collecting data.\n",
      "2021-11-08 10:37:09.911191: I tensorflow/core/profiler/internal/gpu/cupti_tracer.cc:1487] CUPTI activity buffer flushed\n",
      "2021-11-08 10:37:10.045535: I tensorflow/core/profiler/internal/gpu/cupti_collector.cc:228]  GpuTracer has collected 377 callback api events and 365 activity events. \n",
      "2021-11-08 10:37:10.058556: I tensorflow/core/profiler/lib/profiler_session.cc:172] Profiler session tear down.\n",
      "2021-11-08 10:37:10.070243: I tensorflow/core/profiler/rpc/client/save_profile.cc:137] Creating directory: logs/model6-n12-k5-exp5/train/plugins/profile/2021_11_08_10_37_10\n",
      "2021-11-08 10:37:10.078347: I tensorflow/core/profiler/rpc/client/save_profile.cc:143] Dumped gzipped tool data for trace.json.gz to logs/model6-n12-k5-exp5/train/plugins/profile/2021_11_08_10_37_10/d29684dd295e.trace.json.gz\n",
      "2021-11-08 10:37:10.096980: I tensorflow/core/profiler/rpc/client/save_profile.cc:137] Creating directory: logs/model6-n12-k5-exp5/train/plugins/profile/2021_11_08_10_37_10\n",
      "2021-11-08 10:37:10.100586: I tensorflow/core/profiler/rpc/client/save_profile.cc:143] Dumped gzipped tool data for memory_profile.json.gz to logs/model6-n12-k5-exp5/train/plugins/profile/2021_11_08_10_37_10/d29684dd295e.memory_profile.json.gz\n",
      "2021-11-08 10:37:10.101542: I tensorflow/core/profiler/rpc/client/capture_profile.cc:251] Creating directory: logs/model6-n12-k5-exp5/train/plugins/profile/2021_11_08_10_37_10Dumped tool data for xplane.pb to logs/model6-n12-k5-exp5/train/plugins/profile/2021_11_08_10_37_10/d29684dd295e.xplane.pb\n",
      "Dumped tool data for overview_page.pb to logs/model6-n12-k5-exp5/train/plugins/profile/2021_11_08_10_37_10/d29684dd295e.overview_page.pb\n",
      "Dumped tool data for input_pipeline.pb to logs/model6-n12-k5-exp5/train/plugins/profile/2021_11_08_10_37_10/d29684dd295e.input_pipeline.pb\n",
      "Dumped tool data for tensorflow_stats.pb to logs/model6-n12-k5-exp5/train/plugins/profile/2021_11_08_10_37_10/d29684dd295e.tensorflow_stats.pb\n",
      "Dumped tool data for kernel_stats.pb to logs/model6-n12-k5-exp5/train/plugins/profile/2021_11_08_10_37_10/d29684dd295e.kernel_stats.pb\n",
      "\n"
     ]
    },
    {
     "name": "stdout",
     "output_type": "stream",
     "text": [
      "Epoch 00016: early stopping\n",
      "model6-exp5\n"
     ]
    },
    {
     "name": "stderr",
     "output_type": "stream",
     "text": [
      "2021-11-08 10:37:48.009300: I tensorflow/core/profiler/lib/profiler_session.cc:136] Profiler session initializing.\n",
      "2021-11-08 10:37:48.009357: I tensorflow/core/profiler/lib/profiler_session.cc:155] Profiler session started.\n",
      "2021-11-08 10:37:48.159160: I tensorflow/core/profiler/lib/profiler_session.cc:172] Profiler session tear down.\n",
      "2021-11-08 10:37:48.159304: I tensorflow/core/profiler/internal/gpu/cupti_tracer.cc:1487] CUPTI activity buffer flushed\n",
      "2021-11-08 10:37:50.905754: I tensorflow/core/profiler/lib/profiler_session.cc:136] Profiler session initializing.\n",
      "2021-11-08 10:37:50.905809: I tensorflow/core/profiler/lib/profiler_session.cc:155] Profiler session started.\n",
      "2021-11-08 10:37:51.253582: I tensorflow/core/profiler/lib/profiler_session.cc:71] Profiler session collecting data.\n",
      "2021-11-08 10:37:51.254266: I tensorflow/core/profiler/internal/gpu/cupti_tracer.cc:1487] CUPTI activity buffer flushed\n",
      "2021-11-08 10:37:51.388222: I tensorflow/core/profiler/internal/gpu/cupti_collector.cc:228]  GpuTracer has collected 377 callback api events and 365 activity events. \n",
      "2021-11-08 10:37:51.400996: I tensorflow/core/profiler/lib/profiler_session.cc:172] Profiler session tear down.\n",
      "2021-11-08 10:37:51.412846: I tensorflow/core/profiler/rpc/client/save_profile.cc:137] Creating directory: logs/model7-n12-k5-exp5/train/plugins/profile/2021_11_08_10_37_51\n",
      "2021-11-08 10:37:51.420693: I tensorflow/core/profiler/rpc/client/save_profile.cc:143] Dumped gzipped tool data for trace.json.gz to logs/model7-n12-k5-exp5/train/plugins/profile/2021_11_08_10_37_51/d29684dd295e.trace.json.gz\n",
      "2021-11-08 10:37:51.439212: I tensorflow/core/profiler/rpc/client/save_profile.cc:137] Creating directory: logs/model7-n12-k5-exp5/train/plugins/profile/2021_11_08_10_37_51\n",
      "2021-11-08 10:37:51.442680: I tensorflow/core/profiler/rpc/client/save_profile.cc:143] Dumped gzipped tool data for memory_profile.json.gz to logs/model7-n12-k5-exp5/train/plugins/profile/2021_11_08_10_37_51/d29684dd295e.memory_profile.json.gz\n",
      "2021-11-08 10:37:51.443797: I tensorflow/core/profiler/rpc/client/capture_profile.cc:251] Creating directory: logs/model7-n12-k5-exp5/train/plugins/profile/2021_11_08_10_37_51Dumped tool data for xplane.pb to logs/model7-n12-k5-exp5/train/plugins/profile/2021_11_08_10_37_51/d29684dd295e.xplane.pb\n",
      "Dumped tool data for overview_page.pb to logs/model7-n12-k5-exp5/train/plugins/profile/2021_11_08_10_37_51/d29684dd295e.overview_page.pb\n",
      "Dumped tool data for input_pipeline.pb to logs/model7-n12-k5-exp5/train/plugins/profile/2021_11_08_10_37_51/d29684dd295e.input_pipeline.pb\n",
      "Dumped tool data for tensorflow_stats.pb to logs/model7-n12-k5-exp5/train/plugins/profile/2021_11_08_10_37_51/d29684dd295e.tensorflow_stats.pb\n",
      "Dumped tool data for kernel_stats.pb to logs/model7-n12-k5-exp5/train/plugins/profile/2021_11_08_10_37_51/d29684dd295e.kernel_stats.pb\n",
      "\n"
     ]
    },
    {
     "name": "stdout",
     "output_type": "stream",
     "text": [
      "Epoch 00015: early stopping\n",
      "model7-exp5\n",
      "random 6\n"
     ]
    },
    {
     "name": "stderr",
     "output_type": "stream",
     "text": [
      "2021-11-08 10:38:29.825710: I tensorflow/core/profiler/lib/profiler_session.cc:136] Profiler session initializing.\n",
      "2021-11-08 10:38:29.825770: I tensorflow/core/profiler/lib/profiler_session.cc:155] Profiler session started.\n",
      "2021-11-08 10:38:29.982500: I tensorflow/core/profiler/lib/profiler_session.cc:172] Profiler session tear down.\n",
      "2021-11-08 10:38:29.982673: I tensorflow/core/profiler/internal/gpu/cupti_tracer.cc:1487] CUPTI activity buffer flushed\n",
      "2021-11-08 10:38:32.383296: I tensorflow/core/profiler/lib/profiler_session.cc:136] Profiler session initializing.\n",
      "2021-11-08 10:38:32.383354: I tensorflow/core/profiler/lib/profiler_session.cc:155] Profiler session started.\n",
      "2021-11-08 10:38:32.693713: I tensorflow/core/profiler/lib/profiler_session.cc:71] Profiler session collecting data.\n",
      "2021-11-08 10:38:32.694343: I tensorflow/core/profiler/internal/gpu/cupti_tracer.cc:1487] CUPTI activity buffer flushed\n",
      "2021-11-08 10:38:32.826939: I tensorflow/core/profiler/internal/gpu/cupti_collector.cc:228]  GpuTracer has collected 318 callback api events and 306 activity events. \n",
      "2021-11-08 10:38:32.839132: I tensorflow/core/profiler/lib/profiler_session.cc:172] Profiler session tear down.\n",
      "2021-11-08 10:38:32.848600: I tensorflow/core/profiler/rpc/client/save_profile.cc:137] Creating directory: logs/model1-n12-k5-exp6/train/plugins/profile/2021_11_08_10_38_32\n",
      "2021-11-08 10:38:32.854983: I tensorflow/core/profiler/rpc/client/save_profile.cc:143] Dumped gzipped tool data for trace.json.gz to logs/model1-n12-k5-exp6/train/plugins/profile/2021_11_08_10_38_32/d29684dd295e.trace.json.gz\n",
      "2021-11-08 10:38:32.870029: I tensorflow/core/profiler/rpc/client/save_profile.cc:137] Creating directory: logs/model1-n12-k5-exp6/train/plugins/profile/2021_11_08_10_38_32\n",
      "2021-11-08 10:38:32.873002: I tensorflow/core/profiler/rpc/client/save_profile.cc:143] Dumped gzipped tool data for memory_profile.json.gz to logs/model1-n12-k5-exp6/train/plugins/profile/2021_11_08_10_38_32/d29684dd295e.memory_profile.json.gz\n",
      "2021-11-08 10:38:32.873906: I tensorflow/core/profiler/rpc/client/capture_profile.cc:251] Creating directory: logs/model1-n12-k5-exp6/train/plugins/profile/2021_11_08_10_38_32Dumped tool data for xplane.pb to logs/model1-n12-k5-exp6/train/plugins/profile/2021_11_08_10_38_32/d29684dd295e.xplane.pb\n",
      "Dumped tool data for overview_page.pb to logs/model1-n12-k5-exp6/train/plugins/profile/2021_11_08_10_38_32/d29684dd295e.overview_page.pb\n",
      "Dumped tool data for input_pipeline.pb to logs/model1-n12-k5-exp6/train/plugins/profile/2021_11_08_10_38_32/d29684dd295e.input_pipeline.pb\n",
      "Dumped tool data for tensorflow_stats.pb to logs/model1-n12-k5-exp6/train/plugins/profile/2021_11_08_10_38_32/d29684dd295e.tensorflow_stats.pb\n",
      "Dumped tool data for kernel_stats.pb to logs/model1-n12-k5-exp6/train/plugins/profile/2021_11_08_10_38_32/d29684dd295e.kernel_stats.pb\n",
      "\n"
     ]
    },
    {
     "name": "stdout",
     "output_type": "stream",
     "text": [
      "Epoch 00021: early stopping\n",
      "model1-exp6\n"
     ]
    },
    {
     "name": "stderr",
     "output_type": "stream",
     "text": [
      "2021-11-08 10:39:19.523080: I tensorflow/core/profiler/lib/profiler_session.cc:136] Profiler session initializing.\n",
      "2021-11-08 10:39:19.523142: I tensorflow/core/profiler/lib/profiler_session.cc:155] Profiler session started.\n",
      "2021-11-08 10:39:19.669737: I tensorflow/core/profiler/lib/profiler_session.cc:172] Profiler session tear down.\n",
      "2021-11-08 10:39:19.670021: I tensorflow/core/profiler/internal/gpu/cupti_tracer.cc:1487] CUPTI activity buffer flushed\n",
      "2021-11-08 10:39:22.536489: I tensorflow/core/profiler/lib/profiler_session.cc:136] Profiler session initializing.\n",
      "2021-11-08 10:39:22.536541: I tensorflow/core/profiler/lib/profiler_session.cc:155] Profiler session started.\n",
      "2021-11-08 10:39:22.859781: I tensorflow/core/profiler/lib/profiler_session.cc:71] Profiler session collecting data.\n",
      "2021-11-08 10:39:22.860386: I tensorflow/core/profiler/internal/gpu/cupti_tracer.cc:1487] CUPTI activity buffer flushed\n",
      "2021-11-08 10:39:22.993509: I tensorflow/core/profiler/internal/gpu/cupti_collector.cc:228]  GpuTracer has collected 369 callback api events and 357 activity events. \n",
      "2021-11-08 10:39:23.007170: I tensorflow/core/profiler/lib/profiler_session.cc:172] Profiler session tear down.\n",
      "2021-11-08 10:39:23.018014: I tensorflow/core/profiler/rpc/client/save_profile.cc:137] Creating directory: logs/model2-n12-k5-exp6/train/plugins/profile/2021_11_08_10_39_23\n",
      "2021-11-08 10:39:23.025731: I tensorflow/core/profiler/rpc/client/save_profile.cc:143] Dumped gzipped tool data for trace.json.gz to logs/model2-n12-k5-exp6/train/plugins/profile/2021_11_08_10_39_23/d29684dd295e.trace.json.gz\n",
      "2021-11-08 10:39:23.042999: I tensorflow/core/profiler/rpc/client/save_profile.cc:137] Creating directory: logs/model2-n12-k5-exp6/train/plugins/profile/2021_11_08_10_39_23\n",
      "2021-11-08 10:39:23.046481: I tensorflow/core/profiler/rpc/client/save_profile.cc:143] Dumped gzipped tool data for memory_profile.json.gz to logs/model2-n12-k5-exp6/train/plugins/profile/2021_11_08_10_39_23/d29684dd295e.memory_profile.json.gz\n",
      "2021-11-08 10:39:23.047382: I tensorflow/core/profiler/rpc/client/capture_profile.cc:251] Creating directory: logs/model2-n12-k5-exp6/train/plugins/profile/2021_11_08_10_39_23Dumped tool data for xplane.pb to logs/model2-n12-k5-exp6/train/plugins/profile/2021_11_08_10_39_23/d29684dd295e.xplane.pb\n",
      "Dumped tool data for overview_page.pb to logs/model2-n12-k5-exp6/train/plugins/profile/2021_11_08_10_39_23/d29684dd295e.overview_page.pb\n",
      "Dumped tool data for input_pipeline.pb to logs/model2-n12-k5-exp6/train/plugins/profile/2021_11_08_10_39_23/d29684dd295e.input_pipeline.pb\n",
      "Dumped tool data for tensorflow_stats.pb to logs/model2-n12-k5-exp6/train/plugins/profile/2021_11_08_10_39_23/d29684dd295e.tensorflow_stats.pb\n",
      "Dumped tool data for kernel_stats.pb to logs/model2-n12-k5-exp6/train/plugins/profile/2021_11_08_10_39_23/d29684dd295e.kernel_stats.pb\n",
      "\n"
     ]
    },
    {
     "name": "stdout",
     "output_type": "stream",
     "text": [
      "Epoch 00014: early stopping\n",
      "model2-exp6\n"
     ]
    },
    {
     "name": "stderr",
     "output_type": "stream",
     "text": [
      "2021-11-08 10:39:58.622447: I tensorflow/core/profiler/lib/profiler_session.cc:136] Profiler session initializing.\n",
      "2021-11-08 10:39:58.622502: I tensorflow/core/profiler/lib/profiler_session.cc:155] Profiler session started.\n",
      "2021-11-08 10:39:58.768859: I tensorflow/core/profiler/lib/profiler_session.cc:172] Profiler session tear down.\n",
      "2021-11-08 10:39:58.769004: I tensorflow/core/profiler/internal/gpu/cupti_tracer.cc:1487] CUPTI activity buffer flushed\n",
      "2021-11-08 10:40:01.493651: I tensorflow/core/profiler/lib/profiler_session.cc:136] Profiler session initializing.\n",
      "2021-11-08 10:40:01.493707: I tensorflow/core/profiler/lib/profiler_session.cc:155] Profiler session started.\n",
      "2021-11-08 10:40:01.844194: I tensorflow/core/profiler/lib/profiler_session.cc:71] Profiler session collecting data.\n",
      "2021-11-08 10:40:01.844804: I tensorflow/core/profiler/internal/gpu/cupti_tracer.cc:1487] CUPTI activity buffer flushed\n",
      "2021-11-08 10:40:01.978046: I tensorflow/core/profiler/internal/gpu/cupti_collector.cc:228]  GpuTracer has collected 373 callback api events and 361 activity events. \n",
      "2021-11-08 10:40:01.990498: I tensorflow/core/profiler/lib/profiler_session.cc:172] Profiler session tear down.\n",
      "2021-11-08 10:40:02.001672: I tensorflow/core/profiler/rpc/client/save_profile.cc:137] Creating directory: logs/model3-n12-k5-exp6/train/plugins/profile/2021_11_08_10_40_01\n",
      "2021-11-08 10:40:02.009569: I tensorflow/core/profiler/rpc/client/save_profile.cc:143] Dumped gzipped tool data for trace.json.gz to logs/model3-n12-k5-exp6/train/plugins/profile/2021_11_08_10_40_01/d29684dd295e.trace.json.gz\n",
      "2021-11-08 10:40:02.027590: I tensorflow/core/profiler/rpc/client/save_profile.cc:137] Creating directory: logs/model3-n12-k5-exp6/train/plugins/profile/2021_11_08_10_40_01\n",
      "2021-11-08 10:40:02.030911: I tensorflow/core/profiler/rpc/client/save_profile.cc:143] Dumped gzipped tool data for memory_profile.json.gz to logs/model3-n12-k5-exp6/train/plugins/profile/2021_11_08_10_40_01/d29684dd295e.memory_profile.json.gz\n",
      "2021-11-08 10:40:02.031846: I tensorflow/core/profiler/rpc/client/capture_profile.cc:251] Creating directory: logs/model3-n12-k5-exp6/train/plugins/profile/2021_11_08_10_40_01Dumped tool data for xplane.pb to logs/model3-n12-k5-exp6/train/plugins/profile/2021_11_08_10_40_01/d29684dd295e.xplane.pb\n",
      "Dumped tool data for overview_page.pb to logs/model3-n12-k5-exp6/train/plugins/profile/2021_11_08_10_40_01/d29684dd295e.overview_page.pb\n",
      "Dumped tool data for input_pipeline.pb to logs/model3-n12-k5-exp6/train/plugins/profile/2021_11_08_10_40_01/d29684dd295e.input_pipeline.pb\n",
      "Dumped tool data for tensorflow_stats.pb to logs/model3-n12-k5-exp6/train/plugins/profile/2021_11_08_10_40_01/d29684dd295e.tensorflow_stats.pb\n",
      "Dumped tool data for kernel_stats.pb to logs/model3-n12-k5-exp6/train/plugins/profile/2021_11_08_10_40_01/d29684dd295e.kernel_stats.pb\n",
      "\n"
     ]
    },
    {
     "name": "stdout",
     "output_type": "stream",
     "text": [
      "Epoch 00015: early stopping\n",
      "model3-exp6\n"
     ]
    },
    {
     "name": "stderr",
     "output_type": "stream",
     "text": [
      "2021-11-08 10:40:42.256759: I tensorflow/core/profiler/lib/profiler_session.cc:136] Profiler session initializing.\n",
      "2021-11-08 10:40:42.256813: I tensorflow/core/profiler/lib/profiler_session.cc:155] Profiler session started.\n",
      "2021-11-08 10:40:42.401993: I tensorflow/core/profiler/lib/profiler_session.cc:172] Profiler session tear down.\n",
      "2021-11-08 10:40:42.402136: I tensorflow/core/profiler/internal/gpu/cupti_tracer.cc:1487] CUPTI activity buffer flushed\n",
      "2021-11-08 10:40:46.373968: I tensorflow/core/profiler/lib/profiler_session.cc:136] Profiler session initializing.\n",
      "2021-11-08 10:40:46.374026: I tensorflow/core/profiler/lib/profiler_session.cc:155] Profiler session started.\n",
      "2021-11-08 10:40:46.738487: I tensorflow/core/profiler/lib/profiler_session.cc:71] Profiler session collecting data.\n",
      "2021-11-08 10:40:46.740044: I tensorflow/core/profiler/internal/gpu/cupti_tracer.cc:1487] CUPTI activity buffer flushed\n",
      "2021-11-08 10:40:46.879247: I tensorflow/core/profiler/internal/gpu/cupti_collector.cc:228]  GpuTracer has collected 373 callback api events and 361 activity events. \n",
      "2021-11-08 10:40:46.892474: I tensorflow/core/profiler/lib/profiler_session.cc:172] Profiler session tear down.\n",
      "2021-11-08 10:40:46.904262: I tensorflow/core/profiler/rpc/client/save_profile.cc:137] Creating directory: logs/model4-n12-k5-exp6/train/plugins/profile/2021_11_08_10_40_46\n",
      "2021-11-08 10:40:46.912312: I tensorflow/core/profiler/rpc/client/save_profile.cc:143] Dumped gzipped tool data for trace.json.gz to logs/model4-n12-k5-exp6/train/plugins/profile/2021_11_08_10_40_46/d29684dd295e.trace.json.gz\n",
      "2021-11-08 10:40:46.932391: I tensorflow/core/profiler/rpc/client/save_profile.cc:137] Creating directory: logs/model4-n12-k5-exp6/train/plugins/profile/2021_11_08_10_40_46\n",
      "2021-11-08 10:40:46.935850: I tensorflow/core/profiler/rpc/client/save_profile.cc:143] Dumped gzipped tool data for memory_profile.json.gz to logs/model4-n12-k5-exp6/train/plugins/profile/2021_11_08_10_40_46/d29684dd295e.memory_profile.json.gz\n",
      "2021-11-08 10:40:46.936942: I tensorflow/core/profiler/rpc/client/capture_profile.cc:251] Creating directory: logs/model4-n12-k5-exp6/train/plugins/profile/2021_11_08_10_40_46Dumped tool data for xplane.pb to logs/model4-n12-k5-exp6/train/plugins/profile/2021_11_08_10_40_46/d29684dd295e.xplane.pb\n",
      "Dumped tool data for overview_page.pb to logs/model4-n12-k5-exp6/train/plugins/profile/2021_11_08_10_40_46/d29684dd295e.overview_page.pb\n",
      "Dumped tool data for input_pipeline.pb to logs/model4-n12-k5-exp6/train/plugins/profile/2021_11_08_10_40_46/d29684dd295e.input_pipeline.pb\n",
      "Dumped tool data for tensorflow_stats.pb to logs/model4-n12-k5-exp6/train/plugins/profile/2021_11_08_10_40_46/d29684dd295e.tensorflow_stats.pb\n",
      "Dumped tool data for kernel_stats.pb to logs/model4-n12-k5-exp6/train/plugins/profile/2021_11_08_10_40_46/d29684dd295e.kernel_stats.pb\n",
      "\n"
     ]
    },
    {
     "name": "stdout",
     "output_type": "stream",
     "text": [
      "Epoch 00017: early stopping\n",
      "model4-exp6\n"
     ]
    },
    {
     "name": "stderr",
     "output_type": "stream",
     "text": [
      "2021-11-08 10:41:31.039850: I tensorflow/core/profiler/lib/profiler_session.cc:136] Profiler session initializing.\n",
      "2021-11-08 10:41:31.039906: I tensorflow/core/profiler/lib/profiler_session.cc:155] Profiler session started.\n",
      "2021-11-08 10:41:31.200898: I tensorflow/core/profiler/lib/profiler_session.cc:172] Profiler session tear down.\n",
      "2021-11-08 10:41:31.201038: I tensorflow/core/profiler/internal/gpu/cupti_tracer.cc:1487] CUPTI activity buffer flushed\n",
      "2021-11-08 10:41:34.181596: I tensorflow/core/profiler/lib/profiler_session.cc:136] Profiler session initializing.\n",
      "2021-11-08 10:41:34.181652: I tensorflow/core/profiler/lib/profiler_session.cc:155] Profiler session started.\n",
      "2021-11-08 10:41:34.532575: I tensorflow/core/profiler/lib/profiler_session.cc:71] Profiler session collecting data.\n",
      "2021-11-08 10:41:34.533379: I tensorflow/core/profiler/internal/gpu/cupti_tracer.cc:1487] CUPTI activity buffer flushed\n",
      "2021-11-08 10:41:34.670042: I tensorflow/core/profiler/internal/gpu/cupti_collector.cc:228]  GpuTracer has collected 373 callback api events and 361 activity events. \n",
      "2021-11-08 10:41:34.683025: I tensorflow/core/profiler/lib/profiler_session.cc:172] Profiler session tear down.\n",
      "2021-11-08 10:41:34.694913: I tensorflow/core/profiler/rpc/client/save_profile.cc:137] Creating directory: logs/model5-n12-k5-exp6/train/plugins/profile/2021_11_08_10_41_34\n",
      "2021-11-08 10:41:34.702907: I tensorflow/core/profiler/rpc/client/save_profile.cc:143] Dumped gzipped tool data for trace.json.gz to logs/model5-n12-k5-exp6/train/plugins/profile/2021_11_08_10_41_34/d29684dd295e.trace.json.gz\n",
      "2021-11-08 10:41:34.721839: I tensorflow/core/profiler/rpc/client/save_profile.cc:137] Creating directory: logs/model5-n12-k5-exp6/train/plugins/profile/2021_11_08_10_41_34\n",
      "2021-11-08 10:41:34.725163: I tensorflow/core/profiler/rpc/client/save_profile.cc:143] Dumped gzipped tool data for memory_profile.json.gz to logs/model5-n12-k5-exp6/train/plugins/profile/2021_11_08_10_41_34/d29684dd295e.memory_profile.json.gz\n",
      "2021-11-08 10:41:34.726301: I tensorflow/core/profiler/rpc/client/capture_profile.cc:251] Creating directory: logs/model5-n12-k5-exp6/train/plugins/profile/2021_11_08_10_41_34Dumped tool data for xplane.pb to logs/model5-n12-k5-exp6/train/plugins/profile/2021_11_08_10_41_34/d29684dd295e.xplane.pb\n",
      "Dumped tool data for overview_page.pb to logs/model5-n12-k5-exp6/train/plugins/profile/2021_11_08_10_41_34/d29684dd295e.overview_page.pb\n",
      "Dumped tool data for input_pipeline.pb to logs/model5-n12-k5-exp6/train/plugins/profile/2021_11_08_10_41_34/d29684dd295e.input_pipeline.pb\n",
      "Dumped tool data for tensorflow_stats.pb to logs/model5-n12-k5-exp6/train/plugins/profile/2021_11_08_10_41_34/d29684dd295e.tensorflow_stats.pb\n",
      "Dumped tool data for kernel_stats.pb to logs/model5-n12-k5-exp6/train/plugins/profile/2021_11_08_10_41_34/d29684dd295e.kernel_stats.pb\n",
      "\n"
     ]
    },
    {
     "name": "stdout",
     "output_type": "stream",
     "text": [
      "Epoch 00025: early stopping\n",
      "model5-exp6\n"
     ]
    },
    {
     "name": "stderr",
     "output_type": "stream",
     "text": [
      "2021-11-08 10:42:32.897862: I tensorflow/core/profiler/lib/profiler_session.cc:136] Profiler session initializing.\n",
      "2021-11-08 10:42:32.897924: I tensorflow/core/profiler/lib/profiler_session.cc:155] Profiler session started.\n",
      "2021-11-08 10:42:33.063015: I tensorflow/core/profiler/lib/profiler_session.cc:172] Profiler session tear down.\n",
      "2021-11-08 10:42:33.063171: I tensorflow/core/profiler/internal/gpu/cupti_tracer.cc:1487] CUPTI activity buffer flushed\n",
      "2021-11-08 10:42:35.990256: I tensorflow/core/profiler/lib/profiler_session.cc:136] Profiler session initializing.\n",
      "2021-11-08 10:42:35.990313: I tensorflow/core/profiler/lib/profiler_session.cc:155] Profiler session started.\n",
      "2021-11-08 10:42:36.342465: I tensorflow/core/profiler/lib/profiler_session.cc:71] Profiler session collecting data.\n",
      "2021-11-08 10:42:36.343333: I tensorflow/core/profiler/internal/gpu/cupti_tracer.cc:1487] CUPTI activity buffer flushed\n",
      "2021-11-08 10:42:36.479564: I tensorflow/core/profiler/internal/gpu/cupti_collector.cc:228]  GpuTracer has collected 377 callback api events and 365 activity events. \n",
      "2021-11-08 10:42:36.493321: I tensorflow/core/profiler/lib/profiler_session.cc:172] Profiler session tear down.\n",
      "2021-11-08 10:42:36.505439: I tensorflow/core/profiler/rpc/client/save_profile.cc:137] Creating directory: logs/model6-n12-k5-exp6/train/plugins/profile/2021_11_08_10_42_36\n",
      "2021-11-08 10:42:36.513695: I tensorflow/core/profiler/rpc/client/save_profile.cc:143] Dumped gzipped tool data for trace.json.gz to logs/model6-n12-k5-exp6/train/plugins/profile/2021_11_08_10_42_36/d29684dd295e.trace.json.gz\n",
      "2021-11-08 10:42:36.533154: I tensorflow/core/profiler/rpc/client/save_profile.cc:137] Creating directory: logs/model6-n12-k5-exp6/train/plugins/profile/2021_11_08_10_42_36\n",
      "2021-11-08 10:42:36.536847: I tensorflow/core/profiler/rpc/client/save_profile.cc:143] Dumped gzipped tool data for memory_profile.json.gz to logs/model6-n12-k5-exp6/train/plugins/profile/2021_11_08_10_42_36/d29684dd295e.memory_profile.json.gz\n",
      "2021-11-08 10:42:36.537943: I tensorflow/core/profiler/rpc/client/capture_profile.cc:251] Creating directory: logs/model6-n12-k5-exp6/train/plugins/profile/2021_11_08_10_42_36Dumped tool data for xplane.pb to logs/model6-n12-k5-exp6/train/plugins/profile/2021_11_08_10_42_36/d29684dd295e.xplane.pb\n",
      "Dumped tool data for overview_page.pb to logs/model6-n12-k5-exp6/train/plugins/profile/2021_11_08_10_42_36/d29684dd295e.overview_page.pb\n",
      "Dumped tool data for input_pipeline.pb to logs/model6-n12-k5-exp6/train/plugins/profile/2021_11_08_10_42_36/d29684dd295e.input_pipeline.pb\n",
      "Dumped tool data for tensorflow_stats.pb to logs/model6-n12-k5-exp6/train/plugins/profile/2021_11_08_10_42_36/d29684dd295e.tensorflow_stats.pb\n",
      "Dumped tool data for kernel_stats.pb to logs/model6-n12-k5-exp6/train/plugins/profile/2021_11_08_10_42_36/d29684dd295e.kernel_stats.pb\n",
      "\n"
     ]
    },
    {
     "name": "stdout",
     "output_type": "stream",
     "text": [
      "Epoch 00013: early stopping\n",
      "model6-exp6\n"
     ]
    },
    {
     "name": "stderr",
     "output_type": "stream",
     "text": [
      "2021-11-08 10:43:07.854761: I tensorflow/core/profiler/lib/profiler_session.cc:136] Profiler session initializing.\n",
      "2021-11-08 10:43:07.854817: I tensorflow/core/profiler/lib/profiler_session.cc:155] Profiler session started.\n",
      "2021-11-08 10:43:08.005476: I tensorflow/core/profiler/lib/profiler_session.cc:172] Profiler session tear down.\n",
      "2021-11-08 10:43:08.005648: I tensorflow/core/profiler/internal/gpu/cupti_tracer.cc:1487] CUPTI activity buffer flushed\n",
      "2021-11-08 10:43:11.287040: I tensorflow/core/profiler/lib/profiler_session.cc:136] Profiler session initializing.\n",
      "2021-11-08 10:43:11.287099: I tensorflow/core/profiler/lib/profiler_session.cc:155] Profiler session started.\n",
      "2021-11-08 10:43:11.641529: I tensorflow/core/profiler/lib/profiler_session.cc:71] Profiler session collecting data.\n",
      "2021-11-08 10:43:11.642305: I tensorflow/core/profiler/internal/gpu/cupti_tracer.cc:1487] CUPTI activity buffer flushed\n",
      "2021-11-08 10:43:11.784807: I tensorflow/core/profiler/internal/gpu/cupti_collector.cc:228]  GpuTracer has collected 377 callback api events and 365 activity events. \n",
      "2021-11-08 10:43:11.810461: I tensorflow/core/profiler/lib/profiler_session.cc:172] Profiler session tear down.\n",
      "2021-11-08 10:43:11.829755: I tensorflow/core/profiler/rpc/client/save_profile.cc:137] Creating directory: logs/model7-n12-k5-exp6/train/plugins/profile/2021_11_08_10_43_11\n",
      "2021-11-08 10:43:11.843516: I tensorflow/core/profiler/rpc/client/save_profile.cc:143] Dumped gzipped tool data for trace.json.gz to logs/model7-n12-k5-exp6/train/plugins/profile/2021_11_08_10_43_11/d29684dd295e.trace.json.gz\n",
      "2021-11-08 10:43:11.882422: I tensorflow/core/profiler/rpc/client/save_profile.cc:137] Creating directory: logs/model7-n12-k5-exp6/train/plugins/profile/2021_11_08_10_43_11\n",
      "2021-11-08 10:43:11.891123: I tensorflow/core/profiler/rpc/client/save_profile.cc:143] Dumped gzipped tool data for memory_profile.json.gz to logs/model7-n12-k5-exp6/train/plugins/profile/2021_11_08_10_43_11/d29684dd295e.memory_profile.json.gz\n",
      "2021-11-08 10:43:11.892738: I tensorflow/core/profiler/rpc/client/capture_profile.cc:251] Creating directory: logs/model7-n12-k5-exp6/train/plugins/profile/2021_11_08_10_43_11Dumped tool data for xplane.pb to logs/model7-n12-k5-exp6/train/plugins/profile/2021_11_08_10_43_11/d29684dd295e.xplane.pb\n",
      "Dumped tool data for overview_page.pb to logs/model7-n12-k5-exp6/train/plugins/profile/2021_11_08_10_43_11/d29684dd295e.overview_page.pb\n",
      "Dumped tool data for input_pipeline.pb to logs/model7-n12-k5-exp6/train/plugins/profile/2021_11_08_10_43_11/d29684dd295e.input_pipeline.pb\n",
      "Dumped tool data for tensorflow_stats.pb to logs/model7-n12-k5-exp6/train/plugins/profile/2021_11_08_10_43_11/d29684dd295e.tensorflow_stats.pb\n",
      "Dumped tool data for kernel_stats.pb to logs/model7-n12-k5-exp6/train/plugins/profile/2021_11_08_10_43_11/d29684dd295e.kernel_stats.pb\n",
      "\n"
     ]
    },
    {
     "name": "stdout",
     "output_type": "stream",
     "text": [
      "Epoch 00016: early stopping\n",
      "model7-exp6\n",
      "random 7\n"
     ]
    },
    {
     "name": "stderr",
     "output_type": "stream",
     "text": [
      "2021-11-08 10:43:52.046684: I tensorflow/core/profiler/lib/profiler_session.cc:136] Profiler session initializing.\n",
      "2021-11-08 10:43:52.046746: I tensorflow/core/profiler/lib/profiler_session.cc:155] Profiler session started.\n",
      "2021-11-08 10:43:52.200877: I tensorflow/core/profiler/lib/profiler_session.cc:172] Profiler session tear down.\n",
      "2021-11-08 10:43:52.201064: I tensorflow/core/profiler/internal/gpu/cupti_tracer.cc:1487] CUPTI activity buffer flushed\n",
      "2021-11-08 10:43:54.592490: I tensorflow/core/profiler/lib/profiler_session.cc:136] Profiler session initializing.\n",
      "2021-11-08 10:43:54.592544: I tensorflow/core/profiler/lib/profiler_session.cc:155] Profiler session started.\n",
      "2021-11-08 10:43:54.911481: I tensorflow/core/profiler/lib/profiler_session.cc:71] Profiler session collecting data.\n",
      "2021-11-08 10:43:54.912030: I tensorflow/core/profiler/internal/gpu/cupti_tracer.cc:1487] CUPTI activity buffer flushed\n",
      "2021-11-08 10:43:55.046583: I tensorflow/core/profiler/internal/gpu/cupti_collector.cc:228]  GpuTracer has collected 318 callback api events and 306 activity events. \n",
      "2021-11-08 10:43:55.057162: I tensorflow/core/profiler/lib/profiler_session.cc:172] Profiler session tear down.\n",
      "2021-11-08 10:43:55.066311: I tensorflow/core/profiler/rpc/client/save_profile.cc:137] Creating directory: logs/model1-n12-k5-exp7/train/plugins/profile/2021_11_08_10_43_55\n",
      "2021-11-08 10:43:55.073197: I tensorflow/core/profiler/rpc/client/save_profile.cc:143] Dumped gzipped tool data for trace.json.gz to logs/model1-n12-k5-exp7/train/plugins/profile/2021_11_08_10_43_55/d29684dd295e.trace.json.gz\n",
      "2021-11-08 10:43:55.088181: I tensorflow/core/profiler/rpc/client/save_profile.cc:137] Creating directory: logs/model1-n12-k5-exp7/train/plugins/profile/2021_11_08_10_43_55\n",
      "2021-11-08 10:43:55.091028: I tensorflow/core/profiler/rpc/client/save_profile.cc:143] Dumped gzipped tool data for memory_profile.json.gz to logs/model1-n12-k5-exp7/train/plugins/profile/2021_11_08_10_43_55/d29684dd295e.memory_profile.json.gz\n",
      "2021-11-08 10:43:55.091940: I tensorflow/core/profiler/rpc/client/capture_profile.cc:251] Creating directory: logs/model1-n12-k5-exp7/train/plugins/profile/2021_11_08_10_43_55Dumped tool data for xplane.pb to logs/model1-n12-k5-exp7/train/plugins/profile/2021_11_08_10_43_55/d29684dd295e.xplane.pb\n",
      "Dumped tool data for overview_page.pb to logs/model1-n12-k5-exp7/train/plugins/profile/2021_11_08_10_43_55/d29684dd295e.overview_page.pb\n",
      "Dumped tool data for input_pipeline.pb to logs/model1-n12-k5-exp7/train/plugins/profile/2021_11_08_10_43_55/d29684dd295e.input_pipeline.pb\n",
      "Dumped tool data for tensorflow_stats.pb to logs/model1-n12-k5-exp7/train/plugins/profile/2021_11_08_10_43_55/d29684dd295e.tensorflow_stats.pb\n",
      "Dumped tool data for kernel_stats.pb to logs/model1-n12-k5-exp7/train/plugins/profile/2021_11_08_10_43_55/d29684dd295e.kernel_stats.pb\n",
      "\n"
     ]
    },
    {
     "name": "stdout",
     "output_type": "stream",
     "text": [
      "Epoch 00021: early stopping\n",
      "model1-exp7\n"
     ]
    },
    {
     "name": "stderr",
     "output_type": "stream",
     "text": [
      "2021-11-08 10:44:41.747450: I tensorflow/core/profiler/lib/profiler_session.cc:136] Profiler session initializing.\n",
      "2021-11-08 10:44:41.747518: I tensorflow/core/profiler/lib/profiler_session.cc:155] Profiler session started.\n",
      "2021-11-08 10:44:41.896968: I tensorflow/core/profiler/lib/profiler_session.cc:172] Profiler session tear down.\n",
      "2021-11-08 10:44:41.897110: I tensorflow/core/profiler/internal/gpu/cupti_tracer.cc:1487] CUPTI activity buffer flushed\n",
      "2021-11-08 10:44:44.572891: I tensorflow/core/profiler/lib/profiler_session.cc:136] Profiler session initializing.\n",
      "2021-11-08 10:44:44.572952: I tensorflow/core/profiler/lib/profiler_session.cc:155] Profiler session started.\n",
      "2021-11-08 10:44:44.901569: I tensorflow/core/profiler/lib/profiler_session.cc:71] Profiler session collecting data.\n",
      "2021-11-08 10:44:44.902148: I tensorflow/core/profiler/internal/gpu/cupti_tracer.cc:1487] CUPTI activity buffer flushed\n",
      "2021-11-08 10:44:45.037138: I tensorflow/core/profiler/internal/gpu/cupti_collector.cc:228]  GpuTracer has collected 369 callback api events and 357 activity events. \n",
      "2021-11-08 10:44:45.050382: I tensorflow/core/profiler/lib/profiler_session.cc:172] Profiler session tear down.\n",
      "2021-11-08 10:44:45.061218: I tensorflow/core/profiler/rpc/client/save_profile.cc:137] Creating directory: logs/model2-n12-k5-exp7/train/plugins/profile/2021_11_08_10_44_45\n",
      "2021-11-08 10:44:45.069021: I tensorflow/core/profiler/rpc/client/save_profile.cc:143] Dumped gzipped tool data for trace.json.gz to logs/model2-n12-k5-exp7/train/plugins/profile/2021_11_08_10_44_45/d29684dd295e.trace.json.gz\n",
      "2021-11-08 10:44:45.087068: I tensorflow/core/profiler/rpc/client/save_profile.cc:137] Creating directory: logs/model2-n12-k5-exp7/train/plugins/profile/2021_11_08_10_44_45\n",
      "2021-11-08 10:44:45.090201: I tensorflow/core/profiler/rpc/client/save_profile.cc:143] Dumped gzipped tool data for memory_profile.json.gz to logs/model2-n12-k5-exp7/train/plugins/profile/2021_11_08_10_44_45/d29684dd295e.memory_profile.json.gz\n",
      "2021-11-08 10:44:45.091119: I tensorflow/core/profiler/rpc/client/capture_profile.cc:251] Creating directory: logs/model2-n12-k5-exp7/train/plugins/profile/2021_11_08_10_44_45Dumped tool data for xplane.pb to logs/model2-n12-k5-exp7/train/plugins/profile/2021_11_08_10_44_45/d29684dd295e.xplane.pb\n",
      "Dumped tool data for overview_page.pb to logs/model2-n12-k5-exp7/train/plugins/profile/2021_11_08_10_44_45/d29684dd295e.overview_page.pb\n",
      "Dumped tool data for input_pipeline.pb to logs/model2-n12-k5-exp7/train/plugins/profile/2021_11_08_10_44_45/d29684dd295e.input_pipeline.pb\n",
      "Dumped tool data for tensorflow_stats.pb to logs/model2-n12-k5-exp7/train/plugins/profile/2021_11_08_10_44_45/d29684dd295e.tensorflow_stats.pb\n",
      "Dumped tool data for kernel_stats.pb to logs/model2-n12-k5-exp7/train/plugins/profile/2021_11_08_10_44_45/d29684dd295e.kernel_stats.pb\n",
      "\n"
     ]
    },
    {
     "name": "stdout",
     "output_type": "stream",
     "text": [
      "Epoch 00013: early stopping\n",
      "model2-exp7\n"
     ]
    },
    {
     "name": "stderr",
     "output_type": "stream",
     "text": [
      "2021-11-08 10:45:18.210720: I tensorflow/core/profiler/lib/profiler_session.cc:136] Profiler session initializing.\n",
      "2021-11-08 10:45:18.210784: I tensorflow/core/profiler/lib/profiler_session.cc:155] Profiler session started.\n",
      "2021-11-08 10:45:18.357264: I tensorflow/core/profiler/lib/profiler_session.cc:172] Profiler session tear down.\n",
      "2021-11-08 10:45:18.357407: I tensorflow/core/profiler/internal/gpu/cupti_tracer.cc:1487] CUPTI activity buffer flushed\n",
      "2021-11-08 10:45:22.302634: I tensorflow/core/profiler/lib/profiler_session.cc:136] Profiler session initializing.\n",
      "2021-11-08 10:45:22.302706: I tensorflow/core/profiler/lib/profiler_session.cc:155] Profiler session started.\n",
      "2021-11-08 10:45:22.662828: I tensorflow/core/profiler/lib/profiler_session.cc:71] Profiler session collecting data.\n",
      "2021-11-08 10:45:22.663795: I tensorflow/core/profiler/internal/gpu/cupti_tracer.cc:1487] CUPTI activity buffer flushed\n",
      "2021-11-08 10:45:22.806879: I tensorflow/core/profiler/internal/gpu/cupti_collector.cc:228]  GpuTracer has collected 373 callback api events and 361 activity events. \n",
      "2021-11-08 10:45:22.820443: I tensorflow/core/profiler/lib/profiler_session.cc:172] Profiler session tear down.\n",
      "2021-11-08 10:45:22.833806: I tensorflow/core/profiler/rpc/client/save_profile.cc:137] Creating directory: logs/model3-n12-k5-exp7/train/plugins/profile/2021_11_08_10_45_22\n",
      "2021-11-08 10:45:22.841568: I tensorflow/core/profiler/rpc/client/save_profile.cc:143] Dumped gzipped tool data for trace.json.gz to logs/model3-n12-k5-exp7/train/plugins/profile/2021_11_08_10_45_22/d29684dd295e.trace.json.gz\n",
      "2021-11-08 10:45:22.863186: I tensorflow/core/profiler/rpc/client/save_profile.cc:137] Creating directory: logs/model3-n12-k5-exp7/train/plugins/profile/2021_11_08_10_45_22\n",
      "2021-11-08 10:45:22.866975: I tensorflow/core/profiler/rpc/client/save_profile.cc:143] Dumped gzipped tool data for memory_profile.json.gz to logs/model3-n12-k5-exp7/train/plugins/profile/2021_11_08_10_45_22/d29684dd295e.memory_profile.json.gz\n",
      "2021-11-08 10:45:22.868171: I tensorflow/core/profiler/rpc/client/capture_profile.cc:251] Creating directory: logs/model3-n12-k5-exp7/train/plugins/profile/2021_11_08_10_45_22Dumped tool data for xplane.pb to logs/model3-n12-k5-exp7/train/plugins/profile/2021_11_08_10_45_22/d29684dd295e.xplane.pb\n",
      "Dumped tool data for overview_page.pb to logs/model3-n12-k5-exp7/train/plugins/profile/2021_11_08_10_45_22/d29684dd295e.overview_page.pb\n",
      "Dumped tool data for input_pipeline.pb to logs/model3-n12-k5-exp7/train/plugins/profile/2021_11_08_10_45_22/d29684dd295e.input_pipeline.pb\n",
      "Dumped tool data for tensorflow_stats.pb to logs/model3-n12-k5-exp7/train/plugins/profile/2021_11_08_10_45_22/d29684dd295e.tensorflow_stats.pb\n",
      "Dumped tool data for kernel_stats.pb to logs/model3-n12-k5-exp7/train/plugins/profile/2021_11_08_10_45_22/d29684dd295e.kernel_stats.pb\n",
      "\n"
     ]
    },
    {
     "name": "stdout",
     "output_type": "stream",
     "text": [
      "Epoch 00014: early stopping\n",
      "model3-exp7\n"
     ]
    },
    {
     "name": "stderr",
     "output_type": "stream",
     "text": [
      "2021-11-08 10:46:00.750662: I tensorflow/core/profiler/lib/profiler_session.cc:136] Profiler session initializing.\n",
      "2021-11-08 10:46:00.750725: I tensorflow/core/profiler/lib/profiler_session.cc:155] Profiler session started.\n",
      "2021-11-08 10:46:00.908615: I tensorflow/core/profiler/lib/profiler_session.cc:172] Profiler session tear down.\n",
      "2021-11-08 10:46:00.908781: I tensorflow/core/profiler/internal/gpu/cupti_tracer.cc:1487] CUPTI activity buffer flushed\n",
      "2021-11-08 10:46:03.716249: I tensorflow/core/profiler/lib/profiler_session.cc:136] Profiler session initializing.\n",
      "2021-11-08 10:46:03.716305: I tensorflow/core/profiler/lib/profiler_session.cc:155] Profiler session started.\n",
      "2021-11-08 10:46:04.070503: I tensorflow/core/profiler/lib/profiler_session.cc:71] Profiler session collecting data.\n",
      "2021-11-08 10:46:04.071265: I tensorflow/core/profiler/internal/gpu/cupti_tracer.cc:1487] CUPTI activity buffer flushed\n",
      "2021-11-08 10:46:04.208329: I tensorflow/core/profiler/internal/gpu/cupti_collector.cc:228]  GpuTracer has collected 373 callback api events and 361 activity events. \n",
      "2021-11-08 10:46:04.221167: I tensorflow/core/profiler/lib/profiler_session.cc:172] Profiler session tear down.\n",
      "2021-11-08 10:46:04.232808: I tensorflow/core/profiler/rpc/client/save_profile.cc:137] Creating directory: logs/model4-n12-k5-exp7/train/plugins/profile/2021_11_08_10_46_04\n",
      "2021-11-08 10:46:04.240549: I tensorflow/core/profiler/rpc/client/save_profile.cc:143] Dumped gzipped tool data for trace.json.gz to logs/model4-n12-k5-exp7/train/plugins/profile/2021_11_08_10_46_04/d29684dd295e.trace.json.gz\n",
      "2021-11-08 10:46:04.259934: I tensorflow/core/profiler/rpc/client/save_profile.cc:137] Creating directory: logs/model4-n12-k5-exp7/train/plugins/profile/2021_11_08_10_46_04\n",
      "2021-11-08 10:46:04.263484: I tensorflow/core/profiler/rpc/client/save_profile.cc:143] Dumped gzipped tool data for memory_profile.json.gz to logs/model4-n12-k5-exp7/train/plugins/profile/2021_11_08_10_46_04/d29684dd295e.memory_profile.json.gz\n",
      "2021-11-08 10:46:04.264571: I tensorflow/core/profiler/rpc/client/capture_profile.cc:251] Creating directory: logs/model4-n12-k5-exp7/train/plugins/profile/2021_11_08_10_46_04Dumped tool data for xplane.pb to logs/model4-n12-k5-exp7/train/plugins/profile/2021_11_08_10_46_04/d29684dd295e.xplane.pb\n",
      "Dumped tool data for overview_page.pb to logs/model4-n12-k5-exp7/train/plugins/profile/2021_11_08_10_46_04/d29684dd295e.overview_page.pb\n",
      "Dumped tool data for input_pipeline.pb to logs/model4-n12-k5-exp7/train/plugins/profile/2021_11_08_10_46_04/d29684dd295e.input_pipeline.pb\n",
      "Dumped tool data for tensorflow_stats.pb to logs/model4-n12-k5-exp7/train/plugins/profile/2021_11_08_10_46_04/d29684dd295e.tensorflow_stats.pb\n",
      "Dumped tool data for kernel_stats.pb to logs/model4-n12-k5-exp7/train/plugins/profile/2021_11_08_10_46_04/d29684dd295e.kernel_stats.pb\n",
      "\n"
     ]
    },
    {
     "name": "stdout",
     "output_type": "stream",
     "text": [
      "Epoch 00014: early stopping\n",
      "model4-exp7\n"
     ]
    },
    {
     "name": "stderr",
     "output_type": "stream",
     "text": [
      "2021-11-08 10:46:40.652684: I tensorflow/core/profiler/lib/profiler_session.cc:136] Profiler session initializing.\n",
      "2021-11-08 10:46:40.652740: I tensorflow/core/profiler/lib/profiler_session.cc:155] Profiler session started.\n",
      "2021-11-08 10:46:40.816749: I tensorflow/core/profiler/lib/profiler_session.cc:172] Profiler session tear down.\n",
      "2021-11-08 10:46:40.816949: I tensorflow/core/profiler/internal/gpu/cupti_tracer.cc:1487] CUPTI activity buffer flushed\n",
      "2021-11-08 10:46:43.682033: I tensorflow/core/profiler/lib/profiler_session.cc:136] Profiler session initializing.\n",
      "2021-11-08 10:46:43.682088: I tensorflow/core/profiler/lib/profiler_session.cc:155] Profiler session started.\n",
      "2021-11-08 10:46:44.027451: I tensorflow/core/profiler/lib/profiler_session.cc:71] Profiler session collecting data.\n",
      "2021-11-08 10:46:44.028288: I tensorflow/core/profiler/internal/gpu/cupti_tracer.cc:1487] CUPTI activity buffer flushed\n",
      "2021-11-08 10:46:44.164640: I tensorflow/core/profiler/internal/gpu/cupti_collector.cc:228]  GpuTracer has collected 373 callback api events and 361 activity events. \n",
      "2021-11-08 10:46:44.177474: I tensorflow/core/profiler/lib/profiler_session.cc:172] Profiler session tear down.\n",
      "2021-11-08 10:46:44.188902: I tensorflow/core/profiler/rpc/client/save_profile.cc:137] Creating directory: logs/model5-n12-k5-exp7/train/plugins/profile/2021_11_08_10_46_44\n",
      "2021-11-08 10:46:44.196791: I tensorflow/core/profiler/rpc/client/save_profile.cc:143] Dumped gzipped tool data for trace.json.gz to logs/model5-n12-k5-exp7/train/plugins/profile/2021_11_08_10_46_44/d29684dd295e.trace.json.gz\n",
      "2021-11-08 10:46:44.215475: I tensorflow/core/profiler/rpc/client/save_profile.cc:137] Creating directory: logs/model5-n12-k5-exp7/train/plugins/profile/2021_11_08_10_46_44\n",
      "2021-11-08 10:46:44.218801: I tensorflow/core/profiler/rpc/client/save_profile.cc:143] Dumped gzipped tool data for memory_profile.json.gz to logs/model5-n12-k5-exp7/train/plugins/profile/2021_11_08_10_46_44/d29684dd295e.memory_profile.json.gz\n",
      "2021-11-08 10:46:44.219915: I tensorflow/core/profiler/rpc/client/capture_profile.cc:251] Creating directory: logs/model5-n12-k5-exp7/train/plugins/profile/2021_11_08_10_46_44Dumped tool data for xplane.pb to logs/model5-n12-k5-exp7/train/plugins/profile/2021_11_08_10_46_44/d29684dd295e.xplane.pb\n",
      "Dumped tool data for overview_page.pb to logs/model5-n12-k5-exp7/train/plugins/profile/2021_11_08_10_46_44/d29684dd295e.overview_page.pb\n",
      "Dumped tool data for input_pipeline.pb to logs/model5-n12-k5-exp7/train/plugins/profile/2021_11_08_10_46_44/d29684dd295e.input_pipeline.pb\n",
      "Dumped tool data for tensorflow_stats.pb to logs/model5-n12-k5-exp7/train/plugins/profile/2021_11_08_10_46_44/d29684dd295e.tensorflow_stats.pb\n",
      "Dumped tool data for kernel_stats.pb to logs/model5-n12-k5-exp7/train/plugins/profile/2021_11_08_10_46_44/d29684dd295e.kernel_stats.pb\n",
      "\n"
     ]
    },
    {
     "name": "stdout",
     "output_type": "stream",
     "text": [
      "Epoch 00022: early stopping\n",
      "model5-exp7\n"
     ]
    },
    {
     "name": "stderr",
     "output_type": "stream",
     "text": [
      "2021-11-08 10:47:35.500264: I tensorflow/core/profiler/lib/profiler_session.cc:136] Profiler session initializing.\n",
      "2021-11-08 10:47:35.500321: I tensorflow/core/profiler/lib/profiler_session.cc:155] Profiler session started.\n",
      "2021-11-08 10:47:35.653477: I tensorflow/core/profiler/lib/profiler_session.cc:172] Profiler session tear down.\n",
      "2021-11-08 10:47:35.653639: I tensorflow/core/profiler/internal/gpu/cupti_tracer.cc:1487] CUPTI activity buffer flushed\n",
      "2021-11-08 10:47:39.012909: I tensorflow/core/profiler/lib/profiler_session.cc:136] Profiler session initializing.\n",
      "2021-11-08 10:47:39.012968: I tensorflow/core/profiler/lib/profiler_session.cc:155] Profiler session started.\n",
      "2021-11-08 10:47:39.359129: I tensorflow/core/profiler/lib/profiler_session.cc:71] Profiler session collecting data.\n",
      "2021-11-08 10:47:39.359847: I tensorflow/core/profiler/internal/gpu/cupti_tracer.cc:1487] CUPTI activity buffer flushed\n",
      "2021-11-08 10:47:39.493542: I tensorflow/core/profiler/internal/gpu/cupti_collector.cc:228]  GpuTracer has collected 377 callback api events and 365 activity events. \n",
      "2021-11-08 10:47:39.506359: I tensorflow/core/profiler/lib/profiler_session.cc:172] Profiler session tear down.\n",
      "2021-11-08 10:47:39.518015: I tensorflow/core/profiler/rpc/client/save_profile.cc:137] Creating directory: logs/model6-n12-k5-exp7/train/plugins/profile/2021_11_08_10_47_39\n",
      "2021-11-08 10:47:39.526016: I tensorflow/core/profiler/rpc/client/save_profile.cc:143] Dumped gzipped tool data for trace.json.gz to logs/model6-n12-k5-exp7/train/plugins/profile/2021_11_08_10_47_39/d29684dd295e.trace.json.gz\n",
      "2021-11-08 10:47:39.544508: I tensorflow/core/profiler/rpc/client/save_profile.cc:137] Creating directory: logs/model6-n12-k5-exp7/train/plugins/profile/2021_11_08_10_47_39\n",
      "2021-11-08 10:47:39.548098: I tensorflow/core/profiler/rpc/client/save_profile.cc:143] Dumped gzipped tool data for memory_profile.json.gz to logs/model6-n12-k5-exp7/train/plugins/profile/2021_11_08_10_47_39/d29684dd295e.memory_profile.json.gz\n",
      "2021-11-08 10:47:39.549148: I tensorflow/core/profiler/rpc/client/capture_profile.cc:251] Creating directory: logs/model6-n12-k5-exp7/train/plugins/profile/2021_11_08_10_47_39Dumped tool data for xplane.pb to logs/model6-n12-k5-exp7/train/plugins/profile/2021_11_08_10_47_39/d29684dd295e.xplane.pb\n",
      "Dumped tool data for overview_page.pb to logs/model6-n12-k5-exp7/train/plugins/profile/2021_11_08_10_47_39/d29684dd295e.overview_page.pb\n",
      "Dumped tool data for input_pipeline.pb to logs/model6-n12-k5-exp7/train/plugins/profile/2021_11_08_10_47_39/d29684dd295e.input_pipeline.pb\n",
      "Dumped tool data for tensorflow_stats.pb to logs/model6-n12-k5-exp7/train/plugins/profile/2021_11_08_10_47_39/d29684dd295e.tensorflow_stats.pb\n",
      "Dumped tool data for kernel_stats.pb to logs/model6-n12-k5-exp7/train/plugins/profile/2021_11_08_10_47_39/d29684dd295e.kernel_stats.pb\n",
      "\n"
     ]
    },
    {
     "name": "stdout",
     "output_type": "stream",
     "text": [
      "Epoch 00013: early stopping\n",
      "model6-exp7\n"
     ]
    },
    {
     "name": "stderr",
     "output_type": "stream",
     "text": [
      "2021-11-08 10:48:10.800789: I tensorflow/core/profiler/lib/profiler_session.cc:136] Profiler session initializing.\n",
      "2021-11-08 10:48:10.800863: I tensorflow/core/profiler/lib/profiler_session.cc:155] Profiler session started.\n",
      "2021-11-08 10:48:10.953902: I tensorflow/core/profiler/lib/profiler_session.cc:172] Profiler session tear down.\n",
      "2021-11-08 10:48:10.954120: I tensorflow/core/profiler/internal/gpu/cupti_tracer.cc:1487] CUPTI activity buffer flushed\n",
      "2021-11-08 10:48:13.784493: I tensorflow/core/profiler/lib/profiler_session.cc:136] Profiler session initializing.\n",
      "2021-11-08 10:48:13.784546: I tensorflow/core/profiler/lib/profiler_session.cc:155] Profiler session started.\n",
      "2021-11-08 10:48:14.133002: I tensorflow/core/profiler/lib/profiler_session.cc:71] Profiler session collecting data.\n",
      "2021-11-08 10:48:14.133658: I tensorflow/core/profiler/internal/gpu/cupti_tracer.cc:1487] CUPTI activity buffer flushed\n",
      "2021-11-08 10:48:14.267402: I tensorflow/core/profiler/internal/gpu/cupti_collector.cc:228]  GpuTracer has collected 377 callback api events and 365 activity events. \n",
      "2021-11-08 10:48:14.280103: I tensorflow/core/profiler/lib/profiler_session.cc:172] Profiler session tear down.\n",
      "2021-11-08 10:48:14.291726: I tensorflow/core/profiler/rpc/client/save_profile.cc:137] Creating directory: logs/model7-n12-k5-exp7/train/plugins/profile/2021_11_08_10_48_14\n",
      "2021-11-08 10:48:14.299708: I tensorflow/core/profiler/rpc/client/save_profile.cc:143] Dumped gzipped tool data for trace.json.gz to logs/model7-n12-k5-exp7/train/plugins/profile/2021_11_08_10_48_14/d29684dd295e.trace.json.gz\n",
      "2021-11-08 10:48:14.318562: I tensorflow/core/profiler/rpc/client/save_profile.cc:137] Creating directory: logs/model7-n12-k5-exp7/train/plugins/profile/2021_11_08_10_48_14\n",
      "2021-11-08 10:48:14.322174: I tensorflow/core/profiler/rpc/client/save_profile.cc:143] Dumped gzipped tool data for memory_profile.json.gz to logs/model7-n12-k5-exp7/train/plugins/profile/2021_11_08_10_48_14/d29684dd295e.memory_profile.json.gz\n",
      "2021-11-08 10:48:14.323247: I tensorflow/core/profiler/rpc/client/capture_profile.cc:251] Creating directory: logs/model7-n12-k5-exp7/train/plugins/profile/2021_11_08_10_48_14Dumped tool data for xplane.pb to logs/model7-n12-k5-exp7/train/plugins/profile/2021_11_08_10_48_14/d29684dd295e.xplane.pb\n",
      "Dumped tool data for overview_page.pb to logs/model7-n12-k5-exp7/train/plugins/profile/2021_11_08_10_48_14/d29684dd295e.overview_page.pb\n",
      "Dumped tool data for input_pipeline.pb to logs/model7-n12-k5-exp7/train/plugins/profile/2021_11_08_10_48_14/d29684dd295e.input_pipeline.pb\n",
      "Dumped tool data for tensorflow_stats.pb to logs/model7-n12-k5-exp7/train/plugins/profile/2021_11_08_10_48_14/d29684dd295e.tensorflow_stats.pb\n",
      "Dumped tool data for kernel_stats.pb to logs/model7-n12-k5-exp7/train/plugins/profile/2021_11_08_10_48_14/d29684dd295e.kernel_stats.pb\n",
      "\n"
     ]
    },
    {
     "name": "stdout",
     "output_type": "stream",
     "text": [
      "Epoch 00015: early stopping\n",
      "model7-exp7\n",
      "random 8\n"
     ]
    },
    {
     "name": "stderr",
     "output_type": "stream",
     "text": [
      "2021-11-08 10:48:52.083530: I tensorflow/core/profiler/lib/profiler_session.cc:136] Profiler session initializing.\n",
      "2021-11-08 10:48:52.083590: I tensorflow/core/profiler/lib/profiler_session.cc:155] Profiler session started.\n",
      "2021-11-08 10:48:52.230747: I tensorflow/core/profiler/lib/profiler_session.cc:172] Profiler session tear down.\n",
      "2021-11-08 10:48:52.230921: I tensorflow/core/profiler/internal/gpu/cupti_tracer.cc:1487] CUPTI activity buffer flushed\n",
      "2021-11-08 10:48:54.791606: I tensorflow/core/profiler/lib/profiler_session.cc:136] Profiler session initializing.\n",
      "2021-11-08 10:48:54.791661: I tensorflow/core/profiler/lib/profiler_session.cc:155] Profiler session started.\n",
      "2021-11-08 10:48:55.106519: I tensorflow/core/profiler/lib/profiler_session.cc:71] Profiler session collecting data.\n",
      "2021-11-08 10:48:55.107057: I tensorflow/core/profiler/internal/gpu/cupti_tracer.cc:1487] CUPTI activity buffer flushed\n",
      "2021-11-08 10:48:55.239082: I tensorflow/core/profiler/internal/gpu/cupti_collector.cc:228]  GpuTracer has collected 318 callback api events and 306 activity events. \n",
      "2021-11-08 10:48:55.249792: I tensorflow/core/profiler/lib/profiler_session.cc:172] Profiler session tear down.\n",
      "2021-11-08 10:48:55.259374: I tensorflow/core/profiler/rpc/client/save_profile.cc:137] Creating directory: logs/model1-n12-k5-exp8/train/plugins/profile/2021_11_08_10_48_55\n",
      "2021-11-08 10:48:55.265750: I tensorflow/core/profiler/rpc/client/save_profile.cc:143] Dumped gzipped tool data for trace.json.gz to logs/model1-n12-k5-exp8/train/plugins/profile/2021_11_08_10_48_55/d29684dd295e.trace.json.gz\n",
      "2021-11-08 10:48:55.280619: I tensorflow/core/profiler/rpc/client/save_profile.cc:137] Creating directory: logs/model1-n12-k5-exp8/train/plugins/profile/2021_11_08_10_48_55\n",
      "2021-11-08 10:48:55.283419: I tensorflow/core/profiler/rpc/client/save_profile.cc:143] Dumped gzipped tool data for memory_profile.json.gz to logs/model1-n12-k5-exp8/train/plugins/profile/2021_11_08_10_48_55/d29684dd295e.memory_profile.json.gz\n",
      "2021-11-08 10:48:55.284220: I tensorflow/core/profiler/rpc/client/capture_profile.cc:251] Creating directory: logs/model1-n12-k5-exp8/train/plugins/profile/2021_11_08_10_48_55Dumped tool data for xplane.pb to logs/model1-n12-k5-exp8/train/plugins/profile/2021_11_08_10_48_55/d29684dd295e.xplane.pb\n",
      "Dumped tool data for overview_page.pb to logs/model1-n12-k5-exp8/train/plugins/profile/2021_11_08_10_48_55/d29684dd295e.overview_page.pb\n",
      "Dumped tool data for input_pipeline.pb to logs/model1-n12-k5-exp8/train/plugins/profile/2021_11_08_10_48_55/d29684dd295e.input_pipeline.pb\n",
      "Dumped tool data for tensorflow_stats.pb to logs/model1-n12-k5-exp8/train/plugins/profile/2021_11_08_10_48_55/d29684dd295e.tensorflow_stats.pb\n",
      "Dumped tool data for kernel_stats.pb to logs/model1-n12-k5-exp8/train/plugins/profile/2021_11_08_10_48_55/d29684dd295e.kernel_stats.pb\n",
      "\n"
     ]
    },
    {
     "name": "stdout",
     "output_type": "stream",
     "text": [
      "Epoch 00022: early stopping\n",
      "model1-exp8\n"
     ]
    },
    {
     "name": "stderr",
     "output_type": "stream",
     "text": [
      "2021-11-08 10:49:43.964665: I tensorflow/core/profiler/lib/profiler_session.cc:136] Profiler session initializing.\n",
      "2021-11-08 10:49:43.964721: I tensorflow/core/profiler/lib/profiler_session.cc:155] Profiler session started.\n",
      "2021-11-08 10:49:44.115427: I tensorflow/core/profiler/lib/profiler_session.cc:172] Profiler session tear down.\n",
      "2021-11-08 10:49:44.115595: I tensorflow/core/profiler/internal/gpu/cupti_tracer.cc:1487] CUPTI activity buffer flushed\n",
      "2021-11-08 10:49:48.101845: I tensorflow/core/profiler/lib/profiler_session.cc:136] Profiler session initializing.\n",
      "2021-11-08 10:49:48.101916: I tensorflow/core/profiler/lib/profiler_session.cc:155] Profiler session started.\n",
      "2021-11-08 10:49:48.527144: I tensorflow/core/profiler/lib/profiler_session.cc:71] Profiler session collecting data.\n",
      "2021-11-08 10:49:48.528546: I tensorflow/core/profiler/internal/gpu/cupti_tracer.cc:1487] CUPTI activity buffer flushed\n",
      "2021-11-08 10:49:48.668476: I tensorflow/core/profiler/internal/gpu/cupti_collector.cc:228]  GpuTracer has collected 369 callback api events and 357 activity events. \n",
      "2021-11-08 10:49:48.681466: I tensorflow/core/profiler/lib/profiler_session.cc:172] Profiler session tear down.\n",
      "2021-11-08 10:49:48.693593: I tensorflow/core/profiler/rpc/client/save_profile.cc:137] Creating directory: logs/model2-n12-k5-exp8/train/plugins/profile/2021_11_08_10_49_48\n",
      "2021-11-08 10:49:48.701604: I tensorflow/core/profiler/rpc/client/save_profile.cc:143] Dumped gzipped tool data for trace.json.gz to logs/model2-n12-k5-exp8/train/plugins/profile/2021_11_08_10_49_48/d29684dd295e.trace.json.gz\n",
      "2021-11-08 10:49:48.721630: I tensorflow/core/profiler/rpc/client/save_profile.cc:137] Creating directory: logs/model2-n12-k5-exp8/train/plugins/profile/2021_11_08_10_49_48\n",
      "2021-11-08 10:49:48.725241: I tensorflow/core/profiler/rpc/client/save_profile.cc:143] Dumped gzipped tool data for memory_profile.json.gz to logs/model2-n12-k5-exp8/train/plugins/profile/2021_11_08_10_49_48/d29684dd295e.memory_profile.json.gz\n",
      "2021-11-08 10:49:48.726374: I tensorflow/core/profiler/rpc/client/capture_profile.cc:251] Creating directory: logs/model2-n12-k5-exp8/train/plugins/profile/2021_11_08_10_49_48Dumped tool data for xplane.pb to logs/model2-n12-k5-exp8/train/plugins/profile/2021_11_08_10_49_48/d29684dd295e.xplane.pb\n",
      "Dumped tool data for overview_page.pb to logs/model2-n12-k5-exp8/train/plugins/profile/2021_11_08_10_49_48/d29684dd295e.overview_page.pb\n",
      "Dumped tool data for input_pipeline.pb to logs/model2-n12-k5-exp8/train/plugins/profile/2021_11_08_10_49_48/d29684dd295e.input_pipeline.pb\n",
      "Dumped tool data for tensorflow_stats.pb to logs/model2-n12-k5-exp8/train/plugins/profile/2021_11_08_10_49_48/d29684dd295e.tensorflow_stats.pb\n",
      "Dumped tool data for kernel_stats.pb to logs/model2-n12-k5-exp8/train/plugins/profile/2021_11_08_10_49_48/d29684dd295e.kernel_stats.pb\n",
      "\n"
     ]
    },
    {
     "name": "stdout",
     "output_type": "stream",
     "text": [
      "Epoch 00013: early stopping\n",
      "model2-exp8\n"
     ]
    },
    {
     "name": "stderr",
     "output_type": "stream",
     "text": [
      "2021-11-08 10:50:22.136405: I tensorflow/core/profiler/lib/profiler_session.cc:136] Profiler session initializing.\n",
      "2021-11-08 10:50:22.136474: I tensorflow/core/profiler/lib/profiler_session.cc:155] Profiler session started.\n",
      "2021-11-08 10:50:22.295043: I tensorflow/core/profiler/lib/profiler_session.cc:172] Profiler session tear down.\n",
      "2021-11-08 10:50:22.295212: I tensorflow/core/profiler/internal/gpu/cupti_tracer.cc:1487] CUPTI activity buffer flushed\n",
      "2021-11-08 10:50:25.043257: I tensorflow/core/profiler/lib/profiler_session.cc:136] Profiler session initializing.\n",
      "2021-11-08 10:50:25.043311: I tensorflow/core/profiler/lib/profiler_session.cc:155] Profiler session started.\n",
      "2021-11-08 10:50:25.393698: I tensorflow/core/profiler/lib/profiler_session.cc:71] Profiler session collecting data.\n",
      "2021-11-08 10:50:25.394513: I tensorflow/core/profiler/internal/gpu/cupti_tracer.cc:1487] CUPTI activity buffer flushed\n",
      "2021-11-08 10:50:25.530205: I tensorflow/core/profiler/internal/gpu/cupti_collector.cc:228]  GpuTracer has collected 373 callback api events and 361 activity events. \n",
      "2021-11-08 10:50:25.543336: I tensorflow/core/profiler/lib/profiler_session.cc:172] Profiler session tear down.\n",
      "2021-11-08 10:50:25.554885: I tensorflow/core/profiler/rpc/client/save_profile.cc:137] Creating directory: logs/model3-n12-k5-exp8/train/plugins/profile/2021_11_08_10_50_25\n",
      "2021-11-08 10:50:25.562825: I tensorflow/core/profiler/rpc/client/save_profile.cc:143] Dumped gzipped tool data for trace.json.gz to logs/model3-n12-k5-exp8/train/plugins/profile/2021_11_08_10_50_25/d29684dd295e.trace.json.gz\n",
      "2021-11-08 10:50:25.581850: I tensorflow/core/profiler/rpc/client/save_profile.cc:137] Creating directory: logs/model3-n12-k5-exp8/train/plugins/profile/2021_11_08_10_50_25\n",
      "2021-11-08 10:50:25.585162: I tensorflow/core/profiler/rpc/client/save_profile.cc:143] Dumped gzipped tool data for memory_profile.json.gz to logs/model3-n12-k5-exp8/train/plugins/profile/2021_11_08_10_50_25/d29684dd295e.memory_profile.json.gz\n",
      "2021-11-08 10:50:25.586215: I tensorflow/core/profiler/rpc/client/capture_profile.cc:251] Creating directory: logs/model3-n12-k5-exp8/train/plugins/profile/2021_11_08_10_50_25Dumped tool data for xplane.pb to logs/model3-n12-k5-exp8/train/plugins/profile/2021_11_08_10_50_25/d29684dd295e.xplane.pb\n",
      "Dumped tool data for overview_page.pb to logs/model3-n12-k5-exp8/train/plugins/profile/2021_11_08_10_50_25/d29684dd295e.overview_page.pb\n",
      "Dumped tool data for input_pipeline.pb to logs/model3-n12-k5-exp8/train/plugins/profile/2021_11_08_10_50_25/d29684dd295e.input_pipeline.pb\n",
      "Dumped tool data for tensorflow_stats.pb to logs/model3-n12-k5-exp8/train/plugins/profile/2021_11_08_10_50_25/d29684dd295e.tensorflow_stats.pb\n",
      "Dumped tool data for kernel_stats.pb to logs/model3-n12-k5-exp8/train/plugins/profile/2021_11_08_10_50_25/d29684dd295e.kernel_stats.pb\n",
      "\n"
     ]
    },
    {
     "name": "stdout",
     "output_type": "stream",
     "text": [
      "Epoch 00014: early stopping\n",
      "model3-exp8\n"
     ]
    },
    {
     "name": "stderr",
     "output_type": "stream",
     "text": [
      "2021-11-08 10:51:03.133083: I tensorflow/core/profiler/lib/profiler_session.cc:136] Profiler session initializing.\n",
      "2021-11-08 10:51:03.133137: I tensorflow/core/profiler/lib/profiler_session.cc:155] Profiler session started.\n",
      "2021-11-08 10:51:03.286543: I tensorflow/core/profiler/lib/profiler_session.cc:172] Profiler session tear down.\n",
      "2021-11-08 10:51:03.286684: I tensorflow/core/profiler/internal/gpu/cupti_tracer.cc:1487] CUPTI activity buffer flushed\n",
      "2021-11-08 10:51:06.230512: I tensorflow/core/profiler/lib/profiler_session.cc:136] Profiler session initializing.\n",
      "2021-11-08 10:51:06.230567: I tensorflow/core/profiler/lib/profiler_session.cc:155] Profiler session started.\n",
      "2021-11-08 10:51:06.570906: I tensorflow/core/profiler/lib/profiler_session.cc:71] Profiler session collecting data.\n",
      "2021-11-08 10:51:06.571632: I tensorflow/core/profiler/internal/gpu/cupti_tracer.cc:1487] CUPTI activity buffer flushed\n",
      "2021-11-08 10:51:06.709239: I tensorflow/core/profiler/internal/gpu/cupti_collector.cc:228]  GpuTracer has collected 373 callback api events and 361 activity events. \n",
      "2021-11-08 10:51:06.722560: I tensorflow/core/profiler/lib/profiler_session.cc:172] Profiler session tear down.\n",
      "2021-11-08 10:51:06.734283: I tensorflow/core/profiler/rpc/client/save_profile.cc:137] Creating directory: logs/model4-n12-k5-exp8/train/plugins/profile/2021_11_08_10_51_06\n",
      "2021-11-08 10:51:06.742171: I tensorflow/core/profiler/rpc/client/save_profile.cc:143] Dumped gzipped tool data for trace.json.gz to logs/model4-n12-k5-exp8/train/plugins/profile/2021_11_08_10_51_06/d29684dd295e.trace.json.gz\n",
      "2021-11-08 10:51:06.760640: I tensorflow/core/profiler/rpc/client/save_profile.cc:137] Creating directory: logs/model4-n12-k5-exp8/train/plugins/profile/2021_11_08_10_51_06\n",
      "2021-11-08 10:51:06.763959: I tensorflow/core/profiler/rpc/client/save_profile.cc:143] Dumped gzipped tool data for memory_profile.json.gz to logs/model4-n12-k5-exp8/train/plugins/profile/2021_11_08_10_51_06/d29684dd295e.memory_profile.json.gz\n",
      "2021-11-08 10:51:06.764989: I tensorflow/core/profiler/rpc/client/capture_profile.cc:251] Creating directory: logs/model4-n12-k5-exp8/train/plugins/profile/2021_11_08_10_51_06Dumped tool data for xplane.pb to logs/model4-n12-k5-exp8/train/plugins/profile/2021_11_08_10_51_06/d29684dd295e.xplane.pb\n",
      "Dumped tool data for overview_page.pb to logs/model4-n12-k5-exp8/train/plugins/profile/2021_11_08_10_51_06/d29684dd295e.overview_page.pb\n",
      "Dumped tool data for input_pipeline.pb to logs/model4-n12-k5-exp8/train/plugins/profile/2021_11_08_10_51_06/d29684dd295e.input_pipeline.pb\n",
      "Dumped tool data for tensorflow_stats.pb to logs/model4-n12-k5-exp8/train/plugins/profile/2021_11_08_10_51_06/d29684dd295e.tensorflow_stats.pb\n",
      "Dumped tool data for kernel_stats.pb to logs/model4-n12-k5-exp8/train/plugins/profile/2021_11_08_10_51_06/d29684dd295e.kernel_stats.pb\n",
      "\n"
     ]
    },
    {
     "name": "stdout",
     "output_type": "stream",
     "text": [
      "Epoch 00014: early stopping\n",
      "model4-exp8\n"
     ]
    },
    {
     "name": "stderr",
     "output_type": "stream",
     "text": [
      "2021-11-08 10:51:43.373091: I tensorflow/core/profiler/lib/profiler_session.cc:136] Profiler session initializing.\n",
      "2021-11-08 10:51:43.373146: I tensorflow/core/profiler/lib/profiler_session.cc:155] Profiler session started.\n",
      "2021-11-08 10:51:43.526410: I tensorflow/core/profiler/lib/profiler_session.cc:172] Profiler session tear down.\n",
      "2021-11-08 10:51:43.526567: I tensorflow/core/profiler/internal/gpu/cupti_tracer.cc:1487] CUPTI activity buffer flushed\n",
      "2021-11-08 10:51:46.356263: I tensorflow/core/profiler/lib/profiler_session.cc:136] Profiler session initializing.\n",
      "2021-11-08 10:51:46.356322: I tensorflow/core/profiler/lib/profiler_session.cc:155] Profiler session started.\n",
      "2021-11-08 10:51:46.697333: I tensorflow/core/profiler/lib/profiler_session.cc:71] Profiler session collecting data.\n",
      "2021-11-08 10:51:46.698013: I tensorflow/core/profiler/internal/gpu/cupti_tracer.cc:1487] CUPTI activity buffer flushed\n",
      "2021-11-08 10:51:46.833387: I tensorflow/core/profiler/internal/gpu/cupti_collector.cc:228]  GpuTracer has collected 373 callback api events and 361 activity events. \n",
      "2021-11-08 10:51:46.847603: I tensorflow/core/profiler/lib/profiler_session.cc:172] Profiler session tear down.\n",
      "2021-11-08 10:51:46.859072: I tensorflow/core/profiler/rpc/client/save_profile.cc:137] Creating directory: logs/model5-n12-k5-exp8/train/plugins/profile/2021_11_08_10_51_46\n",
      "2021-11-08 10:51:46.867238: I tensorflow/core/profiler/rpc/client/save_profile.cc:143] Dumped gzipped tool data for trace.json.gz to logs/model5-n12-k5-exp8/train/plugins/profile/2021_11_08_10_51_46/d29684dd295e.trace.json.gz\n",
      "2021-11-08 10:51:46.886055: I tensorflow/core/profiler/rpc/client/save_profile.cc:137] Creating directory: logs/model5-n12-k5-exp8/train/plugins/profile/2021_11_08_10_51_46\n",
      "2021-11-08 10:51:46.889628: I tensorflow/core/profiler/rpc/client/save_profile.cc:143] Dumped gzipped tool data for memory_profile.json.gz to logs/model5-n12-k5-exp8/train/plugins/profile/2021_11_08_10_51_46/d29684dd295e.memory_profile.json.gz\n",
      "2021-11-08 10:51:46.890714: I tensorflow/core/profiler/rpc/client/capture_profile.cc:251] Creating directory: logs/model5-n12-k5-exp8/train/plugins/profile/2021_11_08_10_51_46Dumped tool data for xplane.pb to logs/model5-n12-k5-exp8/train/plugins/profile/2021_11_08_10_51_46/d29684dd295e.xplane.pb\n",
      "Dumped tool data for overview_page.pb to logs/model5-n12-k5-exp8/train/plugins/profile/2021_11_08_10_51_46/d29684dd295e.overview_page.pb\n",
      "Dumped tool data for input_pipeline.pb to logs/model5-n12-k5-exp8/train/plugins/profile/2021_11_08_10_51_46/d29684dd295e.input_pipeline.pb\n",
      "Dumped tool data for tensorflow_stats.pb to logs/model5-n12-k5-exp8/train/plugins/profile/2021_11_08_10_51_46/d29684dd295e.tensorflow_stats.pb\n",
      "Dumped tool data for kernel_stats.pb to logs/model5-n12-k5-exp8/train/plugins/profile/2021_11_08_10_51_46/d29684dd295e.kernel_stats.pb\n",
      "\n"
     ]
    },
    {
     "name": "stdout",
     "output_type": "stream",
     "text": [
      "Epoch 00027: early stopping\n",
      "model5-exp8\n"
     ]
    },
    {
     "name": "stderr",
     "output_type": "stream",
     "text": [
      "2021-11-08 10:52:49.753289: I tensorflow/core/profiler/lib/profiler_session.cc:136] Profiler session initializing.\n",
      "2021-11-08 10:52:49.753344: I tensorflow/core/profiler/lib/profiler_session.cc:155] Profiler session started.\n",
      "2021-11-08 10:52:49.905710: I tensorflow/core/profiler/lib/profiler_session.cc:172] Profiler session tear down.\n",
      "2021-11-08 10:52:49.905867: I tensorflow/core/profiler/internal/gpu/cupti_tracer.cc:1487] CUPTI activity buffer flushed\n",
      "2021-11-08 10:52:52.723117: I tensorflow/core/profiler/lib/profiler_session.cc:136] Profiler session initializing.\n",
      "2021-11-08 10:52:52.723177: I tensorflow/core/profiler/lib/profiler_session.cc:155] Profiler session started.\n",
      "2021-11-08 10:52:53.071015: I tensorflow/core/profiler/lib/profiler_session.cc:71] Profiler session collecting data.\n",
      "2021-11-08 10:52:53.071727: I tensorflow/core/profiler/internal/gpu/cupti_tracer.cc:1487] CUPTI activity buffer flushed\n",
      "2021-11-08 10:52:53.205652: I tensorflow/core/profiler/internal/gpu/cupti_collector.cc:228]  GpuTracer has collected 377 callback api events and 365 activity events. \n",
      "2021-11-08 10:52:53.218796: I tensorflow/core/profiler/lib/profiler_session.cc:172] Profiler session tear down.\n",
      "2021-11-08 10:52:53.230909: I tensorflow/core/profiler/rpc/client/save_profile.cc:137] Creating directory: logs/model6-n12-k5-exp8/train/plugins/profile/2021_11_08_10_52_53\n",
      "2021-11-08 10:52:53.238933: I tensorflow/core/profiler/rpc/client/save_profile.cc:143] Dumped gzipped tool data for trace.json.gz to logs/model6-n12-k5-exp8/train/plugins/profile/2021_11_08_10_52_53/d29684dd295e.trace.json.gz\n",
      "2021-11-08 10:52:53.258062: I tensorflow/core/profiler/rpc/client/save_profile.cc:137] Creating directory: logs/model6-n12-k5-exp8/train/plugins/profile/2021_11_08_10_52_53\n",
      "2021-11-08 10:52:53.261639: I tensorflow/core/profiler/rpc/client/save_profile.cc:143] Dumped gzipped tool data for memory_profile.json.gz to logs/model6-n12-k5-exp8/train/plugins/profile/2021_11_08_10_52_53/d29684dd295e.memory_profile.json.gz\n",
      "2021-11-08 10:52:53.262618: I tensorflow/core/profiler/rpc/client/capture_profile.cc:251] Creating directory: logs/model6-n12-k5-exp8/train/plugins/profile/2021_11_08_10_52_53Dumped tool data for xplane.pb to logs/model6-n12-k5-exp8/train/plugins/profile/2021_11_08_10_52_53/d29684dd295e.xplane.pb\n",
      "Dumped tool data for overview_page.pb to logs/model6-n12-k5-exp8/train/plugins/profile/2021_11_08_10_52_53/d29684dd295e.overview_page.pb\n",
      "Dumped tool data for input_pipeline.pb to logs/model6-n12-k5-exp8/train/plugins/profile/2021_11_08_10_52_53/d29684dd295e.input_pipeline.pb\n",
      "Dumped tool data for tensorflow_stats.pb to logs/model6-n12-k5-exp8/train/plugins/profile/2021_11_08_10_52_53/d29684dd295e.tensorflow_stats.pb\n",
      "Dumped tool data for kernel_stats.pb to logs/model6-n12-k5-exp8/train/plugins/profile/2021_11_08_10_52_53/d29684dd295e.kernel_stats.pb\n",
      "\n"
     ]
    },
    {
     "name": "stdout",
     "output_type": "stream",
     "text": [
      "Epoch 00015: early stopping\n",
      "model6-exp8\n"
     ]
    },
    {
     "name": "stderr",
     "output_type": "stream",
     "text": [
      "2021-11-08 10:53:29.596556: I tensorflow/core/profiler/lib/profiler_session.cc:136] Profiler session initializing.\n",
      "2021-11-08 10:53:29.596615: I tensorflow/core/profiler/lib/profiler_session.cc:155] Profiler session started.\n",
      "2021-11-08 10:53:29.753304: I tensorflow/core/profiler/lib/profiler_session.cc:172] Profiler session tear down.\n",
      "2021-11-08 10:53:29.753475: I tensorflow/core/profiler/internal/gpu/cupti_tracer.cc:1487] CUPTI activity buffer flushed\n",
      "2021-11-08 10:53:32.637845: I tensorflow/core/profiler/lib/profiler_session.cc:136] Profiler session initializing.\n",
      "2021-11-08 10:53:32.637903: I tensorflow/core/profiler/lib/profiler_session.cc:155] Profiler session started.\n",
      "2021-11-08 10:53:32.987118: I tensorflow/core/profiler/lib/profiler_session.cc:71] Profiler session collecting data.\n",
      "2021-11-08 10:53:32.987835: I tensorflow/core/profiler/internal/gpu/cupti_tracer.cc:1487] CUPTI activity buffer flushed\n",
      "2021-11-08 10:53:33.121082: I tensorflow/core/profiler/internal/gpu/cupti_collector.cc:228]  GpuTracer has collected 377 callback api events and 365 activity events. \n",
      "2021-11-08 10:53:33.133722: I tensorflow/core/profiler/lib/profiler_session.cc:172] Profiler session tear down.\n",
      "2021-11-08 10:53:33.145351: I tensorflow/core/profiler/rpc/client/save_profile.cc:137] Creating directory: logs/model7-n12-k5-exp8/train/plugins/profile/2021_11_08_10_53_33\n",
      "2021-11-08 10:53:33.153447: I tensorflow/core/profiler/rpc/client/save_profile.cc:143] Dumped gzipped tool data for trace.json.gz to logs/model7-n12-k5-exp8/train/plugins/profile/2021_11_08_10_53_33/d29684dd295e.trace.json.gz\n",
      "2021-11-08 10:53:33.171710: I tensorflow/core/profiler/rpc/client/save_profile.cc:137] Creating directory: logs/model7-n12-k5-exp8/train/plugins/profile/2021_11_08_10_53_33\n",
      "2021-11-08 10:53:33.175306: I tensorflow/core/profiler/rpc/client/save_profile.cc:143] Dumped gzipped tool data for memory_profile.json.gz to logs/model7-n12-k5-exp8/train/plugins/profile/2021_11_08_10_53_33/d29684dd295e.memory_profile.json.gz\n",
      "2021-11-08 10:53:33.176277: I tensorflow/core/profiler/rpc/client/capture_profile.cc:251] Creating directory: logs/model7-n12-k5-exp8/train/plugins/profile/2021_11_08_10_53_33Dumped tool data for xplane.pb to logs/model7-n12-k5-exp8/train/plugins/profile/2021_11_08_10_53_33/d29684dd295e.xplane.pb\n",
      "Dumped tool data for overview_page.pb to logs/model7-n12-k5-exp8/train/plugins/profile/2021_11_08_10_53_33/d29684dd295e.overview_page.pb\n",
      "Dumped tool data for input_pipeline.pb to logs/model7-n12-k5-exp8/train/plugins/profile/2021_11_08_10_53_33/d29684dd295e.input_pipeline.pb\n",
      "Dumped tool data for tensorflow_stats.pb to logs/model7-n12-k5-exp8/train/plugins/profile/2021_11_08_10_53_33/d29684dd295e.tensorflow_stats.pb\n",
      "Dumped tool data for kernel_stats.pb to logs/model7-n12-k5-exp8/train/plugins/profile/2021_11_08_10_53_33/d29684dd295e.kernel_stats.pb\n",
      "\n"
     ]
    },
    {
     "name": "stdout",
     "output_type": "stream",
     "text": [
      "Epoch 00019: early stopping\n",
      "model7-exp8\n",
      "random 9\n"
     ]
    },
    {
     "name": "stderr",
     "output_type": "stream",
     "text": [
      "2021-11-08 10:54:20.710493: I tensorflow/core/profiler/lib/profiler_session.cc:136] Profiler session initializing.\n",
      "2021-11-08 10:54:20.710546: I tensorflow/core/profiler/lib/profiler_session.cc:155] Profiler session started.\n",
      "2021-11-08 10:54:20.855154: I tensorflow/core/profiler/lib/profiler_session.cc:172] Profiler session tear down.\n",
      "2021-11-08 10:54:20.855291: I tensorflow/core/profiler/internal/gpu/cupti_tracer.cc:1487] CUPTI activity buffer flushed\n",
      "2021-11-08 10:54:23.412054: I tensorflow/core/profiler/lib/profiler_session.cc:136] Profiler session initializing.\n",
      "2021-11-08 10:54:23.412101: I tensorflow/core/profiler/lib/profiler_session.cc:155] Profiler session started.\n",
      "2021-11-08 10:54:23.723361: I tensorflow/core/profiler/lib/profiler_session.cc:71] Profiler session collecting data.\n",
      "2021-11-08 10:54:23.723858: I tensorflow/core/profiler/internal/gpu/cupti_tracer.cc:1487] CUPTI activity buffer flushed\n",
      "2021-11-08 10:54:23.856443: I tensorflow/core/profiler/internal/gpu/cupti_collector.cc:228]  GpuTracer has collected 318 callback api events and 306 activity events. \n",
      "2021-11-08 10:54:23.866606: I tensorflow/core/profiler/lib/profiler_session.cc:172] Profiler session tear down.\n",
      "2021-11-08 10:54:23.875635: I tensorflow/core/profiler/rpc/client/save_profile.cc:137] Creating directory: logs/model1-n12-k5-exp9/train/plugins/profile/2021_11_08_10_54_23\n",
      "2021-11-08 10:54:23.882275: I tensorflow/core/profiler/rpc/client/save_profile.cc:143] Dumped gzipped tool data for trace.json.gz to logs/model1-n12-k5-exp9/train/plugins/profile/2021_11_08_10_54_23/d29684dd295e.trace.json.gz\n",
      "2021-11-08 10:54:23.896851: I tensorflow/core/profiler/rpc/client/save_profile.cc:137] Creating directory: logs/model1-n12-k5-exp9/train/plugins/profile/2021_11_08_10_54_23\n",
      "2021-11-08 10:54:23.899543: I tensorflow/core/profiler/rpc/client/save_profile.cc:143] Dumped gzipped tool data for memory_profile.json.gz to logs/model1-n12-k5-exp9/train/plugins/profile/2021_11_08_10_54_23/d29684dd295e.memory_profile.json.gz\n",
      "2021-11-08 10:54:23.900367: I tensorflow/core/profiler/rpc/client/capture_profile.cc:251] Creating directory: logs/model1-n12-k5-exp9/train/plugins/profile/2021_11_08_10_54_23Dumped tool data for xplane.pb to logs/model1-n12-k5-exp9/train/plugins/profile/2021_11_08_10_54_23/d29684dd295e.xplane.pb\n",
      "Dumped tool data for overview_page.pb to logs/model1-n12-k5-exp9/train/plugins/profile/2021_11_08_10_54_23/d29684dd295e.overview_page.pb\n",
      "Dumped tool data for input_pipeline.pb to logs/model1-n12-k5-exp9/train/plugins/profile/2021_11_08_10_54_23/d29684dd295e.input_pipeline.pb\n",
      "Dumped tool data for tensorflow_stats.pb to logs/model1-n12-k5-exp9/train/plugins/profile/2021_11_08_10_54_23/d29684dd295e.tensorflow_stats.pb\n",
      "Dumped tool data for kernel_stats.pb to logs/model1-n12-k5-exp9/train/plugins/profile/2021_11_08_10_54_23/d29684dd295e.kernel_stats.pb\n",
      "\n"
     ]
    },
    {
     "name": "stdout",
     "output_type": "stream",
     "text": [
      "Epoch 00019: early stopping\n",
      "model1-exp9\n"
     ]
    },
    {
     "name": "stderr",
     "output_type": "stream",
     "text": [
      "2021-11-08 10:55:05.645717: I tensorflow/core/profiler/lib/profiler_session.cc:136] Profiler session initializing.\n",
      "2021-11-08 10:55:05.645773: I tensorflow/core/profiler/lib/profiler_session.cc:155] Profiler session started.\n",
      "2021-11-08 10:55:05.796258: I tensorflow/core/profiler/lib/profiler_session.cc:172] Profiler session tear down.\n",
      "2021-11-08 10:55:05.796410: I tensorflow/core/profiler/internal/gpu/cupti_tracer.cc:1487] CUPTI activity buffer flushed\n",
      "2021-11-08 10:55:08.979218: I tensorflow/core/profiler/lib/profiler_session.cc:136] Profiler session initializing.\n",
      "2021-11-08 10:55:08.979273: I tensorflow/core/profiler/lib/profiler_session.cc:155] Profiler session started.\n",
      "2021-11-08 10:55:09.309541: I tensorflow/core/profiler/lib/profiler_session.cc:71] Profiler session collecting data.\n",
      "2021-11-08 10:55:09.310108: I tensorflow/core/profiler/internal/gpu/cupti_tracer.cc:1487] CUPTI activity buffer flushed\n",
      "2021-11-08 10:55:09.441812: I tensorflow/core/profiler/internal/gpu/cupti_collector.cc:228]  GpuTracer has collected 369 callback api events and 357 activity events. \n",
      "2021-11-08 10:55:09.454175: I tensorflow/core/profiler/lib/profiler_session.cc:172] Profiler session tear down.\n",
      "2021-11-08 10:55:09.464898: I tensorflow/core/profiler/rpc/client/save_profile.cc:137] Creating directory: logs/model2-n12-k5-exp9/train/plugins/profile/2021_11_08_10_55_09\n",
      "2021-11-08 10:55:09.472524: I tensorflow/core/profiler/rpc/client/save_profile.cc:143] Dumped gzipped tool data for trace.json.gz to logs/model2-n12-k5-exp9/train/plugins/profile/2021_11_08_10_55_09/d29684dd295e.trace.json.gz\n",
      "2021-11-08 10:55:09.489681: I tensorflow/core/profiler/rpc/client/save_profile.cc:137] Creating directory: logs/model2-n12-k5-exp9/train/plugins/profile/2021_11_08_10_55_09\n",
      "2021-11-08 10:55:09.492964: I tensorflow/core/profiler/rpc/client/save_profile.cc:143] Dumped gzipped tool data for memory_profile.json.gz to logs/model2-n12-k5-exp9/train/plugins/profile/2021_11_08_10_55_09/d29684dd295e.memory_profile.json.gz\n",
      "2021-11-08 10:55:09.493915: I tensorflow/core/profiler/rpc/client/capture_profile.cc:251] Creating directory: logs/model2-n12-k5-exp9/train/plugins/profile/2021_11_08_10_55_09Dumped tool data for xplane.pb to logs/model2-n12-k5-exp9/train/plugins/profile/2021_11_08_10_55_09/d29684dd295e.xplane.pb\n",
      "Dumped tool data for overview_page.pb to logs/model2-n12-k5-exp9/train/plugins/profile/2021_11_08_10_55_09/d29684dd295e.overview_page.pb\n",
      "Dumped tool data for input_pipeline.pb to logs/model2-n12-k5-exp9/train/plugins/profile/2021_11_08_10_55_09/d29684dd295e.input_pipeline.pb\n",
      "Dumped tool data for tensorflow_stats.pb to logs/model2-n12-k5-exp9/train/plugins/profile/2021_11_08_10_55_09/d29684dd295e.tensorflow_stats.pb\n",
      "Dumped tool data for kernel_stats.pb to logs/model2-n12-k5-exp9/train/plugins/profile/2021_11_08_10_55_09/d29684dd295e.kernel_stats.pb\n",
      "\n"
     ]
    },
    {
     "name": "stdout",
     "output_type": "stream",
     "text": [
      "Epoch 00014: early stopping\n",
      "model2-exp9\n"
     ]
    },
    {
     "name": "stderr",
     "output_type": "stream",
     "text": [
      "2021-11-08 10:55:45.145727: I tensorflow/core/profiler/lib/profiler_session.cc:136] Profiler session initializing.\n",
      "2021-11-08 10:55:45.145782: I tensorflow/core/profiler/lib/profiler_session.cc:155] Profiler session started.\n",
      "2021-11-08 10:55:45.292370: I tensorflow/core/profiler/lib/profiler_session.cc:172] Profiler session tear down.\n",
      "2021-11-08 10:55:45.292529: I tensorflow/core/profiler/internal/gpu/cupti_tracer.cc:1487] CUPTI activity buffer flushed\n",
      "2021-11-08 10:55:48.074687: I tensorflow/core/profiler/lib/profiler_session.cc:136] Profiler session initializing.\n",
      "2021-11-08 10:55:48.074748: I tensorflow/core/profiler/lib/profiler_session.cc:155] Profiler session started.\n",
      "2021-11-08 10:55:48.422954: I tensorflow/core/profiler/lib/profiler_session.cc:71] Profiler session collecting data.\n",
      "2021-11-08 10:55:48.423578: I tensorflow/core/profiler/internal/gpu/cupti_tracer.cc:1487] CUPTI activity buffer flushed\n",
      "2021-11-08 10:55:48.558597: I tensorflow/core/profiler/internal/gpu/cupti_collector.cc:228]  GpuTracer has collected 373 callback api events and 361 activity events. \n",
      "2021-11-08 10:55:48.572075: I tensorflow/core/profiler/lib/profiler_session.cc:172] Profiler session tear down.\n",
      "2021-11-08 10:55:48.584206: I tensorflow/core/profiler/rpc/client/save_profile.cc:137] Creating directory: logs/model3-n12-k5-exp9/train/plugins/profile/2021_11_08_10_55_48\n",
      "2021-11-08 10:55:48.592829: I tensorflow/core/profiler/rpc/client/save_profile.cc:143] Dumped gzipped tool data for trace.json.gz to logs/model3-n12-k5-exp9/train/plugins/profile/2021_11_08_10_55_48/d29684dd295e.trace.json.gz\n",
      "2021-11-08 10:55:48.611145: I tensorflow/core/profiler/rpc/client/save_profile.cc:137] Creating directory: logs/model3-n12-k5-exp9/train/plugins/profile/2021_11_08_10_55_48\n",
      "2021-11-08 10:55:48.614595: I tensorflow/core/profiler/rpc/client/save_profile.cc:143] Dumped gzipped tool data for memory_profile.json.gz to logs/model3-n12-k5-exp9/train/plugins/profile/2021_11_08_10_55_48/d29684dd295e.memory_profile.json.gz\n",
      "2021-11-08 10:55:48.615599: I tensorflow/core/profiler/rpc/client/capture_profile.cc:251] Creating directory: logs/model3-n12-k5-exp9/train/plugins/profile/2021_11_08_10_55_48Dumped tool data for xplane.pb to logs/model3-n12-k5-exp9/train/plugins/profile/2021_11_08_10_55_48/d29684dd295e.xplane.pb\n",
      "Dumped tool data for overview_page.pb to logs/model3-n12-k5-exp9/train/plugins/profile/2021_11_08_10_55_48/d29684dd295e.overview_page.pb\n",
      "Dumped tool data for input_pipeline.pb to logs/model3-n12-k5-exp9/train/plugins/profile/2021_11_08_10_55_48/d29684dd295e.input_pipeline.pb\n",
      "Dumped tool data for tensorflow_stats.pb to logs/model3-n12-k5-exp9/train/plugins/profile/2021_11_08_10_55_48/d29684dd295e.tensorflow_stats.pb\n",
      "Dumped tool data for kernel_stats.pb to logs/model3-n12-k5-exp9/train/plugins/profile/2021_11_08_10_55_48/d29684dd295e.kernel_stats.pb\n",
      "\n"
     ]
    },
    {
     "name": "stdout",
     "output_type": "stream",
     "text": [
      "Epoch 00017: early stopping\n",
      "model3-exp9\n"
     ]
    },
    {
     "name": "stderr",
     "output_type": "stream",
     "text": [
      "2021-11-08 10:56:33.753863: I tensorflow/core/profiler/lib/profiler_session.cc:136] Profiler session initializing.\n",
      "2021-11-08 10:56:33.753931: I tensorflow/core/profiler/lib/profiler_session.cc:155] Profiler session started.\n",
      "2021-11-08 10:56:33.904641: I tensorflow/core/profiler/lib/profiler_session.cc:172] Profiler session tear down.\n",
      "2021-11-08 10:56:33.904792: I tensorflow/core/profiler/internal/gpu/cupti_tracer.cc:1487] CUPTI activity buffer flushed\n",
      "2021-11-08 10:56:38.093648: I tensorflow/core/profiler/lib/profiler_session.cc:136] Profiler session initializing.\n",
      "2021-11-08 10:56:38.093707: I tensorflow/core/profiler/lib/profiler_session.cc:155] Profiler session started.\n",
      "2021-11-08 10:56:38.456078: I tensorflow/core/profiler/lib/profiler_session.cc:71] Profiler session collecting data.\n",
      "2021-11-08 10:56:38.457115: I tensorflow/core/profiler/internal/gpu/cupti_tracer.cc:1487] CUPTI activity buffer flushed\n",
      "2021-11-08 10:56:38.596560: I tensorflow/core/profiler/internal/gpu/cupti_collector.cc:228]  GpuTracer has collected 373 callback api events and 361 activity events. \n",
      "2021-11-08 10:56:38.610179: I tensorflow/core/profiler/lib/profiler_session.cc:172] Profiler session tear down.\n",
      "2021-11-08 10:56:38.622552: I tensorflow/core/profiler/rpc/client/save_profile.cc:137] Creating directory: logs/model4-n12-k5-exp9/train/plugins/profile/2021_11_08_10_56_38\n",
      "2021-11-08 10:56:38.630255: I tensorflow/core/profiler/rpc/client/save_profile.cc:143] Dumped gzipped tool data for trace.json.gz to logs/model4-n12-k5-exp9/train/plugins/profile/2021_11_08_10_56_38/d29684dd295e.trace.json.gz\n",
      "2021-11-08 10:56:38.650169: I tensorflow/core/profiler/rpc/client/save_profile.cc:137] Creating directory: logs/model4-n12-k5-exp9/train/plugins/profile/2021_11_08_10_56_38\n",
      "2021-11-08 10:56:38.653786: I tensorflow/core/profiler/rpc/client/save_profile.cc:143] Dumped gzipped tool data for memory_profile.json.gz to logs/model4-n12-k5-exp9/train/plugins/profile/2021_11_08_10_56_38/d29684dd295e.memory_profile.json.gz\n",
      "2021-11-08 10:56:38.654842: I tensorflow/core/profiler/rpc/client/capture_profile.cc:251] Creating directory: logs/model4-n12-k5-exp9/train/plugins/profile/2021_11_08_10_56_38Dumped tool data for xplane.pb to logs/model4-n12-k5-exp9/train/plugins/profile/2021_11_08_10_56_38/d29684dd295e.xplane.pb\n",
      "Dumped tool data for overview_page.pb to logs/model4-n12-k5-exp9/train/plugins/profile/2021_11_08_10_56_38/d29684dd295e.overview_page.pb\n",
      "Dumped tool data for input_pipeline.pb to logs/model4-n12-k5-exp9/train/plugins/profile/2021_11_08_10_56_38/d29684dd295e.input_pipeline.pb\n",
      "Dumped tool data for tensorflow_stats.pb to logs/model4-n12-k5-exp9/train/plugins/profile/2021_11_08_10_56_38/d29684dd295e.tensorflow_stats.pb\n",
      "Dumped tool data for kernel_stats.pb to logs/model4-n12-k5-exp9/train/plugins/profile/2021_11_08_10_56_38/d29684dd295e.kernel_stats.pb\n",
      "\n"
     ]
    },
    {
     "name": "stdout",
     "output_type": "stream",
     "text": [
      "Epoch 00014: early stopping\n",
      "model4-exp9\n"
     ]
    },
    {
     "name": "stderr",
     "output_type": "stream",
     "text": [
      "2021-11-08 10:57:15.934985: I tensorflow/core/profiler/lib/profiler_session.cc:136] Profiler session initializing.\n",
      "2021-11-08 10:57:15.935037: I tensorflow/core/profiler/lib/profiler_session.cc:155] Profiler session started.\n",
      "2021-11-08 10:57:16.093762: I tensorflow/core/profiler/lib/profiler_session.cc:172] Profiler session tear down.\n",
      "2021-11-08 10:57:16.093955: I tensorflow/core/profiler/internal/gpu/cupti_tracer.cc:1487] CUPTI activity buffer flushed\n",
      "2021-11-08 10:57:19.662831: I tensorflow/core/profiler/lib/profiler_session.cc:136] Profiler session initializing.\n",
      "2021-11-08 10:57:19.662879: I tensorflow/core/profiler/lib/profiler_session.cc:155] Profiler session started.\n",
      "2021-11-08 10:57:20.009612: I tensorflow/core/profiler/lib/profiler_session.cc:71] Profiler session collecting data.\n",
      "2021-11-08 10:57:20.010376: I tensorflow/core/profiler/internal/gpu/cupti_tracer.cc:1487] CUPTI activity buffer flushed\n",
      "2021-11-08 10:57:20.146590: I tensorflow/core/profiler/internal/gpu/cupti_collector.cc:228]  GpuTracer has collected 373 callback api events and 361 activity events. \n",
      "2021-11-08 10:57:20.159385: I tensorflow/core/profiler/lib/profiler_session.cc:172] Profiler session tear down.\n",
      "2021-11-08 10:57:20.170935: I tensorflow/core/profiler/rpc/client/save_profile.cc:137] Creating directory: logs/model5-n12-k5-exp9/train/plugins/profile/2021_11_08_10_57_20\n",
      "2021-11-08 10:57:20.178847: I tensorflow/core/profiler/rpc/client/save_profile.cc:143] Dumped gzipped tool data for trace.json.gz to logs/model5-n12-k5-exp9/train/plugins/profile/2021_11_08_10_57_20/d29684dd295e.trace.json.gz\n",
      "2021-11-08 10:57:20.198422: I tensorflow/core/profiler/rpc/client/save_profile.cc:137] Creating directory: logs/model5-n12-k5-exp9/train/plugins/profile/2021_11_08_10_57_20\n",
      "2021-11-08 10:57:20.202114: I tensorflow/core/profiler/rpc/client/save_profile.cc:143] Dumped gzipped tool data for memory_profile.json.gz to logs/model5-n12-k5-exp9/train/plugins/profile/2021_11_08_10_57_20/d29684dd295e.memory_profile.json.gz\n",
      "2021-11-08 10:57:20.203176: I tensorflow/core/profiler/rpc/client/capture_profile.cc:251] Creating directory: logs/model5-n12-k5-exp9/train/plugins/profile/2021_11_08_10_57_20Dumped tool data for xplane.pb to logs/model5-n12-k5-exp9/train/plugins/profile/2021_11_08_10_57_20/d29684dd295e.xplane.pb\n",
      "Dumped tool data for overview_page.pb to logs/model5-n12-k5-exp9/train/plugins/profile/2021_11_08_10_57_20/d29684dd295e.overview_page.pb\n",
      "Dumped tool data for input_pipeline.pb to logs/model5-n12-k5-exp9/train/plugins/profile/2021_11_08_10_57_20/d29684dd295e.input_pipeline.pb\n",
      "Dumped tool data for tensorflow_stats.pb to logs/model5-n12-k5-exp9/train/plugins/profile/2021_11_08_10_57_20/d29684dd295e.tensorflow_stats.pb\n",
      "Dumped tool data for kernel_stats.pb to logs/model5-n12-k5-exp9/train/plugins/profile/2021_11_08_10_57_20/d29684dd295e.kernel_stats.pb\n",
      "\n"
     ]
    },
    {
     "name": "stdout",
     "output_type": "stream",
     "text": [
      "Epoch 00022: early stopping\n",
      "model5-exp9\n"
     ]
    },
    {
     "name": "stderr",
     "output_type": "stream",
     "text": [
      "2021-11-08 10:58:12.369047: I tensorflow/core/profiler/lib/profiler_session.cc:136] Profiler session initializing.\n",
      "2021-11-08 10:58:12.369104: I tensorflow/core/profiler/lib/profiler_session.cc:155] Profiler session started.\n",
      "2021-11-08 10:58:12.525485: I tensorflow/core/profiler/lib/profiler_session.cc:172] Profiler session tear down.\n",
      "2021-11-08 10:58:12.525635: I tensorflow/core/profiler/internal/gpu/cupti_tracer.cc:1487] CUPTI activity buffer flushed\n",
      "2021-11-08 10:58:15.569093: I tensorflow/core/profiler/lib/profiler_session.cc:136] Profiler session initializing.\n",
      "2021-11-08 10:58:15.569162: I tensorflow/core/profiler/lib/profiler_session.cc:155] Profiler session started.\n",
      "2021-11-08 10:58:15.969376: I tensorflow/core/profiler/lib/profiler_session.cc:71] Profiler session collecting data.\n",
      "2021-11-08 10:58:15.970282: I tensorflow/core/profiler/internal/gpu/cupti_tracer.cc:1487] CUPTI activity buffer flushed\n",
      "2021-11-08 10:58:16.107527: I tensorflow/core/profiler/internal/gpu/cupti_collector.cc:228]  GpuTracer has collected 377 callback api events and 365 activity events. \n",
      "2021-11-08 10:58:16.120637: I tensorflow/core/profiler/lib/profiler_session.cc:172] Profiler session tear down.\n",
      "2021-11-08 10:58:16.132966: I tensorflow/core/profiler/rpc/client/save_profile.cc:137] Creating directory: logs/model6-n12-k5-exp9/train/plugins/profile/2021_11_08_10_58_16\n",
      "2021-11-08 10:58:16.141376: I tensorflow/core/profiler/rpc/client/save_profile.cc:143] Dumped gzipped tool data for trace.json.gz to logs/model6-n12-k5-exp9/train/plugins/profile/2021_11_08_10_58_16/d29684dd295e.trace.json.gz\n",
      "2021-11-08 10:58:16.161260: I tensorflow/core/profiler/rpc/client/save_profile.cc:137] Creating directory: logs/model6-n12-k5-exp9/train/plugins/profile/2021_11_08_10_58_16\n",
      "2021-11-08 10:58:16.165134: I tensorflow/core/profiler/rpc/client/save_profile.cc:143] Dumped gzipped tool data for memory_profile.json.gz to logs/model6-n12-k5-exp9/train/plugins/profile/2021_11_08_10_58_16/d29684dd295e.memory_profile.json.gz\n",
      "2021-11-08 10:58:16.166263: I tensorflow/core/profiler/rpc/client/capture_profile.cc:251] Creating directory: logs/model6-n12-k5-exp9/train/plugins/profile/2021_11_08_10_58_16Dumped tool data for xplane.pb to logs/model6-n12-k5-exp9/train/plugins/profile/2021_11_08_10_58_16/d29684dd295e.xplane.pb\n",
      "Dumped tool data for overview_page.pb to logs/model6-n12-k5-exp9/train/plugins/profile/2021_11_08_10_58_16/d29684dd295e.overview_page.pb\n",
      "Dumped tool data for input_pipeline.pb to logs/model6-n12-k5-exp9/train/plugins/profile/2021_11_08_10_58_16/d29684dd295e.input_pipeline.pb\n",
      "Dumped tool data for tensorflow_stats.pb to logs/model6-n12-k5-exp9/train/plugins/profile/2021_11_08_10_58_16/d29684dd295e.tensorflow_stats.pb\n",
      "Dumped tool data for kernel_stats.pb to logs/model6-n12-k5-exp9/train/plugins/profile/2021_11_08_10_58_16/d29684dd295e.kernel_stats.pb\n",
      "\n"
     ]
    },
    {
     "name": "stdout",
     "output_type": "stream",
     "text": [
      "Epoch 00015: early stopping\n",
      "model6-exp9\n"
     ]
    },
    {
     "name": "stderr",
     "output_type": "stream",
     "text": [
      "2021-11-08 10:58:52.195209: I tensorflow/core/profiler/lib/profiler_session.cc:136] Profiler session initializing.\n",
      "2021-11-08 10:58:52.195266: I tensorflow/core/profiler/lib/profiler_session.cc:155] Profiler session started.\n",
      "2021-11-08 10:58:52.346517: I tensorflow/core/profiler/lib/profiler_session.cc:172] Profiler session tear down.\n",
      "2021-11-08 10:58:52.346659: I tensorflow/core/profiler/internal/gpu/cupti_tracer.cc:1487] CUPTI activity buffer flushed\n",
      "2021-11-08 10:58:55.482467: I tensorflow/core/profiler/lib/profiler_session.cc:136] Profiler session initializing.\n",
      "2021-11-08 10:58:55.482521: I tensorflow/core/profiler/lib/profiler_session.cc:155] Profiler session started.\n",
      "2021-11-08 10:58:55.833951: I tensorflow/core/profiler/lib/profiler_session.cc:71] Profiler session collecting data.\n",
      "2021-11-08 10:58:55.834650: I tensorflow/core/profiler/internal/gpu/cupti_tracer.cc:1487] CUPTI activity buffer flushed\n",
      "2021-11-08 10:58:55.969792: I tensorflow/core/profiler/internal/gpu/cupti_collector.cc:228]  GpuTracer has collected 377 callback api events and 365 activity events. \n",
      "2021-11-08 10:58:55.983125: I tensorflow/core/profiler/lib/profiler_session.cc:172] Profiler session tear down.\n",
      "2021-11-08 10:58:55.995053: I tensorflow/core/profiler/rpc/client/save_profile.cc:137] Creating directory: logs/model7-n12-k5-exp9/train/plugins/profile/2021_11_08_10_58_55\n",
      "2021-11-08 10:58:56.003060: I tensorflow/core/profiler/rpc/client/save_profile.cc:143] Dumped gzipped tool data for trace.json.gz to logs/model7-n12-k5-exp9/train/plugins/profile/2021_11_08_10_58_55/d29684dd295e.trace.json.gz\n",
      "2021-11-08 10:58:56.022326: I tensorflow/core/profiler/rpc/client/save_profile.cc:137] Creating directory: logs/model7-n12-k5-exp9/train/plugins/profile/2021_11_08_10_58_55\n",
      "2021-11-08 10:58:56.026025: I tensorflow/core/profiler/rpc/client/save_profile.cc:143] Dumped gzipped tool data for memory_profile.json.gz to logs/model7-n12-k5-exp9/train/plugins/profile/2021_11_08_10_58_55/d29684dd295e.memory_profile.json.gz\n",
      "2021-11-08 10:58:56.027085: I tensorflow/core/profiler/rpc/client/capture_profile.cc:251] Creating directory: logs/model7-n12-k5-exp9/train/plugins/profile/2021_11_08_10_58_55Dumped tool data for xplane.pb to logs/model7-n12-k5-exp9/train/plugins/profile/2021_11_08_10_58_55/d29684dd295e.xplane.pb\n",
      "Dumped tool data for overview_page.pb to logs/model7-n12-k5-exp9/train/plugins/profile/2021_11_08_10_58_55/d29684dd295e.overview_page.pb\n",
      "Dumped tool data for input_pipeline.pb to logs/model7-n12-k5-exp9/train/plugins/profile/2021_11_08_10_58_55/d29684dd295e.input_pipeline.pb\n",
      "Dumped tool data for tensorflow_stats.pb to logs/model7-n12-k5-exp9/train/plugins/profile/2021_11_08_10_58_55/d29684dd295e.tensorflow_stats.pb\n",
      "Dumped tool data for kernel_stats.pb to logs/model7-n12-k5-exp9/train/plugins/profile/2021_11_08_10_58_55/d29684dd295e.kernel_stats.pb\n",
      "\n"
     ]
    },
    {
     "name": "stdout",
     "output_type": "stream",
     "text": [
      "Epoch 00019: early stopping\n",
      "model7-exp9\n",
      "random 10\n"
     ]
    },
    {
     "name": "stderr",
     "output_type": "stream",
     "text": [
      "2021-11-08 10:59:43.678522: I tensorflow/core/profiler/lib/profiler_session.cc:136] Profiler session initializing.\n",
      "2021-11-08 10:59:43.678576: I tensorflow/core/profiler/lib/profiler_session.cc:155] Profiler session started.\n",
      "2021-11-08 10:59:43.825846: I tensorflow/core/profiler/lib/profiler_session.cc:172] Profiler session tear down.\n",
      "2021-11-08 10:59:43.825987: I tensorflow/core/profiler/internal/gpu/cupti_tracer.cc:1487] CUPTI activity buffer flushed\n",
      "2021-11-08 10:59:46.211270: I tensorflow/core/profiler/lib/profiler_session.cc:136] Profiler session initializing.\n",
      "2021-11-08 10:59:46.211327: I tensorflow/core/profiler/lib/profiler_session.cc:155] Profiler session started.\n",
      "2021-11-08 10:59:46.522557: I tensorflow/core/profiler/lib/profiler_session.cc:71] Profiler session collecting data.\n",
      "2021-11-08 10:59:46.523158: I tensorflow/core/profiler/internal/gpu/cupti_tracer.cc:1487] CUPTI activity buffer flushed\n",
      "2021-11-08 10:59:46.655065: I tensorflow/core/profiler/internal/gpu/cupti_collector.cc:228]  GpuTracer has collected 318 callback api events and 306 activity events. \n",
      "2021-11-08 10:59:46.666038: I tensorflow/core/profiler/lib/profiler_session.cc:172] Profiler session tear down.\n",
      "2021-11-08 10:59:46.675135: I tensorflow/core/profiler/rpc/client/save_profile.cc:137] Creating directory: logs/model1-n12-k5-exp10/train/plugins/profile/2021_11_08_10_59_46\n",
      "2021-11-08 10:59:46.681447: I tensorflow/core/profiler/rpc/client/save_profile.cc:143] Dumped gzipped tool data for trace.json.gz to logs/model1-n12-k5-exp10/train/plugins/profile/2021_11_08_10_59_46/d29684dd295e.trace.json.gz\n",
      "2021-11-08 10:59:46.695648: I tensorflow/core/profiler/rpc/client/save_profile.cc:137] Creating directory: logs/model1-n12-k5-exp10/train/plugins/profile/2021_11_08_10_59_46\n",
      "2021-11-08 10:59:46.698294: I tensorflow/core/profiler/rpc/client/save_profile.cc:143] Dumped gzipped tool data for memory_profile.json.gz to logs/model1-n12-k5-exp10/train/plugins/profile/2021_11_08_10_59_46/d29684dd295e.memory_profile.json.gz\n",
      "2021-11-08 10:59:46.699101: I tensorflow/core/profiler/rpc/client/capture_profile.cc:251] Creating directory: logs/model1-n12-k5-exp10/train/plugins/profile/2021_11_08_10_59_46Dumped tool data for xplane.pb to logs/model1-n12-k5-exp10/train/plugins/profile/2021_11_08_10_59_46/d29684dd295e.xplane.pb\n",
      "Dumped tool data for overview_page.pb to logs/model1-n12-k5-exp10/train/plugins/profile/2021_11_08_10_59_46/d29684dd295e.overview_page.pb\n",
      "Dumped tool data for input_pipeline.pb to logs/model1-n12-k5-exp10/train/plugins/profile/2021_11_08_10_59_46/d29684dd295e.input_pipeline.pb\n",
      "Dumped tool data for tensorflow_stats.pb to logs/model1-n12-k5-exp10/train/plugins/profile/2021_11_08_10_59_46/d29684dd295e.tensorflow_stats.pb\n",
      "Dumped tool data for kernel_stats.pb to logs/model1-n12-k5-exp10/train/plugins/profile/2021_11_08_10_59_46/d29684dd295e.kernel_stats.pb\n",
      "\n"
     ]
    },
    {
     "name": "stdout",
     "output_type": "stream",
     "text": [
      "Epoch 00019: early stopping\n",
      "model1-exp10\n"
     ]
    },
    {
     "name": "stderr",
     "output_type": "stream",
     "text": [
      "2021-11-08 11:00:28.757306: I tensorflow/core/profiler/lib/profiler_session.cc:136] Profiler session initializing.\n",
      "2021-11-08 11:00:28.757362: I tensorflow/core/profiler/lib/profiler_session.cc:155] Profiler session started.\n",
      "2021-11-08 11:00:28.904823: I tensorflow/core/profiler/lib/profiler_session.cc:172] Profiler session tear down.\n",
      "2021-11-08 11:00:28.905028: I tensorflow/core/profiler/internal/gpu/cupti_tracer.cc:1487] CUPTI activity buffer flushed\n",
      "2021-11-08 11:00:31.554283: I tensorflow/core/profiler/lib/profiler_session.cc:136] Profiler session initializing.\n",
      "2021-11-08 11:00:31.554341: I tensorflow/core/profiler/lib/profiler_session.cc:155] Profiler session started.\n",
      "2021-11-08 11:00:31.895391: I tensorflow/core/profiler/lib/profiler_session.cc:71] Profiler session collecting data.\n",
      "2021-11-08 11:00:31.895972: I tensorflow/core/profiler/internal/gpu/cupti_tracer.cc:1487] CUPTI activity buffer flushed\n",
      "2021-11-08 11:00:32.030018: I tensorflow/core/profiler/internal/gpu/cupti_collector.cc:228]  GpuTracer has collected 369 callback api events and 357 activity events. \n",
      "2021-11-08 11:00:32.042376: I tensorflow/core/profiler/lib/profiler_session.cc:172] Profiler session tear down.\n",
      "2021-11-08 11:00:32.053242: I tensorflow/core/profiler/rpc/client/save_profile.cc:137] Creating directory: logs/model2-n12-k5-exp10/train/plugins/profile/2021_11_08_11_00_32\n",
      "2021-11-08 11:00:32.061017: I tensorflow/core/profiler/rpc/client/save_profile.cc:143] Dumped gzipped tool data for trace.json.gz to logs/model2-n12-k5-exp10/train/plugins/profile/2021_11_08_11_00_32/d29684dd295e.trace.json.gz\n",
      "2021-11-08 11:00:32.078346: I tensorflow/core/profiler/rpc/client/save_profile.cc:137] Creating directory: logs/model2-n12-k5-exp10/train/plugins/profile/2021_11_08_11_00_32\n",
      "2021-11-08 11:00:32.081648: I tensorflow/core/profiler/rpc/client/save_profile.cc:143] Dumped gzipped tool data for memory_profile.json.gz to logs/model2-n12-k5-exp10/train/plugins/profile/2021_11_08_11_00_32/d29684dd295e.memory_profile.json.gz\n",
      "2021-11-08 11:00:32.082535: I tensorflow/core/profiler/rpc/client/capture_profile.cc:251] Creating directory: logs/model2-n12-k5-exp10/train/plugins/profile/2021_11_08_11_00_32Dumped tool data for xplane.pb to logs/model2-n12-k5-exp10/train/plugins/profile/2021_11_08_11_00_32/d29684dd295e.xplane.pb\n",
      "Dumped tool data for overview_page.pb to logs/model2-n12-k5-exp10/train/plugins/profile/2021_11_08_11_00_32/d29684dd295e.overview_page.pb\n",
      "Dumped tool data for input_pipeline.pb to logs/model2-n12-k5-exp10/train/plugins/profile/2021_11_08_11_00_32/d29684dd295e.input_pipeline.pb\n",
      "Dumped tool data for tensorflow_stats.pb to logs/model2-n12-k5-exp10/train/plugins/profile/2021_11_08_11_00_32/d29684dd295e.tensorflow_stats.pb\n",
      "Dumped tool data for kernel_stats.pb to logs/model2-n12-k5-exp10/train/plugins/profile/2021_11_08_11_00_32/d29684dd295e.kernel_stats.pb\n",
      "\n"
     ]
    },
    {
     "name": "stdout",
     "output_type": "stream",
     "text": [
      "Epoch 00012: early stopping\n",
      "model2-exp10\n"
     ]
    },
    {
     "name": "stderr",
     "output_type": "stream",
     "text": [
      "2021-11-08 11:01:03.357320: I tensorflow/core/profiler/lib/profiler_session.cc:136] Profiler session initializing.\n",
      "2021-11-08 11:01:03.357377: I tensorflow/core/profiler/lib/profiler_session.cc:155] Profiler session started.\n",
      "2021-11-08 11:01:03.504609: I tensorflow/core/profiler/lib/profiler_session.cc:172] Profiler session tear down.\n",
      "2021-11-08 11:01:03.504776: I tensorflow/core/profiler/internal/gpu/cupti_tracer.cc:1487] CUPTI activity buffer flushed\n",
      "2021-11-08 11:01:07.380744: I tensorflow/core/profiler/lib/profiler_session.cc:136] Profiler session initializing.\n",
      "2021-11-08 11:01:07.380800: I tensorflow/core/profiler/lib/profiler_session.cc:155] Profiler session started.\n",
      "2021-11-08 11:01:07.733531: I tensorflow/core/profiler/lib/profiler_session.cc:71] Profiler session collecting data.\n",
      "2021-11-08 11:01:07.734577: I tensorflow/core/profiler/internal/gpu/cupti_tracer.cc:1487] CUPTI activity buffer flushed\n",
      "2021-11-08 11:01:07.876724: I tensorflow/core/profiler/internal/gpu/cupti_collector.cc:228]  GpuTracer has collected 373 callback api events and 361 activity events. \n",
      "2021-11-08 11:01:07.890323: I tensorflow/core/profiler/lib/profiler_session.cc:172] Profiler session tear down.\n",
      "2021-11-08 11:01:07.902652: I tensorflow/core/profiler/rpc/client/save_profile.cc:137] Creating directory: logs/model3-n12-k5-exp10/train/plugins/profile/2021_11_08_11_01_07\n",
      "2021-11-08 11:01:07.910291: I tensorflow/core/profiler/rpc/client/save_profile.cc:143] Dumped gzipped tool data for trace.json.gz to logs/model3-n12-k5-exp10/train/plugins/profile/2021_11_08_11_01_07/d29684dd295e.trace.json.gz\n",
      "2021-11-08 11:01:07.931400: I tensorflow/core/profiler/rpc/client/save_profile.cc:137] Creating directory: logs/model3-n12-k5-exp10/train/plugins/profile/2021_11_08_11_01_07\n",
      "2021-11-08 11:01:07.935003: I tensorflow/core/profiler/rpc/client/save_profile.cc:143] Dumped gzipped tool data for memory_profile.json.gz to logs/model3-n12-k5-exp10/train/plugins/profile/2021_11_08_11_01_07/d29684dd295e.memory_profile.json.gz\n",
      "2021-11-08 11:01:07.936118: I tensorflow/core/profiler/rpc/client/capture_profile.cc:251] Creating directory: logs/model3-n12-k5-exp10/train/plugins/profile/2021_11_08_11_01_07Dumped tool data for xplane.pb to logs/model3-n12-k5-exp10/train/plugins/profile/2021_11_08_11_01_07/d29684dd295e.xplane.pb\n",
      "Dumped tool data for overview_page.pb to logs/model3-n12-k5-exp10/train/plugins/profile/2021_11_08_11_01_07/d29684dd295e.overview_page.pb\n",
      "Dumped tool data for input_pipeline.pb to logs/model3-n12-k5-exp10/train/plugins/profile/2021_11_08_11_01_07/d29684dd295e.input_pipeline.pb\n",
      "Dumped tool data for tensorflow_stats.pb to logs/model3-n12-k5-exp10/train/plugins/profile/2021_11_08_11_01_07/d29684dd295e.tensorflow_stats.pb\n",
      "Dumped tool data for kernel_stats.pb to logs/model3-n12-k5-exp10/train/plugins/profile/2021_11_08_11_01_07/d29684dd295e.kernel_stats.pb\n",
      "\n"
     ]
    },
    {
     "name": "stdout",
     "output_type": "stream",
     "text": [
      "Epoch 00015: early stopping\n",
      "model3-exp10\n"
     ]
    },
    {
     "name": "stderr",
     "output_type": "stream",
     "text": [
      "2021-11-08 11:01:48.406140: I tensorflow/core/profiler/lib/profiler_session.cc:136] Profiler session initializing.\n",
      "2021-11-08 11:01:48.406193: I tensorflow/core/profiler/lib/profiler_session.cc:155] Profiler session started.\n",
      "2021-11-08 11:01:48.558786: I tensorflow/core/profiler/lib/profiler_session.cc:172] Profiler session tear down.\n",
      "2021-11-08 11:01:48.558960: I tensorflow/core/profiler/internal/gpu/cupti_tracer.cc:1487] CUPTI activity buffer flushed\n",
      "2021-11-08 11:01:51.261629: I tensorflow/core/profiler/lib/profiler_session.cc:136] Profiler session initializing.\n",
      "2021-11-08 11:01:51.261687: I tensorflow/core/profiler/lib/profiler_session.cc:155] Profiler session started.\n",
      "2021-11-08 11:01:51.627266: I tensorflow/core/profiler/lib/profiler_session.cc:71] Profiler session collecting data.\n",
      "2021-11-08 11:01:51.628036: I tensorflow/core/profiler/internal/gpu/cupti_tracer.cc:1487] CUPTI activity buffer flushed\n",
      "2021-11-08 11:01:51.766904: I tensorflow/core/profiler/internal/gpu/cupti_collector.cc:228]  GpuTracer has collected 373 callback api events and 361 activity events. \n",
      "2021-11-08 11:01:51.780093: I tensorflow/core/profiler/lib/profiler_session.cc:172] Profiler session tear down.\n",
      "2021-11-08 11:01:51.792741: I tensorflow/core/profiler/rpc/client/save_profile.cc:137] Creating directory: logs/model4-n12-k5-exp10/train/plugins/profile/2021_11_08_11_01_51\n",
      "2021-11-08 11:01:51.800799: I tensorflow/core/profiler/rpc/client/save_profile.cc:143] Dumped gzipped tool data for trace.json.gz to logs/model4-n12-k5-exp10/train/plugins/profile/2021_11_08_11_01_51/d29684dd295e.trace.json.gz\n",
      "2021-11-08 11:01:51.820344: I tensorflow/core/profiler/rpc/client/save_profile.cc:137] Creating directory: logs/model4-n12-k5-exp10/train/plugins/profile/2021_11_08_11_01_51\n",
      "2021-11-08 11:01:51.824130: I tensorflow/core/profiler/rpc/client/save_profile.cc:143] Dumped gzipped tool data for memory_profile.json.gz to logs/model4-n12-k5-exp10/train/plugins/profile/2021_11_08_11_01_51/d29684dd295e.memory_profile.json.gz\n",
      "2021-11-08 11:01:51.825299: I tensorflow/core/profiler/rpc/client/capture_profile.cc:251] Creating directory: logs/model4-n12-k5-exp10/train/plugins/profile/2021_11_08_11_01_51Dumped tool data for xplane.pb to logs/model4-n12-k5-exp10/train/plugins/profile/2021_11_08_11_01_51/d29684dd295e.xplane.pb\n",
      "Dumped tool data for overview_page.pb to logs/model4-n12-k5-exp10/train/plugins/profile/2021_11_08_11_01_51/d29684dd295e.overview_page.pb\n",
      "Dumped tool data for input_pipeline.pb to logs/model4-n12-k5-exp10/train/plugins/profile/2021_11_08_11_01_51/d29684dd295e.input_pipeline.pb\n",
      "Dumped tool data for tensorflow_stats.pb to logs/model4-n12-k5-exp10/train/plugins/profile/2021_11_08_11_01_51/d29684dd295e.tensorflow_stats.pb\n",
      "Dumped tool data for kernel_stats.pb to logs/model4-n12-k5-exp10/train/plugins/profile/2021_11_08_11_01_51/d29684dd295e.kernel_stats.pb\n",
      "\n"
     ]
    },
    {
     "name": "stdout",
     "output_type": "stream",
     "text": [
      "Epoch 00016: early stopping\n",
      "model4-exp10\n"
     ]
    },
    {
     "name": "stderr",
     "output_type": "stream",
     "text": [
      "2021-11-08 11:02:33.306016: I tensorflow/core/profiler/lib/profiler_session.cc:136] Profiler session initializing.\n",
      "2021-11-08 11:02:33.306072: I tensorflow/core/profiler/lib/profiler_session.cc:155] Profiler session started.\n",
      "2021-11-08 11:02:33.458533: I tensorflow/core/profiler/lib/profiler_session.cc:172] Profiler session tear down.\n",
      "2021-11-08 11:02:33.458675: I tensorflow/core/profiler/internal/gpu/cupti_tracer.cc:1487] CUPTI activity buffer flushed\n",
      "2021-11-08 11:02:36.143584: I tensorflow/core/profiler/lib/profiler_session.cc:136] Profiler session initializing.\n",
      "2021-11-08 11:02:36.143648: I tensorflow/core/profiler/lib/profiler_session.cc:155] Profiler session started.\n",
      "2021-11-08 11:02:36.478895: I tensorflow/core/profiler/lib/profiler_session.cc:71] Profiler session collecting data.\n",
      "2021-11-08 11:02:36.479697: I tensorflow/core/profiler/internal/gpu/cupti_tracer.cc:1487] CUPTI activity buffer flushed\n",
      "2021-11-08 11:02:36.615537: I tensorflow/core/profiler/internal/gpu/cupti_collector.cc:228]  GpuTracer has collected 373 callback api events and 361 activity events. \n",
      "2021-11-08 11:02:36.628585: I tensorflow/core/profiler/lib/profiler_session.cc:172] Profiler session tear down.\n",
      "2021-11-08 11:02:36.639903: I tensorflow/core/profiler/rpc/client/save_profile.cc:137] Creating directory: logs/model5-n12-k5-exp10/train/plugins/profile/2021_11_08_11_02_36\n",
      "2021-11-08 11:02:36.647680: I tensorflow/core/profiler/rpc/client/save_profile.cc:143] Dumped gzipped tool data for trace.json.gz to logs/model5-n12-k5-exp10/train/plugins/profile/2021_11_08_11_02_36/d29684dd295e.trace.json.gz\n",
      "2021-11-08 11:02:36.667398: I tensorflow/core/profiler/rpc/client/save_profile.cc:137] Creating directory: logs/model5-n12-k5-exp10/train/plugins/profile/2021_11_08_11_02_36\n",
      "2021-11-08 11:02:36.670364: I tensorflow/core/profiler/rpc/client/save_profile.cc:143] Dumped gzipped tool data for memory_profile.json.gz to logs/model5-n12-k5-exp10/train/plugins/profile/2021_11_08_11_02_36/d29684dd295e.memory_profile.json.gz\n",
      "2021-11-08 11:02:36.671341: I tensorflow/core/profiler/rpc/client/capture_profile.cc:251] Creating directory: logs/model5-n12-k5-exp10/train/plugins/profile/2021_11_08_11_02_36Dumped tool data for xplane.pb to logs/model5-n12-k5-exp10/train/plugins/profile/2021_11_08_11_02_36/d29684dd295e.xplane.pb\n",
      "Dumped tool data for overview_page.pb to logs/model5-n12-k5-exp10/train/plugins/profile/2021_11_08_11_02_36/d29684dd295e.overview_page.pb\n",
      "Dumped tool data for input_pipeline.pb to logs/model5-n12-k5-exp10/train/plugins/profile/2021_11_08_11_02_36/d29684dd295e.input_pipeline.pb\n",
      "Dumped tool data for tensorflow_stats.pb to logs/model5-n12-k5-exp10/train/plugins/profile/2021_11_08_11_02_36/d29684dd295e.tensorflow_stats.pb\n",
      "Dumped tool data for kernel_stats.pb to logs/model5-n12-k5-exp10/train/plugins/profile/2021_11_08_11_02_36/d29684dd295e.kernel_stats.pb\n",
      "\n"
     ]
    },
    {
     "name": "stdout",
     "output_type": "stream",
     "text": [
      "Epoch 00025: early stopping\n",
      "model5-exp10\n"
     ]
    },
    {
     "name": "stderr",
     "output_type": "stream",
     "text": [
      "2021-11-08 11:03:34.847545: I tensorflow/core/profiler/lib/profiler_session.cc:136] Profiler session initializing.\n",
      "2021-11-08 11:03:34.847601: I tensorflow/core/profiler/lib/profiler_session.cc:155] Profiler session started.\n",
      "2021-11-08 11:03:35.000529: I tensorflow/core/profiler/lib/profiler_session.cc:172] Profiler session tear down.\n",
      "2021-11-08 11:03:35.000676: I tensorflow/core/profiler/internal/gpu/cupti_tracer.cc:1487] CUPTI activity buffer flushed\n",
      "2021-11-08 11:03:38.135775: I tensorflow/core/profiler/lib/profiler_session.cc:136] Profiler session initializing.\n",
      "2021-11-08 11:03:38.135829: I tensorflow/core/profiler/lib/profiler_session.cc:155] Profiler session started.\n",
      "2021-11-08 11:03:38.476684: I tensorflow/core/profiler/lib/profiler_session.cc:71] Profiler session collecting data.\n",
      "2021-11-08 11:03:38.477328: I tensorflow/core/profiler/internal/gpu/cupti_tracer.cc:1487] CUPTI activity buffer flushed\n",
      "2021-11-08 11:03:38.611572: I tensorflow/core/profiler/internal/gpu/cupti_collector.cc:228]  GpuTracer has collected 377 callback api events and 365 activity events. \n",
      "2021-11-08 11:03:38.624724: I tensorflow/core/profiler/lib/profiler_session.cc:172] Profiler session tear down.\n",
      "2021-11-08 11:03:38.636392: I tensorflow/core/profiler/rpc/client/save_profile.cc:137] Creating directory: logs/model6-n12-k5-exp10/train/plugins/profile/2021_11_08_11_03_38\n",
      "2021-11-08 11:03:38.644506: I tensorflow/core/profiler/rpc/client/save_profile.cc:143] Dumped gzipped tool data for trace.json.gz to logs/model6-n12-k5-exp10/train/plugins/profile/2021_11_08_11_03_38/d29684dd295e.trace.json.gz\n",
      "2021-11-08 11:03:38.663191: I tensorflow/core/profiler/rpc/client/save_profile.cc:137] Creating directory: logs/model6-n12-k5-exp10/train/plugins/profile/2021_11_08_11_03_38\n",
      "2021-11-08 11:03:38.666776: I tensorflow/core/profiler/rpc/client/save_profile.cc:143] Dumped gzipped tool data for memory_profile.json.gz to logs/model6-n12-k5-exp10/train/plugins/profile/2021_11_08_11_03_38/d29684dd295e.memory_profile.json.gz\n",
      "2021-11-08 11:03:38.667835: I tensorflow/core/profiler/rpc/client/capture_profile.cc:251] Creating directory: logs/model6-n12-k5-exp10/train/plugins/profile/2021_11_08_11_03_38Dumped tool data for xplane.pb to logs/model6-n12-k5-exp10/train/plugins/profile/2021_11_08_11_03_38/d29684dd295e.xplane.pb\n",
      "Dumped tool data for overview_page.pb to logs/model6-n12-k5-exp10/train/plugins/profile/2021_11_08_11_03_38/d29684dd295e.overview_page.pb\n",
      "Dumped tool data for input_pipeline.pb to logs/model6-n12-k5-exp10/train/plugins/profile/2021_11_08_11_03_38/d29684dd295e.input_pipeline.pb\n",
      "Dumped tool data for tensorflow_stats.pb to logs/model6-n12-k5-exp10/train/plugins/profile/2021_11_08_11_03_38/d29684dd295e.tensorflow_stats.pb\n",
      "Dumped tool data for kernel_stats.pb to logs/model6-n12-k5-exp10/train/plugins/profile/2021_11_08_11_03_38/d29684dd295e.kernel_stats.pb\n",
      "\n"
     ]
    },
    {
     "name": "stdout",
     "output_type": "stream",
     "text": [
      "Epoch 00014: early stopping\n",
      "model6-exp10\n"
     ]
    },
    {
     "name": "stderr",
     "output_type": "stream",
     "text": [
      "2021-11-08 11:04:12.233407: I tensorflow/core/profiler/lib/profiler_session.cc:136] Profiler session initializing.\n",
      "2021-11-08 11:04:12.233474: I tensorflow/core/profiler/lib/profiler_session.cc:155] Profiler session started.\n",
      "2021-11-08 11:04:12.394728: I tensorflow/core/profiler/lib/profiler_session.cc:172] Profiler session tear down.\n",
      "2021-11-08 11:04:12.394885: I tensorflow/core/profiler/internal/gpu/cupti_tracer.cc:1487] CUPTI activity buffer flushed\n",
      "2021-11-08 11:04:15.149372: I tensorflow/core/profiler/lib/profiler_session.cc:136] Profiler session initializing.\n",
      "2021-11-08 11:04:15.149428: I tensorflow/core/profiler/lib/profiler_session.cc:155] Profiler session started.\n",
      "2021-11-08 11:04:15.493247: I tensorflow/core/profiler/lib/profiler_session.cc:71] Profiler session collecting data.\n",
      "2021-11-08 11:04:15.493903: I tensorflow/core/profiler/internal/gpu/cupti_tracer.cc:1487] CUPTI activity buffer flushed\n",
      "2021-11-08 11:04:15.629936: I tensorflow/core/profiler/internal/gpu/cupti_collector.cc:228]  GpuTracer has collected 377 callback api events and 365 activity events. \n",
      "2021-11-08 11:04:15.644822: I tensorflow/core/profiler/lib/profiler_session.cc:172] Profiler session tear down.\n",
      "2021-11-08 11:04:15.657130: I tensorflow/core/profiler/rpc/client/save_profile.cc:137] Creating directory: logs/model7-n12-k5-exp10/train/plugins/profile/2021_11_08_11_04_15\n",
      "2021-11-08 11:04:15.665755: I tensorflow/core/profiler/rpc/client/save_profile.cc:143] Dumped gzipped tool data for trace.json.gz to logs/model7-n12-k5-exp10/train/plugins/profile/2021_11_08_11_04_15/d29684dd295e.trace.json.gz\n",
      "2021-11-08 11:04:15.685324: I tensorflow/core/profiler/rpc/client/save_profile.cc:137] Creating directory: logs/model7-n12-k5-exp10/train/plugins/profile/2021_11_08_11_04_15\n",
      "2021-11-08 11:04:15.688895: I tensorflow/core/profiler/rpc/client/save_profile.cc:143] Dumped gzipped tool data for memory_profile.json.gz to logs/model7-n12-k5-exp10/train/plugins/profile/2021_11_08_11_04_15/d29684dd295e.memory_profile.json.gz\n",
      "2021-11-08 11:04:15.689952: I tensorflow/core/profiler/rpc/client/capture_profile.cc:251] Creating directory: logs/model7-n12-k5-exp10/train/plugins/profile/2021_11_08_11_04_15Dumped tool data for xplane.pb to logs/model7-n12-k5-exp10/train/plugins/profile/2021_11_08_11_04_15/d29684dd295e.xplane.pb\n",
      "Dumped tool data for overview_page.pb to logs/model7-n12-k5-exp10/train/plugins/profile/2021_11_08_11_04_15/d29684dd295e.overview_page.pb\n",
      "Dumped tool data for input_pipeline.pb to logs/model7-n12-k5-exp10/train/plugins/profile/2021_11_08_11_04_15/d29684dd295e.input_pipeline.pb\n",
      "Dumped tool data for tensorflow_stats.pb to logs/model7-n12-k5-exp10/train/plugins/profile/2021_11_08_11_04_15/d29684dd295e.tensorflow_stats.pb\n",
      "Dumped tool data for kernel_stats.pb to logs/model7-n12-k5-exp10/train/plugins/profile/2021_11_08_11_04_15/d29684dd295e.kernel_stats.pb\n",
      "\n"
     ]
    },
    {
     "name": "stdout",
     "output_type": "stream",
     "text": [
      "Epoch 00017: early stopping\n",
      "model7-exp10\n"
     ]
    },
    {
     "data": {
      "text/html": [
       "<div>\n",
       "<style scoped>\n",
       "    .dataframe tbody tr th:only-of-type {\n",
       "        vertical-align: middle;\n",
       "    }\n",
       "\n",
       "    .dataframe tbody tr th {\n",
       "        vertical-align: top;\n",
       "    }\n",
       "\n",
       "    .dataframe thead th {\n",
       "        text-align: right;\n",
       "    }\n",
       "</style>\n",
       "<table border=\"1\" class=\"dataframe\">\n",
       "  <thead>\n",
       "    <tr style=\"text-align: right;\">\n",
       "      <th></th>\n",
       "      <th>model</th>\n",
       "      <th>recall</th>\n",
       "      <th>precision</th>\n",
       "      <th>mrr</th>\n",
       "      <th>hit</th>\n",
       "      <th>coverage</th>\n",
       "      <th>n_padded</th>\n",
       "      <th>k</th>\n",
       "      <th>n_exp</th>\n",
       "    </tr>\n",
       "  </thead>\n",
       "  <tbody>\n",
       "    <tr>\n",
       "      <th>0</th>\n",
       "      <td>model1</td>\n",
       "      <td>0.089499</td>\n",
       "      <td>0.032776</td>\n",
       "      <td>0.082832</td>\n",
       "      <td>0.150502</td>\n",
       "      <td>0.073520</td>\n",
       "      <td>10</td>\n",
       "      <td>5</td>\n",
       "      <td>1</td>\n",
       "    </tr>\n",
       "    <tr>\n",
       "      <th>1</th>\n",
       "      <td>model2</td>\n",
       "      <td>0.079046</td>\n",
       "      <td>0.026756</td>\n",
       "      <td>0.062207</td>\n",
       "      <td>0.123746</td>\n",
       "      <td>0.071916</td>\n",
       "      <td>10</td>\n",
       "      <td>5</td>\n",
       "      <td>1</td>\n",
       "    </tr>\n",
       "    <tr>\n",
       "      <th>2</th>\n",
       "      <td>model3</td>\n",
       "      <td>0.091505</td>\n",
       "      <td>0.031438</td>\n",
       "      <td>0.074470</td>\n",
       "      <td>0.140468</td>\n",
       "      <td>0.063628</td>\n",
       "      <td>10</td>\n",
       "      <td>5</td>\n",
       "      <td>1</td>\n",
       "    </tr>\n",
       "    <tr>\n",
       "      <th>3</th>\n",
       "      <td>model4</td>\n",
       "      <td>0.111289</td>\n",
       "      <td>0.034783</td>\n",
       "      <td>0.090301</td>\n",
       "      <td>0.163880</td>\n",
       "      <td>0.066034</td>\n",
       "      <td>10</td>\n",
       "      <td>5</td>\n",
       "      <td>1</td>\n",
       "    </tr>\n",
       "    <tr>\n",
       "      <th>4</th>\n",
       "      <td>model5</td>\n",
       "      <td>0.097683</td>\n",
       "      <td>0.032107</td>\n",
       "      <td>0.091081</td>\n",
       "      <td>0.147157</td>\n",
       "      <td>0.049860</td>\n",
       "      <td>10</td>\n",
       "      <td>5</td>\n",
       "      <td>1</td>\n",
       "    </tr>\n",
       "    <tr>\n",
       "      <th>...</th>\n",
       "      <td>...</td>\n",
       "      <td>...</td>\n",
       "      <td>...</td>\n",
       "      <td>...</td>\n",
       "      <td>...</td>\n",
       "      <td>...</td>\n",
       "      <td>...</td>\n",
       "      <td>...</td>\n",
       "      <td>...</td>\n",
       "    </tr>\n",
       "    <tr>\n",
       "      <th>135</th>\n",
       "      <td>model3</td>\n",
       "      <td>0.092476</td>\n",
       "      <td>0.030769</td>\n",
       "      <td>0.073579</td>\n",
       "      <td>0.137124</td>\n",
       "      <td>0.066168</td>\n",
       "      <td>12</td>\n",
       "      <td>5</td>\n",
       "      <td>10</td>\n",
       "    </tr>\n",
       "    <tr>\n",
       "      <th>136</th>\n",
       "      <td>model4</td>\n",
       "      <td>0.100504</td>\n",
       "      <td>0.033445</td>\n",
       "      <td>0.086343</td>\n",
       "      <td>0.157191</td>\n",
       "      <td>0.065499</td>\n",
       "      <td>12</td>\n",
       "      <td>5</td>\n",
       "      <td>10</td>\n",
       "    </tr>\n",
       "    <tr>\n",
       "      <th>137</th>\n",
       "      <td>model5</td>\n",
       "      <td>0.098888</td>\n",
       "      <td>0.034783</td>\n",
       "      <td>0.080769</td>\n",
       "      <td>0.153846</td>\n",
       "      <td>0.054003</td>\n",
       "      <td>12</td>\n",
       "      <td>5</td>\n",
       "      <td>10</td>\n",
       "    </tr>\n",
       "    <tr>\n",
       "      <th>138</th>\n",
       "      <td>model6</td>\n",
       "      <td>0.098831</td>\n",
       "      <td>0.034114</td>\n",
       "      <td>0.084281</td>\n",
       "      <td>0.150502</td>\n",
       "      <td>0.066435</td>\n",
       "      <td>12</td>\n",
       "      <td>5</td>\n",
       "      <td>10</td>\n",
       "    </tr>\n",
       "    <tr>\n",
       "      <th>139</th>\n",
       "      <td>model7</td>\n",
       "      <td>0.086542</td>\n",
       "      <td>0.031438</td>\n",
       "      <td>0.071014</td>\n",
       "      <td>0.133779</td>\n",
       "      <td>0.063762</td>\n",
       "      <td>12</td>\n",
       "      <td>5</td>\n",
       "      <td>10</td>\n",
       "    </tr>\n",
       "  </tbody>\n",
       "</table>\n",
       "<p>140 rows × 9 columns</p>\n",
       "</div>"
      ],
      "text/plain": [
       "      model    recall  precision       mrr       hit  coverage n_padded  k  \\\n",
       "0    model1  0.089499   0.032776  0.082832  0.150502  0.073520       10  5   \n",
       "1    model2  0.079046   0.026756  0.062207  0.123746  0.071916       10  5   \n",
       "2    model3  0.091505   0.031438  0.074470  0.140468  0.063628       10  5   \n",
       "3    model4  0.111289   0.034783  0.090301  0.163880  0.066034       10  5   \n",
       "4    model5  0.097683   0.032107  0.091081  0.147157  0.049860       10  5   \n",
       "..      ...       ...        ...       ...       ...       ...      ... ..   \n",
       "135  model3  0.092476   0.030769  0.073579  0.137124  0.066168       12  5   \n",
       "136  model4  0.100504   0.033445  0.086343  0.157191  0.065499       12  5   \n",
       "137  model5  0.098888   0.034783  0.080769  0.153846  0.054003       12  5   \n",
       "138  model6  0.098831   0.034114  0.084281  0.150502  0.066435       12  5   \n",
       "139  model7  0.086542   0.031438  0.071014  0.133779  0.063762       12  5   \n",
       "\n",
       "    n_exp  \n",
       "0       1  \n",
       "1       1  \n",
       "2       1  \n",
       "3       1  \n",
       "4       1  \n",
       "..    ...  \n",
       "135    10  \n",
       "136    10  \n",
       "137    10  \n",
       "138    10  \n",
       "139    10  \n",
       "\n",
       "[140 rows x 9 columns]"
      ]
     },
     "execution_count": 7,
     "metadata": {},
     "output_type": "execute_result"
    }
   ],
   "source": [
    "df_a = df.append(t_df, ignore_index=True)\n",
    "pro_max = df_a[\"item_code\"].astype(\"int64\").max()\n",
    "rec_max = df_a[\"recency\"].astype(\"int64\").max()\n",
    "pay_max = df_a[\"payment\"].astype(\"int64\").max()\n",
    "cat_max = df_a[\"category_code\"].astype(\"int64\").max()\n",
    "met_max = df_a[\"method_code\"].astype(\"int64\").max()\n",
    "\n",
    "train_data = create_sequences(df)\n",
    "train_data = create_splits(train_data)\n",
    "\n",
    "test_data = create_sequences(t_df)\n",
    "test_data.rename(columns={\"item_code\":\"input_seq\"}, inplace=True)\n",
    "    \n",
    "exp_df = pd.DataFrame(columns=[\"model\", \"recall\", \"precision\",\n",
    "                               \"mrr\", \"hit\", \"coverage\",\n",
    "                               \"n_padded\", \"k\", \"n_exp\"])\n",
    "for n in [10, 12]:\n",
    "    for k in [5]:\n",
    "        for e in range(10):\n",
    "            n_padded = n\n",
    "            train_list = make_padding(train_data, n_padded)\n",
    "            test_list = make_padding(test_data, n_padded)\n",
    "            exp_df = run_experiment2(train_list, test_list, \n",
    "                                     h_df, test_data[\"c_id\"].unique(),\n",
    "                                     exp_df, n, k, e+1)\n",
    "\n",
    "#provide path to record file    \n",
    "exp_df.to_csv(\"experiment_results1.csv\", sep=\";\", index=False)\n",
    "exp_df"
   ]
  }
 ],
 "metadata": {
  "colab": {
   "collapsed_sections": [],
   "name": "application-experiments.ipynb",
   "provenance": [],
   "toc_visible": true
  },
  "kernelspec": {
   "display_name": "Python 3",
   "language": "python",
   "name": "python3"
  },
  "language_info": {
   "codemirror_mode": {
    "name": "ipython",
    "version": 3
   },
   "file_extension": ".py",
   "mimetype": "text/x-python",
   "name": "python",
   "nbconvert_exporter": "python",
   "pygments_lexer": "ipython3",
   "version": "3.7.10"
  },
  "papermill": {
   "default_parameters": {},
   "duration": 6314.379138,
   "end_time": "2021-11-08T11:05:00.934767",
   "environment_variables": {},
   "exception": null,
   "input_path": "__notebook__.ipynb",
   "output_path": "__notebook__.ipynb",
   "parameters": {},
   "start_time": "2021-11-08T09:19:46.555629",
   "version": "2.3.3"
  }
 },
 "nbformat": 4,
 "nbformat_minor": 5
}
