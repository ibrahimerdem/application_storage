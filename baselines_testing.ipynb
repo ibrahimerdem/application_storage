{
  "nbformat": 4,
  "nbformat_minor": 0,
  "metadata": {
    "colab": {
      "name": "baselines_testing.ipynb",
      "provenance": []
    },
    "kernelspec": {
      "name": "python3",
      "display_name": "Python 3"
    },
    "language_info": {
      "name": "python"
    }
  },
  "cells": [
    {
      "cell_type": "code",
      "execution_count": null,
      "metadata": {
        "colab": {
          "resources": {
            "http://localhost:8080/nbextensions/google.colab/files.js": {
              "data": "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",
              "ok": true,
              "headers": [
                [
                  "content-type",
                  "application/javascript"
                ]
              ],
              "status": 200,
              "status_text": ""
            }
          },
          "base_uri": "https://localhost:8080/",
          "height": 184
        },
        "id": "yJEfxKaWi8ZC",
        "outputId": "3201bed5-a70d-4597-ad63-a4ce6ccf844b"
      },
      "outputs": [
        {
          "output_type": "display_data",
          "data": {
            "text/plain": [
              "<IPython.core.display.HTML object>"
            ],
            "text/html": [
              "\n",
              "     <input type=\"file\" id=\"files-fac24842-ca8b-4edf-bafe-508ccd34d5b2\" name=\"files[]\" multiple disabled\n",
              "        style=\"border:none\" />\n",
              "     <output id=\"result-fac24842-ca8b-4edf-bafe-508ccd34d5b2\">\n",
              "      Upload widget is only available when the cell has been executed in the\n",
              "      current browser session. Please rerun this cell to enable.\n",
              "      </output>\n",
              "      <script src=\"/nbextensions/google.colab/files.js\"></script> "
            ]
          },
          "metadata": {}
        },
        {
          "output_type": "stream",
          "name": "stdout",
          "text": [
            "Saving util.py to util.py\n"
          ]
        },
        {
          "output_type": "display_data",
          "data": {
            "text/plain": [
              "<IPython.core.display.HTML object>"
            ],
            "text/html": [
              "\n",
              "     <input type=\"file\" id=\"files-32ed2515-ef55-4ba2-9ecb-157645bb5cce\" name=\"files[]\" multiple disabled\n",
              "        style=\"border:none\" />\n",
              "     <output id=\"result-32ed2515-ef55-4ba2-9ecb-157645bb5cce\">\n",
              "      Upload widget is only available when the cell has been executed in the\n",
              "      current browser session. Please rerun this cell to enable.\n",
              "      </output>\n",
              "      <script src=\"/nbextensions/google.colab/files.js\"></script> "
            ]
          },
          "metadata": {}
        },
        {
          "output_type": "stream",
          "name": "stdout",
          "text": [
            "Saving transformed_model_data_t1.csv to transformed_model_data_t1.csv\n"
          ]
        },
        {
          "output_type": "display_data",
          "data": {
            "text/plain": [
              "<IPython.core.display.HTML object>"
            ],
            "text/html": [
              "\n",
              "     <input type=\"file\" id=\"files-b9ac5d28-4d89-4c55-9e53-53925a12a76b\" name=\"files[]\" multiple disabled\n",
              "        style=\"border:none\" />\n",
              "     <output id=\"result-b9ac5d28-4d89-4c55-9e53-53925a12a76b\">\n",
              "      Upload widget is only available when the cell has been executed in the\n",
              "      current browser session. Please rerun this cell to enable.\n",
              "      </output>\n",
              "      <script src=\"/nbextensions/google.colab/files.js\"></script> "
            ]
          },
          "metadata": {}
        },
        {
          "output_type": "stream",
          "name": "stdout",
          "text": [
            "Saving transformed_test_data_t1.csv to transformed_test_data_t1.csv\n"
          ]
        }
      ],
      "source": [
        "import numpy as np\n",
        "import pandas as pd\n",
        "\n",
        "from datetime import datetime\n",
        "from sklearn.metrics import pairwise_distances\n",
        "\n",
        "import warnings\n",
        "warnings.filterwarnings(\"ignore\")\n",
        "\n",
        "from google.colab import files\n",
        "util = files.upload()\n",
        "transformed_model_data = files.upload()\n",
        "transformed_test_data = files.upload()"
      ]
    },
    {
      "cell_type": "code",
      "source": [
        "from util import *"
      ],
      "metadata": {
        "id": "ksYVszsgj8eu"
      },
      "execution_count": null,
      "outputs": []
    },
    {
      "cell_type": "code",
      "source": [
        "df = pd.read_csv(\"transformed_model_data_t1.csv\")\n",
        "df_test = pd.read_csv(\"transformed_test_data_t1.csv\")"
      ],
      "metadata": {
        "id": "zAbPOTTikAL9"
      },
      "execution_count": null,
      "outputs": []
    },
    {
      "cell_type": "markdown",
      "source": [
        "# Popularity"
      ],
      "metadata": {
        "id": "weMkb8rBq8ez"
      }
    },
    {
      "cell_type": "code",
      "source": [
        "exp_df = pd.DataFrame(columns=[\"model\", \"hit\", \"map\", \"ndcg\"])\n",
        "cust_base = df_test[\"c_id\"].unique()\n",
        "\n",
        "\n",
        "k = 20\n",
        "\n",
        "hitt = 0\n",
        "pret = 0\n",
        "ndct = 0\n",
        "\n",
        "ret = df[\"item_id\"].value_counts().keys()[:k]\n",
        "counter = len(cust_base)\n",
        "for i in range(counter):\n",
        "    c = cust_base[i]\n",
        "    all = df_test.loc[df_test[\"c_id\"]==c, \"item_id\"].values\n",
        "    rel = all[-1]\n",
        "    bl = np.isin(ret, rel)*1\n",
        "    pre = average_precision(bl)\n",
        "    ndc = ndcg_k(bl, len(bl))\n",
        "    h = np.max(bl)\n",
        "    hitt += h\n",
        "    pret += pre\n",
        "    ndct += ndc\n",
        "hit, mapp, ndcg = hitt/counter, pret/counter, ndct/counter\n",
        "exp_df = exp_df.append({\"model\": \"popularity\",\n",
        "                        \"hit\": hit,\n",
        "                        \"map\": mapp,\n",
        "                        \"ndcg\": ndcg}, ignore_index=True)\n",
        "\n",
        "\n",
        "file = \"\".join(np.random.choice([\"a\", \"b\", \"c\", \"d\", \"e\", 0, 1, 2, 3, 4], 4))\n",
        "exp_df.to_csv(\"results_\" + file + \".csv\", sep=\";\", index=False)"
      ],
      "metadata": {
        "id": "niE-YRHhq4ak"
      },
      "execution_count": null,
      "outputs": []
    },
    {
      "cell_type": "markdown",
      "source": [
        "# Last-random"
      ],
      "metadata": {
        "id": "9kH6CmQdtRmf"
      }
    },
    {
      "cell_type": "code",
      "source": [
        "exp_df = pd.DataFrame(columns=[\"model\", \"hit\", \"map\", \"ndcg\"])\n",
        "cust_base = df_test[\"c_id\"].unique()\n",
        "\n",
        "k = 20\n",
        "\n",
        "hitt = 0\n",
        "pret = 0\n",
        "ndct = 0\n",
        "\n",
        "counter = len(cust_base)\n",
        "for i in range(counter):\n",
        "    c = cust_base[i]\n",
        "    all = df_test.loc[df_test[\"c_id\"]==c, \"item_id\"].values\n",
        "    rel = all[-1]\n",
        "    rest = all[:-1]\n",
        "    re = list()\n",
        "    [re.append(r) if not r in re else False for r in rest]\n",
        "    if len(re) > k:\n",
        "        ret = np.random.choice(re, k, replace=False)\n",
        "    else:\n",
        "        ret = list()\n",
        "        while len(re)>0:\n",
        "            ri = re.pop()\n",
        "            if ri not in ret:\n",
        "                ret.append(ri)\n",
        "        bl = np.isin(ret, rel)*1\n",
        "        pre = average_precision(bl)\n",
        "        ndc = ndcg_k(bl, len(bl))\n",
        "        h = np.max(bl)\n",
        "        hitt += h\n",
        "        pret += pre\n",
        "        ndct += ndc\n",
        "hit, mapp, ndcg = hitt/counter, pret/counter, ndct/counter\n",
        "exp_df = exp_df.append({\"model\": \"last-random\",\n",
        "                        \"hit\": hit,\n",
        "                        \"map\": mapp,\n",
        "                        \"ndcg\": ndcg}, ignore_index=True)\n",
        "\n",
        "file = \"\".join(np.random.choice([\"a\", \"b\", \"c\", \"d\", \"e\", 0, 1, 2, 3, 4], 4))\n",
        "exp_df.to_csv(\"results_\" + file + \".csv\", sep=\";\", index=False)"
      ],
      "metadata": {
        "id": "bjsWaicbkFC0"
      },
      "execution_count": null,
      "outputs": []
    },
    {
      "cell_type": "markdown",
      "source": [
        "# Last-ordered"
      ],
      "metadata": {
        "id": "czI_tHsstsk4"
      }
    },
    {
      "cell_type": "code",
      "source": [
        "exp_df = pd.DataFrame(columns=[\"model\", \"hit\", \"map\", \"ndcg\"])\n",
        "cust_base = df_test[\"c_id\"].unique()\n",
        "\n",
        "k = 20\n",
        "\n",
        "hitt = 0\n",
        "pret = 0\n",
        "ndct = 0\n",
        "\n",
        "counter = len(cust_base)\n",
        "for i in range(counter):\n",
        "    c = cust_base[i]\n",
        "    all = df_test.loc[df_test[\"c_id\"]==c, \"item_id\"].values\n",
        "    rel = all[-1]\n",
        "    rest = all[:-1]\n",
        "    re = list()\n",
        "    [re.append(r) if not r in re else False for r in rest]\n",
        "    ret = re[-k:]\n",
        "    bl = np.isin(ret, rel)*1\n",
        "    pre = average_precision(bl)\n",
        "    ndc = ndcg_k(bl, len(bl))\n",
        "    h = np.max(bl)\n",
        "    hitt += h\n",
        "    pret += pre\n",
        "    ndct += ndc\n",
        "hit, mapp, ndcg = hitt/counter, pret/counter, ndct/counter\n",
        "exp_df = exp_df.append({\"model\": \"last-ordered\",\n",
        "                        \"hit\": hit,\n",
        "                        \"map\": mapp,\n",
        "                        \"ndcg\": ndcg}, ignore_index=True)\n",
        "\n",
        "file = \"\".join(np.random.choice([\"a\", \"b\", \"c\", \"d\", \"e\", 0, 1, 2, 3, 4], 4))\n",
        "exp_df.to_csv(\"results_\" + file + \".csv\", sep=\";\", index=False)"
      ],
      "metadata": {
        "id": "UryLJwUUmYMw"
      },
      "execution_count": null,
      "outputs": []
    },
    {
      "cell_type": "code",
      "source": [
        "exp_df = pd.DataFrame(columns=[\"model\", \"hit\", \"map\", \"ndcg\"])\n",
        "cust_base = df_test[\"c_id\"].unique()\n",
        "model_data = df.append(df_test)\n",
        "\n",
        "lasts = df_test.groupby(\"c_id\", as_index=False).last()\n",
        "last_tr = lasts[\"t_id\"].unique()\n",
        "train_data = model_data[~(model_data[\"t_id\"].isin(last_tr))]\n",
        "\n",
        "\n",
        "ns = [100]\n",
        "k = 20\n",
        "\n",
        "user = pd.pivot_table(data=train_data,\n",
        "                      values=\"payment\",\n",
        "                      index=\"c_id\",\n",
        "                      columns=\"item_id\")\n",
        "user = user.apply(lambda x: x/x, axis=1)\n",
        "user = user.fillna(0)\n",
        "for n in ns:\n",
        "    hitt = 0\n",
        "    pret = 0\n",
        "    ndct = 0 \n",
        "    counter = len(cust_base)\n",
        "    for i in range(counter):\n",
        "        if (i%1000)==0:\n",
        "            print(i)\n",
        "        c = cust_base[i]\n",
        "        all = df_test.loc[df_test[\"c_id\"]==c, \"item_id\"].values\n",
        "        rel = all[-1]\n",
        "        score = 1 - pairwise_distances(user[user.index==c], user, metric=\"cosine\")\n",
        "        nn = user.index[score[0].argsort()[::-1][1:n+1]]\n",
        "        rank_table = list()\n",
        "        for h in nn: \n",
        "            rank_table.append(user[user.index==h].values)\n",
        "        ranks = np.mean(rank_table, axis=0)[0].argsort()[::-1][:k]\n",
        "        ret = list(user.columns[ranks])\n",
        "        bl = np.isin(ret, rel)*1\n",
        "        pre = average_precision(bl)\n",
        "        ndc = ndcg_k(bl, len(bl))\n",
        "        h = np.max(bl)\n",
        "        hitt += h\n",
        "        pret += pre\n",
        "        ndct += ndc\n",
        "    hit, mapp, ndcg = hitt/counter, pret/counter, ndct/counter\n",
        "    exp_df = exp_df.append({\"model\": \"user-similarity\",\n",
        "                            \"n\": n,\n",
        "                            \"hit\": hit,\n",
        "                            \"map\": mapp,\n",
        "                            \"ndcg\": ndcg}, ignore_index=True)\n",
        "\n",
        "file = \"\".join(np.random.choice([\"a\", \"b\", \"c\", \"d\", \"e\", 0, 1, 2, 3, 4], 4))\n",
        "exp_df.to_csv(\"results_\" + file + \".csv\", sep=\";\", index=False)"
      ],
      "metadata": {
        "colab": {
          "base_uri": "https://localhost:8080/"
        },
        "id": "WnOFeEcem_1K",
        "outputId": "7e213ad8-e9dd-40f7-fb7b-56e822e3c9a0"
      },
      "execution_count": null,
      "outputs": [
        {
          "output_type": "stream",
          "name": "stdout",
          "text": [
            "0\n",
            "1000\n",
            "2000\n"
          ]
        }
      ]
    }
  ]
}