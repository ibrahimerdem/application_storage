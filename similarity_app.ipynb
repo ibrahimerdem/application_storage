{
  "cells": [
    {
      "cell_type": "markdown",
      "metadata": {
        "id": "TcuSz_4I-GtB"
      },
      "source": [
        "# Libraries"
      ]
    },
    {
      "cell_type": "code",
      "execution_count": 2,
      "metadata": {
        "id": "knCKxfQSODF1",
        "colab": {
          "base_uri": "https://localhost:8080/"
        },
        "outputId": "4c4df59c-29ee-4336-d80c-7b09cdda5fcc"
      },
      "outputs": [
        {
          "output_type": "stream",
          "name": "stdout",
          "text": [
            "--2022-02-11 08:07:25--  https://raw.githubusercontent.com/ibrahimerdem/application_storage/main/model_config.py\n",
            "Resolving raw.githubusercontent.com (raw.githubusercontent.com)... 185.199.108.133, 185.199.109.133, 185.199.110.133, ...\n",
            "Connecting to raw.githubusercontent.com (raw.githubusercontent.com)|185.199.108.133|:443... connected.\n",
            "HTTP request sent, awaiting response... 200 OK\n",
            "Length: 6054 (5.9K) [text/plain]\n",
            "Saving to: ‘model_config/model_config.py’\n",
            "\n",
            "\rmodel_config.py       0%[                    ]       0  --.-KB/s               \rmodel_config.py     100%[===================>]   5.91K  --.-KB/s    in 0s      \n",
            "\n",
            "2022-02-11 08:07:25 (61.2 MB/s) - ‘model_config/model_config.py’ saved [6054/6054]\n",
            "\n",
            "--2022-02-11 08:07:25--  https://raw.githubusercontent.com/ibrahimerdem/application_storage/main/utility_func.py\n",
            "Resolving raw.githubusercontent.com (raw.githubusercontent.com)... 185.199.108.133, 185.199.109.133, 185.199.110.133, ...\n",
            "Connecting to raw.githubusercontent.com (raw.githubusercontent.com)|185.199.108.133|:443... connected.\n",
            "HTTP request sent, awaiting response... 200 OK\n",
            "Length: 3519 (3.4K) [text/plain]\n",
            "Saving to: ‘utility_func/utility_func.py’\n",
            "\n",
            "utility_func.py     100%[===================>]   3.44K  --.-KB/s    in 0s      \n",
            "\n",
            "2022-02-11 08:07:25 (45.6 MB/s) - ‘utility_func/utility_func.py’ saved [3519/3519]\n",
            "\n"
          ]
        }
      ],
      "source": [
        "import pandas as pd\n",
        "import numpy as np\n",
        "import tensorflow as tf\n",
        "import matplotlib.pyplot as plt\n",
        "\n",
        "from datetime import datetime\n",
        "from sklearn.model_selection import train_test_split\n",
        "from sklearn.metrics import pairwise_distances\n",
        "\n",
        "from tensorflow import keras\n",
        "from tensorflow.keras import layers\n",
        "from pathlib import Path\n",
        "\n",
        "import warnings\n",
        "warnings.filterwarnings(\"ignore\")\n",
        "\n",
        "!wget \"https://raw.githubusercontent.com/ibrahimerdem/application_storage/main/model_config.py\" -P model_config -nc\n",
        "!wget \"https://raw.githubusercontent.com/ibrahimerdem/application_storage/main/utility_func.py\" -P utility_func -nc\n",
        "import sys\n",
        "sys.path.append(\"model_config\")\n",
        "sys.path.append(\"utility_func\")\n",
        "\n",
        "from utility_func import *\n",
        "from model_config import *"
      ]
    },
    {
      "cell_type": "code",
      "execution_count": 12,
      "metadata": {
        "colab": {
          "base_uri": "https://localhost:8080/"
        },
        "id": "Q_EVZjVTOry-",
        "outputId": "f596fd46-b37f-488e-97bc-55bf7f0026bd"
      },
      "outputs": [
        {
          "output_type": "stream",
          "name": "stdout",
          "text": [
            "--2022-02-11 08:29:25--  https://raw.githubusercontent.com/ibrahimerdem/application_storage/main/data_set.csv\n",
            "Resolving raw.githubusercontent.com (raw.githubusercontent.com)... 185.199.108.133, 185.199.109.133, 185.199.110.133, ...\n",
            "Connecting to raw.githubusercontent.com (raw.githubusercontent.com)|185.199.108.133|:443... connected.\n",
            "HTTP request sent, awaiting response... 200 OK\n",
            "Length: 7552701 (7.2M) [text/plain]\n",
            "Saving to: ‘data_set/data_set.csv’\n",
            "\n",
            "data_set.csv        100%[===================>]   7.20M  --.-KB/s    in 0.08s   \n",
            "\n",
            "2022-02-11 08:29:26 (86.9 MB/s) - ‘data_set/data_set.csv’ saved [7552701/7552701]\n",
            "\n"
          ]
        }
      ],
      "source": [
        "!wget \"https://raw.githubusercontent.com/ibrahimerdem/application_storage/main/data_set.csv\" -P data_set -nc\n",
        "processed_data = pd.read_csv(\"data_set/data_set.csv\",\n",
        "                             sep=\";\")"
      ]
    },
    {
      "cell_type": "markdown",
      "source": [
        "# Time-basis"
      ],
      "metadata": {
        "id": "JGGinkoD6D_q"
      }
    },
    {
      "cell_type": "code",
      "execution_count": 13,
      "metadata": {
        "colab": {
          "base_uri": "https://localhost:8080/"
        },
        "id": "ey-fLCE7oHAv",
        "outputId": "2053959d-dc45-430a-f1c9-52d95eaada53"
      },
      "outputs": [
        {
          "output_type": "stream",
          "name": "stdout",
          "text": [
            "train customers: 25939\n",
            "test customers: 389\n"
          ]
        }
      ],
      "source": [
        "df_a = processed_data.copy()\n",
        "\n",
        "model_start = \"07-01-2016\"\n",
        "model_end = \"04-01-2018\"\n",
        "test_start = \"04-01-2018\"\n",
        "test_end = \"07-01-2018\"\n",
        "\n",
        "df_a[\"t_date\"] = df_a[\"t_date\"].astype(\"datetime64\")\n",
        "df_base = df_a[(df_a[\"t_date\"]>=model_start)&(df_a[\"t_date\"]<model_end)]\n",
        "\n",
        "hold_df = df_a.loc[(df_a[\"t_date\"]>=test_start)&(df_a[\"t_date\"]<test_end),\n",
        "                   [\"c_id\", \"item_id\"]]\n",
        "\n",
        "items = df_base[\"item_id\"].unique()\n",
        "hold_df = hold_df[hold_df[\"item_id\"].isin(items)]\n",
        "hold_c = hold_df[\"c_id\"].unique()\n",
        "\n",
        "test_data = df_base[df_base[\"c_id\"].isin(hold_c)]\n",
        "\n",
        "print(\"train customers:\", df_base[\"c_id\"].nunique())\n",
        "print(\"test customers:\", test_data[\"c_id\"].nunique())"
      ]
    },
    {
      "cell_type": "markdown",
      "source": [
        "# Last-event"
      ],
      "metadata": {
        "id": "My9uuMwY6H35"
      }
    },
    {
      "cell_type": "code",
      "execution_count": 8,
      "metadata": {
        "colab": {
          "base_uri": "https://localhost:8080/"
        },
        "id": "TKdpRPbgbQvC",
        "outputId": "9cd09159-517e-457e-bf10-903157b5d482"
      },
      "outputs": [
        {
          "output_type": "stream",
          "name": "stdout",
          "text": [
            "train customers: 25939\n",
            "test customers: 640\n"
          ]
        }
      ],
      "source": [
        "df_a = processed_data.copy()\n",
        "\n",
        "df_a[\"t_date\"] = df_a[\"t_date\"].astype(\"datetime64\")\n",
        "\n",
        "model_start = \"07-01-2016\"\n",
        "model_end = \"04-01-2018\"\n",
        "\n",
        "df_base = df_a[(df_a[\"t_date\"]>=model_start)&(df_a[\"t_date\"]<model_end)]\n",
        "\n",
        "test_size = 0.025\n",
        "\n",
        "all_c = df_base[\"c_id\"].unique()\n",
        "random_selection = np.random.rand(len(all_c)) <= 1-test_size\n",
        "test_c = all_c[~random_selection]\n",
        "test = df_base[df_base[\"c_id\"].isin(test_c)]\n",
        "\n",
        "lasts = test.groupby(\"c_id\", as_index=False).last()\n",
        "hold_table = lasts[[\"c_id\", \"item_id\"]]\n",
        "last_tr = lasts[\"t_id\"].unique()\n",
        "test_data = test[~(test[\"t_id\"].isin(last_tr))]\n",
        "\n",
        "df_base = df_base[~(df_base[\"t_id\"].isin(last_tr))]\n",
        "\n",
        "print(\"train customers:\", df_base[\"c_id\"].nunique())\n",
        "print(\"test customers:\", test_data[\"c_id\"].nunique())"
      ]
    },
    {
      "cell_type": "code",
      "execution_count": null,
      "metadata": {
        "id": "OudAZTvvUgFQ"
      },
      "outputs": [],
      "source": [
        "user = pd.pivot_table(data=df_base,\n",
        "                      values=\"payment\",\n",
        "                      index=\"c_id\",\n",
        "                      columns=\"item_id\")\n",
        "user = user.apply(lambda x: x/x, axis=1)\n",
        "user = user.fillna(0)"
      ]
    },
    {
      "cell_type": "markdown",
      "metadata": {
        "id": "neyCwKAHpMBY"
      },
      "source": [
        "# User-based Similarity"
      ]
    },
    {
      "cell_type": "code",
      "execution_count": null,
      "metadata": {
        "colab": {
          "background_save": true
        },
        "id": "ApoCLFogwJew",
        "outputId": "5ade4eb4-c155-4086-dffc-c4afc756da8c"
      },
      "outputs": [
        {
          "name": "stdout",
          "output_type": "stream",
          "text": [
            "Hit@20 : 0.2424\n",
            "Recall@20 : 0.2424\n",
            "MAP@20 : 0.1772\n",
            "NDCG@20 : 0.2073\n",
            "0    500\n",
            "1    160\n",
            "Name: hit, dtype: int64\n",
            "0    0.757576\n",
            "1    0.242424\n",
            "Name: hit, dtype: float64\n"
          ]
        }
      ],
      "source": [
        "customer_list = test_data[\"c_id\"].unique()\n",
        "\n",
        "main_table = hold_table\n",
        "main_table[\"item_id\"] = main_table[\"item_id\"].astype(\"int\")\n",
        "main_table[\"hit\"] = 0\n",
        "main_table[\"r_list\"] = 0\n",
        "\n",
        "k = 20\n",
        "n = 10\n",
        "\n",
        "hitt = 0\n",
        "rect = 0\n",
        "pret = 0\n",
        "ndct = 0\n",
        "\n",
        "counter = len(customer_list)\n",
        "for i in range(counter):\n",
        "    c = customer_list[i]\n",
        "    rel = main_table.loc[main_table[\"c_id\"]==c, \"item_id\"].unique()\n",
        "\n",
        "    score = 1 - pairwise_distances(user[user.index==c], user, metric=\"cosine\")\n",
        "    nn = score[0].argsort()[::-1][1:n+1]\n",
        "    rank_table = list()\n",
        "    for h in nn: \n",
        "        rank_table.append(user[user.index==h+1].values)\n",
        "    ranks = np.mean(rank_table, axis=0)[0].argsort()[::-1][:k]\n",
        "    ret = list(user.columns[ranks])\n",
        "    rlist = \",\".join([str(i) for i in ret])\n",
        "    main_table.loc[main_table[\"c_id\"]==c, \"r_list\"] = rlist \n",
        "\n",
        "    bl = np.isin(ret, rel)*1\n",
        "    rec = np.sum(bl)/len(rel)\n",
        "    pre = average_precision(bl)\n",
        "    ndc = ndcg_k(bl, len(bl))\n",
        "    h = np.max(bl)\n",
        "    main_table.loc[main_table[\"c_id\"]==c, \"hit\"] = h\n",
        "    hitt += h\n",
        "    rect += rec\n",
        "    pret += pre\n",
        "    ndct += ndc          \n",
        "\n",
        "hit = hitt/counter\n",
        "recall = rect/counter\n",
        "map = pret/counter \n",
        "ndcg = ndct/counter\n",
        "\n",
        "result = main_table.groupby(\"c_id\").agg(\n",
        "    {\"item_id\": lambda x: \",\".join([str(i) for i in x]),\n",
        "     \"hit\": \"max\",\n",
        "     \"r_list\": \"last\"})\n",
        "\n",
        "print(f\"Hit@{k} : {np.round(hit, 4)}\")\n",
        "print(f\"Recall@{k} : {np.round(recall, 4)}\")\n",
        "print(f\"MAP@{k} : {np.round(map, 4)}\")\n",
        "print(f\"NDCG@{k} : {np.round(ndcg, 4)}\")\n",
        "\n",
        "print(result.hit.value_counts())\n",
        "print(result.hit.value_counts()/len(result))"
      ]
    }
  ],
  "metadata": {
    "colab": {
      "collapsed_sections": [],
      "name": "similarity_app.ipynb",
      "toc_visible": true,
      "provenance": []
    },
    "kernelspec": {
      "display_name": "Python 3",
      "name": "python3"
    },
    "language_info": {
      "name": "python"
    }
  },
  "nbformat": 4,
  "nbformat_minor": 0
}