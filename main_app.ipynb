{
  "nbformat": 4,
  "nbformat_minor": 0,
  "metadata": {
    "colab": {
      "name": "main_app.ipynb",
      "provenance": [],
      "collapsed_sections": []
    },
    "kernelspec": {
      "name": "python3",
      "display_name": "Python 3"
    },
    "language_info": {
      "name": "python"
    }
  },
  "cells": [
    {
      "cell_type": "code",
      "metadata": {
        "id": "-gVoyyky1ogp",
        "colab": {
          "base_uri": "https://localhost:8080/"
        },
        "outputId": "1d4d23dc-79b3-4df3-c00c-e1b4cea69252"
      },
      "source": [
        "import numpy as np\n",
        "import pandas as pd\n",
        "import tensorflow as tf\n",
        "\n",
        "from datetime import datetime\n",
        "from tensorflow import keras\n",
        "from tensorflow.keras import layers\n",
        "\n",
        "import warnings\n",
        "warnings.filterwarnings(\"ignore\")\n",
        "\n",
        "print(tf.version.VERSION)\n",
        "print(keras.__version__)\n",
        "\n",
        "!wget \"https://raw.githubusercontent.com/ibrahimerdem/application_storage/main/model_config.py\" -P model_config -nc\n",
        "!wget \"https://raw.githubusercontent.com/ibrahimerdem/application_storage/main/utility_func.py\" -P utility_func -nc\n",
        "import sys\n",
        "sys.path.append(\"model_config\")\n",
        "sys.path.append(\"utility_func\")\n",
        "\n",
        "from utility_func import *\n",
        "from model_config import *"
      ],
      "execution_count": 2,
      "outputs": [
        {
          "output_type": "stream",
          "name": "stdout",
          "text": [
            "2.7.0\n",
            "2.7.0\n",
            "--2022-02-11 08:13:32--  https://raw.githubusercontent.com/ibrahimerdem/application_storage/main/model_config.py\n",
            "Resolving raw.githubusercontent.com (raw.githubusercontent.com)... 185.199.108.133, 185.199.109.133, 185.199.110.133, ...\n",
            "Connecting to raw.githubusercontent.com (raw.githubusercontent.com)|185.199.108.133|:443... connected.\n",
            "HTTP request sent, awaiting response... 200 OK\n",
            "Length: 6054 (5.9K) [text/plain]\n",
            "Saving to: ‘model_config/model_config.py’\n",
            "\n",
            "\rmodel_config.py       0%[                    ]       0  --.-KB/s               \rmodel_config.py     100%[===================>]   5.91K  --.-KB/s    in 0s      \n",
            "\n",
            "2022-02-11 08:13:32 (48.6 MB/s) - ‘model_config/model_config.py’ saved [6054/6054]\n",
            "\n",
            "--2022-02-11 08:13:32--  https://raw.githubusercontent.com/ibrahimerdem/application_storage/main/utility_func.py\n",
            "Resolving raw.githubusercontent.com (raw.githubusercontent.com)... 185.199.108.133, 185.199.109.133, 185.199.110.133, ...\n",
            "Connecting to raw.githubusercontent.com (raw.githubusercontent.com)|185.199.108.133|:443... connected.\n",
            "HTTP request sent, awaiting response... 200 OK\n",
            "Length: 3519 (3.4K) [text/plain]\n",
            "Saving to: ‘utility_func/utility_func.py’\n",
            "\n",
            "utility_func.py     100%[===================>]   3.44K  --.-KB/s    in 0s      \n",
            "\n",
            "2022-02-11 08:13:32 (51.9 MB/s) - ‘utility_func/utility_func.py’ saved [3519/3519]\n",
            "\n"
          ]
        }
      ]
    },
    {
      "cell_type": "code",
      "source": [
        "!wget \"https://github.com/ibrahimerdem/application_storage/raw/main/ecommerce_dataset.zip\"\n",
        "!unzip \"ecommerce_dataset.zip\"\n",
        "data = pd.read_csv(\"ecommerce_dataset.csv\")"
      ],
      "metadata": {
        "colab": {
          "base_uri": "https://localhost:8080/"
        },
        "id": "G5WJAtOGa0S2",
        "outputId": "892c33c4-ef70-42d3-88a7-7173eb21de55"
      },
      "execution_count": 3,
      "outputs": [
        {
          "output_type": "stream",
          "name": "stdout",
          "text": [
            "--2022-02-11 08:13:37--  https://github.com/ibrahimerdem/application_storage/raw/main/ecommerce_dataset.zip\n",
            "Resolving github.com (github.com)... 140.82.113.3\n",
            "Connecting to github.com (github.com)|140.82.113.3|:443... connected.\n",
            "HTTP request sent, awaiting response... 302 Found\n",
            "Location: https://raw.githubusercontent.com/ibrahimerdem/application_storage/main/ecommerce_dataset.zip [following]\n",
            "--2022-02-11 08:13:37--  https://raw.githubusercontent.com/ibrahimerdem/application_storage/main/ecommerce_dataset.zip\n",
            "Resolving raw.githubusercontent.com (raw.githubusercontent.com)... 185.199.110.133, 185.199.108.133, 185.199.109.133, ...\n",
            "Connecting to raw.githubusercontent.com (raw.githubusercontent.com)|185.199.110.133|:443... connected.\n",
            "HTTP request sent, awaiting response... 200 OK\n",
            "Length: 14653198 (14M) [application/zip]\n",
            "Saving to: ‘ecommerce_dataset.zip’\n",
            "\n",
            "ecommerce_dataset.z 100%[===================>]  13.97M  --.-KB/s    in 0.1s    \n",
            "\n",
            "2022-02-11 08:13:37 (122 MB/s) - ‘ecommerce_dataset.zip’ saved [14653198/14653198]\n",
            "\n",
            "Archive:  ecommerce_dataset.zip\n",
            "  inflating: ecommerce_dataset.csv   \n"
          ]
        }
      ]
    },
    {
      "cell_type": "markdown",
      "source": [
        "# Raw Data Processing"
      ],
      "metadata": {
        "id": "CQ_A8Zs6FD1V"
      }
    },
    {
      "cell_type": "code",
      "source": [
        "df = data.copy()"
      ],
      "metadata": {
        "id": "sm_wfWtZa26d"
      },
      "execution_count": 4,
      "outputs": []
    },
    {
      "cell_type": "code",
      "source": [
        "df = df[df[\"status\"]==\"complete\"]\n",
        "df = df.iloc[:, [0, 2, 20, 3, 8, 4, 5, 17]]\n",
        "df.rename(columns={\"item_id\":\"t_id\",\n",
        "                   \"created_at\":\"t_date\",\n",
        "                   \"Customer ID\":\"c_id\",\n",
        "                   \"sku\":\"item_name\",\n",
        "                   \"category_name_1\":\"item_category\",\n",
        "                   \"qty_ordered\":\"amount\",\n",
        "                   \"Customer Since\":\"c_since\"}, inplace=True)\n",
        "df[\"t_date\"] = df[\"t_date\"].astype(\"datetime64\")\n",
        "df[\"c_since\"] = df[\"c_since\"].astype(\"datetime64\")\n",
        "\n",
        "c_freq = 1\n",
        "p_freq = 2\n",
        "m_freq = 1000\n",
        "t_freq = 2500\n",
        "modeling_date = \"2018-04-01\"\n",
        "\n",
        "df_ =  df[df[\"t_date\"]<datetime.strptime(modeling_date, \"%Y-%m-%d\")]\n",
        "print(df_.groupby(\"c_id\")[\"t_id\"].count().describe())\n",
        "print(df_.groupby(\"item_name\")[\"t_id\"].count().describe())\n",
        "\n",
        "freq = pd.DataFrame(df_[\"item_name\"].value_counts())\n",
        "f_items = freq[freq[\"item_name\"]>p_freq].index\n",
        "df = df[df[\"item_name\"].isin(f_items)]\n",
        "print(\"after first filter\")\n",
        "print(\"#customers:\", df[\"c_id\"].nunique(),\n",
        "      \"#items\", df[\"item_name\"].nunique())\n",
        "\n",
        "df_ =  df[df[\"t_date\"]<datetime.strptime(modeling_date, \"%Y-%m-%d\")]\n",
        "freq = pd.DataFrame(df_[\"c_id\"].value_counts())\n",
        "f_cust = freq[freq[\"c_id\"]>c_freq].index\n",
        "df = df[df[\"c_id\"].isin(f_cust)]\n",
        "\n",
        "fcat = pd.DataFrame(df[\"item_category\"].value_counts())\n",
        "f_cat = fcat.loc[fcat[\"item_category\"]<t_freq, [\"item_category\"]]\n",
        "df.loc[df[\"item_category\"].isin(f_cat.index), \"item_category\"] = \"other\"\n",
        "\n",
        "print(\"\\nafter second filter\")\n",
        "mind = df[\"t_date\"].min()\n",
        "maxd = df[\"t_date\"].max()\n",
        "print(\"#customers:\", df[\"c_id\"].nunique(),\n",
        "      \"#items\", df[\"item_name\"].nunique())\n",
        "\n",
        "print(\"\\ndate between:\", mind.day, mind.month, mind.year,\n",
        "      \"-\", maxd.day, maxd.month, maxd.year)\n",
        "print(\"#transactions:\", df[\"t_id\"].nunique())\n",
        "print(\"#product-categories:\", df[\"item_category\"].nunique())\n",
        "\n",
        "df.loc[df[\"price\"]==0, \"price\"] = 1\n",
        "df[\"payment\"] = df[\"price\"]*df[\"amount\"]\n",
        "df.drop(columns=[\"amount\"], inplace=True)\n",
        "\n",
        "df[\"month\"] = df[\"t_date\"].dt.month\n",
        "df[\"month\"] = df[\"month\"].astype(\"int64\")\n",
        "\n",
        "df[\"dayofweek\"] = df[\"t_date\"].dt.dayofweek\n",
        "df[\"dayofweek\"] = df[\"dayofweek\"].astype(\"int64\") + 1\n",
        "\n",
        "df[\"recency\"] = datetime.strptime(modeling_date, \"%Y-%m-%d\") - df[\"t_date\"]\n",
        "df[\"recency\"] = df[\"recency\"].dt.days\n",
        "\n",
        "df[\"c_since\"] = datetime.strptime(modeling_date, \"%Y-%m-%d\") - df[\"c_since\"]\n",
        "df[\"c_since\"] = df[\"c_since\"].dt.days\n",
        "\n",
        "cust = df[\"c_id\"].unique()\n",
        "c_size = len(cust)\n",
        "cust2code = {}\n",
        "code2cust = {}\n",
        "for num, c in enumerate(cust):\n",
        "    cust2code[c] = num+1\n",
        "    code2cust[num+1] = c\n",
        "\n",
        "df[\"c_id\"] = df[\"c_id\"].map(cust2code)\n",
        "\n",
        "items = df[\"item_name\"].unique()\n",
        "i_size = len(items)\n",
        "item2code = {}\n",
        "code2item = {}\n",
        "for num, item in enumerate(items):\n",
        "    item2code[item] = num+1\n",
        "    code2item[num+1] = item\n",
        "\n",
        "df[\"item_id\"] = df[\"item_name\"].map(item2code)\n",
        "\n",
        "cats = df[\"item_category\"].unique()\n",
        "c_size = len(cats)\n",
        "cat2code = {}\n",
        "code2cat = {}\n",
        "for num, cat in enumerate(cats):\n",
        "    cat2code[cat] = num+1\n",
        "    code2cat[num+1] = cat\n",
        "\n",
        "df[\"category\"] = df[\"item_category\"].map(cat2code)\n",
        "df = df.drop(columns=[\"item_name\", \"item_category\"])\n",
        "\n",
        "print(\"max recency:\", df[\"recency\"].max())\n",
        "print(\"max price:\", df[\"price\"].max())\n",
        "print(\"max total-payment:\", df[\"payment\"].max())\n",
        "print(\"max c_since:\", df[\"c_since\"].max())\n",
        "\n",
        "df[\"recency\"] = pd.cut(df[df[\"recency\"]>0][\"recency\"],\n",
        "                       bins=100,\n",
        "                       labels=list(range(1,101)))\n",
        "df[\"c_since\"] = pd.cut(df[df[\"c_since\"]>0][\"c_since\"],\n",
        "                       bins=100,\n",
        "                       labels=list(range(1,101)))\n",
        "df[\"payment\"] = pd.cut(df[\"payment\"],\n",
        "                       bins=1000,\n",
        "                       labels=list(range(1,1001)))\n",
        "df[\"price\"] = pd.cut(df[\"price\"],\n",
        "                     bins=500,\n",
        "                     labels=list(range(1,501)))\n",
        "\n",
        "df.to_csv(\"data_set.csv\",\n",
        "          sep=\";\",\n",
        "          index=False)"
      ],
      "metadata": {
        "id": "uHH7lnfrbWeP",
        "colab": {
          "base_uri": "https://localhost:8080/"
        },
        "outputId": "476ebe55-3876-4da9-cc57-e743a9dd72b0"
      },
      "execution_count": 5,
      "outputs": [
        {
          "output_type": "stream",
          "name": "stdout",
          "text": [
            "count    65089.000000\n",
            "mean         3.486887\n",
            "std         16.744492\n",
            "min          1.000000\n",
            "25%          1.000000\n",
            "50%          1.000000\n",
            "75%          3.000000\n",
            "max       1657.000000\n",
            "Name: t_id, dtype: float64\n",
            "count    42463.000000\n",
            "mean         5.344841\n",
            "std         27.581032\n",
            "min          1.000000\n",
            "25%          1.000000\n",
            "50%          1.000000\n",
            "75%          3.000000\n",
            "max       2863.000000\n",
            "Name: t_id, dtype: float64\n",
            "after first filter\n",
            "#customers: 58340 #items 13026\n",
            "\n",
            "after second filter\n",
            "#customers: 25939 #items 12907\n",
            "\n",
            "date between: 1 7 2016 - 30 7 2018\n",
            "#transactions: 160046\n",
            "#product-categories: 13\n",
            "max recency: 639\n",
            "max price: 111856.0\n",
            "max total-payment: 8944000.0\n",
            "max c_since: 639\n"
          ]
        }
      ]
    },
    {
      "cell_type": "markdown",
      "source": [
        "# Processed Data"
      ],
      "metadata": {
        "id": "CStPzoE8FOil"
      }
    },
    {
      "cell_type": "code",
      "source": [
        "processed_data = pd.read_csv(\"data_set.csv\",\n",
        "                             sep=\";\")"
      ],
      "metadata": {
        "id": "g9HvayWJFN89"
      },
      "execution_count": 34,
      "outputs": []
    },
    {
      "cell_type": "markdown",
      "source": [
        "# Time-Basis Application"
      ],
      "metadata": {
        "id": "7gCiiXR1FTcN"
      }
    },
    {
      "cell_type": "code",
      "source": [
        "df_a = processed_data.copy()\n",
        "\n",
        "model_start = \"07-01-2016\"\n",
        "model_end = \"04-01-2018\"\n",
        "test_start = \"04-01-2018\"\n",
        "test_end = \"07-01-2018\"\n",
        "\n",
        "df_a[\"t_date\"] = df_a[\"t_date\"].astype(\"datetime64\")\n",
        "df_base = df_a[(df_a[\"t_date\"]>=model_start)&(df_a[\"t_date\"]<model_end)]\n",
        "\n",
        "pro_max = df_base[\"item_id\"].astype(\"int64\").max()\n",
        "rec_max = df_base[\"recency\"].astype(\"int64\").max()\n",
        "pay_max = df_base[\"payment\"].astype(\"int64\").max()\n",
        "cat_max = df_base[\"category\"].astype(\"int64\").max()\n",
        "mon_max = df_base[\"month\"].astype(\"int64\").max()\n",
        "day_max = df_base[\"dayofweek\"].astype(\"int64\").max()\n",
        "pri_max = df_base[\"price\"].astype(\"int64\").max()\n",
        "sin_max = df_base[\"c_since\"].astype(\"int64\").max()\n",
        "\n",
        "n_padded = 24\n",
        "batch_size = 256\n",
        "train_size = 0.9\n",
        "\n",
        "hold_df = df_a.loc[(df_a[\"t_date\"]>=test_start)&(df_a[\"t_date\"]<test_end),\n",
        "                   [\"c_id\", \"item_id\"]]\n",
        "\n",
        "items = df_base[\"item_id\"].unique()\n",
        "hold_df = hold_df[hold_df[\"item_id\"].isin(items)]\n",
        "hold_c = hold_df[\"c_id\"].unique()\n",
        "\n",
        "train = df_base[~(df_base[\"c_id\"].isin(hold_c))]\n",
        "test_data = df_base[df_base[\"c_id\"].isin(hold_c)]\n",
        "\n",
        "train_c = train[\"c_id\"].unique()\n",
        "random_selection = np.random.rand(len(train_c)) <= train_size\n",
        "val_c = train_c[~random_selection]\n",
        "val_data = train[train[\"c_id\"].isin(val_c)]\n",
        "train_data = train[~(train[\"c_id\"].isin(val_c))]\n",
        "\n",
        "train_data[\"recency\"] = train_data[\"recency\"].astype(\"int\")\n",
        "test_data[\"recency\"] = test_data[\"recency\"].astype(\"int\")\n",
        "val_data[\"recency\"] = val_data[\"recency\"].astype(\"int\")\n",
        "\n",
        "print(\"train customers:\", train_data[\"c_id\"].nunique())\n",
        "print(\"validation customers:\", val_data[\"c_id\"].nunique())\n",
        "print(\"test customers:\", test_data[\"c_id\"].nunique())\n",
        "print(test_data.groupby(\"c_id\")[\"t_id\"].count().describe())"
      ],
      "metadata": {
        "colab": {
          "base_uri": "https://localhost:8080/"
        },
        "id": "oc9E25fmcEq5",
        "outputId": "38520f30-9aed-40e7-886e-a7af9fae975f"
      },
      "execution_count": 35,
      "outputs": [
        {
          "output_type": "stream",
          "name": "stdout",
          "text": [
            "train customers: 22950\n",
            "validation customers: 2600\n",
            "test customers: 389\n",
            "count    389.000000\n",
            "mean      23.082262\n",
            "std       60.908444\n",
            "min        2.000000\n",
            "25%        4.000000\n",
            "50%        7.000000\n",
            "75%       21.000000\n",
            "max      855.000000\n",
            "Name: t_id, dtype: float64\n"
          ]
        }
      ]
    },
    {
      "cell_type": "code",
      "source": [
        "train_set = make_data_dict(train_data, n_padded)\n",
        "val_set = make_data_dict(val_data, n_padded)\n",
        "\n",
        "train_set = create_batch_data(train_set, batch=batch_size)\n",
        "val_set = create_batch_data(val_set, batch=batch_size)"
      ],
      "metadata": {
        "id": "pkruPgqV-omM"
      },
      "execution_count": 36,
      "outputs": []
    },
    {
      "cell_type": "markdown",
      "source": [
        "## Model"
      ],
      "metadata": {
        "id": "gUDKviLJFauG"
      }
    },
    {
      "cell_type": "code",
      "source": [
        "n_dim_pro = 128\n",
        "\n",
        "input_item = layers.Input(shape=(n_padded,),\n",
        "                          name=\"item_ids\",\n",
        "                          dtype=tf.int32)\n",
        "encoding_padding_mask = tf.math.logical_not(tf.math.equal(input_item, 0))\n",
        "embedding_item = layers.Embedding(input_dim=pro_max+1,\n",
        "                                  output_dim=n_dim_pro)(input_item)\n",
        "\n",
        "input_price = layers.Input(shape=(n_padded, pri_max),\n",
        "                           name=\"price\",\n",
        "                           dtype=tf.float32)\n",
        "\n",
        "input_category = layers.Input(shape=(n_padded, cat_max),\n",
        "                              name=\"category\",\n",
        "                              dtype=tf.float32)\n",
        "\n",
        "input_recency = layers.Input(shape=(n_padded, rec_max),\n",
        "                             name=\"recency\",\n",
        "                             dtype=tf.float32)\n",
        "\n",
        "input_month = layers.Input(shape=(n_padded, mon_max),\n",
        "                           name=\"month\",\n",
        "                           dtype=tf.float32)\n",
        "\n",
        "input_dayofweek = layers.Input(shape=(n_padded, day_max),\n",
        "                               name=\"dayofweek\",\n",
        "                               dtype=tf.float32)\n",
        "\n",
        "input_payment = layers.Input(shape=(n_padded, pay_max),\n",
        "                             name=\"payment\",\n",
        "                             dtype=tf.float32)\n",
        "\n",
        "input_since = layers.Input(shape=(sin_max,),\n",
        "                           name=\"c_since\",\n",
        "                           dtype=tf.float32)\n",
        "r = layers.RepeatVector(n_padded)(input_since)\n",
        "\n",
        "input_concat = layers.Concatenate()(\n",
        "    [embedding_item,\n",
        "     input_category,\n",
        "     input_recency,\n",
        "     input_month,\n",
        "     input_dayofweek,\n",
        "     input_payment,\n",
        "     input_price,\n",
        "     ])\n",
        "\n",
        "input_concat = layers.BatchNormalization()(input_concat)\n",
        "\n",
        "x = layers.LSTM(units=400, \n",
        "                return_sequences=True)(input_concat)\n",
        "\n",
        "x = layers.Dropout(rate=0.8)(x)\n",
        "x = layers.BatchNormalization()(x)\n",
        "\n",
        "x = layers.Concatenate()([x, r])\n",
        "\n",
        "z = layers.Attention(use_scale=False,\n",
        "                     causal=True)(inputs=[x, x],\n",
        "                                  mask=[encoding_padding_mask,\n",
        "                                        encoding_padding_mask])       \n",
        "\n",
        "output = layers.Dense(pro_max+1)(z)\n",
        "\n",
        "model = keras.Model([input_item,\n",
        "                     input_category,\n",
        "                     input_recency,\n",
        "                     input_month,\n",
        "                     input_dayofweek,\n",
        "                     input_payment,\n",
        "                     input_price,\n",
        "                     input_since], output)\n",
        "model.compile(loss=loss_function,\n",
        "              optimizer=keras.optimizers.Adam(0.0001),\n",
        "              metrics=[\"sparse_categorical_accuracy\"])"
      ],
      "metadata": {
        "id": "nJWDzqWD78cJ"
      },
      "execution_count": null,
      "outputs": []
    },
    {
      "cell_type": "code",
      "source": [
        "model.summary()"
      ],
      "metadata": {
        "colab": {
          "base_uri": "https://localhost:8080/"
        },
        "id": "WAj8g4-e9kQH",
        "outputId": "3532a3bd-afb1-48e9-9eca-8c1906e71639"
      },
      "execution_count": null,
      "outputs": [
        {
          "output_type": "stream",
          "name": "stdout",
          "text": [
            "Model: \"model\"\n",
            "__________________________________________________________________________________________________\n",
            " Layer (type)                   Output Shape         Param #     Connected to                     \n",
            "==================================================================================================\n",
            " item_ids (InputLayer)          [(None, 24)]         0           []                               \n",
            "                                                                                                  \n",
            " embedding (Embedding)          (None, 24, 128)      1651712     ['item_ids[0][0]']               \n",
            "                                                                                                  \n",
            " category (InputLayer)          [(None, 24, 13)]     0           []                               \n",
            "                                                                                                  \n",
            " recency (InputLayer)           [(None, 24, 100)]    0           []                               \n",
            "                                                                                                  \n",
            " month (InputLayer)             [(None, 24, 12)]     0           []                               \n",
            "                                                                                                  \n",
            " dayofweek (InputLayer)         [(None, 24, 7)]      0           []                               \n",
            "                                                                                                  \n",
            " payment (InputLayer)           [(None, 24, 1000)]   0           []                               \n",
            "                                                                                                  \n",
            " price (InputLayer)             [(None, 24, 500)]    0           []                               \n",
            "                                                                                                  \n",
            " concatenate (Concatenate)      (None, 24, 1760)     0           ['embedding[0][0]',              \n",
            "                                                                  'category[0][0]',               \n",
            "                                                                  'recency[0][0]',                \n",
            "                                                                  'month[0][0]',                  \n",
            "                                                                  'dayofweek[0][0]',              \n",
            "                                                                  'payment[0][0]',                \n",
            "                                                                  'price[0][0]']                  \n",
            "                                                                                                  \n",
            " batch_normalization (BatchNorm  (None, 24, 1760)    7040        ['concatenate[0][0]']            \n",
            " alization)                                                                                       \n",
            "                                                                                                  \n",
            " lstm (LSTM)                    (None, 24, 400)      3457600     ['batch_normalization[0][0]']    \n",
            "                                                                                                  \n",
            " dropout (Dropout)              (None, 24, 400)      0           ['lstm[0][0]']                   \n",
            "                                                                                                  \n",
            " c_since (InputLayer)           [(None, 100)]        0           []                               \n",
            "                                                                                                  \n",
            " batch_normalization_1 (BatchNo  (None, 24, 400)     1600        ['dropout[0][0]']                \n",
            " rmalization)                                                                                     \n",
            "                                                                                                  \n",
            " repeat_vector (RepeatVector)   (None, 24, 100)      0           ['c_since[0][0]']                \n",
            "                                                                                                  \n",
            " tf.math.equal (TFOpLambda)     (None, 24)           0           ['item_ids[0][0]']               \n",
            "                                                                                                  \n",
            " concatenate_1 (Concatenate)    (None, 24, 500)      0           ['batch_normalization_1[0][0]',  \n",
            "                                                                  'repeat_vector[0][0]']          \n",
            "                                                                                                  \n",
            " tf.math.logical_not (TFOpLambd  (None, 24)          0           ['tf.math.equal[0][0]']          \n",
            " a)                                                                                               \n",
            "                                                                                                  \n",
            " attention (Attention)          (None, 24, 500)      0           ['concatenate_1[0][0]',          \n",
            "                                                                  'concatenate_1[0][0]',          \n",
            "                                                                  'tf.math.logical_not[0][0]',    \n",
            "                                                                  'tf.math.logical_not[0][0]']    \n",
            "                                                                                                  \n",
            " dense (Dense)                  (None, 24, 12904)    6464904     ['attention[0][0]']              \n",
            "                                                                                                  \n",
            "==================================================================================================\n",
            "Total params: 11,582,856\n",
            "Trainable params: 11,578,536\n",
            "Non-trainable params: 4,320\n",
            "__________________________________________________________________________________________________\n"
          ]
        }
      ]
    },
    {
      "cell_type": "code",
      "source": [
        "es = keras.callbacks.EarlyStopping(monitor=\"val_loss\",\n",
        "                                   mode=\"min\",\n",
        "                                   verbose=1,\n",
        "                                   patience=3)\n",
        "\n",
        "model.fit(train_set,\n",
        "          epochs=50,\n",
        "          validation_data=val_set,\n",
        "          callbacks=[es])"
      ],
      "metadata": {
        "colab": {
          "base_uri": "https://localhost:8080/"
        },
        "id": "V5u7Ynfd99Eu",
        "outputId": "c9b35d68-181e-4c77-9449-4421b79c4276"
      },
      "execution_count": null,
      "outputs": [
        {
          "output_type": "stream",
          "name": "stdout",
          "text": [
            "Epoch 1/50\n",
            "90/90 [==============================] - 32s 274ms/step - loss: 0.3180 - sparse_categorical_accuracy: 0.0099 - val_loss: 0.3044 - val_sparse_categorical_accuracy: 0.0294\n",
            "Epoch 2/50\n",
            "90/90 [==============================] - 25s 276ms/step - loss: 0.3026 - sparse_categorical_accuracy: 0.0225 - val_loss: 0.2975 - val_sparse_categorical_accuracy: 0.0283\n",
            "Epoch 3/50\n",
            "90/90 [==============================] - 25s 277ms/step - loss: 0.2929 - sparse_categorical_accuracy: 0.0268 - val_loss: 0.2904 - val_sparse_categorical_accuracy: 0.0295\n",
            "Epoch 4/50\n",
            "90/90 [==============================] - 25s 282ms/step - loss: 0.2876 - sparse_categorical_accuracy: 0.0360 - val_loss: 0.2842 - val_sparse_categorical_accuracy: 0.0448\n",
            "Epoch 5/50\n",
            "90/90 [==============================] - 27s 298ms/step - loss: 0.2833 - sparse_categorical_accuracy: 0.0487 - val_loss: 0.2777 - val_sparse_categorical_accuracy: 0.0722\n",
            "Epoch 6/50\n",
            "90/90 [==============================] - 27s 298ms/step - loss: 0.2788 - sparse_categorical_accuracy: 0.0627 - val_loss: 0.2708 - val_sparse_categorical_accuracy: 0.0852\n",
            "Epoch 7/50\n",
            "90/90 [==============================] - 26s 294ms/step - loss: 0.2744 - sparse_categorical_accuracy: 0.0757 - val_loss: 0.2644 - val_sparse_categorical_accuracy: 0.0966\n",
            "Epoch 8/50\n",
            "90/90 [==============================] - 26s 286ms/step - loss: 0.2700 - sparse_categorical_accuracy: 0.0870 - val_loss: 0.2591 - val_sparse_categorical_accuracy: 0.1088\n",
            "Epoch 9/50\n",
            "90/90 [==============================] - 26s 287ms/step - loss: 0.2657 - sparse_categorical_accuracy: 0.0979 - val_loss: 0.2550 - val_sparse_categorical_accuracy: 0.1163\n",
            "Epoch 10/50\n",
            "90/90 [==============================] - 26s 287ms/step - loss: 0.2614 - sparse_categorical_accuracy: 0.1070 - val_loss: 0.2519 - val_sparse_categorical_accuracy: 0.1213\n",
            "Epoch 11/50\n",
            "90/90 [==============================] - 26s 285ms/step - loss: 0.2574 - sparse_categorical_accuracy: 0.1135 - val_loss: 0.2492 - val_sparse_categorical_accuracy: 0.1267\n",
            "Epoch 12/50\n",
            "90/90 [==============================] - 26s 291ms/step - loss: 0.2534 - sparse_categorical_accuracy: 0.1208 - val_loss: 0.2469 - val_sparse_categorical_accuracy: 0.1298\n",
            "Epoch 13/50\n",
            "90/90 [==============================] - 26s 287ms/step - loss: 0.2499 - sparse_categorical_accuracy: 0.1251 - val_loss: 0.2449 - val_sparse_categorical_accuracy: 0.1334\n",
            "Epoch 14/50\n",
            "90/90 [==============================] - 26s 292ms/step - loss: 0.2463 - sparse_categorical_accuracy: 0.1313 - val_loss: 0.2432 - val_sparse_categorical_accuracy: 0.1360\n",
            "Epoch 15/50\n",
            "90/90 [==============================] - 26s 291ms/step - loss: 0.2432 - sparse_categorical_accuracy: 0.1360 - val_loss: 0.2416 - val_sparse_categorical_accuracy: 0.1387\n",
            "Epoch 16/50\n",
            "90/90 [==============================] - 26s 285ms/step - loss: 0.2400 - sparse_categorical_accuracy: 0.1397 - val_loss: 0.2403 - val_sparse_categorical_accuracy: 0.1396\n",
            "Epoch 17/50\n",
            "90/90 [==============================] - 26s 285ms/step - loss: 0.2371 - sparse_categorical_accuracy: 0.1441 - val_loss: 0.2392 - val_sparse_categorical_accuracy: 0.1429\n",
            "Epoch 18/50\n",
            "90/90 [==============================] - 26s 292ms/step - loss: 0.2342 - sparse_categorical_accuracy: 0.1481 - val_loss: 0.2381 - val_sparse_categorical_accuracy: 0.1454\n",
            "Epoch 19/50\n",
            "90/90 [==============================] - 26s 284ms/step - loss: 0.2315 - sparse_categorical_accuracy: 0.1529 - val_loss: 0.2374 - val_sparse_categorical_accuracy: 0.1482\n",
            "Epoch 20/50\n",
            "90/90 [==============================] - 26s 283ms/step - loss: 0.2289 - sparse_categorical_accuracy: 0.1573 - val_loss: 0.2366 - val_sparse_categorical_accuracy: 0.1495\n",
            "Epoch 21/50\n",
            "90/90 [==============================] - 25s 283ms/step - loss: 0.2263 - sparse_categorical_accuracy: 0.1620 - val_loss: 0.2360 - val_sparse_categorical_accuracy: 0.1496\n",
            "Epoch 22/50\n",
            "90/90 [==============================] - 26s 285ms/step - loss: 0.2240 - sparse_categorical_accuracy: 0.1654 - val_loss: 0.2355 - val_sparse_categorical_accuracy: 0.1506\n",
            "Epoch 23/50\n",
            "90/90 [==============================] - 26s 286ms/step - loss: 0.2216 - sparse_categorical_accuracy: 0.1701 - val_loss: 0.2350 - val_sparse_categorical_accuracy: 0.1526\n",
            "Epoch 24/50\n",
            "90/90 [==============================] - 26s 292ms/step - loss: 0.2192 - sparse_categorical_accuracy: 0.1757 - val_loss: 0.2346 - val_sparse_categorical_accuracy: 0.1532\n",
            "Epoch 25/50\n",
            "90/90 [==============================] - 26s 285ms/step - loss: 0.2170 - sparse_categorical_accuracy: 0.1797 - val_loss: 0.2342 - val_sparse_categorical_accuracy: 0.1538\n",
            "Epoch 26/50\n",
            "90/90 [==============================] - 25s 282ms/step - loss: 0.2148 - sparse_categorical_accuracy: 0.1851 - val_loss: 0.2339 - val_sparse_categorical_accuracy: 0.1537\n",
            "Epoch 27/50\n",
            "90/90 [==============================] - 26s 286ms/step - loss: 0.2127 - sparse_categorical_accuracy: 0.1883 - val_loss: 0.2337 - val_sparse_categorical_accuracy: 0.1545\n",
            "Epoch 28/50\n",
            "90/90 [==============================] - 26s 290ms/step - loss: 0.2106 - sparse_categorical_accuracy: 0.1942 - val_loss: 0.2335 - val_sparse_categorical_accuracy: 0.1546\n",
            "Epoch 29/50\n",
            "90/90 [==============================] - 25s 282ms/step - loss: 0.2084 - sparse_categorical_accuracy: 0.1992 - val_loss: 0.2334 - val_sparse_categorical_accuracy: 0.1537\n",
            "Epoch 30/50\n",
            "90/90 [==============================] - 26s 287ms/step - loss: 0.2065 - sparse_categorical_accuracy: 0.2040 - val_loss: 0.2332 - val_sparse_categorical_accuracy: 0.1538\n",
            "Epoch 31/50\n",
            "90/90 [==============================] - 26s 288ms/step - loss: 0.2044 - sparse_categorical_accuracy: 0.2105 - val_loss: 0.2332 - val_sparse_categorical_accuracy: 0.1551\n",
            "Epoch 32/50\n",
            "90/90 [==============================] - 26s 285ms/step - loss: 0.2024 - sparse_categorical_accuracy: 0.2161 - val_loss: 0.2331 - val_sparse_categorical_accuracy: 0.1554\n",
            "Epoch 33/50\n",
            "90/90 [==============================] - 26s 285ms/step - loss: 0.2005 - sparse_categorical_accuracy: 0.2217 - val_loss: 0.2332 - val_sparse_categorical_accuracy: 0.1551\n",
            "Epoch 34/50\n",
            "90/90 [==============================] - 26s 290ms/step - loss: 0.1984 - sparse_categorical_accuracy: 0.2271 - val_loss: 0.2331 - val_sparse_categorical_accuracy: 0.1558\n",
            "Epoch 35/50\n",
            "90/90 [==============================] - 26s 288ms/step - loss: 0.1966 - sparse_categorical_accuracy: 0.2325 - val_loss: 0.2332 - val_sparse_categorical_accuracy: 0.1558\n",
            "Epoch 00035: early stopping\n"
          ]
        },
        {
          "output_type": "execute_result",
          "data": {
            "text/plain": [
              "<keras.callbacks.History at 0x7ff4c60645d0>"
            ]
          },
          "metadata": {},
          "execution_count": 11
        }
      ]
    },
    {
      "cell_type": "markdown",
      "source": [
        "## Evaluation"
      ],
      "metadata": {
        "id": "nfVNjDyZFeum"
      }
    },
    {
      "cell_type": "code",
      "source": [
        "test_set = make_data_dict(test_data, n_padded, True)\n",
        "test_set = create_batch_data(test_set, test=True, batch=batch_size)"
      ],
      "metadata": {
        "id": "qGMA9x8yCiNP"
      },
      "execution_count": null,
      "outputs": []
    },
    {
      "cell_type": "code",
      "source": [
        "y_pred = model.predict(test_set)\n",
        "\n",
        "customer_list = test_data[\"c_id\"].unique()\n",
        "\n",
        "main_table = hold_df[hold_df[\"c_id\"].isin(customer_list)]\n",
        "main_table[\"item_id\"] = main_table[\"item_id\"].astype(\"int\")\n",
        "main_table[\"hit\"] = 0\n",
        "main_table[\"r_list\"] = 0\n",
        "\n",
        "k = 20\n",
        "\n",
        "hitt = 0\n",
        "rect = 0\n",
        "pret = 0\n",
        "ndct = 0\n",
        "\n",
        "counter = len(customer_list)\n",
        "for i in range(counter):\n",
        "    c = customer_list[i]\n",
        "    rel = main_table.loc[main_table[\"c_id\"]==c, \"item_id\"].unique()\n",
        "    ret = y_pred[i][-1].argsort()[::-1][:k]\n",
        "    rlist = \",\".join([str(i) for i in ret])\n",
        "    main_table.loc[main_table[\"c_id\"]==c, \"r_list\"] = rlist\n",
        "    bl = np.isin(ret, rel)*1\n",
        "    rec = np.sum(bl)/len(rel)\n",
        "    pre = average_precision(bl)\n",
        "    ndc = ndcg_k(bl, len(bl))\n",
        "    h = np.max(bl)\n",
        "    main_table.loc[main_table[\"c_id\"]==c, \"hit\"] = h\n",
        "    hitt += h\n",
        "    rect += rec\n",
        "    pret += pre\n",
        "    ndct += ndc\n",
        "\n",
        "hit = hitt/counter\n",
        "recall = rect/counter\n",
        "map = pret/counter \n",
        "ndcg = ndct/counter\n",
        "\n",
        "result = main_table.groupby(\"c_id\").agg(\n",
        "    {\"item_id\": lambda x: \",\".join([str(i) for i in x]),\n",
        "     \"hit\": \"max\",\n",
        "     \"r_list\": \"last\"})\n",
        "\n",
        "print(f\"Hit@{k} : {np.round(hit, 4)}\")\n",
        "print(f\"Recall@{k} : {np.round(recall, 4)}\")\n",
        "print(f\"MAP@{k} : {np.round(map, 4)}\")\n",
        "print(f\"NDCG@{k} : {np.round(ndcg, 4)}\")\n",
        "\n",
        "print(result.hit.value_counts())\n",
        "print(result.hit.value_counts()/len(result))"
      ],
      "metadata": {
        "id": "CGgxwocv2gbN",
        "colab": {
          "base_uri": "https://localhost:8080/"
        },
        "outputId": "fc65ff11-db39-4c05-ebf8-16fc89dab94a"
      },
      "execution_count": null,
      "outputs": [
        {
          "output_type": "stream",
          "name": "stdout",
          "text": [
            "Hit@20 : 0.2185\n",
            "Recall@20 : 0.1561\n",
            "MAP@20 : 0.0925\n",
            "NDCG@20 : 0.134\n",
            "0    304\n",
            "1     85\n",
            "Name: hit, dtype: int64\n",
            "0    0.781491\n",
            "1    0.218509\n",
            "Name: hit, dtype: float64\n"
          ]
        }
      ]
    },
    {
      "cell_type": "markdown",
      "source": [
        "### Baseline"
      ],
      "metadata": {
        "id": "5fSdo5CbFj43"
      }
    },
    {
      "cell_type": "markdown",
      "source": [
        "#### Last-Items (Random)"
      ],
      "metadata": {
        "id": "qxCF-QaDsDsk"
      }
    },
    {
      "cell_type": "code",
      "source": [
        "customer_list = test_data[\"c_id\"].unique()\n",
        "\n",
        "main_table = hold_df[hold_df[\"c_id\"].isin(customer_list)]\n",
        "main_table[\"item_id\"] = main_table[\"item_id\"].astype(\"int\")\n",
        "main_table[\"hit\"] = 0\n",
        "main_table[\"r_list\"] = 0\n",
        "\n",
        "k = 20\n",
        "\n",
        "hitt = 0\n",
        "rect = 0\n",
        "pret = 0\n",
        "ndct = 0\n",
        "\n",
        "counter = len(customer_list)\n",
        "for i in range(counter):\n",
        "    c = customer_list[i]\n",
        "    rel = main_table.loc[main_table[\"c_id\"]==c, \"item_id\"].unique()\n",
        "    re = list(test_data.loc[test_data[\"c_id\"]==c, \"item_id\"].unique())\n",
        "    if len(re) > k:\n",
        "        ret = np.random.choice(re, k, replace=False)\n",
        "    else:\n",
        "        ret = list()\n",
        "        while len(re)>0:\n",
        "            ri = re.pop()\n",
        "            if ri not in ret:\n",
        "                ret.append(ri)\n",
        "    rlist = \",\".join([str(i) for i in ret])\n",
        "    main_table.loc[main_table[\"c_id\"]==c, \"r_list\"] = rlist \n",
        "    bl = np.isin(ret, rel)*1\n",
        "    rec = np.sum(bl)/len(rel)\n",
        "    pre = average_precision(bl)\n",
        "    ndc = ndcg_k(bl, len(bl))\n",
        "    h = np.max(bl)\n",
        "    main_table.loc[main_table[\"c_id\"]==c, \"hit\"] = h\n",
        "    hitt += h\n",
        "    rect += rec\n",
        "    pret += pre\n",
        "    ndct += ndc\n",
        "\n",
        "hit = hitt/counter\n",
        "recall = rect/counter\n",
        "map = pret/counter \n",
        "ndcg = ndct/counter\n",
        "\n",
        "result = main_table.groupby(\"c_id\").agg(\n",
        "    {\"item_id\": lambda x: \",\".join([str(y) for y in x]),\n",
        "     \"hit\": \"max\",\n",
        "     \"r_list\": \"last\"})\n",
        "\n",
        "print(f\"Hit@{k} : {np.round(hit, 4)}\")\n",
        "print(f\"Recall@{k} : {np.round(recall, 4)}\")\n",
        "print(f\"MAP@{k} : {np.round(map, 4)}\")\n",
        "print(f\"NDCG@{k} : {np.round(ndcg, 4)}\")\n",
        "\n",
        "print(result.hit.value_counts())\n",
        "print(result.hit.value_counts()/len(result))"
      ],
      "metadata": {
        "colab": {
          "base_uri": "https://localhost:8080/"
        },
        "id": "T82jy6cgcA4R",
        "outputId": "f7d0b2e2-3c79-4b6f-a21b-c1105ad5988e"
      },
      "execution_count": null,
      "outputs": [
        {
          "output_type": "stream",
          "name": "stdout",
          "text": [
            "Hit@20 : 0.1517\n",
            "Recall@20 : 0.1049\n",
            "MAP@20 : 0.0749\n",
            "NDCG@20 : 0.1031\n",
            "0    330\n",
            "1     59\n",
            "Name: hit, dtype: int64\n",
            "0    0.848329\n",
            "1    0.151671\n",
            "Name: hit, dtype: float64\n"
          ]
        }
      ]
    },
    {
      "cell_type": "markdown",
      "source": [
        "#### Last-Items"
      ],
      "metadata": {
        "id": "HRBFP5YosJWr"
      }
    },
    {
      "cell_type": "code",
      "source": [
        "item_list = test_data.groupby(\"c_id\", as_index=False).agg({\"item_id\":lambda i: list(i)})\n",
        "customer_list = test_data[\"c_id\"].unique()\n",
        "main_table = hold_df[hold_df[\"c_id\"].isin(customer_list)]\n",
        "main_table[\"item_id\"] = main_table[\"item_id\"].astype(\"int\")\n",
        "main_table[\"hit\"] = 0\n",
        "main_table[\"r_list\"] = 0\n",
        "\n",
        "k = 20\n",
        "\n",
        "hitt = 0\n",
        "rect = 0\n",
        "pret = 0\n",
        "ndct = 0\n",
        "\n",
        "counter = len(customer_list)\n",
        "for i in range(counter):\n",
        "    c = customer_list[i]\n",
        "    rel = main_table.loc[main_table[\"c_id\"]==c, \"item_id\"].unique()\n",
        "    re = item_list.loc[item_list[\"c_id\"]==c, \"item_id\"].values[0]\n",
        "    ret = list()\n",
        "    while len(re)>0:\n",
        "        ri = re.pop()\n",
        "        if ri not in ret:\n",
        "            ret.append(ri)\n",
        "    ret = ret[:k]\n",
        "    rlist = \",\".join([str(x) for x in ret])\n",
        "    main_table.loc[main_table[\"c_id\"]==c, \"r_list\"] = rlist\n",
        "    bl = np.isin(ret, rel)*1\n",
        "    rec = np.sum(bl)/len(rel)\n",
        "    pre = average_precision(bl)\n",
        "    ndc = ndcg_k(bl, len(bl))\n",
        "    h = np.max(bl)\n",
        "    main_table.loc[main_table[\"c_id\"]==c, \"hit\"] = h\n",
        "    hitt += h\n",
        "    rect += rec\n",
        "    pret += pre\n",
        "    ndct += ndc\n",
        "\n",
        "hit = hitt/counter\n",
        "recall = rect/counter\n",
        "map = pret/counter \n",
        "ndcg = ndct/counter\n",
        "\n",
        "result = main_table.groupby(\"c_id\").agg(\n",
        "    {\"item_id\": lambda x: \",\".join([str(y) for y in x]),\n",
        "     \"hit\": \"max\",\n",
        "     \"r_list\": \"last\"})\n",
        "\n",
        "\n",
        "print(f\"Hit@{k} : {np.round(hit, 4)}\")\n",
        "print(f\"Recall@{k} : {np.round(recall, 4)}\")\n",
        "print(f\"MAP@{k} : {np.round(map, 4)}\")\n",
        "print(f\"NDCG@{k} : {np.round(ndcg, 4)}\")\n",
        "\n",
        "print(result.hit.value_counts())\n",
        "print(result.hit.value_counts()/len(result))"
      ],
      "metadata": {
        "colab": {
          "base_uri": "https://localhost:8080/"
        },
        "id": "H8KzztMDdykU",
        "outputId": "bc62392a-6897-47af-dcac-4fd654b785dd"
      },
      "execution_count": null,
      "outputs": [
        {
          "output_type": "stream",
          "name": "stdout",
          "text": [
            "Hit@20 : 0.1697\n",
            "Recall@20 : 0.1118\n",
            "MAP@20 : 0.1037\n",
            "NDCG@20 : 0.1328\n",
            "0    323\n",
            "1     66\n",
            "Name: hit, dtype: int64\n",
            "0    0.830334\n",
            "1    0.169666\n",
            "Name: hit, dtype: float64\n"
          ]
        }
      ]
    },
    {
      "cell_type": "markdown",
      "source": [
        "# Last-Event Application"
      ],
      "metadata": {
        "id": "z2NS2nleFum2"
      }
    },
    {
      "cell_type": "code",
      "source": [
        "df_b = processed_data.copy()\n",
        "\n",
        "model_start = \"07-01-2016\"\n",
        "model_end = \"04-01-2018\"\n",
        "\n",
        "df_b[\"t_date\"] = df_b[\"t_date\"].astype(\"datetime64\")\n",
        "df_base = df_b[(df_b[\"t_date\"]>=model_start)&(df_b[\"t_date\"]<model_end)]\n",
        "\n",
        "pro_max = df_base[\"item_id\"].astype(\"int64\").max()\n",
        "rec_max = df_base[\"recency\"].astype(\"int64\").max()\n",
        "pay_max = df_base[\"payment\"].astype(\"int64\").max()\n",
        "cat_max = df_base[\"category\"].astype(\"int64\").max()\n",
        "met_max = df_base[\"method\"].astype(\"int64\").max()\n",
        "mon_max = df_base[\"month\"].astype(\"int64\").max()\n",
        "day_max = df_base[\"dayofweek\"].astype(\"int64\").max()\n",
        "pri_max = df_base[\"price\"].astype(\"int64\").max()\n",
        "sin_max = df_base[\"c_since\"].astype(\"int64\").max()\n",
        "\n",
        "n_padded = 24\n",
        "batch_size = 256\n",
        "test_size = 0.025\n",
        "val_size = 0.1\n",
        "\n",
        "all_c = df_base[\"c_id\"].unique()\n",
        "random_selection = np.random.rand(len(all_c)) <= 1-test_size\n",
        "test_c = all_c[~random_selection]\n",
        "\n",
        "train = df_base[~(df_base[\"c_id\"].isin(test_c))]\n",
        "test = df_base[df_base[\"c_id\"].isin(test_c)]\n",
        "\n",
        "train_c = train[\"c_id\"].unique()\n",
        "random_selection = np.random.rand(len(train_c)) <= 1-val_size\n",
        "val_c = train_c[~random_selection]\n",
        "val_data = train[train[\"c_id\"].isin(val_c)]\n",
        "train_data = train[~(train[\"c_id\"].isin(val_c))]\n",
        "\n",
        "lasts = test.groupby(\"c_id\", as_index=False).last()\n",
        "hold_df = lasts[[\"c_id\", \"item_id\"]]\n",
        "last_tr = lasts[\"t_id\"].unique()\n",
        "test_data = test[~(test[\"t_id\"].isin(last_tr))]\n",
        "\n",
        "train_data[\"recency\"] = train_data[\"recency\"].astype(\"int\")\n",
        "test_data[\"recency\"] = test_data[\"recency\"].astype(\"int\")\n",
        "val_data[\"recency\"] = val_data[\"recency\"].astype(\"int\")\n",
        "\n",
        "print(\"train customers:\", train_data[\"c_id\"].nunique())\n",
        "print(\"validation customers:\", val_data[\"c_id\"].nunique())\n",
        "print(\"test customers:\", test_data[\"c_id\"].nunique())"
      ],
      "metadata": {
        "colab": {
          "base_uri": "https://localhost:8080/"
        },
        "id": "sH7by4QMB_Nv",
        "outputId": "c8eb9497-6646-4a0e-8101-d79f732b997f"
      },
      "execution_count": null,
      "outputs": [
        {
          "output_type": "stream",
          "name": "stdout",
          "text": [
            "train customers: 22763\n",
            "validation customers: 2527\n",
            "test customers: 649\n"
          ]
        }
      ]
    },
    {
      "cell_type": "code",
      "source": [
        "train_set = make_data_dict(train_data, n_padded)\n",
        "val_set = make_data_dict(val_data, n_padded)\n",
        "\n",
        "train_set = create_batch_data(train_set, batch=batch_size)\n",
        "val_set = create_batch_data(val_set, batch=batch_size)"
      ],
      "metadata": {
        "id": "SJWsUucrfarl"
      },
      "execution_count": null,
      "outputs": []
    },
    {
      "cell_type": "markdown",
      "source": [
        "## Model"
      ],
      "metadata": {
        "id": "pMyp1fMAqoZL"
      }
    },
    {
      "cell_type": "code",
      "source": [
        "n_dim_pro = 128\n",
        "\n",
        "input_item = layers.Input(shape=(n_padded,),\n",
        "                          name=\"item_ids\",\n",
        "                          dtype=tf.int32)\n",
        "encoding_padding_mask = tf.math.logical_not(tf.math.equal(input_item, 0))\n",
        "embedding_item = layers.Embedding(input_dim=pro_max+1,\n",
        "                                  output_dim=n_dim_pro)(input_item)\n",
        "\n",
        "input_price = layers.Input(shape=(n_padded, pri_max),\n",
        "                           name=\"price\",\n",
        "                           dtype=tf.float32)\n",
        "\n",
        "input_category = layers.Input(shape=(n_padded, cat_max),\n",
        "                              name=\"category\",\n",
        "                              dtype=tf.float32)\n",
        "\n",
        "input_recency = layers.Input(shape=(n_padded, rec_max),\n",
        "                             name=\"recency\",\n",
        "                             dtype=tf.float32)\n",
        "\n",
        "input_month = layers.Input(shape=(n_padded, mon_max),\n",
        "                           name=\"month\",\n",
        "                           dtype=tf.float32)\n",
        "\n",
        "input_dayofweek = layers.Input(shape=(n_padded, day_max),\n",
        "                               name=\"dayofweek\",\n",
        "                               dtype=tf.float32)\n",
        "\n",
        "input_payment = layers.Input(shape=(n_padded, pay_max),\n",
        "                             name=\"payment\",\n",
        "                             dtype=tf.float32)\n",
        "\n",
        "input_since = layers.Input(shape=(sin_max,),\n",
        "                           name=\"c_since\",\n",
        "                           dtype=tf.float32)\n",
        "r = layers.RepeatVector(n_padded)(input_since)\n",
        "\n",
        "input_concat = layers.Concatenate()(\n",
        "    [embedding_item,\n",
        "     input_category,\n",
        "     input_recency,\n",
        "     input_month,\n",
        "     input_dayofweek,\n",
        "     input_payment,\n",
        "     input_price,\n",
        "     ])\n",
        "\n",
        "input_concat = layers.BatchNormalization()(input_concat)\n",
        "\n",
        "x = layers.LSTM(units=400, \n",
        "                return_sequences=True)(input_concat)\n",
        "\n",
        "x = layers.Dropout(rate=0.8)(x)\n",
        "x = layers.BatchNormalization()(x)\n",
        "\n",
        "x = layers.Concatenate()([x, r])\n",
        "\n",
        "z = layers.Attention(use_scale=False,\n",
        "                     causal=True)(inputs=[x, x],\n",
        "                                  mask=[encoding_padding_mask,\n",
        "                                        encoding_padding_mask])       \n",
        "\n",
        "output = layers.Dense(pro_max+1)(z)\n",
        "\n",
        "model = keras.Model([input_item,\n",
        "                     input_category,\n",
        "                     input_recency,\n",
        "                     input_month,\n",
        "                     input_dayofweek,\n",
        "                     input_payment,\n",
        "                     input_price,\n",
        "                     input_since], output)\n",
        "model.compile(loss=loss_function,\n",
        "              optimizer=keras.optimizers.Adam(0.0001),\n",
        "              metrics=[\"sparse_categorical_accuracy\"])"
      ],
      "metadata": {
        "id": "AHtSx2e-fzw-"
      },
      "execution_count": null,
      "outputs": []
    },
    {
      "cell_type": "code",
      "source": [
        "model.summary()"
      ],
      "metadata": {
        "colab": {
          "base_uri": "https://localhost:8080/"
        },
        "id": "wWmNXq2rf66e",
        "outputId": "84be86d5-2e29-4676-d6ed-d21975b58976"
      },
      "execution_count": null,
      "outputs": [
        {
          "output_type": "stream",
          "name": "stdout",
          "text": [
            "Model: \"model\"\n",
            "__________________________________________________________________________________________________\n",
            " Layer (type)                   Output Shape         Param #     Connected to                     \n",
            "==================================================================================================\n",
            " item_ids (InputLayer)          [(None, 32)]         0           []                               \n",
            "                                                                                                  \n",
            " embedding (Embedding)          (None, 32, 128)      1651712     ['item_ids[0][0]']               \n",
            "                                                                                                  \n",
            " category (InputLayer)          [(None, 32, 13)]     0           []                               \n",
            "                                                                                                  \n",
            " recency (InputLayer)           [(None, 32, 100)]    0           []                               \n",
            "                                                                                                  \n",
            " month (InputLayer)             [(None, 32, 12)]     0           []                               \n",
            "                                                                                                  \n",
            " dayofweek (InputLayer)         [(None, 32, 7)]      0           []                               \n",
            "                                                                                                  \n",
            " payment (InputLayer)           [(None, 32, 1000)]   0           []                               \n",
            "                                                                                                  \n",
            " price (InputLayer)             [(None, 32, 500)]    0           []                               \n",
            "                                                                                                  \n",
            " concatenate (Concatenate)      (None, 32, 1760)     0           ['embedding[0][0]',              \n",
            "                                                                  'category[0][0]',               \n",
            "                                                                  'recency[0][0]',                \n",
            "                                                                  'month[0][0]',                  \n",
            "                                                                  'dayofweek[0][0]',              \n",
            "                                                                  'payment[0][0]',                \n",
            "                                                                  'price[0][0]']                  \n",
            "                                                                                                  \n",
            " batch_normalization (BatchNorm  (None, 32, 1760)    7040        ['concatenate[0][0]']            \n",
            " alization)                                                                                       \n",
            "                                                                                                  \n",
            " lstm (LSTM)                    (None, 32, 400)      3457600     ['batch_normalization[0][0]']    \n",
            "                                                                                                  \n",
            " dropout (Dropout)              (None, 32, 400)      0           ['lstm[0][0]']                   \n",
            "                                                                                                  \n",
            " c_since (InputLayer)           [(None, 100)]        0           []                               \n",
            "                                                                                                  \n",
            " batch_normalization_1 (BatchNo  (None, 32, 400)     1600        ['dropout[0][0]']                \n",
            " rmalization)                                                                                     \n",
            "                                                                                                  \n",
            " repeat_vector (RepeatVector)   (None, 32, 100)      0           ['c_since[0][0]']                \n",
            "                                                                                                  \n",
            " tf.math.equal (TFOpLambda)     (None, 32)           0           ['item_ids[0][0]']               \n",
            "                                                                                                  \n",
            " concatenate_1 (Concatenate)    (None, 32, 500)      0           ['batch_normalization_1[0][0]',  \n",
            "                                                                  'repeat_vector[0][0]']          \n",
            "                                                                                                  \n",
            " tf.math.logical_not (TFOpLambd  (None, 32)          0           ['tf.math.equal[0][0]']          \n",
            " a)                                                                                               \n",
            "                                                                                                  \n",
            " attention (Attention)          (None, 32, 500)      0           ['concatenate_1[0][0]',          \n",
            "                                                                  'concatenate_1[0][0]',          \n",
            "                                                                  'tf.math.logical_not[0][0]',    \n",
            "                                                                  'tf.math.logical_not[0][0]']    \n",
            "                                                                                                  \n",
            " dense (Dense)                  (None, 32, 12904)    6464904     ['attention[0][0]']              \n",
            "                                                                                                  \n",
            "==================================================================================================\n",
            "Total params: 11,582,856\n",
            "Trainable params: 11,578,536\n",
            "Non-trainable params: 4,320\n",
            "__________________________________________________________________________________________________\n"
          ]
        }
      ]
    },
    {
      "cell_type": "code",
      "source": [
        "es = keras.callbacks.EarlyStopping(monitor=\"val_loss\",\n",
        "                                   mode=\"min\",\n",
        "                                   verbose=1,\n",
        "                                   patience=3)\n",
        "\n",
        "model.fit(train_set,\n",
        "          epochs=50,\n",
        "          validation_data=val_set,\n",
        "          callbacks=[es])"
      ],
      "metadata": {
        "colab": {
          "base_uri": "https://localhost:8080/"
        },
        "id": "Jvc93mC-f7d9",
        "outputId": "1d9eddc7-0bb6-4659-f7c2-ee734292e297"
      },
      "execution_count": null,
      "outputs": [
        {
          "output_type": "stream",
          "name": "stdout",
          "text": [
            "Epoch 1/50\n",
            "89/89 [==============================] - 34s 296ms/step - loss: 0.3312 - sparse_categorical_accuracy: 0.0105 - val_loss: 0.3488 - val_sparse_categorical_accuracy: 0.0199\n",
            "Epoch 2/50\n",
            "89/89 [==============================] - 26s 296ms/step - loss: 0.3151 - sparse_categorical_accuracy: 0.0220 - val_loss: 0.3411 - val_sparse_categorical_accuracy: 0.0202\n",
            "Epoch 3/50\n",
            "89/89 [==============================] - 26s 293ms/step - loss: 0.3055 - sparse_categorical_accuracy: 0.0252 - val_loss: 0.3333 - val_sparse_categorical_accuracy: 0.0215\n",
            "Epoch 4/50\n",
            "89/89 [==============================] - 27s 298ms/step - loss: 0.3001 - sparse_categorical_accuracy: 0.0329 - val_loss: 0.3265 - val_sparse_categorical_accuracy: 0.0339\n",
            "Epoch 5/50\n",
            "89/89 [==============================] - 26s 294ms/step - loss: 0.2954 - sparse_categorical_accuracy: 0.0456 - val_loss: 0.3195 - val_sparse_categorical_accuracy: 0.0578\n",
            "Epoch 6/50\n",
            "89/89 [==============================] - 26s 293ms/step - loss: 0.2909 - sparse_categorical_accuracy: 0.0596 - val_loss: 0.3118 - val_sparse_categorical_accuracy: 0.0795\n",
            "Epoch 7/50\n",
            "89/89 [==============================] - 26s 294ms/step - loss: 0.2862 - sparse_categorical_accuracy: 0.0734 - val_loss: 0.3046 - val_sparse_categorical_accuracy: 0.0939\n",
            "Epoch 8/50\n",
            "89/89 [==============================] - 26s 294ms/step - loss: 0.2815 - sparse_categorical_accuracy: 0.0870 - val_loss: 0.2990 - val_sparse_categorical_accuracy: 0.1043\n",
            "Epoch 9/50\n",
            "89/89 [==============================] - 26s 293ms/step - loss: 0.2771 - sparse_categorical_accuracy: 0.0969 - val_loss: 0.2948 - val_sparse_categorical_accuracy: 0.1116\n",
            "Epoch 10/50\n",
            "89/89 [==============================] - 26s 291ms/step - loss: 0.2725 - sparse_categorical_accuracy: 0.1066 - val_loss: 0.2914 - val_sparse_categorical_accuracy: 0.1178\n",
            "Epoch 11/50\n",
            "89/89 [==============================] - 26s 291ms/step - loss: 0.2685 - sparse_categorical_accuracy: 0.1136 - val_loss: 0.2884 - val_sparse_categorical_accuracy: 0.1216\n",
            "Epoch 12/50\n",
            "89/89 [==============================] - 26s 292ms/step - loss: 0.2644 - sparse_categorical_accuracy: 0.1212 - val_loss: 0.2859 - val_sparse_categorical_accuracy: 0.1248\n",
            "Epoch 13/50\n",
            "89/89 [==============================] - 26s 292ms/step - loss: 0.2607 - sparse_categorical_accuracy: 0.1264 - val_loss: 0.2836 - val_sparse_categorical_accuracy: 0.1261\n",
            "Epoch 14/50\n",
            "89/89 [==============================] - 26s 292ms/step - loss: 0.2569 - sparse_categorical_accuracy: 0.1310 - val_loss: 0.2816 - val_sparse_categorical_accuracy: 0.1289\n",
            "Epoch 15/50\n",
            "89/89 [==============================] - 26s 291ms/step - loss: 0.2535 - sparse_categorical_accuracy: 0.1364 - val_loss: 0.2798 - val_sparse_categorical_accuracy: 0.1317\n",
            "Epoch 16/50\n",
            "89/89 [==============================] - 26s 293ms/step - loss: 0.2502 - sparse_categorical_accuracy: 0.1414 - val_loss: 0.2783 - val_sparse_categorical_accuracy: 0.1341\n",
            "Epoch 17/50\n",
            "89/89 [==============================] - 26s 291ms/step - loss: 0.2471 - sparse_categorical_accuracy: 0.1460 - val_loss: 0.2770 - val_sparse_categorical_accuracy: 0.1349\n",
            "Epoch 18/50\n",
            "89/89 [==============================] - 26s 291ms/step - loss: 0.2443 - sparse_categorical_accuracy: 0.1496 - val_loss: 0.2758 - val_sparse_categorical_accuracy: 0.1356\n",
            "Epoch 19/50\n",
            "89/89 [==============================] - 26s 292ms/step - loss: 0.2413 - sparse_categorical_accuracy: 0.1539 - val_loss: 0.2748 - val_sparse_categorical_accuracy: 0.1369\n",
            "Epoch 20/50\n",
            "89/89 [==============================] - 26s 292ms/step - loss: 0.2386 - sparse_categorical_accuracy: 0.1588 - val_loss: 0.2740 - val_sparse_categorical_accuracy: 0.1377\n",
            "Epoch 21/50\n",
            "89/89 [==============================] - 26s 292ms/step - loss: 0.2360 - sparse_categorical_accuracy: 0.1615 - val_loss: 0.2733 - val_sparse_categorical_accuracy: 0.1383\n",
            "Epoch 22/50\n",
            "89/89 [==============================] - 26s 291ms/step - loss: 0.2335 - sparse_categorical_accuracy: 0.1659 - val_loss: 0.2726 - val_sparse_categorical_accuracy: 0.1392\n",
            "Epoch 23/50\n",
            "89/89 [==============================] - 26s 291ms/step - loss: 0.2310 - sparse_categorical_accuracy: 0.1704 - val_loss: 0.2721 - val_sparse_categorical_accuracy: 0.1395\n",
            "Epoch 24/50\n",
            "89/89 [==============================] - 27s 305ms/step - loss: 0.2286 - sparse_categorical_accuracy: 0.1756 - val_loss: 0.2717 - val_sparse_categorical_accuracy: 0.1409\n",
            "Epoch 25/50\n",
            "89/89 [==============================] - 26s 290ms/step - loss: 0.2262 - sparse_categorical_accuracy: 0.1805 - val_loss: 0.2713 - val_sparse_categorical_accuracy: 0.1410\n",
            "Epoch 26/50\n",
            "89/89 [==============================] - 26s 290ms/step - loss: 0.2239 - sparse_categorical_accuracy: 0.1835 - val_loss: 0.2710 - val_sparse_categorical_accuracy: 0.1411\n",
            "Epoch 27/50\n",
            "89/89 [==============================] - 26s 293ms/step - loss: 0.2217 - sparse_categorical_accuracy: 0.1895 - val_loss: 0.2708 - val_sparse_categorical_accuracy: 0.1410\n",
            "Epoch 28/50\n",
            "89/89 [==============================] - 26s 291ms/step - loss: 0.2194 - sparse_categorical_accuracy: 0.1939 - val_loss: 0.2704 - val_sparse_categorical_accuracy: 0.1411\n",
            "Epoch 29/50\n",
            "89/89 [==============================] - 26s 290ms/step - loss: 0.2173 - sparse_categorical_accuracy: 0.1993 - val_loss: 0.2702 - val_sparse_categorical_accuracy: 0.1413\n",
            "Epoch 30/50\n",
            "89/89 [==============================] - 26s 290ms/step - loss: 0.2152 - sparse_categorical_accuracy: 0.2053 - val_loss: 0.2700 - val_sparse_categorical_accuracy: 0.1416\n",
            "Epoch 31/50\n",
            "89/89 [==============================] - 26s 293ms/step - loss: 0.2132 - sparse_categorical_accuracy: 0.2097 - val_loss: 0.2699 - val_sparse_categorical_accuracy: 0.1416\n",
            "Epoch 32/50\n",
            "89/89 [==============================] - 26s 294ms/step - loss: 0.2110 - sparse_categorical_accuracy: 0.2143 - val_loss: 0.2699 - val_sparse_categorical_accuracy: 0.1422\n",
            "Epoch 33/50\n",
            "89/89 [==============================] - 26s 293ms/step - loss: 0.2091 - sparse_categorical_accuracy: 0.2209 - val_loss: 0.2698 - val_sparse_categorical_accuracy: 0.1431\n",
            "Epoch 34/50\n",
            "89/89 [==============================] - 26s 291ms/step - loss: 0.2071 - sparse_categorical_accuracy: 0.2263 - val_loss: 0.2698 - val_sparse_categorical_accuracy: 0.1427\n",
            "Epoch 35/50\n",
            "89/89 [==============================] - 26s 292ms/step - loss: 0.2052 - sparse_categorical_accuracy: 0.2322 - val_loss: 0.2699 - val_sparse_categorical_accuracy: 0.1425\n",
            "Epoch 36/50\n",
            "89/89 [==============================] - 26s 293ms/step - loss: 0.2033 - sparse_categorical_accuracy: 0.2372 - val_loss: 0.2699 - val_sparse_categorical_accuracy: 0.1435\n",
            "Epoch 00036: early stopping\n"
          ]
        },
        {
          "output_type": "execute_result",
          "data": {
            "text/plain": [
              "<keras.callbacks.History at 0x7f88c34537d0>"
            ]
          },
          "metadata": {},
          "execution_count": 10
        }
      ]
    },
    {
      "cell_type": "markdown",
      "source": [
        "## Evaluation"
      ],
      "metadata": {
        "id": "S3nILlPDqtuT"
      }
    },
    {
      "cell_type": "code",
      "source": [
        "test_set = make_data_dict(test_data, n_padded, True)\n",
        "test_set = create_batch_data(test_set, test=True, batch=batch_size)"
      ],
      "metadata": {
        "id": "139U9Bi8nf4H"
      },
      "execution_count": null,
      "outputs": []
    },
    {
      "cell_type": "code",
      "source": [
        "y_pred = model.predict(test_set)\n",
        "\n",
        "customer_list = test_data[\"c_id\"].unique()\n",
        "\n",
        "main_table = hold_df[hold_df[\"c_id\"].isin(customer_list)]\n",
        "main_table[\"item_id\"] = main_table[\"item_id\"].astype(\"int\")\n",
        "main_table[\"hit\"] = 0\n",
        "main_table[\"r_list\"] = 0\n",
        "\n",
        "k = 20\n",
        "\n",
        "hitt = 0\n",
        "rect = 0\n",
        "pret = 0\n",
        "ndct = 0\n",
        "\n",
        "counter = len(customer_list)\n",
        "for i in range(counter):\n",
        "    c = customer_list[i]\n",
        "    rel = main_table.loc[main_table[\"c_id\"]==c, \"item_id\"].unique()\n",
        "    ret = y_pred[i][-1].argsort()[::-1][:k]\n",
        "    rlist = \",\".join([str(i) for i in ret])\n",
        "    main_table.loc[main_table[\"c_id\"]==c, \"r_list\"] = rlist\n",
        "    bl = np.isin(ret, rel)*1\n",
        "    rec = np.sum(bl)/len(rel)\n",
        "    pre = average_precision(bl)\n",
        "    ndc = ndcg_k(bl, len(bl))\n",
        "    h = np.max(bl)\n",
        "    main_table.loc[main_table[\"c_id\"]==c, \"hit\"] = h\n",
        "    hitt += h\n",
        "    rect += rec\n",
        "    pret += pre\n",
        "    ndct += ndc\n",
        "\n",
        "hit = hitt/counter\n",
        "recall = rect/counter\n",
        "map = pret/counter \n",
        "ndcg = ndct/counter\n",
        "\n",
        "result = main_table.groupby(\"c_id\").agg(\n",
        "    {\"item_id\": lambda x: \",\".join([str(i) for i in x]),\n",
        "     \"hit\": \"max\",\n",
        "     \"r_list\": \"last\"})\n",
        "\n",
        "print(f\"Hit@{k} : {np.round(hit, 4)}\")\n",
        "print(f\"Recall@{k} : {np.round(recall, 4)}\")\n",
        "print(f\"MAP@{k} : {np.round(map, 4)}\")\n",
        "print(f\"NDCG@{k} : {np.round(ndcg, 4)}\")\n",
        "\n",
        "print(result.hit.value_counts())\n",
        "print(result.hit.value_counts()/len(result))"
      ],
      "metadata": {
        "colab": {
          "base_uri": "https://localhost:8080/"
        },
        "id": "oTYFZsx0naEo",
        "outputId": "dee3c5d5-63d2-42ae-e1f3-dd90ce92f6ca"
      },
      "execution_count": null,
      "outputs": [
        {
          "output_type": "stream",
          "name": "stdout",
          "text": [
            "Hit@20 : 0.327\n",
            "Recall@20 : 0.327\n",
            "MAP@20 : 0.1724\n",
            "NDCG@20 : 0.2226\n",
            "0    463\n",
            "1    225\n",
            "Name: hit, dtype: int64\n",
            "0    0.672965\n",
            "1    0.327035\n",
            "Name: hit, dtype: float64\n"
          ]
        }
      ]
    },
    {
      "cell_type": "markdown",
      "source": [
        "### Baseline"
      ],
      "metadata": {
        "id": "6WhW0iyoqwXV"
      }
    },
    {
      "cell_type": "markdown",
      "source": [
        "#### Last-Items (Random)"
      ],
      "metadata": {
        "id": "SdEOKKS6q07z"
      }
    },
    {
      "cell_type": "code",
      "source": [
        "customer_list = test_data[\"c_id\"].unique()\n",
        "\n",
        "main_table = hold_df[hold_df[\"c_id\"].isin(customer_list)]\n",
        "main_table[\"item_id\"] = main_table[\"item_id\"].astype(\"int\")\n",
        "main_table[\"hit\"] = 0\n",
        "main_table[\"r_list\"] = 0\n",
        "\n",
        "k = 20\n",
        "\n",
        "hitt = 0\n",
        "rect = 0\n",
        "pret = 0\n",
        "ndct = 0\n",
        "\n",
        "counter = len(customer_list)\n",
        "for i in range(counter):\n",
        "    c = customer_list[i]\n",
        "    rel = main_table.loc[main_table[\"c_id\"]==c, \"item_id\"].unique()\n",
        "    re = list(test_data.loc[test_data[\"c_id\"]==c, \"item_id\"].unique())\n",
        "    if len(re) > k:\n",
        "        ret = np.random.choice(re, k, replace=False)\n",
        "    else:\n",
        "        ret = list()\n",
        "        while len(re)>0:\n",
        "            ri = re.pop()\n",
        "            if ri not in ret:\n",
        "                ret.append(ri)\n",
        "    rlist = \",\".join([str(i) for i in ret])\n",
        "    main_table.loc[main_table[\"c_id\"]==c, \"r_list\"] = rlist \n",
        "    bl = np.isin(ret, rel)*1\n",
        "    rec = np.sum(bl)/len(rel)\n",
        "    pre = average_precision(bl)\n",
        "    ndc = ndcg_k(bl, len(bl))\n",
        "    h = np.max(bl)\n",
        "    main_table.loc[main_table[\"c_id\"]==c, \"hit\"] = h\n",
        "    hitt += h\n",
        "    rect += rec\n",
        "    pret += pre\n",
        "    ndct += ndc\n",
        "\n",
        "hit = hitt/counter\n",
        "recall = rect/counter\n",
        "map = pret/counter \n",
        "ndcg = ndct/counter\n",
        "\n",
        "result = main_table.groupby(\"c_id\").agg(\n",
        "    {\"item_id\": lambda x: \",\".join([str(y) for y in x]),\n",
        "     \"hit\": \"max\",\n",
        "     \"r_list\": \"last\"})\n",
        "\n",
        "print(f\"Hit@{k} : {np.round(hit, 4)}\")\n",
        "print(f\"Recall@{k} : {np.round(recall, 4)}\")\n",
        "print(f\"MAP@{k} : {np.round(map, 4)}\")\n",
        "print(f\"NDCG@{k} : {np.round(ndcg, 4)}\")\n",
        "\n",
        "print(result.hit.value_counts())\n",
        "print(result.hit.value_counts()/len(result))"
      ],
      "metadata": {
        "colab": {
          "base_uri": "https://localhost:8080/"
        },
        "id": "_k3aqDhtn6oA",
        "outputId": "f580517c-921a-444e-e3e8-f75617b89764"
      },
      "execution_count": null,
      "outputs": [
        {
          "output_type": "stream",
          "name": "stdout",
          "text": [
            "Hit@20 : 0.2065\n",
            "Recall@20 : 0.2065\n",
            "MAP@20 : 0.1839\n",
            "NDCG@20 : 0.1972\n",
            "0    515\n",
            "1    134\n",
            "Name: hit, dtype: int64\n",
            "0    0.793529\n",
            "1    0.206471\n",
            "Name: hit, dtype: float64\n"
          ]
        }
      ]
    },
    {
      "cell_type": "markdown",
      "source": [
        "#### Last-Items"
      ],
      "metadata": {
        "id": "-6j7_xbwq5qL"
      }
    },
    {
      "cell_type": "code",
      "source": [
        "item_list = test_data.groupby(\"c_id\", as_index=False).agg({\"item_id\":lambda i: list(i)})\n",
        "customer_list = test_data[\"c_id\"].unique()\n",
        "main_table = hold_df[hold_df[\"c_id\"].isin(customer_list)]\n",
        "main_table[\"item_id\"] = main_table[\"item_id\"].astype(\"int\")\n",
        "main_table[\"hit\"] = 0\n",
        "main_table[\"r_list\"] = 0\n",
        "\n",
        "k = 20\n",
        "\n",
        "hitt = 0\n",
        "rect = 0\n",
        "pret = 0\n",
        "ndct = 0\n",
        "\n",
        "counter = len(customer_list)\n",
        "for i in range(counter):\n",
        "    c = customer_list[i]\n",
        "    rel = main_table.loc[main_table[\"c_id\"]==c, \"item_id\"].unique()\n",
        "    re = item_list.loc[item_list[\"c_id\"]==c, \"item_id\"].values[0]\n",
        "    ret = list()\n",
        "    while len(re)>0:\n",
        "        ri = re.pop()\n",
        "        if ri not in ret:\n",
        "            ret.append(ri)\n",
        "    ret = ret[:k]\n",
        "    rlist = \",\".join([str(x) for x in ret])\n",
        "    main_table.loc[main_table[\"c_id\"]==c, \"r_list\"] = rlist\n",
        "    bl = np.isin(ret, rel)*1\n",
        "    rec = np.sum(bl)/len(rel)\n",
        "    pre = average_precision(bl)\n",
        "    ndc = ndcg_k(bl, len(bl))\n",
        "    h = np.max(bl)\n",
        "    main_table.loc[main_table[\"c_id\"]==c, \"hit\"] = h\n",
        "    hitt += h\n",
        "    rect += rec\n",
        "    pret += pre\n",
        "    ndct += ndc\n",
        "\n",
        "hit = hitt/counter\n",
        "recall = rect/counter\n",
        "map = pret/counter \n",
        "ndcg = ndct/counter\n",
        "\n",
        "result = main_table.groupby(\"c_id\").agg(\n",
        "    {\"item_id\": lambda x: \",\".join([str(y) for y in x]),\n",
        "     \"hit\": \"max\",\n",
        "     \"r_list\": \"last\"})\n",
        "\n",
        "\n",
        "print(f\"Hit@{k} : {np.round(hit, 4)}\")\n",
        "print(f\"Recall@{k} : {np.round(recall, 4)}\")\n",
        "print(f\"MAP@{k} : {np.round(map, 4)}\")\n",
        "print(f\"NDCG@{k} : {np.round(ndcg, 4)}\")\n",
        "\n",
        "print(result.hit.value_counts())\n",
        "print(result.hit.value_counts()/len(result))"
      ],
      "metadata": {
        "colab": {
          "base_uri": "https://localhost:8080/"
        },
        "id": "wUhzL1_lolKn",
        "outputId": "7b52a104-78c7-4b2e-bb2a-28b184f079f0"
      },
      "execution_count": null,
      "outputs": [
        {
          "output_type": "stream",
          "name": "stdout",
          "text": [
            "Hit@20 : 0.2065\n",
            "Recall@20 : 0.2065\n",
            "MAP@20 : 0.1862\n",
            "NDCG@20 : 0.1984\n",
            "0    515\n",
            "1    134\n",
            "Name: hit, dtype: int64\n",
            "0    0.793529\n",
            "1    0.206471\n",
            "Name: hit, dtype: float64\n"
          ]
        }
      ]
    }
  ]
}